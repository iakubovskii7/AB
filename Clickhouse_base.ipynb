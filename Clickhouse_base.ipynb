{
 "cells": [
  {
   "cell_type": "markdown",
   "metadata": {},
   "source": [
    "https://docs.google.com/spreadsheets/d/10i4degomMeKCkGgJ9p_0hZkRF3w8vXL6OxgRTERUuvI/edit#gid=515265521\n",
    "\n",
    "https://docs.google.com/spreadsheets/d/1ha9f6hSL-vD1J8XrOS3nHTYfWDAqLWWIGbyYhm_GWPE/edit#gid=1875032415\n"
   ]
  },
  {
   "cell_type": "markdown",
   "metadata": {},
   "source": [
    "# 1. Quantumm"
   ]
  },
  {
   "cell_type": "markdown",
   "metadata": {},
   "source": [
    "## 1.1 IOS"
   ]
  },
  {
   "cell_type": "code",
   "execution_count": null,
   "metadata": {
    "code_folding": []
   },
   "outputs": [],
   "source": [
    "import os\n",
    "from tqdm.notebook import tqdm\n",
    "os.chdir(\"/Users/iakubovskii/AppBooster/AB_testing/\")\n",
    "%run \"Collect_data.py\"\n",
    "# All apps_id with test groups\n",
    "query_appid = \\\n",
    "'''\n",
    "SELECT appsflyer_id, event_time, JSONExtractString(event_value, 'Group')\n",
    "FROM partners.lightcity\n",
    "WHERE event_name  = 'SplitTest'\n",
    "      AND app_id = 'id1489263669'\n",
    "      AND JSONExtractRaw(event_value, 'TestName') = \n",
    "'''\n",
    "apps_test = {\"id1489263669\": \n",
    "             [\"BigPriceBefore\", \"StarterPackShowX3Value\",\n",
    "                                \"LevelUpRew\", \"SkipAdsByDiamond\",\n",
    "                                \"TrueNoAds\", \"TwoStarters\"],\n",
    "            \"com.nopowerup.idlelightcity\": \n",
    "             [\"BigPriceBefore\", \"StarterPackShowX3Value\",\n",
    "                                \"LevelUpRew\", \"SkipAdsByDiamond\",\n",
    "                                \"TrueNoAds\", \"TwoStarters\"]}\n",
    "all_queries = []\n",
    "for testnames in tqdm(apps_test['id1489263669']):\n",
    "    query_testname = query_appid + \"'\" + '\"' + testnames + '\"' + \"'\"\n",
    "    apps_test_id = clickhouse(query=query_testname, clickhouse_query=clickhouse_query)\n",
    "    apps_test_id['test_name'] = testnames\n",
    "    apps_test_id.to_csv(\"Data/Quantum_AB_historic/ARPU/IOS/Apps_id_info\" + testnames + \".csv\", index = False)\n",
    "# %time apps_id = clickhouse(query=query_appid, clickhouse_query=clickhouse_query)\n",
    "# 2 hours 16 mins"
   ]
  },
  {
   "cell_type": "code",
   "execution_count": null,
   "metadata": {},
   "outputs": [],
   "source": [
    "# merge all files\n",
    "import os\n",
    "os.chdir(\"/Users/iakubovskii/AppBooster/AB_testing/\")\n",
    "%run \"Collect_data.py\"\n",
    "# Import data \n",
    "\n",
    "from tqdm.notebook import tqdm\n",
    "import glob\n",
    "\n",
    "arpu_ios = []\n",
    "for file in tqdm(glob.glob(\"Data/Quantum_AB_historic/ARPU/IOS/Apps_id_info/*.csv\")):\n",
    "    d = pd.read_csv(file)\n",
    "    arpu_ios.append(d)\n",
    "arpu_ios = pd.concat(arpu_ios)\n",
    "arpu_ios.rename(columns = {\"JSONExtractString(event_value, 'Group')\":'group_test'},inplace=True)\n",
    "arpu_ios['event_time'] = pd.to_datetime(arpu_ios['event_time']) \n",
    "arpu_ios['group_test'] = arpu_ios['group_test'].astype('category')\n",
    "arpu_ios['test_name'] = arpu_ios['test_name'].astype('category')\n",
    "arpu_ios.sort_values(\"event_time\",  inplace=True)\n",
    "arpu_ios.to_pickle(\"/Users/iakubovskii/AppBooster/AB_testing/Data/Quantum_AB_historic/ARPU/IOS/Apps_id_ios_arpu\")"
   ]
  },
  {
   "cell_type": "code",
   "execution_count": null,
   "metadata": {},
   "outputs": [],
   "source": [
    "for test in arpu[\"test_name\"].unique():\n",
    "    print(f\"Minimum datetime for {test}: {arpu[arpu['test_name'] == test]['event_time'].min()} \\n\",\n",
    "         f\"Maximum datetime for {test}: {arpu[arpu['test_name'] == test]['event_time'].max()} \\n\",)"
   ]
  },
  {
   "cell_type": "code",
   "execution_count": null,
   "metadata": {},
   "outputs": [],
   "source": [
    "%%time\n",
    "import os\n",
    "from tqdm.notebook import tqdm\n",
    "os.chdir(\"/Users/iakubovskii/AppBooster/AB_testing/\")\n",
    "# %run \"/Users/iakubovskii/AppBooster/Predictive_model/Import data.py\"\n",
    "# %run \"Collect_data.py\"\n",
    "query_revenue = \\\n",
    "'''\n",
    "SELECT if(has_conversion, revenue, 0) AS revenue, appsflyer_id\n",
    "      FROM (\n",
    "        SELECT\n",
    "          appsflyer_id,\n",
    "          sequenceMatch('(?1).*(?2)')(\n",
    "            event_time, \n",
    "            event_name = 'SplitTest'\n",
    "              AND JSONExtractRaw(event_value, 'TestName') = {}\n",
    "              AND JSONExtractRaw(event_value, 'Group') = {},\n",
    "            event_revenue_usd > 0) as has_conversion,\n",
    "            sum(event_revenue_usd) as revenue\n",
    "        FROM partners.lightcity\n",
    "        GROUP BY appsflyer_id\n",
    "      )\n",
    "WHERE revenue > 0\n",
    "'''\n",
    "for test_name in tqdm(arpu['test_name'].unique()):\n",
    "    test_name_df = []\n",
    "    for group in tqdm(arpu[arpu['test_name'] == test_name]\n",
    "                      [\"JSONExtractString(event_value, 'Group')\"].unique()):\n",
    "        test_name_iter  = \"'\" + '\"' + test_name + '\"' + \"'\" # add test name\n",
    "        group_name_iter  = \"'\" + '\"' + group + '\"' + \"'\" # add group of test\n",
    "        query_revenue_test_group = query_revenue.format(test_name_iter, group_name_iter)\n",
    "#         query_revenue_test_group = query_revenue_test_group + \" IN \" + str(\n",
    "#             arpu[(arpu['test_name'] == test_name) &\n",
    "#                  (arpu[\"JSONExtractString(event_value, 'Group')\"] == group)]\n",
    "#             ['appsflyer_id'].unique().tolist()).\\\n",
    "#                             replace(\"[\", \"(\").replace(\"]\", \")\") # add list of apps id\n",
    "        apps_revenue = clickhouse(query=query_revenue_test_group,  \n",
    "                                          clickhouse_query=clickhouse_query) # go query\n",
    "        apps_revenue['group_test'] = group # assign group in test\n",
    "        test_name_df.append(apps_revenue) # append to data for every test \n",
    "    test_name_df = pd.concat(test_name_df) # concat\n",
    "    test_name_df.to_csv(\"Data/Quantum_AB_historic/ARPU/Revenue/\" + test_name + \".csv\") # export to csv\n",
    "\n",
    "\n",
    "# query_non_nul_revenue = \\\n",
    "\n",
    "# for test_name in tqdm(arpu['test_name'].unique()):\n",
    "#     for group in tqdm(arpu[arpu['test_name'] == test_name]\n",
    "#                       [\"JSONExtractString(event_value, 'Group')\"].unique()):\n",
    "#         list_unique_apps_id = arpu[(arpu['test_name'] == test_name) &\n",
    "#                  (arpu[\"JSONExtractString(event_value, 'Group')\"] == group)]['appsflyer_id'].\\\n",
    "#                             unique().tolist()\n",
    "        \n",
    "        \n",
    "# #         query_revenue_test_group = query_non_nul_revenue + \" IN \" + \"(\" +  + \")\" + \" SETTINGS max_parallel_replicas=5\"\n",
    "# #                             replace(\"[\", \"(\").replace(\"]\", \")\") # add list of apps id\n",
    "\n",
    "#         apps_revenue = clickhouse(query=query_revenue_test_group,  \n",
    "#                                           clickhouse_query=clickhouse_query) # go query\n",
    "    \n",
    "# query_revenue_starter = query_revenue + \" IN \" + str(\n",
    "#     starter_pack['appsflyer_id'].unique().tolist()).replace(\n",
    "#     \"[\", \"(\").replace(\"]\", \")\")\n",
    "# %time apps_revenue_b = clickhouse(query=query_revenue_starter, \n",
    "#                                           clickhouse_query=clickhouse_query)"
   ]
  },
  {
   "cell_type": "code",
   "execution_count": null,
   "metadata": {},
   "outputs": [],
   "source": [
    "# Merge all revenues\n",
    "arpu_revenue = []\n",
    "for file in tqdm(glob.glob(\"Data/Quantum_AB_historic/ARPU/IOS/Revenue/*.csv\")):\n",
    "    d = pd.read_csv(file)\n",
    "    d['test_name'] = file.split(\".csv\")[0].split(\"/\")[5]\n",
    "    arpu_revenue.append(d)\n",
    "arpu_revenue = pd.concat(arpu_revenue)\n",
    "arpu_revenue.drop(\"Unnamed: 0\", axis=1, inplace=True)\n",
    "arpu_revenue['group_test'] = arpu_revenue['group_test'].astype(\"category\")\n",
    "arpu_revenue['test_name'] = arpu_revenue['test_name'].astype(\"category\")\n",
    "arpu_revenue.to_pickle(\"/Users/iakubovskii/AppBooster/AB_testing/Data/Quantum_AB_historic/ARPU/Revenues_ios_android\")"
   ]
  },
  {
   "cell_type": "code",
   "execution_count": null,
   "metadata": {},
   "outputs": [],
   "source": [
    "# Merge revenues and apps id\n",
    "apps_id_ios = pd.read_pickle(\"/Users/iakubovskii/AppBooster/AB_testing/Data/Quantum_AB_historic/ARPU/IOS/Apps_id_ios_arpu\")\n",
    "revenues = pd.read_pickle(\"/Users/iakubovskii/AppBooster/AB_testing/Data/Quantum_AB_historic/ARPU/Revenues_ios_android\")\n",
    "revenue_ios = apps_id_ios.set_index(['appsflyer_id', 'group_test', 'test_name']).join(\n",
    "revenues.set_index(['appsflyer_id', 'group_test', 'test_name'])).fillna(0).sort_values(\"event_time\")\n",
    "revenue_ios = revenue_ios.reset_index().drop_duplicates(\n",
    "    ['appsflyer_id', 'group_test', 'test_name', 'revenue']).set_index(\n",
    "    ['appsflyer_id', 'group_test', 'test_name'])\n",
    "revenue_ios.columns = ['time_to_group', 'total_id_revenue']\n",
    "revenue_ios.to_pickle(\"/Users/iakubovskii/AppBooster/AB_testing/Data/Quantum_AB_historic/ARPU/IOS/final_df\")"
   ]
  },
  {
   "cell_type": "code",
   "execution_count": null,
   "metadata": {},
   "outputs": [],
   "source": [
    "revenue_ios.shape\n",
    "revenue_ios_new = revenue_ios.reset_index().drop_duplicates(\n",
    "    ['appsflyer_id', 'group_test', 'test_name', 'revenue']).set_index(\n",
    "    ['appsflyer_id', 'group_test', 'test_name'])"
   ]
  },
  {
   "cell_type": "code",
   "execution_count": null,
   "metadata": {},
   "outputs": [],
   "source": []
  },
  {
   "cell_type": "markdown",
   "metadata": {},
   "source": [
    "## 1.2 Android"
   ]
  },
  {
   "cell_type": "code",
   "execution_count": null,
   "metadata": {},
   "outputs": [],
   "source": [
    "import os\n",
    "from tqdm.notebook import tqdm\n",
    "os.chdir(\"/Users/iakubovskii/AppBooster/AB_testing/\")\n",
    "%run \"Collect_data.py\"\n",
    "# All apps_id with test groups\n",
    "query_appid = \\\n",
    "'''\n",
    "SELECT appsflyer_id, event_time, JSONExtractString(event_value, 'Group')\n",
    "FROM partners.lightcity\n",
    "WHERE event_name  = 'SplitTest'\n",
    "      AND app_id = 'com.nopowerup.idlelightcity'\n",
    "      AND JSONExtractRaw(event_value, 'TestName') = \n",
    "'''\n",
    "apps_test = {\"id1489263669\": \n",
    "             [\"BigPriceBefore\", \"StarterPackShowX3Value\",\n",
    "                                \"LevelUpRew\", \"SkipAdsByDiamond\",\n",
    "                                \"TrueNoAds\", \"TwoStarters\"],\n",
    "            \"com.nopowerup.idlelightcity\": \n",
    "             [\"BigPriceBefore\", \"StarterPackShowX3Value\",\n",
    "                                \"LevelUpRew\", \"SkipAdsByDiamond\",\n",
    "                                \"TrueNoAds\", \"TwoStarters\"]}\n",
    "all_queries = []\n",
    "for testnames in tqdm(apps_test['com.nopowerup.idlelightcity']):\n",
    "    query_testname = query_appid + \"'\" + '\"' + testnames + '\"' + \"'\"\n",
    "    apps_test_id = clickhouse(query=query_testname, clickhouse_query=clickhouse_query)\n",
    "    apps_test_id['test_name'] = testnames\n",
    "    apps_test_id.to_csv(\"Data/Quantum_AB_historic/ARPU/Android/Apps_id_info/\" + testnames + \".csv\", \n",
    "                        index = False)\n",
    "# 1 hours 35 mins"
   ]
  },
  {
   "cell_type": "code",
   "execution_count": null,
   "metadata": {},
   "outputs": [],
   "source": [
    "# merge all apps id files\n",
    "# import os\n",
    "# os.chdir(\"/Users/iakubovskii/AppBooster/AB_testing/\")\n",
    "# %run \"Collect_data.py\"\n",
    "# %run \"/Users/iakubovskii/AppBooster/Predictive_model/Import data.py\"\n",
    "# Import data \n",
    "\n",
    "from tqdm.notebook import tqdm\n",
    "import glob\n",
    "\n",
    "arpu_andr = []\n",
    "for file in tqdm(glob.glob(\"Data/Quantum_AB_historic/ARPU/Android/Apps_id_info/*.csv\")):\n",
    "    d = pd.read_csv(file)\n",
    "    arpu_andr.append(d)\n",
    "arpu_andr = pd.concat(arpu_andr)\n",
    "arpu_andr.rename(columns = {\"JSONExtractString(event_value, 'Group')\":'group_test'},inplace=True)\n",
    "arpu_andr['event_time'] = pd.to_datetime(arpu_andr['event_time']) \n",
    "arpu_andr['group_test'] = arpu_andr['group_test'].astype('category')\n",
    "arpu_andr['test_name'] = arpu_andr['test_name'].astype('category')\n",
    "arpu_andr.sort_values(\"event_time\", inplace=True)\n",
    "arpu_andr.to_pickle(\"/Users/iakubovskii/AppBooster/AB_testing/Data/Quantum_AB_historic/ARPU/Android/Apps_id_android_arpu\")"
   ]
  },
  {
   "cell_type": "code",
   "execution_count": null,
   "metadata": {},
   "outputs": [],
   "source": [
    "# Merge revenues and apps id\n",
    "apps_id_android = pd.read_pickle(\"/Users/iakubovskii/AppBooster/AB_testing/Data/Quantum_AB_historic/ARPU/Android/Apps_id_android_arpu\")\n",
    "revenues = pd.read_pickle(\"/Users/iakubovskii/AppBooster/AB_testing/Data/Quantum_AB_historic/ARPU/Revenues_ios_android\")\n",
    "revenue_android = apps_id_android.set_index(['appsflyer_id', 'group_test', 'test_name']).join(\n",
    "revenues.set_index(['appsflyer_id', 'group_test', 'test_name'])).fillna(0).sort_values(\"event_time\")\n",
    "revenue_android = revenue_android.reset_index().drop_duplicates(\n",
    "    ['appsflyer_id', 'group_test', 'test_name', 'revenue']).set_index(\n",
    "    ['appsflyer_id', 'group_test', 'test_name'])\n",
    "revenue_android.columns = ['time_to_group', 'total_id_revenue']\n",
    "revenue_android.to_pickle(\"/Users/iakubovskii/AppBooster/AB_testing/Data/Quantum_AB_historic/ARPU/Android/final_df\")"
   ]
  },
  {
   "cell_type": "markdown",
   "metadata": {},
   "source": [
    "# 2. Appbooster \n",
    "\n",
    "http://51.158.122.91:8123/\n",
    "\n",
    "reader\n",
    "\n",
    "4CYXcXLQ4x\n",
    "\n",
    "см. таблицу biggie_production.support_appquantum_com"
   ]
  },
  {
   "cell_type": "code",
   "execution_count": null,
   "metadata": {},
   "outputs": [],
   "source": [
    "import os\n",
    "from tqdm.notebook import tqdm\n",
    "os.chdir(\"/Users/iakubovskii/AppBooster/AB_testing/\")\n",
    "%run \"Collect_data.py\"\n",
    "%run \"/Users/iakubovskii/AppBooster/Predictive_model/Import data.py\""
   ]
  },
  {
   "cell_type": "code",
   "execution_count": null,
   "metadata": {},
   "outputs": [],
   "source": [
    "%%time\n",
    "query_amount = '''\n",
    "select app_id, \n",
    "    JSONExtractRaw(event_value, 'testName') as test_name, \n",
    "    JSONExtractRaw(event_value, 'variant') as variant,\n",
    "    count(*) as amount \n",
    "from biggie_production.support_appquantum_com \n",
    "where event_name='ab_test'\n",
    "group by app_id, test_name, variant\n",
    "order by app_id, test_name, variant \n",
    "''' \n",
    "# ab_observes = clickhouse_query(query=query_amount,\n",
    "#                       user=\"reader\", password=\"4CYXcXLQ4x\", host=\"51.158.122.91:8123\")\n",
    "# ab_observes = clickhouse_transform_pandas(ab_observes)\n",
    "\n",
    "query_abtest = '''\n",
    "select appsflyer_id, app_id, event_revenue_usd,\n",
    "    JSONExtractRaw(event_value, 'testName') as test_name, \n",
    "    JSONExtractRaw(event_value, 'variant') as variant\n",
    "from biggie_production.support_appquantum_com \n",
    "where event_name='ab_test'\n",
    "''' \n",
    "ab_test = clickhouse_query(query=query_abtest,\n",
    "                      user=\"reader\", password=\"4CYXcXLQ4x\", host=\"51.158.122.91:8123\")\n",
    "ab_test = optimize_pd_datatypes(pd.DataFrame.from_records(ab_test['data']))"
   ]
  },
  {
   "cell_type": "code",
   "execution_count": null,
   "metadata": {},
   "outputs": [],
   "source": [
    "ab_test.info(memory_usage=\"deep\")"
   ]
  },
  {
   "cell_type": "code",
   "execution_count": null,
   "metadata": {},
   "outputs": [],
   "source": [
    "android = ab_test.query(\"platform == 'android'\")\n",
    "ios = ab_test.query(\"platform == 'ios'\")"
   ]
  },
  {
   "cell_type": "code",
   "execution_count": null,
   "metadata": {},
   "outputs": [],
   "source": [
    "ab_test['platform'].value_counts()"
   ]
  },
  {
   "cell_type": "code",
   "execution_count": null,
   "metadata": {},
   "outputs": [],
   "source": [
    "ab_test.to_csv(\"/Users/iakubovskii/AppBooster/AB_testing/Data/AB_historic_other.csv\", index=False)"
   ]
  },
  {
   "cell_type": "code",
   "execution_count": null,
   "metadata": {},
   "outputs": [],
   "source": []
  }
 ],
 "metadata": {
  "kernelspec": {
   "display_name": "venv",
   "language": "python",
   "name": "venv"
  },
  "language_info": {
   "codemirror_mode": {
    "name": "ipython",
    "version": 3
   },
   "file_extension": ".py",
   "mimetype": "text/x-python",
   "name": "python",
   "nbconvert_exporter": "python",
   "pygments_lexer": "ipython3",
   "version": "3.8.3"
  },
  "toc": {
   "base_numbering": 1,
   "nav_menu": {},
   "number_sections": true,
   "sideBar": true,
   "skip_h1_title": false,
   "title_cell": "Table of Contents",
   "title_sidebar": "Contents",
   "toc_cell": false,
   "toc_position": {},
   "toc_section_display": true,
   "toc_window_display": false
  },
  "varInspector": {
   "cols": {
    "lenName": 16,
    "lenType": 16,
    "lenVar": 40
   },
   "kernels_config": {
    "python": {
     "delete_cmd_postfix": "",
     "delete_cmd_prefix": "del ",
     "library": "var_list.py",
     "varRefreshCmd": "print(var_dic_list())"
    },
    "r": {
     "delete_cmd_postfix": ") ",
     "delete_cmd_prefix": "rm(",
     "library": "var_list.r",
     "varRefreshCmd": "cat(var_dic_list()) "
    }
   },
   "types_to_exclude": [
    "module",
    "function",
    "builtin_function_or_method",
    "instance",
    "_Feature"
   ],
   "window_display": false
  }
 },
 "nbformat": 4,
 "nbformat_minor": 4
}
