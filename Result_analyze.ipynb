{
 "cells": [
  {
   "cell_type": "code",
   "execution_count": 81,
   "metadata": {
    "scrolled": true
   },
   "outputs": [],
   "source": [
    "import os\n",
    "import glob\n",
    "import pandas as pd\n",
    "import numpy as np\n",
    "import joblib\n",
    "from tqdm.notebook import tqdm\n",
    "from collections import Counter\n",
    "from src.ab import get_size_zratio\n",
    "from p_tqdm import p_map\n",
    "import matplotlib.pyplot as plt\n",
    "import plotly.express as px\n",
    "bayes_results = glob.glob(\"Experiment results/Bayesian/Experiment1/*\")\n",
    "result1 = bayes_results[0]\n"
   ]
  },
  {
   "cell_type": "code",
   "execution_count": 66,
   "metadata": {},
   "outputs": [
    {
     "data": {
      "application/vnd.jupyter.widget-view+json": {
       "model_id": "e677b30088cf4123b83c904475fdd0fa",
       "version_major": 2,
       "version_minor": 0
      },
      "text/plain": [
       "  0%|          | 0/270 [00:00<?, ?it/s]"
      ]
     },
     "metadata": {},
     "output_type": "display_data"
    }
   ],
   "source": [
    "def create_bayes_results(filepath):\n",
    "    df = joblib.load(filepath)\n",
    "    params = filepath.split(\"/\")[-1].split(r\"__\")\n",
    "    result_df = pd.DataFrame(data=list(map(lambda x: x.split(\"=\")[1], params))\n",
    "                      ).T\n",
    "    result_df.columns = list(map(lambda x: x.split(\"=\")[0], params))\n",
    "    result_df.set_index(list(map(lambda x: x.split(\"=\")[0], params)), inplace=True)\n",
    "    result_df['count_winners'] = ''\n",
    "    result_df['probability_superiority_mean'] = ''\n",
    "    result_df['probability_superiority_median'] = ''\n",
    "    result_df['expected_losses'] = ''\n",
    "    result_df['size'] = ''\n",
    "    winners = [df[i][0]['probability_superiority'] for i in range(1000)]\n",
    "    winners = [i if i != \"not_winner\" else -1 for i in winners]\n",
    "    result_df.at[result_df.index[0], \"count_winners\"] = Counter(winners)\n",
    "    result_df.at[result_df.index[0], 'probability_superiority_mean'] = np.mean(\n",
    "        [df[i][1]['probability_superiority'][0] for i in range(1000)], axis=0).round(3)\n",
    "    result_df.at[result_df.index[0], 'probability_superiority_median'] = np.median(\n",
    "        [df[i][1]['probability_superiority'][0]  for i in range(1000)], axis=0).round(3)\n",
    "#     result_df['expected_losses'] = df[i][1]['probability_superiority'][1].round(5)\n",
    "    result_df['size'] = df[0][1]['probability_superiority'][2]\n",
    "    return result_df\n",
    "filepathes = glob.glob(\"Experiment results/Bayesian/Experiment1/*\")\n",
    "bayes_results_df = p_map(create_bayes_results, filepathes)\n",
    "bayes_results_df = pd.concat(bayes_results_df)"
   ]
  },
  {
   "cell_type": "code",
   "execution_count": 67,
   "metadata": {},
   "outputs": [
    {
     "data": {
      "text/html": [
       "<div>\n",
       "<style scoped>\n",
       "    .dataframe tbody tr th:only-of-type {\n",
       "        vertical-align: middle;\n",
       "    }\n",
       "\n",
       "    .dataframe tbody tr th {\n",
       "        vertical-align: top;\n",
       "    }\n",
       "\n",
       "    .dataframe thead th {\n",
       "        text-align: right;\n",
       "    }\n",
       "</style>\n",
       "<table border=\"1\" class=\"dataframe\">\n",
       "  <thead>\n",
       "    <tr style=\"text-align: right;\">\n",
       "      <th></th>\n",
       "      <th></th>\n",
       "      <th></th>\n",
       "      <th>count_winners</th>\n",
       "      <th>probability_superiority_mean</th>\n",
       "      <th>probability_superiority_median</th>\n",
       "      <th>expected_losses</th>\n",
       "      <th>size</th>\n",
       "    </tr>\n",
       "    <tr>\n",
       "      <th>p_control</th>\n",
       "      <th>mde</th>\n",
       "      <th>prob_super</th>\n",
       "      <th></th>\n",
       "      <th></th>\n",
       "      <th></th>\n",
       "      <th></th>\n",
       "      <th></th>\n",
       "    </tr>\n",
       "  </thead>\n",
       "  <tbody>\n",
       "    <tr>\n",
       "      <th>5</th>\n",
       "      <th>0</th>\n",
       "      <th>0.8</th>\n",
       "      <td>{-1: 605, 1: 199, 0: 196}</td>\n",
       "      <td>[0.499, 0.501]</td>\n",
       "      <td>[0.5, 0.5]</td>\n",
       "      <td></td>\n",
       "      <td>10000</td>\n",
       "    </tr>\n",
       "    <tr>\n",
       "      <th>9</th>\n",
       "      <th>0</th>\n",
       "      <th>0.8</th>\n",
       "      <td>{0: 194, -1: 624, 1: 182}</td>\n",
       "      <td>[0.507, 0.493]</td>\n",
       "      <td>[0.51, 0.49]</td>\n",
       "      <td></td>\n",
       "      <td>10000</td>\n",
       "    </tr>\n",
       "    <tr>\n",
       "      <th>3</th>\n",
       "      <th>0</th>\n",
       "      <th>0.99</th>\n",
       "      <td>{-1: 980, 0: 10, 1: 10}</td>\n",
       "      <td>[0.494, 0.506]</td>\n",
       "      <td>[0.483, 0.517]</td>\n",
       "      <td></td>\n",
       "      <td>10000</td>\n",
       "    </tr>\n",
       "    <tr>\n",
       "      <th>7</th>\n",
       "      <th>0</th>\n",
       "      <th>0.8</th>\n",
       "      <td>{-1: 603, 0: 201, 1: 196}</td>\n",
       "      <td>[0.502, 0.498]</td>\n",
       "      <td>[0.5, 0.5]</td>\n",
       "      <td></td>\n",
       "      <td>10000</td>\n",
       "    </tr>\n",
       "    <tr>\n",
       "      <th>5</th>\n",
       "      <th>0</th>\n",
       "      <th>0.85</th>\n",
       "      <td>{-1: 704, 0: 154, 1: 142}</td>\n",
       "      <td>[0.499, 0.501]</td>\n",
       "      <td>[0.5, 0.5]</td>\n",
       "      <td></td>\n",
       "      <td>10000</td>\n",
       "    </tr>\n",
       "    <tr>\n",
       "      <th>...</th>\n",
       "      <th>...</th>\n",
       "      <th>...</th>\n",
       "      <td>...</td>\n",
       "      <td>...</td>\n",
       "      <td>...</td>\n",
       "      <td>...</td>\n",
       "      <td>...</td>\n",
       "    </tr>\n",
       "    <tr>\n",
       "      <th rowspan=\"5\" valign=\"top\">1</th>\n",
       "      <th rowspan=\"5\" valign=\"top\">2</th>\n",
       "      <th>0.9</th>\n",
       "      <td>{1: 937, -1: 63}</td>\n",
       "      <td>[0.023, 0.977]</td>\n",
       "      <td>[0.002, 0.998]</td>\n",
       "      <td></td>\n",
       "      <td>3923647</td>\n",
       "    </tr>\n",
       "    <tr>\n",
       "      <th>0.95</th>\n",
       "      <td>{1: 893, -1: 107}</td>\n",
       "      <td>[0.023, 0.977]</td>\n",
       "      <td>[0.002, 0.998]</td>\n",
       "      <td></td>\n",
       "      <td>3923647</td>\n",
       "    </tr>\n",
       "    <tr>\n",
       "      <th>0.99</th>\n",
       "      <td>{1: 721, -1: 279}</td>\n",
       "      <td>[0.023, 0.977]</td>\n",
       "      <td>[0.002, 0.998]</td>\n",
       "      <td></td>\n",
       "      <td>3923647</td>\n",
       "    </tr>\n",
       "    <tr>\n",
       "      <th>0.85</th>\n",
       "      <td>{1: 959, -1: 41}</td>\n",
       "      <td>[0.023, 0.977]</td>\n",
       "      <td>[0.002, 0.998]</td>\n",
       "      <td></td>\n",
       "      <td>3923647</td>\n",
       "    </tr>\n",
       "    <tr>\n",
       "      <th>0.8</th>\n",
       "      <td>{1: 974, -1: 26}</td>\n",
       "      <td>[0.023, 0.977]</td>\n",
       "      <td>[0.002, 0.998]</td>\n",
       "      <td></td>\n",
       "      <td>3923647</td>\n",
       "    </tr>\n",
       "  </tbody>\n",
       "</table>\n",
       "<p>270 rows × 5 columns</p>\n",
       "</div>"
      ],
      "text/plain": [
       "                                      count_winners  \\\n",
       "p_control mde prob_super                              \n",
       "5         0   0.8         {-1: 605, 1: 199, 0: 196}   \n",
       "9         0   0.8         {0: 194, -1: 624, 1: 182}   \n",
       "3         0   0.99          {-1: 980, 0: 10, 1: 10}   \n",
       "7         0   0.8         {-1: 603, 0: 201, 1: 196}   \n",
       "5         0   0.85        {-1: 704, 0: 154, 1: 142}   \n",
       "...                                             ...   \n",
       "1         2   0.9                  {1: 937, -1: 63}   \n",
       "              0.95                {1: 893, -1: 107}   \n",
       "              0.99                {1: 721, -1: 279}   \n",
       "              0.85                 {1: 959, -1: 41}   \n",
       "              0.8                  {1: 974, -1: 26}   \n",
       "\n",
       "                         probability_superiority_mean  \\\n",
       "p_control mde prob_super                                \n",
       "5         0   0.8                      [0.499, 0.501]   \n",
       "9         0   0.8                      [0.507, 0.493]   \n",
       "3         0   0.99                     [0.494, 0.506]   \n",
       "7         0   0.8                      [0.502, 0.498]   \n",
       "5         0   0.85                     [0.499, 0.501]   \n",
       "...                                               ...   \n",
       "1         2   0.9                      [0.023, 0.977]   \n",
       "              0.95                     [0.023, 0.977]   \n",
       "              0.99                     [0.023, 0.977]   \n",
       "              0.85                     [0.023, 0.977]   \n",
       "              0.8                      [0.023, 0.977]   \n",
       "\n",
       "                         probability_superiority_median expected_losses  \\\n",
       "p_control mde prob_super                                                  \n",
       "5         0   0.8                            [0.5, 0.5]                   \n",
       "9         0   0.8                          [0.51, 0.49]                   \n",
       "3         0   0.99                       [0.483, 0.517]                   \n",
       "7         0   0.8                            [0.5, 0.5]                   \n",
       "5         0   0.85                           [0.5, 0.5]                   \n",
       "...                                                 ...             ...   \n",
       "1         2   0.9                        [0.002, 0.998]                   \n",
       "              0.95                       [0.002, 0.998]                   \n",
       "              0.99                       [0.002, 0.998]                   \n",
       "              0.85                       [0.002, 0.998]                   \n",
       "              0.8                        [0.002, 0.998]                   \n",
       "\n",
       "                             size  \n",
       "p_control mde prob_super           \n",
       "5         0   0.8           10000  \n",
       "9         0   0.8           10000  \n",
       "3         0   0.99          10000  \n",
       "7         0   0.8           10000  \n",
       "5         0   0.85          10000  \n",
       "...                           ...  \n",
       "1         2   0.9         3923647  \n",
       "              0.95        3923647  \n",
       "              0.99        3923647  \n",
       "              0.85        3923647  \n",
       "              0.8         3923647  \n",
       "\n",
       "[270 rows x 5 columns]"
      ]
     },
     "execution_count": 67,
     "metadata": {},
     "output_type": "execute_result"
    }
   ],
   "source": [
    "bayes_results_df.sort_values(\"size\")"
   ]
  },
  {
   "cell_type": "code",
   "execution_count": 73,
   "metadata": {},
   "outputs": [
    {
     "data": {
      "application/vnd.jupyter.widget-view+json": {
       "model_id": "16f08f484ac642fc8aedf5e01a5b644c",
       "version_major": 2,
       "version_minor": 0
      },
      "text/plain": [
       "  0%|          | 0/900 [00:00<?, ?it/s]"
      ]
     },
     "metadata": {},
     "output_type": "display_data"
    }
   ],
   "source": [
    "def create_thompson_results(filepath):\n",
    "    df = joblib.load(filepath)\n",
    "    params = filepath.split(\"/\")[-1].split(r\"__\")\n",
    "    result_df = pd.DataFrame(data=list(map(lambda x: x.split(\"=\")[1], params))\n",
    "                          ).T\n",
    "    result_df.columns = list(map(lambda x: x.split(\"=\")[0], params))\n",
    "    result_df.set_index(list(map(lambda x: x.split(\"=\")[0], params)), inplace=True)\n",
    "    result_df['count_winners'] = ''\n",
    "    result_df.at[result_df.index[0], \"count_winners\"] = Counter([df[i][0]['probability_superiority'] \n",
    "                                                                 for i in range(1000)])\n",
    "    # Get share observations out of needed\n",
    "\n",
    "    p_control = int(result_df.index.levels[1].values[0])\n",
    "    mde = int(result_df.index.levels[1].values[0])\n",
    "    result_df['size'] = ''\n",
    "    result_df.loc[result_df.index[0], 'size'] = get_size_zratio(p_control, mde, 0.05, 0.2)\n",
    "    shares = tuple(np.cumsum(df[i][1]['probability_superiority'][2], axis=0)[-1] / result_df['size'].values[0]\n",
    "              for i in range(1000))\n",
    "    result_df['share_observations_mean'] = ''\n",
    "    result_df['share_observations_median'] = ''\n",
    "    result_df.at[result_df.index[0], 'share_observations_mean'] = np.mean(shares, axis=0).round(3)\n",
    "    result_df.at[result_df.index[0], 'share_observations_median'] = np.median(shares, axis=0).round(3)\n",
    "\n",
    "    # Add share correct / incorrect winners\n",
    "    result_df['share_test_winner'] = result_df['count_winners']\\\n",
    "                                        .apply(lambda x: x[1] / 1000)\n",
    "    result_df['share_not_winner'] = result_df['count_winners']\\\n",
    "                                        .apply(lambda x: x[-1] / 1000)\n",
    "    result_df['share_control_winner'] = result_df['count_winners']\\\n",
    "                                        .apply(lambda x: x[0] / 1000)\n",
    "    return result_df\n",
    "filepathes = glob.glob(\"/home/igor/Appbooster/proba.ai/AB/Experiment results/Thompson/Experiment1/*\")\n",
    "thompson_results_df = p_map(create_thompson_results, filepathes)\n",
    "thompson_results_df = pd.concat(thompson_results_df)"
   ]
  },
  {
   "cell_type": "code",
   "execution_count": 94,
   "metadata": {},
   "outputs": [
    {
     "data": {
      "text/html": [
       "<div>\n",
       "<style scoped>\n",
       "    .dataframe tbody tr th:only-of-type {\n",
       "        vertical-align: middle;\n",
       "    }\n",
       "\n",
       "    .dataframe tbody tr th {\n",
       "        vertical-align: top;\n",
       "    }\n",
       "\n",
       "    .dataframe thead th {\n",
       "        text-align: right;\n",
       "    }\n",
       "</style>\n",
       "<table border=\"1\" class=\"dataframe\">\n",
       "  <thead>\n",
       "    <tr style=\"text-align: right;\">\n",
       "      <th></th>\n",
       "      <th></th>\n",
       "      <th></th>\n",
       "      <th></th>\n",
       "      <th></th>\n",
       "      <th>count_winners</th>\n",
       "      <th>size</th>\n",
       "      <th>share_observations_mean</th>\n",
       "      <th>share_observations_median</th>\n",
       "      <th>share_test_winner</th>\n",
       "      <th>share_not_winner</th>\n",
       "      <th>share_control_winner</th>\n",
       "    </tr>\n",
       "    <tr>\n",
       "      <th>p_control</th>\n",
       "      <th>mde</th>\n",
       "      <th>prob_super</th>\n",
       "      <th>batch_size_share_mu</th>\n",
       "      <th>multi_armed</th>\n",
       "      <th></th>\n",
       "      <th></th>\n",
       "      <th></th>\n",
       "      <th></th>\n",
       "      <th></th>\n",
       "      <th></th>\n",
       "      <th></th>\n",
       "    </tr>\n",
       "  </thead>\n",
       "  <tbody>\n",
       "    <tr>\n",
       "      <th rowspan=\"2\" valign=\"top\">11</th>\n",
       "      <th>5</th>\n",
       "      <th>0.99</th>\n",
       "      <th>0.01</th>\n",
       "      <th>True</th>\n",
       "      <td>{0: 243, 1: 519, -1: 238}</td>\n",
       "      <td>122120</td>\n",
       "      <td>[0.319, 0.326]</td>\n",
       "      <td>[0.149, 0.154]</td>\n",
       "      <td>0.519</td>\n",
       "      <td>0.238</td>\n",
       "      <td>0.243</td>\n",
       "    </tr>\n",
       "    <tr>\n",
       "      <th>0</th>\n",
       "      <th>0.95</th>\n",
       "      <th>0.08</th>\n",
       "      <th>True</th>\n",
       "      <td>{-1: 442, 1: 284, 0: 274}</td>\n",
       "      <td>10000</td>\n",
       "      <td>[1.186, 1.192]</td>\n",
       "      <td>[1.361, 1.32]</td>\n",
       "      <td>0.284</td>\n",
       "      <td>0.442</td>\n",
       "      <td>0.274</td>\n",
       "    </tr>\n",
       "    <tr>\n",
       "      <th>6</th>\n",
       "      <th>5</th>\n",
       "      <th>0.99</th>\n",
       "      <th>0.01</th>\n",
       "      <th>True</th>\n",
       "      <td>{1: 552, -1: 215, 0: 233}</td>\n",
       "      <td>122120</td>\n",
       "      <td>[0.601, 0.617]</td>\n",
       "      <td>[0.294, 0.313]</td>\n",
       "      <td>0.552</td>\n",
       "      <td>0.215</td>\n",
       "      <td>0.233</td>\n",
       "    </tr>\n",
       "    <tr>\n",
       "      <th rowspan=\"2\" valign=\"top\">1</th>\n",
       "      <th rowspan=\"2\" valign=\"top\">10</th>\n",
       "      <th rowspan=\"2\" valign=\"top\">0.99</th>\n",
       "      <th>0.04</th>\n",
       "      <th>True</th>\n",
       "      <td>{1: 563, 0: 78, -1: 359}</td>\n",
       "      <td>14748</td>\n",
       "      <td>[10.872, 12.232]</td>\n",
       "      <td>[9.829, 11.994]</td>\n",
       "      <td>0.563</td>\n",
       "      <td>0.359</td>\n",
       "      <td>0.078</td>\n",
       "    </tr>\n",
       "    <tr>\n",
       "      <th>0.09</th>\n",
       "      <th>False</th>\n",
       "      <td>{1: 587, -1: 396, 0: 17}</td>\n",
       "      <td>14748</td>\n",
       "      <td>[14.313, 14.313]</td>\n",
       "      <td>[14.15, 14.15]</td>\n",
       "      <td>0.587</td>\n",
       "      <td>0.396</td>\n",
       "      <td>0.017</td>\n",
       "    </tr>\n",
       "    <tr>\n",
       "      <th>...</th>\n",
       "      <th>...</th>\n",
       "      <th>...</th>\n",
       "      <th>...</th>\n",
       "      <th>...</th>\n",
       "      <td>...</td>\n",
       "      <td>...</td>\n",
       "      <td>...</td>\n",
       "      <td>...</td>\n",
       "      <td>...</td>\n",
       "      <td>...</td>\n",
       "      <td>...</td>\n",
       "    </tr>\n",
       "    <tr>\n",
       "      <th>6</th>\n",
       "      <th>0</th>\n",
       "      <th>0.9</th>\n",
       "      <th>0.02</th>\n",
       "      <th>False</th>\n",
       "      <td>{-1: 149, 1: 426, 0: 425}</td>\n",
       "      <td>10000</td>\n",
       "      <td>[0.583, 0.583]</td>\n",
       "      <td>[0.212, 0.212]</td>\n",
       "      <td>0.426</td>\n",
       "      <td>0.149</td>\n",
       "      <td>0.425</td>\n",
       "    </tr>\n",
       "    <tr>\n",
       "      <th rowspan=\"2\" valign=\"top\">1</th>\n",
       "      <th>10</th>\n",
       "      <th>0.95</th>\n",
       "      <th>0.01</th>\n",
       "      <th>False</th>\n",
       "      <td>{1: 572, -1: 160, 0: 268}</td>\n",
       "      <td>14748</td>\n",
       "      <td>[6.652, 6.652]</td>\n",
       "      <td>[2.185, 2.185]</td>\n",
       "      <td>0.572</td>\n",
       "      <td>0.160</td>\n",
       "      <td>0.268</td>\n",
       "    </tr>\n",
       "    <tr>\n",
       "      <th>0</th>\n",
       "      <th>0.99</th>\n",
       "      <th>0.08</th>\n",
       "      <th>False</th>\n",
       "      <td>{-1: 623, 1: 196, 0: 181}</td>\n",
       "      <td>10000</td>\n",
       "      <td>[1.655, 1.655]</td>\n",
       "      <td>[2.017, 2.017]</td>\n",
       "      <td>0.196</td>\n",
       "      <td>0.623</td>\n",
       "      <td>0.181</td>\n",
       "    </tr>\n",
       "    <tr>\n",
       "      <th>11</th>\n",
       "      <th>10</th>\n",
       "      <th>0.85</th>\n",
       "      <th>0.1</th>\n",
       "      <th>True</th>\n",
       "      <td>{1: 793, -1: 147, 0: 60}</td>\n",
       "      <td>14748</td>\n",
       "      <td>[0.493, 0.552]</td>\n",
       "      <td>[0.21, 0.257]</td>\n",
       "      <td>0.793</td>\n",
       "      <td>0.147</td>\n",
       "      <td>0.060</td>\n",
       "    </tr>\n",
       "    <tr>\n",
       "      <th>6</th>\n",
       "      <th>5</th>\n",
       "      <th>0.9</th>\n",
       "      <th>0.01</th>\n",
       "      <th>False</th>\n",
       "      <td>{1: 603, 0: 290, -1: 107}</td>\n",
       "      <td>122120</td>\n",
       "      <td>[0.327, 0.327]</td>\n",
       "      <td>[0.075, 0.075]</td>\n",
       "      <td>0.603</td>\n",
       "      <td>0.107</td>\n",
       "      <td>0.290</td>\n",
       "    </tr>\n",
       "  </tbody>\n",
       "</table>\n",
       "<p>900 rows × 7 columns</p>\n",
       "</div>"
      ],
      "text/plain": [
       "                                                                      count_winners  \\\n",
       "p_control mde prob_super batch_size_share_mu multi_armed                              \n",
       "11        5   0.99       0.01                True         {0: 243, 1: 519, -1: 238}   \n",
       "          0   0.95       0.08                True         {-1: 442, 1: 284, 0: 274}   \n",
       "6         5   0.99       0.01                True         {1: 552, -1: 215, 0: 233}   \n",
       "1         10  0.99       0.04                True          {1: 563, 0: 78, -1: 359}   \n",
       "                         0.09                False         {1: 587, -1: 396, 0: 17}   \n",
       "...                                                                             ...   \n",
       "6         0   0.9        0.02                False        {-1: 149, 1: 426, 0: 425}   \n",
       "1         10  0.95       0.01                False        {1: 572, -1: 160, 0: 268}   \n",
       "          0   0.99       0.08                False        {-1: 623, 1: 196, 0: 181}   \n",
       "11        10  0.85       0.1                 True          {1: 793, -1: 147, 0: 60}   \n",
       "6         5   0.9        0.01                False        {1: 603, 0: 290, -1: 107}   \n",
       "\n",
       "                                                            size  \\\n",
       "p_control mde prob_super batch_size_share_mu multi_armed           \n",
       "11        5   0.99       0.01                True         122120   \n",
       "          0   0.95       0.08                True          10000   \n",
       "6         5   0.99       0.01                True         122120   \n",
       "1         10  0.99       0.04                True          14748   \n",
       "                         0.09                False         14748   \n",
       "...                                                          ...   \n",
       "6         0   0.9        0.02                False         10000   \n",
       "1         10  0.95       0.01                False         14748   \n",
       "          0   0.99       0.08                False         10000   \n",
       "11        10  0.85       0.1                 True          14748   \n",
       "6         5   0.9        0.01                False        122120   \n",
       "\n",
       "                                                         share_observations_mean  \\\n",
       "p_control mde prob_super batch_size_share_mu multi_armed                           \n",
       "11        5   0.99       0.01                True                 [0.319, 0.326]   \n",
       "          0   0.95       0.08                True                 [1.186, 1.192]   \n",
       "6         5   0.99       0.01                True                 [0.601, 0.617]   \n",
       "1         10  0.99       0.04                True               [10.872, 12.232]   \n",
       "                         0.09                False              [14.313, 14.313]   \n",
       "...                                                                          ...   \n",
       "6         0   0.9        0.02                False                [0.583, 0.583]   \n",
       "1         10  0.95       0.01                False                [6.652, 6.652]   \n",
       "          0   0.99       0.08                False                [1.655, 1.655]   \n",
       "11        10  0.85       0.1                 True                 [0.493, 0.552]   \n",
       "6         5   0.9        0.01                False                [0.327, 0.327]   \n",
       "\n",
       "                                                         share_observations_median  \\\n",
       "p_control mde prob_super batch_size_share_mu multi_armed                             \n",
       "11        5   0.99       0.01                True                   [0.149, 0.154]   \n",
       "          0   0.95       0.08                True                    [1.361, 1.32]   \n",
       "6         5   0.99       0.01                True                   [0.294, 0.313]   \n",
       "1         10  0.99       0.04                True                  [9.829, 11.994]   \n",
       "                         0.09                False                  [14.15, 14.15]   \n",
       "...                                                                            ...   \n",
       "6         0   0.9        0.02                False                  [0.212, 0.212]   \n",
       "1         10  0.95       0.01                False                  [2.185, 2.185]   \n",
       "          0   0.99       0.08                False                  [2.017, 2.017]   \n",
       "11        10  0.85       0.1                 True                    [0.21, 0.257]   \n",
       "6         5   0.9        0.01                False                  [0.075, 0.075]   \n",
       "\n",
       "                                                          share_test_winner  \\\n",
       "p_control mde prob_super batch_size_share_mu multi_armed                      \n",
       "11        5   0.99       0.01                True                     0.519   \n",
       "          0   0.95       0.08                True                     0.284   \n",
       "6         5   0.99       0.01                True                     0.552   \n",
       "1         10  0.99       0.04                True                     0.563   \n",
       "                         0.09                False                    0.587   \n",
       "...                                                                     ...   \n",
       "6         0   0.9        0.02                False                    0.426   \n",
       "1         10  0.95       0.01                False                    0.572   \n",
       "          0   0.99       0.08                False                    0.196   \n",
       "11        10  0.85       0.1                 True                     0.793   \n",
       "6         5   0.9        0.01                False                    0.603   \n",
       "\n",
       "                                                          share_not_winner  \\\n",
       "p_control mde prob_super batch_size_share_mu multi_armed                     \n",
       "11        5   0.99       0.01                True                    0.238   \n",
       "          0   0.95       0.08                True                    0.442   \n",
       "6         5   0.99       0.01                True                    0.215   \n",
       "1         10  0.99       0.04                True                    0.359   \n",
       "                         0.09                False                   0.396   \n",
       "...                                                                    ...   \n",
       "6         0   0.9        0.02                False                   0.149   \n",
       "1         10  0.95       0.01                False                   0.160   \n",
       "          0   0.99       0.08                False                   0.623   \n",
       "11        10  0.85       0.1                 True                    0.147   \n",
       "6         5   0.9        0.01                False                   0.107   \n",
       "\n",
       "                                                          share_control_winner  \n",
       "p_control mde prob_super batch_size_share_mu multi_armed                        \n",
       "11        5   0.99       0.01                True                        0.243  \n",
       "          0   0.95       0.08                True                        0.274  \n",
       "6         5   0.99       0.01                True                        0.233  \n",
       "1         10  0.99       0.04                True                        0.078  \n",
       "                         0.09                False                       0.017  \n",
       "...                                                                        ...  \n",
       "6         0   0.9        0.02                False                       0.425  \n",
       "1         10  0.95       0.01                False                       0.268  \n",
       "          0   0.99       0.08                False                       0.181  \n",
       "11        10  0.85       0.1                 True                        0.060  \n",
       "6         5   0.9        0.01                False                       0.290  \n",
       "\n",
       "[900 rows x 7 columns]"
      ]
     },
     "execution_count": 94,
     "metadata": {},
     "output_type": "execute_result"
    }
   ],
   "source": [
    "thompson_results_df"
   ]
  },
  {
   "cell_type": "code",
   "execution_count": 80,
   "metadata": {},
   "outputs": [
    {
     "data": {
      "image/png": "[encoded data removed]",
      "text/plain": [
       "<Figure size 432x288 with 1 Axes>"
      ]
     },
     "metadata": {
      "needs_background": "light"
     },
     "output_type": "display_data"
    }
   ],
   "source": [
    "thompson_results_df.query(\"mde == '0'\")['share_not_winner'].plot(kind='hist');\n",
    "plt.title(\"Доля тестов, которые зафиксировали, что различий нет, когда их на самом деле нет\");"
   ]
  },
  {
   "cell_type": "code",
   "execution_count": 95,
   "metadata": {
    "scrolled": true
   },
   "outputs": [
    {
     "data": {
      "application/vnd.plotly.v1+json": {
       "config": {
        "plotlyServerURL": "https://plot.ly"
       },
       "data": [
        {
         "hovertemplate": "share_not_winner=%{x}<br>prob_super=%{y}<br>batch_size_share_mu=%{marker.color}<extra></extra>",
         "legendgroup": "",
         "marker": {
          "color": [
           0.08,
           0.07,
           0.1,
           0.04,
           0.06,
           0.03,
           0.09,
           0.01,
           0.01,
           0.05,
           0.05,
           0.07,
           0.02,
           0.09,
           0.03,
           0.08,
           0.02,
           0.06,
           0.06,
           0.02,
           0.09,
           0.1,
           0.04,
           0.01,
           0.07,
           0.07,
           0.07,
           0.06,
           0.07,
           0.01,
           0.08,
           0.04,
           0.02,
           0.08,
           0.08,
           0.07,
           0.04,
           0.05,
           0.1,
           0.1,
           0.04,
           0.09,
           0.03,
           0.06,
           0.08,
           0.06,
           0.02,
           0.09,
           0.08,
           0.05,
           0.05,
           0.06,
           0.04,
           0.1,
           0.04,
           0.06,
           0.04,
           0.04,
           0.09,
           0.1,
           0.06,
           0.05,
           0.09,
           0.1,
           0.07,
           0.03,
           0.05,
           0.09,
           0.03,
           0.01,
           0.02,
           0.07,
           0.08,
           0.04,
           0.02,
           0.06,
           0.01,
           0.01,
           0.08,
           0.09,
           0.1,
           0.05,
           0.05,
           0.04,
           0.09,
           0.03,
           0.09,
           0.03,
           0.1,
           0.05,
           0.1,
           0.07,
           0.01,
           0.04,
           0.05,
           0.04,
           0.06,
           0.09,
           0.07,
           0.08,
           0.1,
           0.08,
           0.05,
           0.03,
           0.02,
           0.1,
           0.08,
           0.08,
           0.02,
           0.06,
           0.04,
           0.03,
           0.03,
           0.1,
           0.01,
           0.1,
           0.07,
           0.01,
           0.03,
           0.01,
           0.08,
           0.02,
           0.02,
           0.05,
           0.09,
           0.09,
           0.03,
           0.01,
           0.06,
           0.03,
           0.04,
           0.09,
           0.05,
           0.01,
           0.1,
           0.06,
           0.01,
           0.05,
           0.07,
           0.03,
           0.07,
           0.01,
           0.07,
           0.03,
           0.02,
           0.02,
           0.02,
           0.06,
           0.08,
           0.02
          ],
          "coloraxis": "coloraxis",
          "symbol": "circle"
         },
         "mode": "markers",
         "name": "",
         "orientation": "v",
         "showlegend": false,
         "type": "scatter",
         "x": [
          0.442,
          0.22,
          0.499,
          0.401,
          0.548,
          0.392,
          0.25,
          0.024,
          0.083,
          0.342,
          0.342,
          0.212,
          0.082,
          0.63,
          0.176,
          0.443,
          0.107,
          0.276,
          0.278,
          0.166,
          0.252,
          0.668,
          0.47,
          0.115,
          0.3,
          0.596,
          0.582,
          0.373,
          0.155,
          0.115,
          0.326,
          0.108,
          0.32,
          0.315,
          0.591,
          0.553,
          0.46,
          0.247,
          0.181,
          0.38,
          0.102,
          0.589,
          0.164,
          0.207,
          0.222,
          0.143,
          0.272,
          0.453,
          0.624,
          0.181,
          0.122,
          0.4,
          0.306,
          0.353,
          0.136,
          0.197,
          0.164,
          0.198,
          0.332,
          0.28,
          0.138,
          0.249,
          0.162,
          0.272,
          0.221,
          0.081,
          0.187,
          0.33,
          0.081,
          0.073,
          0.328,
          0.168,
          0.158,
          0.199,
          0.106,
          0.499,
          0.047,
          0.17,
          0.229,
          0.458,
          0.186,
          0.176,
          0.466,
          0.228,
          0.619,
          0.108,
          0.187,
          0.076,
          0.194,
          0.127,
          0.271,
          0.416,
          0.232,
          0.149,
          0.504,
          0.295,
          0.131,
          0.332,
          0.405,
          0.591,
          0.62,
          0.324,
          0.241,
          0.23,
          0.09,
          0.376,
          0.45,
          0.247,
          0.135,
          0.374,
          0.319,
          0.132,
          0.256,
          0.483,
          0.075,
          0.65,
          0.408,
          0.043,
          0.354,
          0.18,
          0.151,
          0.189,
          0.041,
          0.128,
          0.26,
          0.449,
          0.409,
          0.028,
          0.203,
          0.183,
          0.109,
          0.169,
          0.512,
          0.103,
          0.48,
          0.275,
          0.101,
          0.325,
          0.291,
          0.265,
          0.297,
          0.161,
          0.161,
          0.12,
          0.211,
          0.06,
          0.161,
          0.551,
          0.174,
          0.059
         ],
         "xaxis": "x",
         "y": [
          0.95,
          0.85,
          0.95,
          0.99,
          0.99,
          0.99,
          0.85,
          0.8,
          0.9,
          0.95,
          0.95,
          0.85,
          0.85,
          0.99,
          0.9,
          0.95,
          0.9,
          0.9,
          0.9,
          0.95,
          0.85,
          0.99,
          0.99,
          0.95,
          0.9,
          0.99,
          0.99,
          0.95,
          0.8,
          0.9,
          0.9,
          0.8,
          0.99,
          0.9,
          0.99,
          0.99,
          0.99,
          0.9,
          0.8,
          0.9,
          0.8,
          0.99,
          0.9,
          0.85,
          0.85,
          0.8,
          0.99,
          0.95,
          0.99,
          0.85,
          0.8,
          0.95,
          0.95,
          0.9,
          0.85,
          0.85,
          0.85,
          0.9,
          0.9,
          0.85,
          0.8,
          0.9,
          0.8,
          0.85,
          0.85,
          0.8,
          0.85,
          0.9,
          0.8,
          0.9,
          0.99,
          0.8,
          0.8,
          0.9,
          0.85,
          0.99,
          0.85,
          0.99,
          0.85,
          0.95,
          0.8,
          0.85,
          0.99,
          0.9,
          0.99,
          0.85,
          0.8,
          0.8,
          0.8,
          0.8,
          0.85,
          0.95,
          0.99,
          0.85,
          0.99,
          0.95,
          0.8,
          0.9,
          0.95,
          0.99,
          0.99,
          0.9,
          0.9,
          0.95,
          0.85,
          0.9,
          0.95,
          0.85,
          0.9,
          0.95,
          0.95,
          0.85,
          0.95,
          0.95,
          0.8,
          0.99,
          0.95,
          0.85,
          0.99,
          0.99,
          0.8,
          0.95,
          0.8,
          0.8,
          0.85,
          0.95,
          0.99,
          0.8,
          0.85,
          0.9,
          0.8,
          0.8,
          0.99,
          0.85,
          0.95,
          0.9,
          0.95,
          0.95,
          0.9,
          0.95,
          0.9,
          0.95,
          0.8,
          0.85,
          0.95,
          0.8,
          0.9,
          0.99,
          0.8,
          0.8
         ],
         "yaxis": "y"
        }
       ],
       "layout": {
        "coloraxis": {
         "colorbar": {
          "title": {
           "text": "batch_size_share_mu"
          }
         },
         "colorscale": [
          [
           0,
           "#0d0887"
          ],
          [
           0.1111111111111111,
           "#46039f"
          ],
          [
           0.2222222222222222,
           "#7201a8"
          ],
          [
           0.3333333333333333,
           "#9c179e"
          ],
          [
           0.4444444444444444,
           "#bd3786"
          ],
          [
           0.5555555555555556,
           "#d8576b"
          ],
          [
           0.6666666666666666,
           "#ed7953"
          ],
          [
           0.7777777777777778,
           "#fb9f3a"
          ],
          [
           0.8888888888888888,
           "#fdca26"
          ],
          [
           1,
           "#f0f921"
          ]
         ]
        },
        "legend": {
         "tracegroupgap": 0
        },
        "margin": {
         "t": 60
        },
        "template": {
         "data": {
          "bar": [
           {
            "error_x": {
             "color": "#2a3f5f"
            },
            "error_y": {
             "color": "#2a3f5f"
            },
            "marker": {
             "line": {
              "color": "#E5ECF6",
              "width": 0.5
             },
             "pattern": {
              "fillmode": "overlay",
              "size": 10,
              "solidity": 0.2
             }
            },
            "type": "bar"
           }
          ],
          "barpolar": [
           {
            "marker": {
             "line": {
              "color": "#E5ECF6",
              "width": 0.5
             },
             "pattern": {
              "fillmode": "overlay",
              "size": 10,
              "solidity": 0.2
             }
            },
            "type": "barpolar"
           }
          ],
          "carpet": [
           {
            "aaxis": {
             "endlinecolor": "#2a3f5f",
             "gridcolor": "white",
             "linecolor": "white",
             "minorgridcolor": "white",
             "startlinecolor": "#2a3f5f"
            },
            "baxis": {
             "endlinecolor": "#2a3f5f",
             "gridcolor": "white",
             "linecolor": "white",
             "minorgridcolor": "white",
             "startlinecolor": "#2a3f5f"
            },
            "type": "carpet"
           }
          ],
          "choropleth": [
           {
            "colorbar": {
             "outlinewidth": 0,
             "ticks": ""
            },
            "type": "choropleth"
           }
          ],
          "contour": [
           {
            "colorbar": {
             "outlinewidth": 0,
             "ticks": ""
            },
            "colorscale": [
             [
              0,
              "#0d0887"
             ],
             [
              0.1111111111111111,
              "#46039f"
             ],
             [
              0.2222222222222222,
              "#7201a8"
             ],
             [
              0.3333333333333333,
              "#9c179e"
             ],
             [
              0.4444444444444444,
              "#bd3786"
             ],
             [
              0.5555555555555556,
              "#d8576b"
             ],
             [
              0.6666666666666666,
              "#ed7953"
             ],
             [
              0.7777777777777778,
              "#fb9f3a"
             ],
             [
              0.8888888888888888,
              "#fdca26"
             ],
             [
              1,
              "#f0f921"
             ]
            ],
            "type": "contour"
           }
          ],
          "contourcarpet": [
           {
            "colorbar": {
             "outlinewidth": 0,
             "ticks": ""
            },
            "type": "contourcarpet"
           }
          ],
          "heatmap": [
           {
            "colorbar": {
             "outlinewidth": 0,
             "ticks": ""
            },
            "colorscale": [
             [
              0,
              "#0d0887"
             ],
             [
              0.1111111111111111,
              "#46039f"
             ],
             [
              0.2222222222222222,
              "#7201a8"
             ],
             [
              0.3333333333333333,
              "#9c179e"
             ],
             [
              0.4444444444444444,
              "#bd3786"
             ],
             [
              0.5555555555555556,
              "#d8576b"
             ],
             [
              0.6666666666666666,
              "#ed7953"
             ],
             [
              0.7777777777777778,
              "#fb9f3a"
             ],
             [
              0.8888888888888888,
              "#fdca26"
             ],
             [
              1,
              "#f0f921"
             ]
            ],
            "type": "heatmap"
           }
          ],
          "heatmapgl": [
           {
            "colorbar": {
             "outlinewidth": 0,
             "ticks": ""
            },
            "colorscale": [
             [
              0,
              "#0d0887"
             ],
             [
              0.1111111111111111,
              "#46039f"
             ],
             [
              0.2222222222222222,
              "#7201a8"
             ],
             [
              0.3333333333333333,
              "#9c179e"
             ],
             [
              0.4444444444444444,
              "#bd3786"
             ],
             [
              0.5555555555555556,
              "#d8576b"
             ],
             [
              0.6666666666666666,
              "#ed7953"
             ],
             [
              0.7777777777777778,
              "#fb9f3a"
             ],
             [
              0.8888888888888888,
              "#fdca26"
             ],
             [
              1,
              "#f0f921"
             ]
            ],
            "type": "heatmapgl"
           }
          ],
          "histogram": [
           {
            "marker": {
             "pattern": {
              "fillmode": "overlay",
              "size": 10,
              "solidity": 0.2
             }
            },
            "type": "histogram"
           }
          ],
          "histogram2d": [
           {
            "colorbar": {
             "outlinewidth": 0,
             "ticks": ""
            },
            "colorscale": [
             [
              0,
              "#0d0887"
             ],
             [
              0.1111111111111111,
              "#46039f"
             ],
             [
              0.2222222222222222,
              "#7201a8"
             ],
             [
              0.3333333333333333,
              "#9c179e"
             ],
             [
              0.4444444444444444,
              "#bd3786"
             ],
             [
              0.5555555555555556,
              "#d8576b"
             ],
             [
              0.6666666666666666,
              "#ed7953"
             ],
             [
              0.7777777777777778,
              "#fb9f3a"
             ],
             [
              0.8888888888888888,
              "#fdca26"
             ],
             [
              1,
              "#f0f921"
             ]
            ],
            "type": "histogram2d"
           }
          ],
          "histogram2dcontour": [
           {
            "colorbar": {
             "outlinewidth": 0,
             "ticks": ""
            },
            "colorscale": [
             [
              0,
              "#0d0887"
             ],
             [
              0.1111111111111111,
              "#46039f"
             ],
             [
              0.2222222222222222,
              "#7201a8"
             ],
             [
              0.3333333333333333,
              "#9c179e"
             ],
             [
              0.4444444444444444,
              "#bd3786"
             ],
             [
              0.5555555555555556,
              "#d8576b"
             ],
             [
              0.6666666666666666,
              "#ed7953"
             ],
             [
              0.7777777777777778,
              "#fb9f3a"
             ],
             [
              0.8888888888888888,
              "#fdca26"
             ],
             [
              1,
              "#f0f921"
             ]
            ],
            "type": "histogram2dcontour"
           }
          ],
          "mesh3d": [
           {
            "colorbar": {
             "outlinewidth": 0,
             "ticks": ""
            },
            "type": "mesh3d"
           }
          ],
          "parcoords": [
           {
            "line": {
             "colorbar": {
              "outlinewidth": 0,
              "ticks": ""
             }
            },
            "type": "parcoords"
           }
          ],
          "pie": [
           {
            "automargin": true,
            "type": "pie"
           }
          ],
          "scatter": [
           {
            "marker": {
             "colorbar": {
              "outlinewidth": 0,
              "ticks": ""
             }
            },
            "type": "scatter"
           }
          ],
          "scatter3d": [
           {
            "line": {
             "colorbar": {
              "outlinewidth": 0,
              "ticks": ""
             }
            },
            "marker": {
             "colorbar": {
              "outlinewidth": 0,
              "ticks": ""
             }
            },
            "type": "scatter3d"
           }
          ],
          "scattercarpet": [
           {
            "marker": {
             "colorbar": {
              "outlinewidth": 0,
              "ticks": ""
             }
            },
            "type": "scattercarpet"
           }
          ],
          "scattergeo": [
           {
            "marker": {
             "colorbar": {
              "outlinewidth": 0,
              "ticks": ""
             }
            },
            "type": "scattergeo"
           }
          ],
          "scattergl": [
           {
            "marker": {
             "colorbar": {
              "outlinewidth": 0,
              "ticks": ""
             }
            },
            "type": "scattergl"
           }
          ],
          "scattermapbox": [
           {
            "marker": {
             "colorbar": {
              "outlinewidth": 0,
              "ticks": ""
             }
            },
            "type": "scattermapbox"
           }
          ],
          "scatterpolar": [
           {
            "marker": {
             "colorbar": {
              "outlinewidth": 0,
              "ticks": ""
             }
            },
            "type": "scatterpolar"
           }
          ],
          "scatterpolargl": [
           {
            "marker": {
             "colorbar": {
              "outlinewidth": 0,
              "ticks": ""
             }
            },
            "type": "scatterpolargl"
           }
          ],
          "scatterternary": [
           {
            "marker": {
             "colorbar": {
              "outlinewidth": 0,
              "ticks": ""
             }
            },
            "type": "scatterternary"
           }
          ],
          "surface": [
           {
            "colorbar": {
             "outlinewidth": 0,
             "ticks": ""
            },
            "colorscale": [
             [
              0,
              "#0d0887"
             ],
             [
              0.1111111111111111,
              "#46039f"
             ],
             [
              0.2222222222222222,
              "#7201a8"
             ],
             [
              0.3333333333333333,
              "#9c179e"
             ],
             [
              0.4444444444444444,
              "#bd3786"
             ],
             [
              0.5555555555555556,
              "#d8576b"
             ],
             [
              0.6666666666666666,
              "#ed7953"
             ],
             [
              0.7777777777777778,
              "#fb9f3a"
             ],
             [
              0.8888888888888888,
              "#fdca26"
             ],
             [
              1,
              "#f0f921"
             ]
            ],
            "type": "surface"
           }
          ],
          "table": [
           {
            "cells": {
             "fill": {
              "color": "#EBF0F8"
             },
             "line": {
              "color": "white"
             }
            },
            "header": {
             "fill": {
              "color": "#C8D4E3"
             },
             "line": {
              "color": "white"
             }
            },
            "type": "table"
           }
          ]
         },
         "layout": {
          "annotationdefaults": {
           "arrowcolor": "#2a3f5f",
           "arrowhead": 0,
           "arrowwidth": 1
          },
          "autotypenumbers": "strict",
          "coloraxis": {
           "colorbar": {
            "outlinewidth": 0,
            "ticks": ""
           }
          },
          "colorscale": {
           "diverging": [
            [
             0,
             "#8e0152"
            ],
            [
             0.1,
             "#c51b7d"
            ],
            [
             0.2,
             "#de77ae"
            ],
            [
             0.3,
             "#f1b6da"
            ],
            [
             0.4,
             "#fde0ef"
            ],
            [
             0.5,
             "#f7f7f7"
            ],
            [
             0.6,
             "#e6f5d0"
            ],
            [
             0.7,
             "#b8e186"
            ],
            [
             0.8,
             "#7fbc41"
            ],
            [
             0.9,
             "#4d9221"
            ],
            [
             1,
             "#276419"
            ]
           ],
           "sequential": [
            [
             0,
             "#0d0887"
            ],
            [
             0.1111111111111111,
             "#46039f"
            ],
            [
             0.2222222222222222,
             "#7201a8"
            ],
            [
             0.3333333333333333,
             "#9c179e"
            ],
            [
             0.4444444444444444,
             "#bd3786"
            ],
            [
             0.5555555555555556,
             "#d8576b"
            ],
            [
             0.6666666666666666,
             "#ed7953"
            ],
            [
             0.7777777777777778,
             "#fb9f3a"
            ],
            [
             0.8888888888888888,
             "#fdca26"
            ],
            [
             1,
             "#f0f921"
            ]
           ],
           "sequentialminus": [
            [
             0,
             "#0d0887"
            ],
            [
             0.1111111111111111,
             "#46039f"
            ],
            [
             0.2222222222222222,
             "#7201a8"
            ],
            [
             0.3333333333333333,
             "#9c179e"
            ],
            [
             0.4444444444444444,
             "#bd3786"
            ],
            [
             0.5555555555555556,
             "#d8576b"
            ],
            [
             0.6666666666666666,
             "#ed7953"
            ],
            [
             0.7777777777777778,
             "#fb9f3a"
            ],
            [
             0.8888888888888888,
             "#fdca26"
            ],
            [
             1,
             "#f0f921"
            ]
           ]
          },
          "colorway": [
           "#636efa",
           "#EF553B",
           "#00cc96",
           "#ab63fa",
           "#FFA15A",
           "#19d3f3",
           "#FF6692",
           "#B6E880",
           "#FF97FF",
           "#FECB52"
          ],
          "font": {
           "color": "#2a3f5f"
          },
          "geo": {
           "bgcolor": "white",
           "lakecolor": "white",
           "landcolor": "#E5ECF6",
           "showlakes": true,
           "showland": true,
           "subunitcolor": "white"
          },
          "hoverlabel": {
           "align": "left"
          },
          "hovermode": "closest",
          "mapbox": {
           "style": "light"
          },
          "paper_bgcolor": "white",
          "plot_bgcolor": "#E5ECF6",
          "polar": {
           "angularaxis": {
            "gridcolor": "white",
            "linecolor": "white",
            "ticks": ""
           },
           "bgcolor": "#E5ECF6",
           "radialaxis": {
            "gridcolor": "white",
            "linecolor": "white",
            "ticks": ""
           }
          },
          "scene": {
           "xaxis": {
            "backgroundcolor": "#E5ECF6",
            "gridcolor": "white",
            "gridwidth": 2,
            "linecolor": "white",
            "showbackground": true,
            "ticks": "",
            "zerolinecolor": "white"
           },
           "yaxis": {
            "backgroundcolor": "#E5ECF6",
            "gridcolor": "white",
            "gridwidth": 2,
            "linecolor": "white",
            "showbackground": true,
            "ticks": "",
            "zerolinecolor": "white"
           },
           "zaxis": {
            "backgroundcolor": "#E5ECF6",
            "gridcolor": "white",
            "gridwidth": 2,
            "linecolor": "white",
            "showbackground": true,
            "ticks": "",
            "zerolinecolor": "white"
           }
          },
          "shapedefaults": {
           "line": {
            "color": "#2a3f5f"
           }
          },
          "ternary": {
           "aaxis": {
            "gridcolor": "white",
            "linecolor": "white",
            "ticks": ""
           },
           "baxis": {
            "gridcolor": "white",
            "linecolor": "white",
            "ticks": ""
           },
           "bgcolor": "#E5ECF6",
           "caxis": {
            "gridcolor": "white",
            "linecolor": "white",
            "ticks": ""
           }
          },
          "title": {
           "x": 0.05
          },
          "xaxis": {
           "automargin": true,
           "gridcolor": "white",
           "linecolor": "white",
           "ticks": "",
           "title": {
            "standoff": 15
           },
           "zerolinecolor": "white",
           "zerolinewidth": 2
          },
          "yaxis": {
           "automargin": true,
           "gridcolor": "white",
           "linecolor": "white",
           "ticks": "",
           "title": {
            "standoff": 15
           },
           "zerolinecolor": "white",
           "zerolinewidth": 2
          }
         }
        },
        "xaxis": {
         "anchor": "y",
         "domain": [
          0,
          1
         ],
         "title": {
          "text": "share_not_winner"
         }
        },
        "yaxis": {
         "anchor": "x",
         "domain": [
          0,
          1
         ],
         "title": {
          "text": "prob_super"
         }
        }
       }
      },
      "text/html": [
       "<div>                            <div id=\"7c0db055-8fb3-45ff-84ee-906d557397d7\" class=\"plotly-graph-div\" style=\"height:525px; width:100%;\"></div>            <script type=\"text/javascript\">                require([\"plotly\"], function(Plotly) {                    window.PLOTLYENV=window.PLOTLYENV || {};                                    if (document.getElementById(\"7c0db055-8fb3-45ff-84ee-906d557397d7\")) {                    Plotly.newPlot(                        \"7c0db055-8fb3-45ff-84ee-906d557397d7\",                        [{\"hovertemplate\":\"share_not_winner=%{x}<br>prob_super=%{y}<br>batch_size_share_mu=%{marker.color}<extra></extra>\",\"legendgroup\":\"\",\"marker\":{\"color\":[0.08,0.07,0.1,0.04,0.06,0.03,0.09,0.01,0.01,0.05,0.05,0.07,0.02,0.09,0.03,0.08,0.02,0.06,0.06,0.02,0.09,0.1,0.04,0.01,0.07,0.07,0.07,0.06,0.07,0.01,0.08,0.04,0.02,0.08,0.08,0.07,0.04,0.05,0.1,0.1,0.04,0.09,0.03,0.06,0.08,0.06,0.02,0.09,0.08,0.05,0.05,0.06,0.04,0.1,0.04,0.06,0.04,0.04,0.09,0.1,0.06,0.05,0.09,0.1,0.07,0.03,0.05,0.09,0.03,0.01,0.02,0.07,0.08,0.04,0.02,0.06,0.01,0.01,0.08,0.09,0.1,0.05,0.05,0.04,0.09,0.03,0.09,0.03,0.1,0.05,0.1,0.07,0.01,0.04,0.05,0.04,0.06,0.09,0.07,0.08,0.1,0.08,0.05,0.03,0.02,0.1,0.08,0.08,0.02,0.06,0.04,0.03,0.03,0.1,0.01,0.1,0.07,0.01,0.03,0.01,0.08,0.02,0.02,0.05,0.09,0.09,0.03,0.01,0.06,0.03,0.04,0.09,0.05,0.01,0.1,0.06,0.01,0.05,0.07,0.03,0.07,0.01,0.07,0.03,0.02,0.02,0.02,0.06,0.08,0.02],\"coloraxis\":\"coloraxis\",\"symbol\":\"circle\"},\"mode\":\"markers\",\"name\":\"\",\"orientation\":\"v\",\"showlegend\":false,\"type\":\"scatter\",\"x\":[0.442,0.22,0.499,0.401,0.548,0.392,0.25,0.024,0.083,0.342,0.342,0.212,0.082,0.63,0.176,0.443,0.107,0.276,0.278,0.166,0.252,0.668,0.47,0.115,0.3,0.596,0.582,0.373,0.155,0.115,0.326,0.108,0.32,0.315,0.591,0.553,0.46,0.247,0.181,0.38,0.102,0.589,0.164,0.207,0.222,0.143,0.272,0.453,0.624,0.181,0.122,0.4,0.306,0.353,0.136,0.197,0.164,0.198,0.332,0.28,0.138,0.249,0.162,0.272,0.221,0.081,0.187,0.33,0.081,0.073,0.328,0.168,0.158,0.199,0.106,0.499,0.047,0.17,0.229,0.458,0.186,0.176,0.466,0.228,0.619,0.108,0.187,0.076,0.194,0.127,0.271,0.416,0.232,0.149,0.504,0.295,0.131,0.332,0.405,0.591,0.62,0.324,0.241,0.23,0.09,0.376,0.45,0.247,0.135,0.374,0.319,0.132,0.256,0.483,0.075,0.65,0.408,0.043,0.354,0.18,0.151,0.189,0.041,0.128,0.26,0.449,0.409,0.028,0.203,0.183,0.109,0.169,0.512,0.103,0.48,0.275,0.101,0.325,0.291,0.265,0.297,0.161,0.161,0.12,0.211,0.06,0.161,0.551,0.174,0.059],\"xaxis\":\"x\",\"y\":[0.95,0.85,0.95,0.99,0.99,0.99,0.85,0.8,0.9,0.95,0.95,0.85,0.85,0.99,0.9,0.95,0.9,0.9,0.9,0.95,0.85,0.99,0.99,0.95,0.9,0.99,0.99,0.95,0.8,0.9,0.9,0.8,0.99,0.9,0.99,0.99,0.99,0.9,0.8,0.9,0.8,0.99,0.9,0.85,0.85,0.8,0.99,0.95,0.99,0.85,0.8,0.95,0.95,0.9,0.85,0.85,0.85,0.9,0.9,0.85,0.8,0.9,0.8,0.85,0.85,0.8,0.85,0.9,0.8,0.9,0.99,0.8,0.8,0.9,0.85,0.99,0.85,0.99,0.85,0.95,0.8,0.85,0.99,0.9,0.99,0.85,0.8,0.8,0.8,0.8,0.85,0.95,0.99,0.85,0.99,0.95,0.8,0.9,0.95,0.99,0.99,0.9,0.9,0.95,0.85,0.9,0.95,0.85,0.9,0.95,0.95,0.85,0.95,0.95,0.8,0.99,0.95,0.85,0.99,0.99,0.8,0.95,0.8,0.8,0.85,0.95,0.99,0.8,0.85,0.9,0.8,0.8,0.99,0.85,0.95,0.9,0.95,0.95,0.9,0.95,0.9,0.95,0.8,0.85,0.95,0.8,0.9,0.99,0.8,0.8],\"yaxis\":\"y\"}],                        {\"coloraxis\":{\"colorbar\":{\"title\":{\"text\":\"batch_size_share_mu\"}},\"colorscale\":[[0.0,\"#0d0887\"],[0.1111111111111111,\"#46039f\"],[0.2222222222222222,\"#7201a8\"],[0.3333333333333333,\"#9c179e\"],[0.4444444444444444,\"#bd3786\"],[0.5555555555555556,\"#d8576b\"],[0.6666666666666666,\"#ed7953\"],[0.7777777777777778,\"#fb9f3a\"],[0.8888888888888888,\"#fdca26\"],[1.0,\"#f0f921\"]]},\"legend\":{\"tracegroupgap\":0},\"margin\":{\"t\":60},\"template\":{\"data\":{\"bar\":[{\"error_x\":{\"color\":\"#2a3f5f\"},\"error_y\":{\"color\":\"#2a3f5f\"},\"marker\":{\"line\":{\"color\":\"#E5ECF6\",\"width\":0.5},\"pattern\":{\"fillmode\":\"overlay\",\"size\":10,\"solidity\":0.2}},\"type\":\"bar\"}],\"barpolar\":[{\"marker\":{\"line\":{\"color\":\"#E5ECF6\",\"width\":0.5},\"pattern\":{\"fillmode\":\"overlay\",\"size\":10,\"solidity\":0.2}},\"type\":\"barpolar\"}],\"carpet\":[{\"aaxis\":{\"endlinecolor\":\"#2a3f5f\",\"gridcolor\":\"white\",\"linecolor\":\"white\",\"minorgridcolor\":\"white\",\"startlinecolor\":\"#2a3f5f\"},\"baxis\":{\"endlinecolor\":\"#2a3f5f\",\"gridcolor\":\"white\",\"linecolor\":\"white\",\"minorgridcolor\":\"white\",\"startlinecolor\":\"#2a3f5f\"},\"type\":\"carpet\"}],\"choropleth\":[{\"colorbar\":{\"outlinewidth\":0,\"ticks\":\"\"},\"type\":\"choropleth\"}],\"contour\":[{\"colorbar\":{\"outlinewidth\":0,\"ticks\":\"\"},\"colorscale\":[[0.0,\"#0d0887\"],[0.1111111111111111,\"#46039f\"],[0.2222222222222222,\"#7201a8\"],[0.3333333333333333,\"#9c179e\"],[0.4444444444444444,\"#bd3786\"],[0.5555555555555556,\"#d8576b\"],[0.6666666666666666,\"#ed7953\"],[0.7777777777777778,\"#fb9f3a\"],[0.8888888888888888,\"#fdca26\"],[1.0,\"#f0f921\"]],\"type\":\"contour\"}],\"contourcarpet\":[{\"colorbar\":{\"outlinewidth\":0,\"ticks\":\"\"},\"type\":\"contourcarpet\"}],\"heatmap\":[{\"colorbar\":{\"outlinewidth\":0,\"ticks\":\"\"},\"colorscale\":[[0.0,\"#0d0887\"],[0.1111111111111111,\"#46039f\"],[0.2222222222222222,\"#7201a8\"],[0.3333333333333333,\"#9c179e\"],[0.4444444444444444,\"#bd3786\"],[0.5555555555555556,\"#d8576b\"],[0.6666666666666666,\"#ed7953\"],[0.7777777777777778,\"#fb9f3a\"],[0.8888888888888888,\"#fdca26\"],[1.0,\"#f0f921\"]],\"type\":\"heatmap\"}],\"heatmapgl\":[{\"colorbar\":{\"outlinewidth\":0,\"ticks\":\"\"},\"colorscale\":[[0.0,\"#0d0887\"],[0.1111111111111111,\"#46039f\"],[0.2222222222222222,\"#7201a8\"],[0.3333333333333333,\"#9c179e\"],[0.4444444444444444,\"#bd3786\"],[0.5555555555555556,\"#d8576b\"],[0.6666666666666666,\"#ed7953\"],[0.7777777777777778,\"#fb9f3a\"],[0.8888888888888888,\"#fdca26\"],[1.0,\"#f0f921\"]],\"type\":\"heatmapgl\"}],\"histogram\":[{\"marker\":{\"pattern\":{\"fillmode\":\"overlay\",\"size\":10,\"solidity\":0.2}},\"type\":\"histogram\"}],\"histogram2d\":[{\"colorbar\":{\"outlinewidth\":0,\"ticks\":\"\"},\"colorscale\":[[0.0,\"#0d0887\"],[0.1111111111111111,\"#46039f\"],[0.2222222222222222,\"#7201a8\"],[0.3333333333333333,\"#9c179e\"],[0.4444444444444444,\"#bd3786\"],[0.5555555555555556,\"#d8576b\"],[0.6666666666666666,\"#ed7953\"],[0.7777777777777778,\"#fb9f3a\"],[0.8888888888888888,\"#fdca26\"],[1.0,\"#f0f921\"]],\"type\":\"histogram2d\"}],\"histogram2dcontour\":[{\"colorbar\":{\"outlinewidth\":0,\"ticks\":\"\"},\"colorscale\":[[0.0,\"#0d0887\"],[0.1111111111111111,\"#46039f\"],[0.2222222222222222,\"#7201a8\"],[0.3333333333333333,\"#9c179e\"],[0.4444444444444444,\"#bd3786\"],[0.5555555555555556,\"#d8576b\"],[0.6666666666666666,\"#ed7953\"],[0.7777777777777778,\"#fb9f3a\"],[0.8888888888888888,\"#fdca26\"],[1.0,\"#f0f921\"]],\"type\":\"histogram2dcontour\"}],\"mesh3d\":[{\"colorbar\":{\"outlinewidth\":0,\"ticks\":\"\"},\"type\":\"mesh3d\"}],\"parcoords\":[{\"line\":{\"colorbar\":{\"outlinewidth\":0,\"ticks\":\"\"}},\"type\":\"parcoords\"}],\"pie\":[{\"automargin\":true,\"type\":\"pie\"}],\"scatter\":[{\"marker\":{\"colorbar\":{\"outlinewidth\":0,\"ticks\":\"\"}},\"type\":\"scatter\"}],\"scatter3d\":[{\"line\":{\"colorbar\":{\"outlinewidth\":0,\"ticks\":\"\"}},\"marker\":{\"colorbar\":{\"outlinewidth\":0,\"ticks\":\"\"}},\"type\":\"scatter3d\"}],\"scattercarpet\":[{\"marker\":{\"colorbar\":{\"outlinewidth\":0,\"ticks\":\"\"}},\"type\":\"scattercarpet\"}],\"scattergeo\":[{\"marker\":{\"colorbar\":{\"outlinewidth\":0,\"ticks\":\"\"}},\"type\":\"scattergeo\"}],\"scattergl\":[{\"marker\":{\"colorbar\":{\"outlinewidth\":0,\"ticks\":\"\"}},\"type\":\"scattergl\"}],\"scattermapbox\":[{\"marker\":{\"colorbar\":{\"outlinewidth\":0,\"ticks\":\"\"}},\"type\":\"scattermapbox\"}],\"scatterpolar\":[{\"marker\":{\"colorbar\":{\"outlinewidth\":0,\"ticks\":\"\"}},\"type\":\"scatterpolar\"}],\"scatterpolargl\":[{\"marker\":{\"colorbar\":{\"outlinewidth\":0,\"ticks\":\"\"}},\"type\":\"scatterpolargl\"}],\"scatterternary\":[{\"marker\":{\"colorbar\":{\"outlinewidth\":0,\"ticks\":\"\"}},\"type\":\"scatterternary\"}],\"surface\":[{\"colorbar\":{\"outlinewidth\":0,\"ticks\":\"\"},\"colorscale\":[[0.0,\"#0d0887\"],[0.1111111111111111,\"#46039f\"],[0.2222222222222222,\"#7201a8\"],[0.3333333333333333,\"#9c179e\"],[0.4444444444444444,\"#bd3786\"],[0.5555555555555556,\"#d8576b\"],[0.6666666666666666,\"#ed7953\"],[0.7777777777777778,\"#fb9f3a\"],[0.8888888888888888,\"#fdca26\"],[1.0,\"#f0f921\"]],\"type\":\"surface\"}],\"table\":[{\"cells\":{\"fill\":{\"color\":\"#EBF0F8\"},\"line\":{\"color\":\"white\"}},\"header\":{\"fill\":{\"color\":\"#C8D4E3\"},\"line\":{\"color\":\"white\"}},\"type\":\"table\"}]},\"layout\":{\"annotationdefaults\":{\"arrowcolor\":\"#2a3f5f\",\"arrowhead\":0,\"arrowwidth\":1},\"autotypenumbers\":\"strict\",\"coloraxis\":{\"colorbar\":{\"outlinewidth\":0,\"ticks\":\"\"}},\"colorscale\":{\"diverging\":[[0,\"#8e0152\"],[0.1,\"#c51b7d\"],[0.2,\"#de77ae\"],[0.3,\"#f1b6da\"],[0.4,\"#fde0ef\"],[0.5,\"#f7f7f7\"],[0.6,\"#e6f5d0\"],[0.7,\"#b8e186\"],[0.8,\"#7fbc41\"],[0.9,\"#4d9221\"],[1,\"#276419\"]],\"sequential\":[[0.0,\"#0d0887\"],[0.1111111111111111,\"#46039f\"],[0.2222222222222222,\"#7201a8\"],[0.3333333333333333,\"#9c179e\"],[0.4444444444444444,\"#bd3786\"],[0.5555555555555556,\"#d8576b\"],[0.6666666666666666,\"#ed7953\"],[0.7777777777777778,\"#fb9f3a\"],[0.8888888888888888,\"#fdca26\"],[1.0,\"#f0f921\"]],\"sequentialminus\":[[0.0,\"#0d0887\"],[0.1111111111111111,\"#46039f\"],[0.2222222222222222,\"#7201a8\"],[0.3333333333333333,\"#9c179e\"],[0.4444444444444444,\"#bd3786\"],[0.5555555555555556,\"#d8576b\"],[0.6666666666666666,\"#ed7953\"],[0.7777777777777778,\"#fb9f3a\"],[0.8888888888888888,\"#fdca26\"],[1.0,\"#f0f921\"]]},\"colorway\":[\"#636efa\",\"#EF553B\",\"#00cc96\",\"#ab63fa\",\"#FFA15A\",\"#19d3f3\",\"#FF6692\",\"#B6E880\",\"#FF97FF\",\"#FECB52\"],\"font\":{\"color\":\"#2a3f5f\"},\"geo\":{\"bgcolor\":\"white\",\"lakecolor\":\"white\",\"landcolor\":\"#E5ECF6\",\"showlakes\":true,\"showland\":true,\"subunitcolor\":\"white\"},\"hoverlabel\":{\"align\":\"left\"},\"hovermode\":\"closest\",\"mapbox\":{\"style\":\"light\"},\"paper_bgcolor\":\"white\",\"plot_bgcolor\":\"#E5ECF6\",\"polar\":{\"angularaxis\":{\"gridcolor\":\"white\",\"linecolor\":\"white\",\"ticks\":\"\"},\"bgcolor\":\"#E5ECF6\",\"radialaxis\":{\"gridcolor\":\"white\",\"linecolor\":\"white\",\"ticks\":\"\"}},\"scene\":{\"xaxis\":{\"backgroundcolor\":\"#E5ECF6\",\"gridcolor\":\"white\",\"gridwidth\":2,\"linecolor\":\"white\",\"showbackground\":true,\"ticks\":\"\",\"zerolinecolor\":\"white\"},\"yaxis\":{\"backgroundcolor\":\"#E5ECF6\",\"gridcolor\":\"white\",\"gridwidth\":2,\"linecolor\":\"white\",\"showbackground\":true,\"ticks\":\"\",\"zerolinecolor\":\"white\"},\"zaxis\":{\"backgroundcolor\":\"#E5ECF6\",\"gridcolor\":\"white\",\"gridwidth\":2,\"linecolor\":\"white\",\"showbackground\":true,\"ticks\":\"\",\"zerolinecolor\":\"white\"}},\"shapedefaults\":{\"line\":{\"color\":\"#2a3f5f\"}},\"ternary\":{\"aaxis\":{\"gridcolor\":\"white\",\"linecolor\":\"white\",\"ticks\":\"\"},\"baxis\":{\"gridcolor\":\"white\",\"linecolor\":\"white\",\"ticks\":\"\"},\"bgcolor\":\"#E5ECF6\",\"caxis\":{\"gridcolor\":\"white\",\"linecolor\":\"white\",\"ticks\":\"\"}},\"title\":{\"x\":0.05},\"xaxis\":{\"automargin\":true,\"gridcolor\":\"white\",\"linecolor\":\"white\",\"ticks\":\"\",\"title\":{\"standoff\":15},\"zerolinecolor\":\"white\",\"zerolinewidth\":2},\"yaxis\":{\"automargin\":true,\"gridcolor\":\"white\",\"linecolor\":\"white\",\"ticks\":\"\",\"title\":{\"standoff\":15},\"zerolinecolor\":\"white\",\"zerolinewidth\":2}}},\"xaxis\":{\"anchor\":\"y\",\"domain\":[0.0,1.0],\"title\":{\"text\":\"share_not_winner\"}},\"yaxis\":{\"anchor\":\"x\",\"domain\":[0.0,1.0],\"title\":{\"text\":\"prob_super\"}}},                        {\"responsive\": true}                    ).then(function(){\n",
       "                            \n",
       "var gd = document.getElementById('7c0db055-8fb3-45ff-84ee-906d557397d7');\n",
       "var x = new MutationObserver(function (mutations, observer) {{\n",
       "        var display = window.getComputedStyle(gd).display;\n",
       "        if (!display || display === 'none') {{\n",
       "            console.log([gd, 'removed!']);\n",
       "            Plotly.purge(gd);\n",
       "            observer.disconnect();\n",
       "        }}\n",
       "}});\n",
       "\n",
       "// Listen for the removal of the full notebook cells\n",
       "var notebookContainer = gd.closest('#notebook-container');\n",
       "if (notebookContainer) {{\n",
       "    x.observe(notebookContainer, {childList: true});\n",
       "}}\n",
       "\n",
       "// Listen for the clearing of the current output cell\n",
       "var outputEl = gd.closest('.output');\n",
       "if (outputEl) {{\n",
       "    x.observe(outputEl, {childList: true});\n",
       "}}\n",
       "\n",
       "                        })                };                });            </script>        </div>"
      ]
     },
     "metadata": {},
     "output_type": "display_data"
    }
   ],
   "source": [
    "plot_df = thompson_results_df.query(\"\"\"mde == '0' & multi_armed == 'True'\"\"\").reset_index()[\n",
    "    ['share_not_winner', \"prob_super\",'batch_size_share_mu']].astype(float)\n",
    "fig = px.scatter(plot_df, x=\"share_not_winner\", y=\"prob_super\", color=\"batch_size_share_mu\")\n",
    "fig.show()"
   ]
  },
  {
   "cell_type": "code",
   "execution_count": 103,
   "metadata": {
    "scrolled": true
   },
   "outputs": [
    {
     "data": {
      "application/vnd.plotly.v1+json": {
       "config": {
        "plotlyServerURL": "https://plot.ly"
       },
       "data": [
        {
         "hovertemplate": "share_test_winner=%{x}<br>prob_super=%{y}<br>batch_size_share_mu=%{marker.color}<extra></extra>",
         "legendgroup": "",
         "marker": {
          "color": [
           0.09,
           0.01,
           0.1,
           0.08,
           0.04,
           0.01,
           0.05,
           0.04,
           0.06,
           0.04,
           0.05,
           0.05,
           0.03,
           0.07,
           0.07,
           0.07,
           0.01,
           0.1,
           0.06,
           0.09,
           0.08,
           0.08,
           0.03,
           0.1,
           0.01,
           0.04,
           0.04,
           0.09,
           0.1,
           0.08,
           0.01,
           0.07,
           0.04,
           0.1,
           0.04,
           0.03,
           0.06,
           0.03,
           0.08,
           0.07,
           0.09,
           0.1,
           0.01,
           0.08,
           0.02,
           0.05,
           0.02,
           0.1,
           0.09,
           0.08,
           0.02,
           0.08,
           0.03,
           0.04,
           0.06,
           0.04,
           0.07,
           0.07,
           0.03,
           0.01,
           0.09,
           0.03,
           0.06,
           0.08,
           0.07,
           0.05,
           0.05,
           0.05,
           0.08,
           0.02,
           0.09,
           0.05,
           0.06,
           0.1,
           0.1,
           0.05,
           0.01,
           0.06,
           0.07,
           0.03,
           0.05,
           0.04,
           0.06,
           0.01,
           0.04,
           0.09,
           0.07,
           0.05,
           0.07,
           0.08,
           0.08,
           0.04,
           0.03,
           0.07,
           0.06,
           0.05,
           0.09,
           0.05,
           0.01,
           0.06,
           0.1,
           0.03,
           0.09,
           0.03,
           0.09,
           0.02,
           0.08,
           0.06,
           0.05,
           0.03,
           0.05,
           0.01,
           0.1,
           0.02,
           0.09,
           0.03,
           0.06,
           0.03,
           0.09,
           0.01,
           0.04,
           0.1,
           0.09,
           0.06,
           0.03,
           0.07,
           0.02,
           0.1,
           0.04,
           0.1,
           0.02,
           0.01,
           0.03,
           0.04,
           0.02,
           0.09,
           0.07,
           0.05,
           0.02,
           0.1,
           0.05,
           0.02,
           0.03,
           0.02,
           0.08,
           0.03,
           0.08,
           0.02,
           0.04,
           0.05,
           0.03,
           0.02,
           0.01,
           0.03,
           0.05,
           0.06,
           0.06,
           0.01,
           0.02,
           0.02,
           0.04,
           0.02,
           0.1,
           0.05,
           0.01,
           0.07,
           0.04,
           0.09,
           0.02,
           0.02,
           0.03,
           0.03,
           0.09,
           0.04,
           0.1,
           0.07,
           0.03,
           0.06,
           0.1,
           0.08,
           0.07,
           0.03,
           0.09,
           0.01,
           0.06,
           0.04,
           0.06,
           0.09,
           0.1,
           0.07,
           0.01,
           0.03,
           0.01,
           0.06,
           0.1,
           0.09,
           0.02,
           0.05,
           0.09,
           0.09,
           0.02,
           0.09,
           0.06,
           0.04,
           0.06,
           0.01,
           0.02,
           0.01,
           0.06,
           0.02,
           0.09,
           0.1,
           0.02,
           0.07,
           0.05,
           0.1,
           0.01,
           0.08,
           0.06,
           0.02,
           0.07,
           0.1,
           0.07,
           0.01,
           0.03,
           0.08,
           0.1,
           0.07,
           0.02,
           0.07,
           0.04,
           0.05,
           0.04,
           0.1,
           0.08,
           0.02,
           0.1,
           0.06,
           0.06,
           0.09,
           0.01,
           0.09,
           0.03,
           0.04,
           0.08,
           0.02,
           0.06,
           0.03,
           0.06,
           0.08,
           0.04,
           0.09,
           0.04,
           0.08,
           0.05,
           0.05,
           0.08,
           0.07,
           0.05,
           0.04,
           0.05,
           0.07,
           0.04,
           0.08,
           0.01,
           0.05,
           0.08,
           0.05,
           0.05,
           0.07,
           0.06,
           0.07,
           0.04,
           0.08,
           0.07,
           0.01,
           0.08,
           0.08,
           0.02,
           0.1,
           0.04,
           0.07,
           0.09,
           0.1,
           0.1,
           0.03,
           0.09,
           0.07,
           0.09,
           0.01,
           0.1,
           0.06,
           0.06,
           0.01,
           0.08,
           0.08,
           0.02,
           0.03,
           0.01,
           0.01
          ],
          "coloraxis": "coloraxis",
          "symbol": "circle"
         },
         "mode": "markers",
         "name": "",
         "orientation": "v",
         "showlegend": false,
         "type": "scatter",
         "x": [
          0.587,
          0.568,
          0.825,
          0.775,
          0.74,
          0.599,
          0.641,
          0.688,
          0.728,
          0.69,
          0.747,
          0.651,
          0.703,
          0.746,
          0.807,
          0.791,
          0.584,
          0.603,
          0.571,
          0.603,
          0.592,
          0.81,
          0.676,
          0.719,
          0.628,
          0.671,
          0.733,
          0.781,
          0.821,
          0.787,
          0.564,
          0.79,
          0.742,
          0.826,
          0.716,
          0.679,
          0.785,
          0.697,
          0.567,
          0.774,
          0.739,
          0.805,
          0.596,
          0.691,
          0.691,
          0.574,
          0.57,
          0.79,
          0.687,
          0.818,
          0.684,
          0.74,
          0.564,
          0.734,
          0.579,
          0.55,
          0.669,
          0.711,
          0.689,
          0.641,
          0.811,
          0.656,
          0.784,
          0.797,
          0.783,
          0.772,
          0.693,
          0.758,
          0.767,
          0.628,
          0.592,
          0.734,
          0.69,
          0.59,
          0.587,
          0.779,
          0.633,
          0.669,
          0.676,
          0.69,
          0.661,
          0.575,
          0.677,
          0.606,
          0.636,
          0.709,
          0.691,
          0.721,
          0.735,
          0.744,
          0.689,
          0.58,
          0.541,
          0.575,
          0.743,
          0.567,
          0.818,
          0.679,
          0.619,
          0.59,
          0.692,
          0.643,
          0.791,
          0.705,
          0.795,
          0.646,
          0.709,
          0.754,
          0.756,
          0.673,
          0.663,
          0.645,
          0.814,
          0.532,
          0.822,
          0.626,
          0.782,
          0.636,
          0.765,
          0.539,
          0.651,
          0.785,
          0.792,
          0.725,
          0.541,
          0.741,
          0.542,
          0.763,
          0.728,
          0.829,
          0.658,
          0.619,
          0.581,
          0.708,
          0.656,
          0.764,
          0.594,
          0.576,
          0.653,
          0.773,
          0.774,
          0.59,
          0.682,
          0.668,
          0.748,
          0.655,
          0.797,
          0.688,
          0.686,
          0.751,
          0.651,
          0.533,
          0.635,
          0.712,
          0.67,
          0.752,
          0.761,
          0.63,
          0.643,
          0.618,
          0.591,
          0.655,
          0.691,
          0.745,
          0.521,
          0.678,
          0.748,
          0.805,
          0.565,
          0.643,
          0.648,
          0.678,
          0.741,
          0.689,
          0.751,
          0.759,
          0.728,
          0.786,
          0.718,
          0.595,
          0.788,
          0.685,
          0.71,
          0.627,
          0.708,
          0.665,
          0.556,
          0.761,
          0.58,
          0.746,
          0.605,
          0.603,
          0.619,
          0.656,
          0.709,
          0.786,
          0.652,
          0.7,
          0.589,
          0.706,
          0.628,
          0.816,
          0.69,
          0.563,
          0.594,
          0.549,
          0.588,
          0.644,
          0.591,
          0.663,
          0.779,
          0.582,
          0.636,
          0.69,
          0.741,
          0.775,
          0.574,
          0.575,
          0.737,
          0.549,
          0.576,
          0.611,
          0.593,
          0.525,
          0.554,
          0.685,
          0.805,
          0.767,
          0.617,
          0.68,
          0.714,
          0.591,
          0.714,
          0.84,
          0.585,
          0.613,
          0.793,
          0.676,
          0.75,
          0.825,
          0.609,
          0.76,
          0.705,
          0.726,
          0.597,
          0.681,
          0.727,
          0.609,
          0.726,
          0.775,
          0.72,
          0.564,
          0.664,
          0.708,
          0.701,
          0.729,
          0.761,
          0.743,
          0.713,
          0.712,
          0.584,
          0.588,
          0.55,
          0.785,
          0.66,
          0.702,
          0.748,
          0.713,
          0.557,
          0.776,
          0.769,
          0.765,
          0.635,
          0.81,
          0.762,
          0.59,
          0.778,
          0.787,
          0.671,
          0.767,
          0.65,
          0.794,
          0.71,
          0.829,
          0.767,
          0.621,
          0.591,
          0.575,
          0.695,
          0.586,
          0.722,
          0.795,
          0.784,
          0.616,
          0.727,
          0.686,
          0.599,
          0.557,
          0.572,
          0.603
         ],
         "xaxis": "x",
         "y": [
          0.99,
          0.99,
          0.8,
          0.85,
          0.8,
          0.85,
          0.95,
          0.9,
          0.9,
          0.9,
          0.8,
          0.95,
          0.85,
          0.9,
          0.8,
          0.8,
          0.95,
          0.99,
          0.99,
          0.99,
          0.99,
          0.8,
          0.85,
          0.95,
          0.9,
          0.9,
          0.8,
          0.85,
          0.8,
          0.85,
          0.99,
          0.8,
          0.8,
          0.8,
          0.85,
          0.9,
          0.8,
          0.8,
          0.99,
          0.85,
          0.9,
          0.85,
          0.95,
          0.95,
          0.8,
          0.99,
          0.99,
          0.85,
          0.95,
          0.8,
          0.85,
          0.9,
          0.99,
          0.8,
          0.99,
          0.99,
          0.95,
          0.9,
          0.85,
          0.85,
          0.8,
          0.9,
          0.8,
          0.8,
          0.85,
          0.8,
          0.9,
          0.8,
          0.85,
          0.9,
          0.99,
          0.85,
          0.95,
          0.99,
          0.99,
          0.8,
          0.8,
          0.95,
          0.95,
          0.8,
          0.95,
          0.99,
          0.95,
          0.9,
          0.95,
          0.95,
          0.95,
          0.9,
          0.9,
          0.9,
          0.95,
          0.99,
          0.99,
          0.99,
          0.85,
          0.99,
          0.8,
          0.95,
          0.85,
          0.99,
          0.95,
          0.95,
          0.85,
          0.8,
          0.85,
          0.9,
          0.95,
          0.85,
          0.85,
          0.85,
          0.95,
          0.85,
          0.8,
          0.99,
          0.8,
          0.95,
          0.85,
          0.95,
          0.9,
          0.99,
          0.95,
          0.85,
          0.85,
          0.9,
          0.99,
          0.85,
          0.99,
          0.9,
          0.85,
          0.85,
          0.9,
          0.85,
          0.99,
          0.85,
          0.8,
          0.9,
          0.99,
          0.99,
          0.85,
          0.9,
          0.8,
          0.95,
          0.9,
          0.85,
          0.9,
          0.9,
          0.8,
          0.8,
          0.9,
          0.85,
          0.9,
          0.99,
          0.8,
          0.85,
          0.95,
          0.85,
          0.85,
          0.9,
          0.9,
          0.9,
          0.99,
          0.85,
          0.95,
          0.8,
          0.99,
          0.95,
          0.8,
          0.8,
          0.99,
          0.85,
          0.9,
          0.85,
          0.9,
          0.9,
          0.9,
          0.9,
          0.8,
          0.8,
          0.95,
          0.99,
          0.8,
          0.8,
          0.95,
          0.8,
          0.9,
          0.95,
          0.99,
          0.9,
          0.99,
          0.9,
          0.95,
          0.95,
          0.8,
          0.95,
          0.95,
          0.85,
          0.85,
          0.9,
          0.99,
          0.95,
          0.95,
          0.8,
          0.95,
          0.99,
          0.99,
          0.99,
          0.95,
          0.8,
          0.99,
          0.8,
          0.85,
          0.99,
          0.9,
          0.95,
          0.85,
          0.9,
          0.95,
          0.99,
          0.9,
          0.99,
          0.99,
          0.99,
          0.99,
          0.99,
          0.99,
          0.95,
          0.85,
          0.8,
          0.95,
          0.95,
          0.9,
          0.99,
          0.85,
          0.8,
          0.99,
          0.95,
          0.85,
          0.95,
          0.85,
          0.8,
          0.95,
          0.9,
          0.8,
          0.8,
          0.99,
          0.8,
          0.9,
          0.95,
          0.9,
          0.85,
          0.85,
          0.99,
          0.95,
          0.95,
          0.9,
          0.85,
          0.9,
          0.9,
          0.9,
          0.85,
          0.99,
          0.99,
          0.99,
          0.8,
          0.8,
          0.9,
          0.9,
          0.85,
          0.99,
          0.85,
          0.8,
          0.85,
          0.95,
          0.8,
          0.85,
          0.9,
          0.85,
          0.85,
          0.8,
          0.9,
          0.95,
          0.8,
          0.95,
          0.8,
          0.9,
          0.95,
          0.99,
          0.99,
          0.95,
          0.9,
          0.95,
          0.8,
          0.8,
          0.85,
          0.9,
          0.95,
          0.95,
          0.99,
          0.95,
          0.9
         ],
         "yaxis": "y"
        }
       ],
       "layout": {
        "coloraxis": {
         "colorbar": {
          "title": {
           "text": "batch_size_share_mu"
          }
         },
         "colorscale": [
          [
           0,
           "#0d0887"
          ],
          [
           0.1111111111111111,
           "#46039f"
          ],
          [
           0.2222222222222222,
           "#7201a8"
          ],
          [
           0.3333333333333333,
           "#9c179e"
          ],
          [
           0.4444444444444444,
           "#bd3786"
          ],
          [
           0.5555555555555556,
           "#d8576b"
          ],
          [
           0.6666666666666666,
           "#ed7953"
          ],
          [
           0.7777777777777778,
           "#fb9f3a"
          ],
          [
           0.8888888888888888,
           "#fdca26"
          ],
          [
           1,
           "#f0f921"
          ]
         ]
        },
        "legend": {
         "tracegroupgap": 0
        },
        "margin": {
         "t": 60
        },
        "template": {
         "data": {
          "bar": [
           {
            "error_x": {
             "color": "#2a3f5f"
            },
            "error_y": {
             "color": "#2a3f5f"
            },
            "marker": {
             "line": {
              "color": "#E5ECF6",
              "width": 0.5
             },
             "pattern": {
              "fillmode": "overlay",
              "size": 10,
              "solidity": 0.2
             }
            },
            "type": "bar"
           }
          ],
          "barpolar": [
           {
            "marker": {
             "line": {
              "color": "#E5ECF6",
              "width": 0.5
             },
             "pattern": {
              "fillmode": "overlay",
              "size": 10,
              "solidity": 0.2
             }
            },
            "type": "barpolar"
           }
          ],
          "carpet": [
           {
            "aaxis": {
             "endlinecolor": "#2a3f5f",
             "gridcolor": "white",
             "linecolor": "white",
             "minorgridcolor": "white",
             "startlinecolor": "#2a3f5f"
            },
            "baxis": {
             "endlinecolor": "#2a3f5f",
             "gridcolor": "white",
             "linecolor": "white",
             "minorgridcolor": "white",
             "startlinecolor": "#2a3f5f"
            },
            "type": "carpet"
           }
          ],
          "choropleth": [
           {
            "colorbar": {
             "outlinewidth": 0,
             "ticks": ""
            },
            "type": "choropleth"
           }
          ],
          "contour": [
           {
            "colorbar": {
             "outlinewidth": 0,
             "ticks": ""
            },
            "colorscale": [
             [
              0,
              "#0d0887"
             ],
             [
              0.1111111111111111,
              "#46039f"
             ],
             [
              0.2222222222222222,
              "#7201a8"
             ],
             [
              0.3333333333333333,
              "#9c179e"
             ],
             [
              0.4444444444444444,
              "#bd3786"
             ],
             [
              0.5555555555555556,
              "#d8576b"
             ],
             [
              0.6666666666666666,
              "#ed7953"
             ],
             [
              0.7777777777777778,
              "#fb9f3a"
             ],
             [
              0.8888888888888888,
              "#fdca26"
             ],
             [
              1,
              "#f0f921"
             ]
            ],
            "type": "contour"
           }
          ],
          "contourcarpet": [
           {
            "colorbar": {
             "outlinewidth": 0,
             "ticks": ""
            },
            "type": "contourcarpet"
           }
          ],
          "heatmap": [
           {
            "colorbar": {
             "outlinewidth": 0,
             "ticks": ""
            },
            "colorscale": [
             [
              0,
              "#0d0887"
             ],
             [
              0.1111111111111111,
              "#46039f"
             ],
             [
              0.2222222222222222,
              "#7201a8"
             ],
             [
              0.3333333333333333,
              "#9c179e"
             ],
             [
              0.4444444444444444,
              "#bd3786"
             ],
             [
              0.5555555555555556,
              "#d8576b"
             ],
             [
              0.6666666666666666,
              "#ed7953"
             ],
             [
              0.7777777777777778,
              "#fb9f3a"
             ],
             [
              0.8888888888888888,
              "#fdca26"
             ],
             [
              1,
              "#f0f921"
             ]
            ],
            "type": "heatmap"
           }
          ],
          "heatmapgl": [
           {
            "colorbar": {
             "outlinewidth": 0,
             "ticks": ""
            },
            "colorscale": [
             [
              0,
              "#0d0887"
             ],
             [
              0.1111111111111111,
              "#46039f"
             ],
             [
              0.2222222222222222,
              "#7201a8"
             ],
             [
              0.3333333333333333,
              "#9c179e"
             ],
             [
              0.4444444444444444,
              "#bd3786"
             ],
             [
              0.5555555555555556,
              "#d8576b"
             ],
             [
              0.6666666666666666,
              "#ed7953"
             ],
             [
              0.7777777777777778,
              "#fb9f3a"
             ],
             [
              0.8888888888888888,
              "#fdca26"
             ],
             [
              1,
              "#f0f921"
             ]
            ],
            "type": "heatmapgl"
           }
          ],
          "histogram": [
           {
            "marker": {
             "pattern": {
              "fillmode": "overlay",
              "size": 10,
              "solidity": 0.2
             }
            },
            "type": "histogram"
           }
          ],
          "histogram2d": [
           {
            "colorbar": {
             "outlinewidth": 0,
             "ticks": ""
            },
            "colorscale": [
             [
              0,
              "#0d0887"
             ],
             [
              0.1111111111111111,
              "#46039f"
             ],
             [
              0.2222222222222222,
              "#7201a8"
             ],
             [
              0.3333333333333333,
              "#9c179e"
             ],
             [
              0.4444444444444444,
              "#bd3786"
             ],
             [
              0.5555555555555556,
              "#d8576b"
             ],
             [
              0.6666666666666666,
              "#ed7953"
             ],
             [
              0.7777777777777778,
              "#fb9f3a"
             ],
             [
              0.8888888888888888,
              "#fdca26"
             ],
             [
              1,
              "#f0f921"
             ]
            ],
            "type": "histogram2d"
           }
          ],
          "histogram2dcontour": [
           {
            "colorbar": {
             "outlinewidth": 0,
             "ticks": ""
            },
            "colorscale": [
             [
              0,
              "#0d0887"
             ],
             [
              0.1111111111111111,
              "#46039f"
             ],
             [
              0.2222222222222222,
              "#7201a8"
             ],
             [
              0.3333333333333333,
              "#9c179e"
             ],
             [
              0.4444444444444444,
              "#bd3786"
             ],
             [
              0.5555555555555556,
              "#d8576b"
             ],
             [
              0.6666666666666666,
              "#ed7953"
             ],
             [
              0.7777777777777778,
              "#fb9f3a"
             ],
             [
              0.8888888888888888,
              "#fdca26"
             ],
             [
              1,
              "#f0f921"
             ]
            ],
            "type": "histogram2dcontour"
           }
          ],
          "mesh3d": [
           {
            "colorbar": {
             "outlinewidth": 0,
             "ticks": ""
            },
            "type": "mesh3d"
           }
          ],
          "parcoords": [
           {
            "line": {
             "colorbar": {
              "outlinewidth": 0,
              "ticks": ""
             }
            },
            "type": "parcoords"
           }
          ],
          "pie": [
           {
            "automargin": true,
            "type": "pie"
           }
          ],
          "scatter": [
           {
            "marker": {
             "colorbar": {
              "outlinewidth": 0,
              "ticks": ""
             }
            },
            "type": "scatter"
           }
          ],
          "scatter3d": [
           {
            "line": {
             "colorbar": {
              "outlinewidth": 0,
              "ticks": ""
             }
            },
            "marker": {
             "colorbar": {
              "outlinewidth": 0,
              "ticks": ""
             }
            },
            "type": "scatter3d"
           }
          ],
          "scattercarpet": [
           {
            "marker": {
             "colorbar": {
              "outlinewidth": 0,
              "ticks": ""
             }
            },
            "type": "scattercarpet"
           }
          ],
          "scattergeo": [
           {
            "marker": {
             "colorbar": {
              "outlinewidth": 0,
              "ticks": ""
             }
            },
            "type": "scattergeo"
           }
          ],
          "scattergl": [
           {
            "marker": {
             "colorbar": {
              "outlinewidth": 0,
              "ticks": ""
             }
            },
            "type": "scattergl"
           }
          ],
          "scattermapbox": [
           {
            "marker": {
             "colorbar": {
              "outlinewidth": 0,
              "ticks": ""
             }
            },
            "type": "scattermapbox"
           }
          ],
          "scatterpolar": [
           {
            "marker": {
             "colorbar": {
              "outlinewidth": 0,
              "ticks": ""
             }
            },
            "type": "scatterpolar"
           }
          ],
          "scatterpolargl": [
           {
            "marker": {
             "colorbar": {
              "outlinewidth": 0,
              "ticks": ""
             }
            },
            "type": "scatterpolargl"
           }
          ],
          "scatterternary": [
           {
            "marker": {
             "colorbar": {
              "outlinewidth": 0,
              "ticks": ""
             }
            },
            "type": "scatterternary"
           }
          ],
          "surface": [
           {
            "colorbar": {
             "outlinewidth": 0,
             "ticks": ""
            },
            "colorscale": [
             [
              0,
              "#0d0887"
             ],
             [
              0.1111111111111111,
              "#46039f"
             ],
             [
              0.2222222222222222,
              "#7201a8"
             ],
             [
              0.3333333333333333,
              "#9c179e"
             ],
             [
              0.4444444444444444,
              "#bd3786"
             ],
             [
              0.5555555555555556,
              "#d8576b"
             ],
             [
              0.6666666666666666,
              "#ed7953"
             ],
             [
              0.7777777777777778,
              "#fb9f3a"
             ],
             [
              0.8888888888888888,
              "#fdca26"
             ],
             [
              1,
              "#f0f921"
             ]
            ],
            "type": "surface"
           }
          ],
          "table": [
           {
            "cells": {
             "fill": {
              "color": "#EBF0F8"
             },
             "line": {
              "color": "white"
             }
            },
            "header": {
             "fill": {
              "color": "#C8D4E3"
             },
             "line": {
              "color": "white"
             }
            },
            "type": "table"
           }
          ]
         },
         "layout": {
          "annotationdefaults": {
           "arrowcolor": "#2a3f5f",
           "arrowhead": 0,
           "arrowwidth": 1
          },
          "autotypenumbers": "strict",
          "coloraxis": {
           "colorbar": {
            "outlinewidth": 0,
            "ticks": ""
           }
          },
          "colorscale": {
           "diverging": [
            [
             0,
             "#8e0152"
            ],
            [
             0.1,
             "#c51b7d"
            ],
            [
             0.2,
             "#de77ae"
            ],
            [
             0.3,
             "#f1b6da"
            ],
            [
             0.4,
             "#fde0ef"
            ],
            [
             0.5,
             "#f7f7f7"
            ],
            [
             0.6,
             "#e6f5d0"
            ],
            [
             0.7,
             "#b8e186"
            ],
            [
             0.8,
             "#7fbc41"
            ],
            [
             0.9,
             "#4d9221"
            ],
            [
             1,
             "#276419"
            ]
           ],
           "sequential": [
            [
             0,
             "#0d0887"
            ],
            [
             0.1111111111111111,
             "#46039f"
            ],
            [
             0.2222222222222222,
             "#7201a8"
            ],
            [
             0.3333333333333333,
             "#9c179e"
            ],
            [
             0.4444444444444444,
             "#bd3786"
            ],
            [
             0.5555555555555556,
             "#d8576b"
            ],
            [
             0.6666666666666666,
             "#ed7953"
            ],
            [
             0.7777777777777778,
             "#fb9f3a"
            ],
            [
             0.8888888888888888,
             "#fdca26"
            ],
            [
             1,
             "#f0f921"
            ]
           ],
           "sequentialminus": [
            [
             0,
             "#0d0887"
            ],
            [
             0.1111111111111111,
             "#46039f"
            ],
            [
             0.2222222222222222,
             "#7201a8"
            ],
            [
             0.3333333333333333,
             "#9c179e"
            ],
            [
             0.4444444444444444,
             "#bd3786"
            ],
            [
             0.5555555555555556,
             "#d8576b"
            ],
            [
             0.6666666666666666,
             "#ed7953"
            ],
            [
             0.7777777777777778,
             "#fb9f3a"
            ],
            [
             0.8888888888888888,
             "#fdca26"
            ],
            [
             1,
             "#f0f921"
            ]
           ]
          },
          "colorway": [
           "#636efa",
           "#EF553B",
           "#00cc96",
           "#ab63fa",
           "#FFA15A",
           "#19d3f3",
           "#FF6692",
           "#B6E880",
           "#FF97FF",
           "#FECB52"
          ],
          "font": {
           "color": "#2a3f5f"
          },
          "geo": {
           "bgcolor": "white",
           "lakecolor": "white",
           "landcolor": "#E5ECF6",
           "showlakes": true,
           "showland": true,
           "subunitcolor": "white"
          },
          "hoverlabel": {
           "align": "left"
          },
          "hovermode": "closest",
          "mapbox": {
           "style": "light"
          },
          "paper_bgcolor": "white",
          "plot_bgcolor": "#E5ECF6",
          "polar": {
           "angularaxis": {
            "gridcolor": "white",
            "linecolor": "white",
            "ticks": ""
           },
           "bgcolor": "#E5ECF6",
           "radialaxis": {
            "gridcolor": "white",
            "linecolor": "white",
            "ticks": ""
           }
          },
          "scene": {
           "xaxis": {
            "backgroundcolor": "#E5ECF6",
            "gridcolor": "white",
            "gridwidth": 2,
            "linecolor": "white",
            "showbackground": true,
            "ticks": "",
            "zerolinecolor": "white"
           },
           "yaxis": {
            "backgroundcolor": "#E5ECF6",
            "gridcolor": "white",
            "gridwidth": 2,
            "linecolor": "white",
            "showbackground": true,
            "ticks": "",
            "zerolinecolor": "white"
           },
           "zaxis": {
            "backgroundcolor": "#E5ECF6",
            "gridcolor": "white",
            "gridwidth": 2,
            "linecolor": "white",
            "showbackground": true,
            "ticks": "",
            "zerolinecolor": "white"
           }
          },
          "shapedefaults": {
           "line": {
            "color": "#2a3f5f"
           }
          },
          "ternary": {
           "aaxis": {
            "gridcolor": "white",
            "linecolor": "white",
            "ticks": ""
           },
           "baxis": {
            "gridcolor": "white",
            "linecolor": "white",
            "ticks": ""
           },
           "bgcolor": "#E5ECF6",
           "caxis": {
            "gridcolor": "white",
            "linecolor": "white",
            "ticks": ""
           }
          },
          "title": {
           "x": 0.05
          },
          "xaxis": {
           "automargin": true,
           "gridcolor": "white",
           "linecolor": "white",
           "ticks": "",
           "title": {
            "standoff": 15
           },
           "zerolinecolor": "white",
           "zerolinewidth": 2
          },
          "yaxis": {
           "automargin": true,
           "gridcolor": "white",
           "linecolor": "white",
           "ticks": "",
           "title": {
            "standoff": 15
           },
           "zerolinecolor": "white",
           "zerolinewidth": 2
          }
         }
        },
        "xaxis": {
         "anchor": "y",
         "domain": [
          0,
          1
         ],
         "title": {
          "text": "share_test_winner"
         }
        },
        "yaxis": {
         "anchor": "x",
         "domain": [
          0,
          1
         ],
         "title": {
          "text": "prob_super"
         }
        }
       }
      },
      "text/html": [
       "<div>                            <div id=\"f2900cb5-178f-47ae-87f1-80e4ea123b39\" class=\"plotly-graph-div\" style=\"height:525px; width:100%;\"></div>            <script type=\"text/javascript\">                require([\"plotly\"], function(Plotly) {                    window.PLOTLYENV=window.PLOTLYENV || {};                                    if (document.getElementById(\"f2900cb5-178f-47ae-87f1-80e4ea123b39\")) {                    Plotly.newPlot(                        \"f2900cb5-178f-47ae-87f1-80e4ea123b39\",                        [{\"hovertemplate\":\"share_test_winner=%{x}<br>prob_super=%{y}<br>batch_size_share_mu=%{marker.color}<extra></extra>\",\"legendgroup\":\"\",\"marker\":{\"color\":[0.09,0.01,0.1,0.08,0.04,0.01,0.05,0.04,0.06,0.04,0.05,0.05,0.03,0.07,0.07,0.07,0.01,0.1,0.06,0.09,0.08,0.08,0.03,0.1,0.01,0.04,0.04,0.09,0.1,0.08,0.01,0.07,0.04,0.1,0.04,0.03,0.06,0.03,0.08,0.07,0.09,0.1,0.01,0.08,0.02,0.05,0.02,0.1,0.09,0.08,0.02,0.08,0.03,0.04,0.06,0.04,0.07,0.07,0.03,0.01,0.09,0.03,0.06,0.08,0.07,0.05,0.05,0.05,0.08,0.02,0.09,0.05,0.06,0.1,0.1,0.05,0.01,0.06,0.07,0.03,0.05,0.04,0.06,0.01,0.04,0.09,0.07,0.05,0.07,0.08,0.08,0.04,0.03,0.07,0.06,0.05,0.09,0.05,0.01,0.06,0.1,0.03,0.09,0.03,0.09,0.02,0.08,0.06,0.05,0.03,0.05,0.01,0.1,0.02,0.09,0.03,0.06,0.03,0.09,0.01,0.04,0.1,0.09,0.06,0.03,0.07,0.02,0.1,0.04,0.1,0.02,0.01,0.03,0.04,0.02,0.09,0.07,0.05,0.02,0.1,0.05,0.02,0.03,0.02,0.08,0.03,0.08,0.02,0.04,0.05,0.03,0.02,0.01,0.03,0.05,0.06,0.06,0.01,0.02,0.02,0.04,0.02,0.1,0.05,0.01,0.07,0.04,0.09,0.02,0.02,0.03,0.03,0.09,0.04,0.1,0.07,0.03,0.06,0.1,0.08,0.07,0.03,0.09,0.01,0.06,0.04,0.06,0.09,0.1,0.07,0.01,0.03,0.01,0.06,0.1,0.09,0.02,0.05,0.09,0.09,0.02,0.09,0.06,0.04,0.06,0.01,0.02,0.01,0.06,0.02,0.09,0.1,0.02,0.07,0.05,0.1,0.01,0.08,0.06,0.02,0.07,0.1,0.07,0.01,0.03,0.08,0.1,0.07,0.02,0.07,0.04,0.05,0.04,0.1,0.08,0.02,0.1,0.06,0.06,0.09,0.01,0.09,0.03,0.04,0.08,0.02,0.06,0.03,0.06,0.08,0.04,0.09,0.04,0.08,0.05,0.05,0.08,0.07,0.05,0.04,0.05,0.07,0.04,0.08,0.01,0.05,0.08,0.05,0.05,0.07,0.06,0.07,0.04,0.08,0.07,0.01,0.08,0.08,0.02,0.1,0.04,0.07,0.09,0.1,0.1,0.03,0.09,0.07,0.09,0.01,0.1,0.06,0.06,0.01,0.08,0.08,0.02,0.03,0.01,0.01],\"coloraxis\":\"coloraxis\",\"symbol\":\"circle\"},\"mode\":\"markers\",\"name\":\"\",\"orientation\":\"v\",\"showlegend\":false,\"type\":\"scatter\",\"x\":[0.587,0.568,0.825,0.775,0.74,0.599,0.641,0.688,0.728,0.69,0.747,0.651,0.703,0.746,0.807,0.791,0.584,0.603,0.571,0.603,0.592,0.81,0.676,0.719,0.628,0.671,0.733,0.781,0.821,0.787,0.564,0.79,0.742,0.826,0.716,0.679,0.785,0.697,0.567,0.774,0.739,0.805,0.596,0.691,0.691,0.574,0.57,0.79,0.687,0.818,0.684,0.74,0.564,0.734,0.579,0.55,0.669,0.711,0.689,0.641,0.811,0.656,0.784,0.797,0.783,0.772,0.693,0.758,0.767,0.628,0.592,0.734,0.69,0.59,0.587,0.779,0.633,0.669,0.676,0.69,0.661,0.575,0.677,0.606,0.636,0.709,0.691,0.721,0.735,0.744,0.689,0.58,0.541,0.575,0.743,0.567,0.818,0.679,0.619,0.59,0.692,0.643,0.791,0.705,0.795,0.646,0.709,0.754,0.756,0.673,0.663,0.645,0.814,0.532,0.822,0.626,0.782,0.636,0.765,0.539,0.651,0.785,0.792,0.725,0.541,0.741,0.542,0.763,0.728,0.829,0.658,0.619,0.581,0.708,0.656,0.764,0.594,0.576,0.653,0.773,0.774,0.59,0.682,0.668,0.748,0.655,0.797,0.688,0.686,0.751,0.651,0.533,0.635,0.712,0.67,0.752,0.761,0.63,0.643,0.618,0.591,0.655,0.691,0.745,0.521,0.678,0.748,0.805,0.565,0.643,0.648,0.678,0.741,0.689,0.751,0.759,0.728,0.786,0.718,0.595,0.788,0.685,0.71,0.627,0.708,0.665,0.556,0.761,0.58,0.746,0.605,0.603,0.619,0.656,0.709,0.786,0.652,0.7,0.589,0.706,0.628,0.816,0.69,0.563,0.594,0.549,0.588,0.644,0.591,0.663,0.779,0.582,0.636,0.69,0.741,0.775,0.574,0.575,0.737,0.549,0.576,0.611,0.593,0.525,0.554,0.685,0.805,0.767,0.617,0.68,0.714,0.591,0.714,0.84,0.585,0.613,0.793,0.676,0.75,0.825,0.609,0.76,0.705,0.726,0.597,0.681,0.727,0.609,0.726,0.775,0.72,0.564,0.664,0.708,0.701,0.729,0.761,0.743,0.713,0.712,0.584,0.588,0.55,0.785,0.66,0.702,0.748,0.713,0.557,0.776,0.769,0.765,0.635,0.81,0.762,0.59,0.778,0.787,0.671,0.767,0.65,0.794,0.71,0.829,0.767,0.621,0.591,0.575,0.695,0.586,0.722,0.795,0.784,0.616,0.727,0.686,0.599,0.557,0.572,0.603],\"xaxis\":\"x\",\"y\":[0.99,0.99,0.8,0.85,0.8,0.85,0.95,0.9,0.9,0.9,0.8,0.95,0.85,0.9,0.8,0.8,0.95,0.99,0.99,0.99,0.99,0.8,0.85,0.95,0.9,0.9,0.8,0.85,0.8,0.85,0.99,0.8,0.8,0.8,0.85,0.9,0.8,0.8,0.99,0.85,0.9,0.85,0.95,0.95,0.8,0.99,0.99,0.85,0.95,0.8,0.85,0.9,0.99,0.8,0.99,0.99,0.95,0.9,0.85,0.85,0.8,0.9,0.8,0.8,0.85,0.8,0.9,0.8,0.85,0.9,0.99,0.85,0.95,0.99,0.99,0.8,0.8,0.95,0.95,0.8,0.95,0.99,0.95,0.9,0.95,0.95,0.95,0.9,0.9,0.9,0.95,0.99,0.99,0.99,0.85,0.99,0.8,0.95,0.85,0.99,0.95,0.95,0.85,0.8,0.85,0.9,0.95,0.85,0.85,0.85,0.95,0.85,0.8,0.99,0.8,0.95,0.85,0.95,0.9,0.99,0.95,0.85,0.85,0.9,0.99,0.85,0.99,0.9,0.85,0.85,0.9,0.85,0.99,0.85,0.8,0.9,0.99,0.99,0.85,0.9,0.8,0.95,0.9,0.85,0.9,0.9,0.8,0.8,0.9,0.85,0.9,0.99,0.8,0.85,0.95,0.85,0.85,0.9,0.9,0.9,0.99,0.85,0.95,0.8,0.99,0.95,0.8,0.8,0.99,0.85,0.9,0.85,0.9,0.9,0.9,0.9,0.8,0.8,0.95,0.99,0.8,0.8,0.95,0.8,0.9,0.95,0.99,0.9,0.99,0.9,0.95,0.95,0.8,0.95,0.95,0.85,0.85,0.9,0.99,0.95,0.95,0.8,0.95,0.99,0.99,0.99,0.95,0.8,0.99,0.8,0.85,0.99,0.9,0.95,0.85,0.9,0.95,0.99,0.9,0.99,0.99,0.99,0.99,0.99,0.99,0.95,0.85,0.8,0.95,0.95,0.9,0.99,0.85,0.8,0.99,0.95,0.85,0.95,0.85,0.8,0.95,0.9,0.8,0.8,0.99,0.8,0.9,0.95,0.9,0.85,0.85,0.99,0.95,0.95,0.9,0.85,0.9,0.9,0.9,0.85,0.99,0.99,0.99,0.8,0.8,0.9,0.9,0.85,0.99,0.85,0.8,0.85,0.95,0.8,0.85,0.9,0.85,0.85,0.8,0.9,0.95,0.8,0.95,0.8,0.9,0.95,0.99,0.99,0.95,0.9,0.95,0.8,0.8,0.85,0.9,0.95,0.95,0.99,0.95,0.9],\"yaxis\":\"y\"}],                        {\"coloraxis\":{\"colorbar\":{\"title\":{\"text\":\"batch_size_share_mu\"}},\"colorscale\":[[0.0,\"#0d0887\"],[0.1111111111111111,\"#46039f\"],[0.2222222222222222,\"#7201a8\"],[0.3333333333333333,\"#9c179e\"],[0.4444444444444444,\"#bd3786\"],[0.5555555555555556,\"#d8576b\"],[0.6666666666666666,\"#ed7953\"],[0.7777777777777778,\"#fb9f3a\"],[0.8888888888888888,\"#fdca26\"],[1.0,\"#f0f921\"]]},\"legend\":{\"tracegroupgap\":0},\"margin\":{\"t\":60},\"template\":{\"data\":{\"bar\":[{\"error_x\":{\"color\":\"#2a3f5f\"},\"error_y\":{\"color\":\"#2a3f5f\"},\"marker\":{\"line\":{\"color\":\"#E5ECF6\",\"width\":0.5},\"pattern\":{\"fillmode\":\"overlay\",\"size\":10,\"solidity\":0.2}},\"type\":\"bar\"}],\"barpolar\":[{\"marker\":{\"line\":{\"color\":\"#E5ECF6\",\"width\":0.5},\"pattern\":{\"fillmode\":\"overlay\",\"size\":10,\"solidity\":0.2}},\"type\":\"barpolar\"}],\"carpet\":[{\"aaxis\":{\"endlinecolor\":\"#2a3f5f\",\"gridcolor\":\"white\",\"linecolor\":\"white\",\"minorgridcolor\":\"white\",\"startlinecolor\":\"#2a3f5f\"},\"baxis\":{\"endlinecolor\":\"#2a3f5f\",\"gridcolor\":\"white\",\"linecolor\":\"white\",\"minorgridcolor\":\"white\",\"startlinecolor\":\"#2a3f5f\"},\"type\":\"carpet\"}],\"choropleth\":[{\"colorbar\":{\"outlinewidth\":0,\"ticks\":\"\"},\"type\":\"choropleth\"}],\"contour\":[{\"colorbar\":{\"outlinewidth\":0,\"ticks\":\"\"},\"colorscale\":[[0.0,\"#0d0887\"],[0.1111111111111111,\"#46039f\"],[0.2222222222222222,\"#7201a8\"],[0.3333333333333333,\"#9c179e\"],[0.4444444444444444,\"#bd3786\"],[0.5555555555555556,\"#d8576b\"],[0.6666666666666666,\"#ed7953\"],[0.7777777777777778,\"#fb9f3a\"],[0.8888888888888888,\"#fdca26\"],[1.0,\"#f0f921\"]],\"type\":\"contour\"}],\"contourcarpet\":[{\"colorbar\":{\"outlinewidth\":0,\"ticks\":\"\"},\"type\":\"contourcarpet\"}],\"heatmap\":[{\"colorbar\":{\"outlinewidth\":0,\"ticks\":\"\"},\"colorscale\":[[0.0,\"#0d0887\"],[0.1111111111111111,\"#46039f\"],[0.2222222222222222,\"#7201a8\"],[0.3333333333333333,\"#9c179e\"],[0.4444444444444444,\"#bd3786\"],[0.5555555555555556,\"#d8576b\"],[0.6666666666666666,\"#ed7953\"],[0.7777777777777778,\"#fb9f3a\"],[0.8888888888888888,\"#fdca26\"],[1.0,\"#f0f921\"]],\"type\":\"heatmap\"}],\"heatmapgl\":[{\"colorbar\":{\"outlinewidth\":0,\"ticks\":\"\"},\"colorscale\":[[0.0,\"#0d0887\"],[0.1111111111111111,\"#46039f\"],[0.2222222222222222,\"#7201a8\"],[0.3333333333333333,\"#9c179e\"],[0.4444444444444444,\"#bd3786\"],[0.5555555555555556,\"#d8576b\"],[0.6666666666666666,\"#ed7953\"],[0.7777777777777778,\"#fb9f3a\"],[0.8888888888888888,\"#fdca26\"],[1.0,\"#f0f921\"]],\"type\":\"heatmapgl\"}],\"histogram\":[{\"marker\":{\"pattern\":{\"fillmode\":\"overlay\",\"size\":10,\"solidity\":0.2}},\"type\":\"histogram\"}],\"histogram2d\":[{\"colorbar\":{\"outlinewidth\":0,\"ticks\":\"\"},\"colorscale\":[[0.0,\"#0d0887\"],[0.1111111111111111,\"#46039f\"],[0.2222222222222222,\"#7201a8\"],[0.3333333333333333,\"#9c179e\"],[0.4444444444444444,\"#bd3786\"],[0.5555555555555556,\"#d8576b\"],[0.6666666666666666,\"#ed7953\"],[0.7777777777777778,\"#fb9f3a\"],[0.8888888888888888,\"#fdca26\"],[1.0,\"#f0f921\"]],\"type\":\"histogram2d\"}],\"histogram2dcontour\":[{\"colorbar\":{\"outlinewidth\":0,\"ticks\":\"\"},\"colorscale\":[[0.0,\"#0d0887\"],[0.1111111111111111,\"#46039f\"],[0.2222222222222222,\"#7201a8\"],[0.3333333333333333,\"#9c179e\"],[0.4444444444444444,\"#bd3786\"],[0.5555555555555556,\"#d8576b\"],[0.6666666666666666,\"#ed7953\"],[0.7777777777777778,\"#fb9f3a\"],[0.8888888888888888,\"#fdca26\"],[1.0,\"#f0f921\"]],\"type\":\"histogram2dcontour\"}],\"mesh3d\":[{\"colorbar\":{\"outlinewidth\":0,\"ticks\":\"\"},\"type\":\"mesh3d\"}],\"parcoords\":[{\"line\":{\"colorbar\":{\"outlinewidth\":0,\"ticks\":\"\"}},\"type\":\"parcoords\"}],\"pie\":[{\"automargin\":true,\"type\":\"pie\"}],\"scatter\":[{\"marker\":{\"colorbar\":{\"outlinewidth\":0,\"ticks\":\"\"}},\"type\":\"scatter\"}],\"scatter3d\":[{\"line\":{\"colorbar\":{\"outlinewidth\":0,\"ticks\":\"\"}},\"marker\":{\"colorbar\":{\"outlinewidth\":0,\"ticks\":\"\"}},\"type\":\"scatter3d\"}],\"scattercarpet\":[{\"marker\":{\"colorbar\":{\"outlinewidth\":0,\"ticks\":\"\"}},\"type\":\"scattercarpet\"}],\"scattergeo\":[{\"marker\":{\"colorbar\":{\"outlinewidth\":0,\"ticks\":\"\"}},\"type\":\"scattergeo\"}],\"scattergl\":[{\"marker\":{\"colorbar\":{\"outlinewidth\":0,\"ticks\":\"\"}},\"type\":\"scattergl\"}],\"scattermapbox\":[{\"marker\":{\"colorbar\":{\"outlinewidth\":0,\"ticks\":\"\"}},\"type\":\"scattermapbox\"}],\"scatterpolar\":[{\"marker\":{\"colorbar\":{\"outlinewidth\":0,\"ticks\":\"\"}},\"type\":\"scatterpolar\"}],\"scatterpolargl\":[{\"marker\":{\"colorbar\":{\"outlinewidth\":0,\"ticks\":\"\"}},\"type\":\"scatterpolargl\"}],\"scatterternary\":[{\"marker\":{\"colorbar\":{\"outlinewidth\":0,\"ticks\":\"\"}},\"type\":\"scatterternary\"}],\"surface\":[{\"colorbar\":{\"outlinewidth\":0,\"ticks\":\"\"},\"colorscale\":[[0.0,\"#0d0887\"],[0.1111111111111111,\"#46039f\"],[0.2222222222222222,\"#7201a8\"],[0.3333333333333333,\"#9c179e\"],[0.4444444444444444,\"#bd3786\"],[0.5555555555555556,\"#d8576b\"],[0.6666666666666666,\"#ed7953\"],[0.7777777777777778,\"#fb9f3a\"],[0.8888888888888888,\"#fdca26\"],[1.0,\"#f0f921\"]],\"type\":\"surface\"}],\"table\":[{\"cells\":{\"fill\":{\"color\":\"#EBF0F8\"},\"line\":{\"color\":\"white\"}},\"header\":{\"fill\":{\"color\":\"#C8D4E3\"},\"line\":{\"color\":\"white\"}},\"type\":\"table\"}]},\"layout\":{\"annotationdefaults\":{\"arrowcolor\":\"#2a3f5f\",\"arrowhead\":0,\"arrowwidth\":1},\"autotypenumbers\":\"strict\",\"coloraxis\":{\"colorbar\":{\"outlinewidth\":0,\"ticks\":\"\"}},\"colorscale\":{\"diverging\":[[0,\"#8e0152\"],[0.1,\"#c51b7d\"],[0.2,\"#de77ae\"],[0.3,\"#f1b6da\"],[0.4,\"#fde0ef\"],[0.5,\"#f7f7f7\"],[0.6,\"#e6f5d0\"],[0.7,\"#b8e186\"],[0.8,\"#7fbc41\"],[0.9,\"#4d9221\"],[1,\"#276419\"]],\"sequential\":[[0.0,\"#0d0887\"],[0.1111111111111111,\"#46039f\"],[0.2222222222222222,\"#7201a8\"],[0.3333333333333333,\"#9c179e\"],[0.4444444444444444,\"#bd3786\"],[0.5555555555555556,\"#d8576b\"],[0.6666666666666666,\"#ed7953\"],[0.7777777777777778,\"#fb9f3a\"],[0.8888888888888888,\"#fdca26\"],[1.0,\"#f0f921\"]],\"sequentialminus\":[[0.0,\"#0d0887\"],[0.1111111111111111,\"#46039f\"],[0.2222222222222222,\"#7201a8\"],[0.3333333333333333,\"#9c179e\"],[0.4444444444444444,\"#bd3786\"],[0.5555555555555556,\"#d8576b\"],[0.6666666666666666,\"#ed7953\"],[0.7777777777777778,\"#fb9f3a\"],[0.8888888888888888,\"#fdca26\"],[1.0,\"#f0f921\"]]},\"colorway\":[\"#636efa\",\"#EF553B\",\"#00cc96\",\"#ab63fa\",\"#FFA15A\",\"#19d3f3\",\"#FF6692\",\"#B6E880\",\"#FF97FF\",\"#FECB52\"],\"font\":{\"color\":\"#2a3f5f\"},\"geo\":{\"bgcolor\":\"white\",\"lakecolor\":\"white\",\"landcolor\":\"#E5ECF6\",\"showlakes\":true,\"showland\":true,\"subunitcolor\":\"white\"},\"hoverlabel\":{\"align\":\"left\"},\"hovermode\":\"closest\",\"mapbox\":{\"style\":\"light\"},\"paper_bgcolor\":\"white\",\"plot_bgcolor\":\"#E5ECF6\",\"polar\":{\"angularaxis\":{\"gridcolor\":\"white\",\"linecolor\":\"white\",\"ticks\":\"\"},\"bgcolor\":\"#E5ECF6\",\"radialaxis\":{\"gridcolor\":\"white\",\"linecolor\":\"white\",\"ticks\":\"\"}},\"scene\":{\"xaxis\":{\"backgroundcolor\":\"#E5ECF6\",\"gridcolor\":\"white\",\"gridwidth\":2,\"linecolor\":\"white\",\"showbackground\":true,\"ticks\":\"\",\"zerolinecolor\":\"white\"},\"yaxis\":{\"backgroundcolor\":\"#E5ECF6\",\"gridcolor\":\"white\",\"gridwidth\":2,\"linecolor\":\"white\",\"showbackground\":true,\"ticks\":\"\",\"zerolinecolor\":\"white\"},\"zaxis\":{\"backgroundcolor\":\"#E5ECF6\",\"gridcolor\":\"white\",\"gridwidth\":2,\"linecolor\":\"white\",\"showbackground\":true,\"ticks\":\"\",\"zerolinecolor\":\"white\"}},\"shapedefaults\":{\"line\":{\"color\":\"#2a3f5f\"}},\"ternary\":{\"aaxis\":{\"gridcolor\":\"white\",\"linecolor\":\"white\",\"ticks\":\"\"},\"baxis\":{\"gridcolor\":\"white\",\"linecolor\":\"white\",\"ticks\":\"\"},\"bgcolor\":\"#E5ECF6\",\"caxis\":{\"gridcolor\":\"white\",\"linecolor\":\"white\",\"ticks\":\"\"}},\"title\":{\"x\":0.05},\"xaxis\":{\"automargin\":true,\"gridcolor\":\"white\",\"linecolor\":\"white\",\"ticks\":\"\",\"title\":{\"standoff\":15},\"zerolinecolor\":\"white\",\"zerolinewidth\":2},\"yaxis\":{\"automargin\":true,\"gridcolor\":\"white\",\"linecolor\":\"white\",\"ticks\":\"\",\"title\":{\"standoff\":15},\"zerolinecolor\":\"white\",\"zerolinewidth\":2}}},\"xaxis\":{\"anchor\":\"y\",\"domain\":[0.0,1.0],\"title\":{\"text\":\"share_test_winner\"}},\"yaxis\":{\"anchor\":\"x\",\"domain\":[0.0,1.0],\"title\":{\"text\":\"prob_super\"}}},                        {\"responsive\": true}                    ).then(function(){\n",
       "                            \n",
       "var gd = document.getElementById('f2900cb5-178f-47ae-87f1-80e4ea123b39');\n",
       "var x = new MutationObserver(function (mutations, observer) {{\n",
       "        var display = window.getComputedStyle(gd).display;\n",
       "        if (!display || display === 'none') {{\n",
       "            console.log([gd, 'removed!']);\n",
       "            Plotly.purge(gd);\n",
       "            observer.disconnect();\n",
       "        }}\n",
       "}});\n",
       "\n",
       "// Listen for the removal of the full notebook cells\n",
       "var notebookContainer = gd.closest('#notebook-container');\n",
       "if (notebookContainer) {{\n",
       "    x.observe(notebookContainer, {childList: true});\n",
       "}}\n",
       "\n",
       "// Listen for the clearing of the current output cell\n",
       "var outputEl = gd.closest('.output');\n",
       "if (outputEl) {{\n",
       "    x.observe(outputEl, {childList: true});\n",
       "}}\n",
       "\n",
       "                        })                };                });            </script>        </div>"
      ]
     },
     "metadata": {},
     "output_type": "display_data"
    }
   ],
   "source": [
    "plot_df = thompson_results_df.query(\"\"\"mde != '0' & multi_armed == 'False'\"\"\").reset_index()[\n",
    "    [\"share_not_winner\", 'share_test_winner', \"prob_super\",'batch_size_share_mu']].astype(float)\n",
    "fig = px.scatter(plot_df, x=\"share_test_winner\", y=\"prob_super\", color=\"batch_size_share_mu\")\n",
    "fig.show()"
   ]
  },
  {
   "cell_type": "code",
   "execution_count": 115,
   "metadata": {},
   "outputs": [
    {
     "data": {
      "text/plain": [
       "array([[-2.4148056 ,  0.36092571,  0.65345072],\n",
       "       [-0.26712527,  1.00968113, -0.87349141],\n",
       "       [-0.16544407,  0.36360063, -1.12730837],\n",
       "       ...,\n",
       "       [ 1.27795096, -0.31788402,  0.5742638 ],\n",
       "       [-0.16100329, -0.48707012,  0.07284455],\n",
       "       [-0.44844991,  0.81755284, -1.19668403]])"
      ]
     },
     "execution_count": 115,
     "metadata": {},
     "output_type": "execute_result"
    }
   ],
   "source": [
    "np.random.normal([0, 0, 0], [1,1,1], size=(1000000, 3))"
   ]
  },
  {
   "cell_type": "code",
   "execution_count": 116,
   "metadata": {},
   "outputs": [
    {
     "data": {
      "text/html": [
       "<div>\n",
       "<style scoped>\n",
       "    .dataframe tbody tr th:only-of-type {\n",
       "        vertical-align: middle;\n",
       "    }\n",
       "\n",
       "    .dataframe tbody tr th {\n",
       "        vertical-align: top;\n",
       "    }\n",
       "\n",
       "    .dataframe thead th {\n",
       "        text-align: right;\n",
       "    }\n",
       "</style>\n",
       "<table border=\"1\" class=\"dataframe\">\n",
       "  <thead>\n",
       "    <tr style=\"text-align: right;\">\n",
       "      <th></th>\n",
       "      <th>0</th>\n",
       "      <th>1</th>\n",
       "      <th>2</th>\n",
       "    </tr>\n",
       "  </thead>\n",
       "  <tbody>\n",
       "    <tr>\n",
       "      <th>0</th>\n",
       "      <td>1.598177</td>\n",
       "      <td>0.435866</td>\n",
       "      <td>-1.167836</td>\n",
       "    </tr>\n",
       "    <tr>\n",
       "      <th>1</th>\n",
       "      <td>-0.195492</td>\n",
       "      <td>1.399399</td>\n",
       "      <td>0.805820</td>\n",
       "    </tr>\n",
       "    <tr>\n",
       "      <th>2</th>\n",
       "      <td>-1.207047</td>\n",
       "      <td>0.027457</td>\n",
       "      <td>1.487354</td>\n",
       "    </tr>\n",
       "    <tr>\n",
       "      <th>3</th>\n",
       "      <td>0.114443</td>\n",
       "      <td>-0.672164</td>\n",
       "      <td>-0.031030</td>\n",
       "    </tr>\n",
       "    <tr>\n",
       "      <th>4</th>\n",
       "      <td>-0.228223</td>\n",
       "      <td>-0.029119</td>\n",
       "      <td>-0.472397</td>\n",
       "    </tr>\n",
       "    <tr>\n",
       "      <th>...</th>\n",
       "      <td>...</td>\n",
       "      <td>...</td>\n",
       "      <td>...</td>\n",
       "    </tr>\n",
       "    <tr>\n",
       "      <th>999995</th>\n",
       "      <td>-1.431599</td>\n",
       "      <td>-0.686605</td>\n",
       "      <td>0.266487</td>\n",
       "    </tr>\n",
       "    <tr>\n",
       "      <th>999996</th>\n",
       "      <td>1.084150</td>\n",
       "      <td>-0.267332</td>\n",
       "      <td>-0.281608</td>\n",
       "    </tr>\n",
       "    <tr>\n",
       "      <th>999997</th>\n",
       "      <td>0.814755</td>\n",
       "      <td>1.240877</td>\n",
       "      <td>-0.530982</td>\n",
       "    </tr>\n",
       "    <tr>\n",
       "      <th>999998</th>\n",
       "      <td>1.475574</td>\n",
       "      <td>-1.125270</td>\n",
       "      <td>-0.486181</td>\n",
       "    </tr>\n",
       "    <tr>\n",
       "      <th>999999</th>\n",
       "      <td>-0.036523</td>\n",
       "      <td>0.441673</td>\n",
       "      <td>0.876818</td>\n",
       "    </tr>\n",
       "  </tbody>\n",
       "</table>\n",
       "<p>1000000 rows × 3 columns</p>\n",
       "</div>"
      ],
      "text/plain": [
       "               0         1         2\n",
       "0       1.598177  0.435866 -1.167836\n",
       "1      -0.195492  1.399399  0.805820\n",
       "2      -1.207047  0.027457  1.487354\n",
       "3       0.114443 -0.672164 -0.031030\n",
       "4      -0.228223 -0.029119 -0.472397\n",
       "...          ...       ...       ...\n",
       "999995 -1.431599 -0.686605  0.266487\n",
       "999996  1.084150 -0.267332 -0.281608\n",
       "999997  0.814755  1.240877 -0.530982\n",
       "999998  1.475574 -1.125270 -0.486181\n",
       "999999 -0.036523  0.441673  0.876818\n",
       "\n",
       "[1000000 rows x 3 columns]"
      ]
     },
     "execution_count": 116,
     "metadata": {},
     "output_type": "execute_result"
    }
   ],
   "source": [
    "df = pd.DataFrame(np.random.normal([0, 0, 0], [1,1,1], size=(1000000, 3)))\n",
    "df"
   ]
  },
  {
   "cell_type": "code",
   "execution_count": 118,
   "metadata": {},
   "outputs": [
    {
     "name": "stdout",
     "output_type": "stream",
     "text": [
      "221 ms ± 3.11 ms per loop (mean ± std. dev. of 7 runs, 1 loop each)\n"
     ]
    }
   ],
   "source": [
    "%timeit df[0].apply(lambda x: (x ** 100) / 1500)"
   ]
  },
  {
   "cell_type": "code",
   "execution_count": 120,
   "metadata": {},
   "outputs": [
    {
     "name": "stdout",
     "output_type": "stream",
     "text": [
      "17.7 ms ± 35.2 µs per loop (mean ± std. dev. of 7 runs, 100 loops each)\n"
     ]
    }
   ],
   "source": [
    "import swifter\n",
    "%timeit df[0].swifter.apply(lambda x: (x ** 100) / 1500)"
   ]
  },
  {
   "cell_type": "code",
   "execution_count": null,
   "metadata": {
    "pycharm": {
     "name": "#%%\n"
    }
   },
   "outputs": [],
   "source": [
    "# Костыльное решение (фиксим, разделяя __)\n",
    "p_control_list = [0.1, 0.2, 0.3, 0.4, 0.5]\n",
    "mde_list = np.linspace(0.01, 0.5, 10)\n",
    "# result_experiments_df = pd.DataFrame(index=pd.MultiIndex.from_product(\n",
    "#                                      [p_control_list, mde_list],\n",
    "#                                      names=[\"distr_type\", \"mean_control\", \"mde_test_effect\",\n",
    "#                                             \"sigma_control\", \"sigma_diff\", \"size\"]),\n",
    "#                                      columns=['p_value_Student', 'p_value_MU', 'p_value_BS',\n",
    "#                                               \"control_bs_means\", \"test_bs_means\"])"
   ]
  },
  {
   "cell_type": "code",
   "execution_count": null,
   "metadata": {},
   "outputs": [],
   "source": [
    "import joblib\n",
    "df = joblib.load(\"/home/igor/Appbooster/proba.ai/AB/Experiment results/Bayesian/Experiment1/p_control=1__mde=0__prob_super=0.8\")"
   ]
  },
  {
   "cell_type": "code",
   "execution_count": null,
   "metadata": {
    "pycharm": {
     "name": "#%%\n"
    }
   },
   "outputs": [],
   "source": [
    "# files = glob.glob('Experiment results/Bayesian/Experiment1/*')\n",
    "# for f in files:\n",
    "#     os.remove(f)"
   ]
  }
 ],
 "metadata": {
  "kernelspec": {
   "display_name": "Python 3 (ipykernel)",
   "language": "python",
   "name": "python3"
  },
  "language_info": {
   "codemirror_mode": {
    "name": "ipython",
    "version": 3
   },
   "file_extension": ".py",
   "mimetype": "text/x-python",
   "name": "python",
   "nbconvert_exporter": "python",
   "pygments_lexer": "ipython3",
   "version": "3.9.7"
  }
 },
 "nbformat": 4,
 "nbformat_minor": 1
}