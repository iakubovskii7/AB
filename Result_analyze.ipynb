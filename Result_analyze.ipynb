{
 "cells": [
  {
   "cell_type": "code",
   "execution_count": 4,
   "metadata": {
    "scrolled": true
   },
   "outputs": [],
   "source": [
    "from src.tests import *"
   ]
  },
  {
   "cell_type": "markdown",
   "metadata": {},
   "source": [
    "# Experiment 2\n",
    "## Thompson"
   ]
  },
  {
   "cell_type": "code",
   "execution_count": 16,
   "metadata": {},
   "outputs": [
    {
     "data": {
      "application/vnd.jupyter.widget-view+json": {
       "model_id": "8d976f31585c4c21a1dfe45e238b951d",
       "version_major": 2,
       "version_minor": 0
      },
      "text/plain": [
       "  0%|          | 0/720 [00:00<?, ?it/s]"
      ]
     },
     "metadata": {},
     "output_type": "display_data"
    }
   ],
   "source": [
    "test_result_mab = TestResult2Processing(folder=\"Thompson/Experiment2/\", test_type=\"thompson\")\n",
    "results_mab = test_result_mab.run()\n",
    "results_mab_fp = results_mab.query(\"mde == '0'\")\n",
    "results_mab_fn = results_mab.query(\"mde != '0'\")\n",
    "\n",
    "results_mab_fn.unstack(level='multi_armed').to_excel(\n",
    "    \"Description experiment results/Conversion/Experiment2/thompson_FN.xlsx\")\n",
    "results_mab_fp.unstack(level='multi_armed').to_excel(\n",
    "    \"Description experiment results/Conversion/Experiment2/thompson_FP.xlsx\")"
   ]
  },
  {
   "cell_type": "markdown",
   "metadata": {},
   "source": [
    "# Experiment 3\n",
    "## Thompson"
   ]
  },
  {
   "cell_type": "code",
   "execution_count": 15,
   "metadata": {},
   "outputs": [
    {
     "data": {
      "application/vnd.jupyter.widget-view+json": {
       "model_id": "ec72a4c8762b4fe890982493cb6803fc",
       "version_major": 2,
       "version_minor": 0
      },
      "text/plain": [
       "  0%|          | 0/184 [00:00<?, ?it/s]"
      ]
     },
     "metadata": {},
     "output_type": "display_data"
    }
   ],
   "source": [
    "test_result_mab = TestResult2Processing(folder=\"Thompson/Experiment3/\", test_type=\"thompson\")\n",
    "results_mab = test_result_mab.run()\n",
    "results_mab_fp = results_mab.query(\"mde == '0'\")\n",
    "results_mab_fn = results_mab.query(\"mde != '0'\")"
   ]
  },
  {
   "cell_type": "code",
   "execution_count": 14,
   "metadata": {},
   "outputs": [
    {
     "data": {
      "text/html": [
       "<div>\n",
       "<style scoped>\n",
       "    .dataframe tbody tr th:only-of-type {\n",
       "        vertical-align: middle;\n",
       "    }\n",
       "\n",
       "    .dataframe tbody tr th {\n",
       "        vertical-align: top;\n",
       "    }\n",
       "\n",
       "    .dataframe thead th {\n",
       "        text-align: right;\n",
       "    }\n",
       "</style>\n",
       "<table border=\"1\" class=\"dataframe\">\n",
       "  <thead>\n",
       "    <tr style=\"text-align: right;\">\n",
       "      <th></th>\n",
       "      <th></th>\n",
       "      <th></th>\n",
       "      <th></th>\n",
       "      <th></th>\n",
       "      <th></th>\n",
       "      <th>count_winners</th>\n",
       "      <th>size</th>\n",
       "      <th>share_observations_mean</th>\n",
       "      <th>share_observations_median</th>\n",
       "      <th>share_test_winner</th>\n",
       "      <th>share_not_winner</th>\n",
       "      <th>share_control_winner</th>\n",
       "    </tr>\n",
       "    <tr>\n",
       "      <th>p_control</th>\n",
       "      <th>mde</th>\n",
       "      <th>prob_super</th>\n",
       "      <th>batch_size_share_mu</th>\n",
       "      <th>method_update_params</th>\n",
       "      <th>multi_armed</th>\n",
       "      <th></th>\n",
       "      <th></th>\n",
       "      <th></th>\n",
       "      <th></th>\n",
       "      <th></th>\n",
       "      <th></th>\n",
       "      <th></th>\n",
       "    </tr>\n",
       "  </thead>\n",
       "  <tbody>\n",
       "    <tr>\n",
       "      <th rowspan=\"5\" valign=\"top\">1</th>\n",
       "      <th rowspan=\"5\" valign=\"top\">0</th>\n",
       "      <th rowspan=\"5\" valign=\"top\">0.95</th>\n",
       "      <th>0.1</th>\n",
       "      <th>summation</th>\n",
       "      <th>True</th>\n",
       "      <td>{0: 123, -1: 698, 1: 179}</td>\n",
       "      <td>10000</td>\n",
       "      <td>[1.029, 1.081]</td>\n",
       "      <td>[1.039, 1.068]</td>\n",
       "      <td>0.179</td>\n",
       "      <td>0.698</td>\n",
       "      <td>0.123</td>\n",
       "    </tr>\n",
       "    <tr>\n",
       "      <th>0.09</th>\n",
       "      <th>summation</th>\n",
       "      <th>True</th>\n",
       "      <td>{-1: 675, 1: 202, 0: 123}</td>\n",
       "      <td>10000</td>\n",
       "      <td>[1.0, 1.103]</td>\n",
       "      <td>[0.961, 1.122]</td>\n",
       "      <td>0.202</td>\n",
       "      <td>0.675</td>\n",
       "      <td>0.123</td>\n",
       "    </tr>\n",
       "    <tr>\n",
       "      <th>0.08</th>\n",
       "      <th>summation</th>\n",
       "      <th>True</th>\n",
       "      <td>{-1: 667, 1: 196, 0: 137}</td>\n",
       "      <td>10000</td>\n",
       "      <td>[1.024, 1.067]</td>\n",
       "      <td>[1.007, 1.081]</td>\n",
       "      <td>0.196</td>\n",
       "      <td>0.667</td>\n",
       "      <td>0.137</td>\n",
       "    </tr>\n",
       "    <tr>\n",
       "      <th>0.07</th>\n",
       "      <th>summation</th>\n",
       "      <th>True</th>\n",
       "      <td>{-1: 645, 1: 224, 0: 131}</td>\n",
       "      <td>10000</td>\n",
       "      <td>[1.0, 1.077]</td>\n",
       "      <td>[1.026, 1.06]</td>\n",
       "      <td>0.224</td>\n",
       "      <td>0.645</td>\n",
       "      <td>0.131</td>\n",
       "    </tr>\n",
       "    <tr>\n",
       "      <th>0.06</th>\n",
       "      <th>summation</th>\n",
       "      <th>True</th>\n",
       "      <td>{1: 247, -1: 592, 0: 161}</td>\n",
       "      <td>10000</td>\n",
       "      <td>[0.994, 1.072]</td>\n",
       "      <td>[1.006, 1.068]</td>\n",
       "      <td>0.247</td>\n",
       "      <td>0.592</td>\n",
       "      <td>0.161</td>\n",
       "    </tr>\n",
       "  </tbody>\n",
       "</table>\n",
       "</div>"
      ],
      "text/plain": [
       "                                                                                           count_winners  \\\n",
       "p_control mde prob_super batch_size_share_mu method_update_params multi_armed                              \n",
       "1         0   0.95       0.1                 summation            True         {0: 123, -1: 698, 1: 179}   \n",
       "                         0.09                summation            True         {-1: 675, 1: 202, 0: 123}   \n",
       "                         0.08                summation            True         {-1: 667, 1: 196, 0: 137}   \n",
       "                         0.07                summation            True         {-1: 645, 1: 224, 0: 131}   \n",
       "                         0.06                summation            True         {1: 247, -1: 592, 0: 161}   \n",
       "\n",
       "                                                                                size  \\\n",
       "p_control mde prob_super batch_size_share_mu method_update_params multi_armed          \n",
       "1         0   0.95       0.1                 summation            True         10000   \n",
       "                         0.09                summation            True         10000   \n",
       "                         0.08                summation            True         10000   \n",
       "                         0.07                summation            True         10000   \n",
       "                         0.06                summation            True         10000   \n",
       "\n",
       "                                                                              share_observations_mean  \\\n",
       "p_control mde prob_super batch_size_share_mu method_update_params multi_armed                           \n",
       "1         0   0.95       0.1                 summation            True                 [1.029, 1.081]   \n",
       "                         0.09                summation            True                   [1.0, 1.103]   \n",
       "                         0.08                summation            True                 [1.024, 1.067]   \n",
       "                         0.07                summation            True                   [1.0, 1.077]   \n",
       "                         0.06                summation            True                 [0.994, 1.072]   \n",
       "\n",
       "                                                                              share_observations_median  \\\n",
       "p_control mde prob_super batch_size_share_mu method_update_params multi_armed                             \n",
       "1         0   0.95       0.1                 summation            True                   [1.039, 1.068]   \n",
       "                         0.09                summation            True                   [0.961, 1.122]   \n",
       "                         0.08                summation            True                   [1.007, 1.081]   \n",
       "                         0.07                summation            True                    [1.026, 1.06]   \n",
       "                         0.06                summation            True                   [1.006, 1.068]   \n",
       "\n",
       "                                                                               share_test_winner  \\\n",
       "p_control mde prob_super batch_size_share_mu method_update_params multi_armed                      \n",
       "1         0   0.95       0.1                 summation            True                     0.179   \n",
       "                         0.09                summation            True                     0.202   \n",
       "                         0.08                summation            True                     0.196   \n",
       "                         0.07                summation            True                     0.224   \n",
       "                         0.06                summation            True                     0.247   \n",
       "\n",
       "                                                                               share_not_winner  \\\n",
       "p_control mde prob_super batch_size_share_mu method_update_params multi_armed                     \n",
       "1         0   0.95       0.1                 summation            True                    0.698   \n",
       "                         0.09                summation            True                    0.675   \n",
       "                         0.08                summation            True                    0.667   \n",
       "                         0.07                summation            True                    0.645   \n",
       "                         0.06                summation            True                    0.592   \n",
       "\n",
       "                                                                               share_control_winner  \n",
       "p_control mde prob_super batch_size_share_mu method_update_params multi_armed                        \n",
       "1         0   0.95       0.1                 summation            True                        0.123  \n",
       "                         0.09                summation            True                        0.123  \n",
       "                         0.08                summation            True                        0.137  \n",
       "                         0.07                summation            True                        0.131  \n",
       "                         0.06                summation            True                        0.161  "
      ]
     },
     "execution_count": 14,
     "metadata": {},
     "output_type": "execute_result"
    }
   ],
   "source": [
    "results_mab_fp.sort_values(\"share_not_winner\", ascending=False).head()"
   ]
  },
  {
   "cell_type": "code",
   "execution_count": 12,
   "metadata": {},
   "outputs": [
    {
     "data": {
      "text/html": [
       "<div>\n",
       "<style scoped>\n",
       "    .dataframe tbody tr th:only-of-type {\n",
       "        vertical-align: middle;\n",
       "    }\n",
       "\n",
       "    .dataframe tbody tr th {\n",
       "        vertical-align: top;\n",
       "    }\n",
       "\n",
       "    .dataframe thead th {\n",
       "        text-align: right;\n",
       "    }\n",
       "</style>\n",
       "<table border=\"1\" class=\"dataframe\">\n",
       "  <thead>\n",
       "    <tr style=\"text-align: right;\">\n",
       "      <th></th>\n",
       "      <th></th>\n",
       "      <th></th>\n",
       "      <th></th>\n",
       "      <th></th>\n",
       "      <th></th>\n",
       "      <th>count_winners</th>\n",
       "      <th>size</th>\n",
       "      <th>share_observations_mean</th>\n",
       "      <th>share_observations_median</th>\n",
       "      <th>share_test_winner</th>\n",
       "      <th>share_not_winner</th>\n",
       "      <th>share_control_winner</th>\n",
       "    </tr>\n",
       "    <tr>\n",
       "      <th>p_control</th>\n",
       "      <th>mde</th>\n",
       "      <th>prob_super</th>\n",
       "      <th>batch_size_share_mu</th>\n",
       "      <th>method_update_params</th>\n",
       "      <th>multi_armed</th>\n",
       "      <th></th>\n",
       "      <th></th>\n",
       "      <th></th>\n",
       "      <th></th>\n",
       "      <th></th>\n",
       "      <th></th>\n",
       "      <th></th>\n",
       "    </tr>\n",
       "  </thead>\n",
       "  <tbody>\n",
       "    <tr>\n",
       "      <th rowspan=\"5\" valign=\"top\">1</th>\n",
       "      <th rowspan=\"3\" valign=\"top\">5</th>\n",
       "      <th rowspan=\"3\" valign=\"top\">0.9</th>\n",
       "      <th>0.1</th>\n",
       "      <th>summation</th>\n",
       "      <th>False</th>\n",
       "      <td>{1: 779, -1: 184, 0: 37}</td>\n",
       "      <td>637007</td>\n",
       "      <td>[1.053, 1.053]</td>\n",
       "      <td>[1.048, 1.048]</td>\n",
       "      <td>0.779</td>\n",
       "      <td>0.184</td>\n",
       "      <td>0.037</td>\n",
       "    </tr>\n",
       "    <tr>\n",
       "      <th>0.08</th>\n",
       "      <th>summation</th>\n",
       "      <th>False</th>\n",
       "      <td>{1: 762, -1: 182, 0: 56}</td>\n",
       "      <td>637007</td>\n",
       "      <td>[1.043, 1.043]</td>\n",
       "      <td>[1.04, 1.04]</td>\n",
       "      <td>0.762</td>\n",
       "      <td>0.182</td>\n",
       "      <td>0.056</td>\n",
       "    </tr>\n",
       "    <tr>\n",
       "      <th>0.09</th>\n",
       "      <th>summation</th>\n",
       "      <th>False</th>\n",
       "      <td>{1: 758, -1: 197, 0: 45}</td>\n",
       "      <td>637007</td>\n",
       "      <td>[1.05, 1.05]</td>\n",
       "      <td>[1.045, 1.045]</td>\n",
       "      <td>0.758</td>\n",
       "      <td>0.197</td>\n",
       "      <td>0.045</td>\n",
       "    </tr>\n",
       "    <tr>\n",
       "      <th rowspan=\"2\" valign=\"top\">10</th>\n",
       "      <th rowspan=\"2\" valign=\"top\">0.9</th>\n",
       "      <th>0.1</th>\n",
       "      <th>summation</th>\n",
       "      <th>False</th>\n",
       "      <td>{1: 747, -1: 206, 0: 47}</td>\n",
       "      <td>163091</td>\n",
       "      <td>[1.056, 1.056]</td>\n",
       "      <td>[1.05, 1.05]</td>\n",
       "      <td>0.747</td>\n",
       "      <td>0.206</td>\n",
       "      <td>0.047</td>\n",
       "    </tr>\n",
       "    <tr>\n",
       "      <th>0.09</th>\n",
       "      <th>summation</th>\n",
       "      <th>False</th>\n",
       "      <td>{1: 735, -1: 213, 0: 52}</td>\n",
       "      <td>163091</td>\n",
       "      <td>[1.049, 1.049]</td>\n",
       "      <td>[1.044, 1.044]</td>\n",
       "      <td>0.735</td>\n",
       "      <td>0.213</td>\n",
       "      <td>0.052</td>\n",
       "    </tr>\n",
       "  </tbody>\n",
       "</table>\n",
       "</div>"
      ],
      "text/plain": [
       "                                                                                          count_winners  \\\n",
       "p_control mde prob_super batch_size_share_mu method_update_params multi_armed                             \n",
       "1         5   0.9        0.1                 summation            False        {1: 779, -1: 184, 0: 37}   \n",
       "                         0.08                summation            False        {1: 762, -1: 182, 0: 56}   \n",
       "                         0.09                summation            False        {1: 758, -1: 197, 0: 45}   \n",
       "          10  0.9        0.1                 summation            False        {1: 747, -1: 206, 0: 47}   \n",
       "                         0.09                summation            False        {1: 735, -1: 213, 0: 52}   \n",
       "\n",
       "                                                                                 size  \\\n",
       "p_control mde prob_super batch_size_share_mu method_update_params multi_armed           \n",
       "1         5   0.9        0.1                 summation            False        637007   \n",
       "                         0.08                summation            False        637007   \n",
       "                         0.09                summation            False        637007   \n",
       "          10  0.9        0.1                 summation            False        163091   \n",
       "                         0.09                summation            False        163091   \n",
       "\n",
       "                                                                              share_observations_mean  \\\n",
       "p_control mde prob_super batch_size_share_mu method_update_params multi_armed                           \n",
       "1         5   0.9        0.1                 summation            False                [1.053, 1.053]   \n",
       "                         0.08                summation            False                [1.043, 1.043]   \n",
       "                         0.09                summation            False                  [1.05, 1.05]   \n",
       "          10  0.9        0.1                 summation            False                [1.056, 1.056]   \n",
       "                         0.09                summation            False                [1.049, 1.049]   \n",
       "\n",
       "                                                                              share_observations_median  \\\n",
       "p_control mde prob_super batch_size_share_mu method_update_params multi_armed                             \n",
       "1         5   0.9        0.1                 summation            False                  [1.048, 1.048]   \n",
       "                         0.08                summation            False                    [1.04, 1.04]   \n",
       "                         0.09                summation            False                  [1.045, 1.045]   \n",
       "          10  0.9        0.1                 summation            False                    [1.05, 1.05]   \n",
       "                         0.09                summation            False                  [1.044, 1.044]   \n",
       "\n",
       "                                                                               share_test_winner  \\\n",
       "p_control mde prob_super batch_size_share_mu method_update_params multi_armed                      \n",
       "1         5   0.9        0.1                 summation            False                    0.779   \n",
       "                         0.08                summation            False                    0.762   \n",
       "                         0.09                summation            False                    0.758   \n",
       "          10  0.9        0.1                 summation            False                    0.747   \n",
       "                         0.09                summation            False                    0.735   \n",
       "\n",
       "                                                                               share_not_winner  \\\n",
       "p_control mde prob_super batch_size_share_mu method_update_params multi_armed                     \n",
       "1         5   0.9        0.1                 summation            False                   0.184   \n",
       "                         0.08                summation            False                   0.182   \n",
       "                         0.09                summation            False                   0.197   \n",
       "          10  0.9        0.1                 summation            False                   0.206   \n",
       "                         0.09                summation            False                   0.213   \n",
       "\n",
       "                                                                               share_control_winner  \n",
       "p_control mde prob_super batch_size_share_mu method_update_params multi_armed                        \n",
       "1         5   0.9        0.1                 summation            False                       0.037  \n",
       "                         0.08                summation            False                       0.056  \n",
       "                         0.09                summation            False                       0.045  \n",
       "          10  0.9        0.1                 summation            False                       0.047  \n",
       "                         0.09                summation            False                       0.052  "
      ]
     },
     "execution_count": 12,
     "metadata": {},
     "output_type": "execute_result"
    }
   ],
   "source": [
    "results_mab_fn.sort_values(\"share_test_winner\", ascending=False).head()"
   ]
  },
  {
   "cell_type": "code",
   "execution_count": null,
   "metadata": {},
   "outputs": [],
   "source": [
    "# test_result_mab = TestResult1Processing(folder=\"Thompson/Experiment1/\",\n",
    "#                                         test_type=\"thompson\")\n",
    "# test_result_bayes = TestResult1Processing(folder=\"Bayesian/Experiment1/\",\n",
    "#                                           test_type=\"bayesian\")\n",
    "# test_result_mab = TestResult1Processing(folder=\"Thompson/Experiment2/\",\n",
    "#                                         test_type=\"thompson\")\n",
    "# test_result2_bayes = TestResult2Processing(folder=\"Bayesian/Experiment2/\",\n",
    "#                                            test_type=\"bayesian\")\n",
    "\n",
    "# results_bayes = test_result_bayes.run()\n",
    "# results_bayes_fp = results_bayes.query(\"mde == '0'\")\n",
    "\n",
    "# # # results_bayes_fn = results_bayes.query(\"mde != '0'\")\n",
    "# results2_bayes = test_result2_bayes.run()\n",
    "# results2_bayes_fp = results2_bayes.query(\"mde == '0'\")\n",
    "# results2_bayes_fn = results2_bayes.query(\"mde != '0'\")\n",
    "# results2_bayes_fp.reset_index()[\n",
    "#     ['share_observation_optimal_arms', 'share_not_winner']\n",
    "# ].astype(float).corr()\n",
    "# n_samples = results2_bayes_fn[['share_test_winner']].unstack()\n",
    "# n_samples_fp = results2_bayes_fp[['share_not_winner']].unstack()\n",
    "\n"
   ]
  },
  {
   "cell_type": "code",
   "execution_count": 80,
   "metadata": {},
   "outputs": [
    {
     "data": {
      "image/png": "[encoded data removed]",
      "text/plain": [
       "<Figure size 432x288 with 1 Axes>"
      ]
     },
     "metadata": {
      "needs_background": "light"
     },
     "output_type": "display_data"
    }
   ],
   "source": [
    "thompson_results_df.query(\"mde == '0'\")['share_not_winner'].plot(kind='hist');\n",
    "plt.title(\"Доля тестов, которые зафиксировали, что различий нет, когда их на самом деле нет\");"
   ]
  },
  {
   "cell_type": "code",
   "execution_count": 95,
   "metadata": {
    "scrolled": true
   },
   "outputs": [
    {
     "data": {
      "application/vnd.plotly.v1+json": {
       "config": {
        "plotlyServerURL": "https://plot.ly"
       },
       "data": [
        {
         "hovertemplate": "share_not_winner=%{x}<br>prob_super=%{y}<br>batch_size_share_mu=%{marker.color}<extra></extra>",
         "legendgroup": "",
         "marker": {
          "color": [
           0.08,
           0.07,
           0.1,
           0.04,
           0.06,
           0.03,
           0.09,
           0.01,
           0.01,
           0.05,
           0.05,
           0.07,
           0.02,
           0.09,
           0.03,
           0.08,
           0.02,
           0.06,
           0.06,
           0.02,
           0.09,
           0.1,
           0.04,
           0.01,
           0.07,
           0.07,
           0.07,
           0.06,
           0.07,
           0.01,
           0.08,
           0.04,
           0.02,
           0.08,
           0.08,
           0.07,
           0.04,
           0.05,
           0.1,
           0.1,
           0.04,
           0.09,
           0.03,
           0.06,
           0.08,
           0.06,
           0.02,
           0.09,
           0.08,
           0.05,
           0.05,
           0.06,
           0.04,
           0.1,
           0.04,
           0.06,
           0.04,
           0.04,
           0.09,
           0.1,
           0.06,
           0.05,
           0.09,
           0.1,
           0.07,
           0.03,
           0.05,
           0.09,
           0.03,
           0.01,
           0.02,
           0.07,
           0.08,
           0.04,
           0.02,
           0.06,
           0.01,
           0.01,
           0.08,
           0.09,
           0.1,
           0.05,
           0.05,
           0.04,
           0.09,
           0.03,
           0.09,
           0.03,
           0.1,
           0.05,
           0.1,
           0.07,
           0.01,
           0.04,
           0.05,
           0.04,
           0.06,
           0.09,
           0.07,
           0.08,
           0.1,
           0.08,
           0.05,
           0.03,
           0.02,
           0.1,
           0.08,
           0.08,
           0.02,
           0.06,
           0.04,
           0.03,
           0.03,
           0.1,
           0.01,
           0.1,
           0.07,
           0.01,
           0.03,
           0.01,
           0.08,
           0.02,
           0.02,
           0.05,
           0.09,
           0.09,
           0.03,
           0.01,
           0.06,
           0.03,
           0.04,
           0.09,
           0.05,
           0.01,
           0.1,
           0.06,
           0.01,
           0.05,
           0.07,
           0.03,
           0.07,
           0.01,
           0.07,
           0.03,
           0.02,
           0.02,
           0.02,
           0.06,
           0.08,
           0.02
          ],
          "coloraxis": "coloraxis",
          "symbol": "circle"
         },
         "mode": "markers",
         "name": "",
         "orientation": "v",
         "showlegend": false,
         "type": "scatter",
         "x": [
          0.442,
          0.22,
          0.499,
          0.401,
          0.548,
          0.392,
          0.25,
          0.024,
          0.083,
          0.342,
          0.342,
          0.212,
          0.082,
          0.63,
          0.176,
          0.443,
          0.107,
          0.276,
          0.278,
          0.166,
          0.252,
          0.668,
          0.47,
          0.115,
          0.3,
          0.596,
          0.582,
          0.373,
          0.155,
          0.115,
          0.326,
          0.108,
          0.32,
          0.315,
          0.591,
          0.553,
          0.46,
          0.247,
          0.181,
          0.38,
          0.102,
          0.589,
          0.164,
          0.207,
          0.222,
          0.143,
          0.272,
          0.453,
          0.624,
          0.181,
          0.122,
          0.4,
          0.306,
          0.353,
          0.136,
          0.197,
          0.164,
          0.198,
          0.332,
          0.28,
          0.138,
          0.249,
          0.162,
          0.272,
          0.221,
          0.081,
          0.187,
          0.33,
          0.081,
          0.073,
          0.328,
          0.168,
          0.158,
          0.199,
          0.106,
          0.499,
          0.047,
          0.17,
          0.229,
          0.458,
          0.186,
          0.176,
          0.466,
          0.228,
          0.619,
          0.108,
          0.187,
          0.076,
          0.194,
          0.127,
          0.271,
          0.416,
          0.232,
          0.149,
          0.504,
          0.295,
          0.131,
          0.332,
          0.405,
          0.591,
          0.62,
          0.324,
          0.241,
          0.23,
          0.09,
          0.376,
          0.45,
          0.247,
          0.135,
          0.374,
          0.319,
          0.132,
          0.256,
          0.483,
          0.075,
          0.65,
          0.408,
          0.043,
          0.354,
          0.18,
          0.151,
          0.189,
          0.041,
          0.128,
          0.26,
          0.449,
          0.409,
          0.028,
          0.203,
          0.183,
          0.109,
          0.169,
          0.512,
          0.103,
          0.48,
          0.275,
          0.101,
          0.325,
          0.291,
          0.265,
          0.297,
          0.161,
          0.161,
          0.12,
          0.211,
          0.06,
          0.161,
          0.551,
          0.174,
          0.059
         ],
         "xaxis": "x",
         "y": [
          0.95,
          0.85,
          0.95,
          0.99,
          0.99,
          0.99,
          0.85,
          0.8,
          0.9,
          0.95,
          0.95,
          0.85,
          0.85,
          0.99,
          0.9,
          0.95,
          0.9,
          0.9,
          0.9,
          0.95,
          0.85,
          0.99,
          0.99,
          0.95,
          0.9,
          0.99,
          0.99,
          0.95,
          0.8,
          0.9,
          0.9,
          0.8,
          0.99,
          0.9,
          0.99,
          0.99,
          0.99,
          0.9,
          0.8,
          0.9,
          0.8,
          0.99,
          0.9,
          0.85,
          0.85,
          0.8,
          0.99,
          0.95,
          0.99,
          0.85,
          0.8,
          0.95,
          0.95,
          0.9,
          0.85,
          0.85,
          0.85,
          0.9,
          0.9,
          0.85,
          0.8,
          0.9,
          0.8,
          0.85,
          0.85,
          0.8,
          0.85,
          0.9,
          0.8,
          0.9,
          0.99,
          0.8,
          0.8,
          0.9,
          0.85,
          0.99,
          0.85,
          0.99,
          0.85,
          0.95,
          0.8,
          0.85,
          0.99,
          0.9,
          0.99,
          0.85,
          0.8,
          0.8,
          0.8,
          0.8,
          0.85,
          0.95,
          0.99,
          0.85,
          0.99,
          0.95,
          0.8,
          0.9,
          0.95,
          0.99,
          0.99,
          0.9,
          0.9,
          0.95,
          0.85,
          0.9,
          0.95,
          0.85,
          0.9,
          0.95,
          0.95,
          0.85,
          0.95,
          0.95,
          0.8,
          0.99,
          0.95,
          0.85,
          0.99,
          0.99,
          0.8,
          0.95,
          0.8,
          0.8,
          0.85,
          0.95,
          0.99,
          0.8,
          0.85,
          0.9,
          0.8,
          0.8,
          0.99,
          0.85,
          0.95,
          0.9,
          0.95,
          0.95,
          0.9,
          0.95,
          0.9,
          0.95,
          0.8,
          0.85,
          0.95,
          0.8,
          0.9,
          0.99,
          0.8,
          0.8
         ],
         "yaxis": "y"
        }
       ],
       "layout": {
        "coloraxis": {
         "colorbar": {
          "title": {
           "text": "batch_size_share_mu"
          }
         },
         "colorscale": [
          [
           0,
           "#0d0887"
          ],
          [
           0.1111111111111111,
           "#46039f"
          ],
          [
           0.2222222222222222,
           "#7201a8"
          ],
          [
           0.3333333333333333,
           "#9c179e"
          ],
          [
           0.4444444444444444,
           "#bd3786"
          ],
          [
           0.5555555555555556,
           "#d8576b"
          ],
          [
           0.6666666666666666,
           "#ed7953"
          ],
          [
           0.7777777777777778,
           "#fb9f3a"
          ],
          [
           0.8888888888888888,
           "#fdca26"
          ],
          [
           1,
           "#f0f921"
          ]
         ]
        },
        "legend": {
         "tracegroupgap": 0
        },
        "margin": {
         "t": 60
        },
        "template": {
         "data": {
          "bar": [
           {
            "error_x": {
             "color": "#2a3f5f"
            },
            "error_y": {
             "color": "#2a3f5f"
            },
            "marker": {
             "line": {
              "color": "#E5ECF6",
              "width": 0.5
             },
             "pattern": {
              "fillmode": "overlay",
              "size": 10,
              "solidity": 0.2
             }
            },
            "type": "bar"
           }
          ],
          "barpolar": [
           {
            "marker": {
             "line": {
              "color": "#E5ECF6",
              "width": 0.5
             },
             "pattern": {
              "fillmode": "overlay",
              "size": 10,
              "solidity": 0.2
             }
            },
            "type": "barpolar"
           }
          ],
          "carpet": [
           {
            "aaxis": {
             "endlinecolor": "#2a3f5f",
             "gridcolor": "white",
             "linecolor": "white",
             "minorgridcolor": "white",
             "startlinecolor": "#2a3f5f"
            },
            "baxis": {
             "endlinecolor": "#2a3f5f",
             "gridcolor": "white",
             "linecolor": "white",
             "minorgridcolor": "white",
             "startlinecolor": "#2a3f5f"
            },
            "type": "carpet"
           }
          ],
          "choropleth": [
           {
            "colorbar": {
             "outlinewidth": 0,
             "ticks": ""
            },
            "type": "choropleth"
           }
          ],
          "contour": [
           {
            "colorbar": {
             "outlinewidth": 0,
             "ticks": ""
            },
            "colorscale": [
             [
              0,
              "#0d0887"
             ],
             [
              0.1111111111111111,
              "#46039f"
             ],
             [
              0.2222222222222222,
              "#7201a8"
             ],
             [
              0.3333333333333333,
              "#9c179e"
             ],
             [
              0.4444444444444444,
              "#bd3786"
             ],
             [
              0.5555555555555556,
              "#d8576b"
             ],
             [
              0.6666666666666666,
              "#ed7953"
             ],
             [
              0.7777777777777778,
              "#fb9f3a"
             ],
             [
              0.8888888888888888,
              "#fdca26"
             ],
             [
              1,
              "#f0f921"
             ]
            ],
            "type": "contour"
           }
          ],
          "contourcarpet": [
           {
            "colorbar": {
             "outlinewidth": 0,
             "ticks": ""
            },
            "type": "contourcarpet"
           }
          ],
          "heatmap": [
           {
            "colorbar": {
             "outlinewidth": 0,
             "ticks": ""
            },
            "colorscale": [
             [
              0,
              "#0d0887"
             ],
             [
              0.1111111111111111,
              "#46039f"
             ],
             [
              0.2222222222222222,
              "#7201a8"
             ],
             [
              0.3333333333333333,
              "#9c179e"
             ],
             [
              0.4444444444444444,
              "#bd3786"
             ],
             [
              0.5555555555555556,
              "#d8576b"
             ],
             [
              0.6666666666666666,
              "#ed7953"
             ],
             [
              0.7777777777777778,
              "#fb9f3a"
             ],
             [
              0.8888888888888888,
              "#fdca26"
             ],
             [
              1,
              "#f0f921"
             ]
            ],
            "type": "heatmap"
           }
          ],
          "heatmapgl": [
           {
            "colorbar": {
             "outlinewidth": 0,
             "ticks": ""
            },
            "colorscale": [
             [
              0,
              "#0d0887"
             ],
             [
              0.1111111111111111,
              "#46039f"
             ],
             [
              0.2222222222222222,
              "#7201a8"
             ],
             [
              0.3333333333333333,
              "#9c179e"
             ],
             [
              0.4444444444444444,
              "#bd3786"
             ],
             [
              0.5555555555555556,
              "#d8576b"
             ],
             [
              0.6666666666666666,
              "#ed7953"
             ],
             [
              0.7777777777777778,
              "#fb9f3a"
             ],
             [
              0.8888888888888888,
              "#fdca26"
             ],
             [
              1,
              "#f0f921"
             ]
            ],
            "type": "heatmapgl"
           }
          ],
          "histogram": [
           {
            "marker": {
             "pattern": {
              "fillmode": "overlay",
              "size": 10,
              "solidity": 0.2
             }
            },
            "type": "histogram"
           }
          ],
          "histogram2d": [
           {
            "colorbar": {
             "outlinewidth": 0,
             "ticks": ""
            },
            "colorscale": [
             [
              0,
              "#0d0887"
             ],
             [
              0.1111111111111111,
              "#46039f"
             ],
             [
              0.2222222222222222,
              "#7201a8"
             ],
             [
              0.3333333333333333,
              "#9c179e"
             ],
             [
              0.4444444444444444,
              "#bd3786"
             ],
             [
              0.5555555555555556,
              "#d8576b"
             ],
             [
              0.6666666666666666,
              "#ed7953"
             ],
             [
              0.7777777777777778,
              "#fb9f3a"
             ],
             [
              0.8888888888888888,
              "#fdca26"
             ],
             [
              1,
              "#f0f921"
             ]
            ],
            "type": "histogram2d"
           }
          ],
          "histogram2dcontour": [
           {
            "colorbar": {
             "outlinewidth": 0,
             "ticks": ""
            },
            "colorscale": [
             [
              0,
              "#0d0887"
             ],
             [
              0.1111111111111111,
              "#46039f"
             ],
             [
              0.2222222222222222,
              "#7201a8"
             ],
             [
              0.3333333333333333,
              "#9c179e"
             ],
             [
              0.4444444444444444,
              "#bd3786"
             ],
             [
              0.5555555555555556,
              "#d8576b"
             ],
             [
              0.6666666666666666,
              "#ed7953"
             ],
             [
              0.7777777777777778,
              "#fb9f3a"
             ],
             [
              0.8888888888888888,
              "#fdca26"
             ],
             [
              1,
              "#f0f921"
             ]
            ],
            "type": "histogram2dcontour"
           }
          ],
          "mesh3d": [
           {
            "colorbar": {
             "outlinewidth": 0,
             "ticks": ""
            },
            "type": "mesh3d"
           }
          ],
          "parcoords": [
           {
            "line": {
             "colorbar": {
              "outlinewidth": 0,
              "ticks": ""
             }
            },
            "type": "parcoords"
           }
          ],
          "pie": [
           {
            "automargin": true,
            "type": "pie"
           }
          ],
          "scatter": [
           {
            "marker": {
             "colorbar": {
              "outlinewidth": 0,
              "ticks": ""
             }
            },
            "type": "scatter"
           }
          ],
          "scatter3d": [
           {
            "line": {
             "colorbar": {
              "outlinewidth": 0,
              "ticks": ""
             }
            },
            "marker": {
             "colorbar": {
              "outlinewidth": 0,
              "ticks": ""
             }
            },
            "type": "scatter3d"
           }
          ],
          "scattercarpet": [
           {
            "marker": {
             "colorbar": {
              "outlinewidth": 0,
              "ticks": ""
             }
            },
            "type": "scattercarpet"
           }
          ],
          "scattergeo": [
           {
            "marker": {
             "colorbar": {
              "outlinewidth": 0,
              "ticks": ""
             }
            },
            "type": "scattergeo"
           }
          ],
          "scattergl": [
           {
            "marker": {
             "colorbar": {
              "outlinewidth": 0,
              "ticks": ""
             }
            },
            "type": "scattergl"
           }
          ],
          "scattermapbox": [
           {
            "marker": {
             "colorbar": {
              "outlinewidth": 0,
              "ticks": ""
             }
            },
            "type": "scattermapbox"
           }
          ],
          "scatterpolar": [
           {
            "marker": {
             "colorbar": {
              "outlinewidth": 0,
              "ticks": ""
             }
            },
            "type": "scatterpolar"
           }
          ],
          "scatterpolargl": [
           {
            "marker": {
             "colorbar": {
              "outlinewidth": 0,
              "ticks": ""
             }
            },
            "type": "scatterpolargl"
           }
          ],
          "scatterternary": [
           {
            "marker": {
             "colorbar": {
              "outlinewidth": 0,
              "ticks": ""
             }
            },
            "type": "scatterternary"
           }
          ],
          "surface": [
           {
            "colorbar": {
             "outlinewidth": 0,
             "ticks": ""
            },
            "colorscale": [
             [
              0,
              "#0d0887"
             ],
             [
              0.1111111111111111,
              "#46039f"
             ],
             [
              0.2222222222222222,
              "#7201a8"
             ],
             [
              0.3333333333333333,
              "#9c179e"
             ],
             [
              0.4444444444444444,
              "#bd3786"
             ],
             [
              0.5555555555555556,
              "#d8576b"
             ],
             [
              0.6666666666666666,
              "#ed7953"
             ],
             [
              0.7777777777777778,
              "#fb9f3a"
             ],
             [
              0.8888888888888888,
              "#fdca26"
             ],
             [
              1,
              "#f0f921"
             ]
            ],
            "type": "surface"
           }
          ],
          "table": [
           {
            "cells": {
             "fill": {
              "color": "#EBF0F8"
             },
             "line": {
              "color": "white"
             }
            },
            "header": {
             "fill": {
              "color": "#C8D4E3"
             },
             "line": {
              "color": "white"
             }
            },
            "type": "table"
           }
          ]
         },
         "layout": {
          "annotationdefaults": {
           "arrowcolor": "#2a3f5f",
           "arrowhead": 0,
           "arrowwidth": 1
          },
          "autotypenumbers": "strict",
          "coloraxis": {
           "colorbar": {
            "outlinewidth": 0,
            "ticks": ""
           }
          },
          "colorscale": {
           "diverging": [
            [
             0,
             "#8e0152"
            ],
            [
             0.1,
             "#c51b7d"
            ],
            [
             0.2,
             "#de77ae"
            ],
            [
             0.3,
             "#f1b6da"
            ],
            [
             0.4,
             "#fde0ef"
            ],
            [
             0.5,
             "#f7f7f7"
            ],
            [
             0.6,
             "#e6f5d0"
            ],
            [
             0.7,
             "#b8e186"
            ],
            [
             0.8,
             "#7fbc41"
            ],
            [
             0.9,
             "#4d9221"
            ],
            [
             1,
             "#276419"
            ]
           ],
           "sequential": [
            [
             0,
             "#0d0887"
            ],
            [
             0.1111111111111111,
             "#46039f"
            ],
            [
             0.2222222222222222,
             "#7201a8"
            ],
            [
             0.3333333333333333,
             "#9c179e"
            ],
            [
             0.4444444444444444,
             "#bd3786"
            ],
            [
             0.5555555555555556,
             "#d8576b"
            ],
            [
             0.6666666666666666,
             "#ed7953"
            ],
            [
             0.7777777777777778,
             "#fb9f3a"
            ],
            [
             0.8888888888888888,
             "#fdca26"
            ],
            [
             1,
             "#f0f921"
            ]
           ],
           "sequentialminus": [
            [
             0,
             "#0d0887"
            ],
            [
             0.1111111111111111,
             "#46039f"
            ],
            [
             0.2222222222222222,
             "#7201a8"
            ],
            [
             0.3333333333333333,
             "#9c179e"
            ],
            [
             0.4444444444444444,
             "#bd3786"
            ],
            [
             0.5555555555555556,
             "#d8576b"
            ],
            [
             0.6666666666666666,
             "#ed7953"
            ],
            [
             0.7777777777777778,
             "#fb9f3a"
            ],
            [
             0.8888888888888888,
             "#fdca26"
            ],
            [
             1,
             "#f0f921"
            ]
           ]
          },
          "colorway": [
           "#636efa",
           "#EF553B",
           "#00cc96",
           "#ab63fa",
           "#FFA15A",
           "#19d3f3",
           "#FF6692",
           "#B6E880",
           "#FF97FF",
           "#FECB52"
          ],
          "font": {
           "color": "#2a3f5f"
          },
          "geo": {
           "bgcolor": "white",
           "lakecolor": "white",
           "landcolor": "#E5ECF6",
           "showlakes": true,
           "showland": true,
           "subunitcolor": "white"
          },
          "hoverlabel": {
           "align": "left"
          },
          "hovermode": "closest",
          "mapbox": {
           "style": "light"
          },
          "paper_bgcolor": "white",
          "plot_bgcolor": "#E5ECF6",
          "polar": {
           "angularaxis": {
            "gridcolor": "white",
            "linecolor": "white",
            "ticks": ""
           },
           "bgcolor": "#E5ECF6",
           "radialaxis": {
            "gridcolor": "white",
            "linecolor": "white",
            "ticks": ""
           }
          },
          "scene": {
           "xaxis": {
            "backgroundcolor": "#E5ECF6",
            "gridcolor": "white",
            "gridwidth": 2,
            "linecolor": "white",
            "showbackground": true,
            "ticks": "",
            "zerolinecolor": "white"
           },
           "yaxis": {
            "backgroundcolor": "#E5ECF6",
            "gridcolor": "white",
            "gridwidth": 2,
            "linecolor": "white",
            "showbackground": true,
            "ticks": "",
            "zerolinecolor": "white"
           },
           "zaxis": {
            "backgroundcolor": "#E5ECF6",
            "gridcolor": "white",
            "gridwidth": 2,
            "linecolor": "white",
            "showbackground": true,
            "ticks": "",
            "zerolinecolor": "white"
           }
          },
          "shapedefaults": {
           "line": {
            "color": "#2a3f5f"
           }
          },
          "ternary": {
           "aaxis": {
            "gridcolor": "white",
            "linecolor": "white",
            "ticks": ""
           },
           "baxis": {
            "gridcolor": "white",
            "linecolor": "white",
            "ticks": ""
           },
           "bgcolor": "#E5ECF6",
           "caxis": {
            "gridcolor": "white",
            "linecolor": "white",
            "ticks": ""
           }
          },
          "title": {
           "x": 0.05
          },
          "xaxis": {
           "automargin": true,
           "gridcolor": "white",
           "linecolor": "white",
           "ticks": "",
           "title": {
            "standoff": 15
           },
           "zerolinecolor": "white",
           "zerolinewidth": 2
          },
          "yaxis": {
           "automargin": true,
           "gridcolor": "white",
           "linecolor": "white",
           "ticks": "",
           "title": {
            "standoff": 15
           },
           "zerolinecolor": "white",
           "zerolinewidth": 2
          }
         }
        },
        "xaxis": {
         "anchor": "y",
         "domain": [
          0,
          1
         ],
         "title": {
          "text": "share_not_winner"
         }
        },
        "yaxis": {
         "anchor": "x",
         "domain": [
          0,
          1
         ],
         "title": {
          "text": "prob_super"
         }
        }
       }
      },
      "text/html": [
       "<div>                            <div id=\"7c0db055-8fb3-45ff-84ee-906d557397d7\" class=\"plotly-graph-div\" style=\"height:525px; width:100%;\"></div>            <script type=\"text/javascript\">                require([\"plotly\"], function(Plotly) {                    window.PLOTLYENV=window.PLOTLYENV || {};                                    if (document.getElementById(\"7c0db055-8fb3-45ff-84ee-906d557397d7\")) {                    Plotly.newPlot(                        \"7c0db055-8fb3-45ff-84ee-906d557397d7\",                        [{\"hovertemplate\":\"share_not_winner=%{x}<br>prob_super=%{y}<br>batch_size_share_mu=%{marker.color}<extra></extra>\",\"legendgroup\":\"\",\"marker\":{\"color\":[0.08,0.07,0.1,0.04,0.06,0.03,0.09,0.01,0.01,0.05,0.05,0.07,0.02,0.09,0.03,0.08,0.02,0.06,0.06,0.02,0.09,0.1,0.04,0.01,0.07,0.07,0.07,0.06,0.07,0.01,0.08,0.04,0.02,0.08,0.08,0.07,0.04,0.05,0.1,0.1,0.04,0.09,0.03,0.06,0.08,0.06,0.02,0.09,0.08,0.05,0.05,0.06,0.04,0.1,0.04,0.06,0.04,0.04,0.09,0.1,0.06,0.05,0.09,0.1,0.07,0.03,0.05,0.09,0.03,0.01,0.02,0.07,0.08,0.04,0.02,0.06,0.01,0.01,0.08,0.09,0.1,0.05,0.05,0.04,0.09,0.03,0.09,0.03,0.1,0.05,0.1,0.07,0.01,0.04,0.05,0.04,0.06,0.09,0.07,0.08,0.1,0.08,0.05,0.03,0.02,0.1,0.08,0.08,0.02,0.06,0.04,0.03,0.03,0.1,0.01,0.1,0.07,0.01,0.03,0.01,0.08,0.02,0.02,0.05,0.09,0.09,0.03,0.01,0.06,0.03,0.04,0.09,0.05,0.01,0.1,0.06,0.01,0.05,0.07,0.03,0.07,0.01,0.07,0.03,0.02,0.02,0.02,0.06,0.08,0.02],\"coloraxis\":\"coloraxis\",\"symbol\":\"circle\"},\"mode\":\"markers\",\"name\":\"\",\"orientation\":\"v\",\"showlegend\":false,\"type\":\"scatter\",\"x\":[0.442,0.22,0.499,0.401,0.548,0.392,0.25,0.024,0.083,0.342,0.342,0.212,0.082,0.63,0.176,0.443,0.107,0.276,0.278,0.166,0.252,0.668,0.47,0.115,0.3,0.596,0.582,0.373,0.155,0.115,0.326,0.108,0.32,0.315,0.591,0.553,0.46,0.247,0.181,0.38,0.102,0.589,0.164,0.207,0.222,0.143,0.272,0.453,0.624,0.181,0.122,0.4,0.306,0.353,0.136,0.197,0.164,0.198,0.332,0.28,0.138,0.249,0.162,0.272,0.221,0.081,0.187,0.33,0.081,0.073,0.328,0.168,0.158,0.199,0.106,0.499,0.047,0.17,0.229,0.458,0.186,0.176,0.466,0.228,0.619,0.108,0.187,0.076,0.194,0.127,0.271,0.416,0.232,0.149,0.504,0.295,0.131,0.332,0.405,0.591,0.62,0.324,0.241,0.23,0.09,0.376,0.45,0.247,0.135,0.374,0.319,0.132,0.256,0.483,0.075,0.65,0.408,0.043,0.354,0.18,0.151,0.189,0.041,0.128,0.26,0.449,0.409,0.028,0.203,0.183,0.109,0.169,0.512,0.103,0.48,0.275,0.101,0.325,0.291,0.265,0.297,0.161,0.161,0.12,0.211,0.06,0.161,0.551,0.174,0.059],\"xaxis\":\"x\",\"y\":[0.95,0.85,0.95,0.99,0.99,0.99,0.85,0.8,0.9,0.95,0.95,0.85,0.85,0.99,0.9,0.95,0.9,0.9,0.9,0.95,0.85,0.99,0.99,0.95,0.9,0.99,0.99,0.95,0.8,0.9,0.9,0.8,0.99,0.9,0.99,0.99,0.99,0.9,0.8,0.9,0.8,0.99,0.9,0.85,0.85,0.8,0.99,0.95,0.99,0.85,0.8,0.95,0.95,0.9,0.85,0.85,0.85,0.9,0.9,0.85,0.8,0.9,0.8,0.85,0.85,0.8,0.85,0.9,0.8,0.9,0.99,0.8,0.8,0.9,0.85,0.99,0.85,0.99,0.85,0.95,0.8,0.85,0.99,0.9,0.99,0.85,0.8,0.8,0.8,0.8,0.85,0.95,0.99,0.85,0.99,0.95,0.8,0.9,0.95,0.99,0.99,0.9,0.9,0.95,0.85,0.9,0.95,0.85,0.9,0.95,0.95,0.85,0.95,0.95,0.8,0.99,0.95,0.85,0.99,0.99,0.8,0.95,0.8,0.8,0.85,0.95,0.99,0.8,0.85,0.9,0.8,0.8,0.99,0.85,0.95,0.9,0.95,0.95,0.9,0.95,0.9,0.95,0.8,0.85,0.95,0.8,0.9,0.99,0.8,0.8],\"yaxis\":\"y\"}],                        {\"coloraxis\":{\"colorbar\":{\"title\":{\"text\":\"batch_size_share_mu\"}},\"colorscale\":[[0.0,\"#0d0887\"],[0.1111111111111111,\"#46039f\"],[0.2222222222222222,\"#7201a8\"],[0.3333333333333333,\"#9c179e\"],[0.4444444444444444,\"#bd3786\"],[0.5555555555555556,\"#d8576b\"],[0.6666666666666666,\"#ed7953\"],[0.7777777777777778,\"#fb9f3a\"],[0.8888888888888888,\"#fdca26\"],[1.0,\"#f0f921\"]]},\"legend\":{\"tracegroupgap\":0},\"margin\":{\"t\":60},\"template\":{\"data\":{\"bar\":[{\"error_x\":{\"color\":\"#2a3f5f\"},\"error_y\":{\"color\":\"#2a3f5f\"},\"marker\":{\"line\":{\"color\":\"#E5ECF6\",\"width\":0.5},\"pattern\":{\"fillmode\":\"overlay\",\"size\":10,\"solidity\":0.2}},\"type\":\"bar\"}],\"barpolar\":[{\"marker\":{\"line\":{\"color\":\"#E5ECF6\",\"width\":0.5},\"pattern\":{\"fillmode\":\"overlay\",\"size\":10,\"solidity\":0.2}},\"type\":\"barpolar\"}],\"carpet\":[{\"aaxis\":{\"endlinecolor\":\"#2a3f5f\",\"gridcolor\":\"white\",\"linecolor\":\"white\",\"minorgridcolor\":\"white\",\"startlinecolor\":\"#2a3f5f\"},\"baxis\":{\"endlinecolor\":\"#2a3f5f\",\"gridcolor\":\"white\",\"linecolor\":\"white\",\"minorgridcolor\":\"white\",\"startlinecolor\":\"#2a3f5f\"},\"type\":\"carpet\"}],\"choropleth\":[{\"colorbar\":{\"outlinewidth\":0,\"ticks\":\"\"},\"type\":\"choropleth\"}],\"contour\":[{\"colorbar\":{\"outlinewidth\":0,\"ticks\":\"\"},\"colorscale\":[[0.0,\"#0d0887\"],[0.1111111111111111,\"#46039f\"],[0.2222222222222222,\"#7201a8\"],[0.3333333333333333,\"#9c179e\"],[0.4444444444444444,\"#bd3786\"],[0.5555555555555556,\"#d8576b\"],[0.6666666666666666,\"#ed7953\"],[0.7777777777777778,\"#fb9f3a\"],[0.8888888888888888,\"#fdca26\"],[1.0,\"#f0f921\"]],\"type\":\"contour\"}],\"contourcarpet\":[{\"colorbar\":{\"outlinewidth\":0,\"ticks\":\"\"},\"type\":\"contourcarpet\"}],\"heatmap\":[{\"colorbar\":{\"outlinewidth\":0,\"ticks\":\"\"},\"colorscale\":[[0.0,\"#0d0887\"],[0.1111111111111111,\"#46039f\"],[0.2222222222222222,\"#7201a8\"],[0.3333333333333333,\"#9c179e\"],[0.4444444444444444,\"#bd3786\"],[0.5555555555555556,\"#d8576b\"],[0.6666666666666666,\"#ed7953\"],[0.7777777777777778,\"#fb9f3a\"],[0.8888888888888888,\"#fdca26\"],[1.0,\"#f0f921\"]],\"type\":\"heatmap\"}],\"heatmapgl\":[{\"colorbar\":{\"outlinewidth\":0,\"ticks\":\"\"},\"colorscale\":[[0.0,\"#0d0887\"],[0.1111111111111111,\"#46039f\"],[0.2222222222222222,\"#7201a8\"],[0.3333333333333333,\"#9c179e\"],[0.4444444444444444,\"#bd3786\"],[0.5555555555555556,\"#d8576b\"],[0.6666666666666666,\"#ed7953\"],[0.7777777777777778,\"#fb9f3a\"],[0.8888888888888888,\"#fdca26\"],[1.0,\"#f0f921\"]],\"type\":\"heatmapgl\"}],\"histogram\":[{\"marker\":{\"pattern\":{\"fillmode\":\"overlay\",\"size\":10,\"solidity\":0.2}},\"type\":\"histogram\"}],\"histogram2d\":[{\"colorbar\":{\"outlinewidth\":0,\"ticks\":\"\"},\"colorscale\":[[0.0,\"#0d0887\"],[0.1111111111111111,\"#46039f\"],[0.2222222222222222,\"#7201a8\"],[0.3333333333333333,\"#9c179e\"],[0.4444444444444444,\"#bd3786\"],[0.5555555555555556,\"#d8576b\"],[0.6666666666666666,\"#ed7953\"],[0.7777777777777778,\"#fb9f3a\"],[0.8888888888888888,\"#fdca26\"],[1.0,\"#f0f921\"]],\"type\":\"histogram2d\"}],\"histogram2dcontour\":[{\"colorbar\":{\"outlinewidth\":0,\"ticks\":\"\"},\"colorscale\":[[0.0,\"#0d0887\"],[0.1111111111111111,\"#46039f\"],[0.2222222222222222,\"#7201a8\"],[0.3333333333333333,\"#9c179e\"],[0.4444444444444444,\"#bd3786\"],[0.5555555555555556,\"#d8576b\"],[0.6666666666666666,\"#ed7953\"],[0.7777777777777778,\"#fb9f3a\"],[0.8888888888888888,\"#fdca26\"],[1.0,\"#f0f921\"]],\"type\":\"histogram2dcontour\"}],\"mesh3d\":[{\"colorbar\":{\"outlinewidth\":0,\"ticks\":\"\"},\"type\":\"mesh3d\"}],\"parcoords\":[{\"line\":{\"colorbar\":{\"outlinewidth\":0,\"ticks\":\"\"}},\"type\":\"parcoords\"}],\"pie\":[{\"automargin\":true,\"type\":\"pie\"}],\"scatter\":[{\"marker\":{\"colorbar\":{\"outlinewidth\":0,\"ticks\":\"\"}},\"type\":\"scatter\"}],\"scatter3d\":[{\"line\":{\"colorbar\":{\"outlinewidth\":0,\"ticks\":\"\"}},\"marker\":{\"colorbar\":{\"outlinewidth\":0,\"ticks\":\"\"}},\"type\":\"scatter3d\"}],\"scattercarpet\":[{\"marker\":{\"colorbar\":{\"outlinewidth\":0,\"ticks\":\"\"}},\"type\":\"scattercarpet\"}],\"scattergeo\":[{\"marker\":{\"colorbar\":{\"outlinewidth\":0,\"ticks\":\"\"}},\"type\":\"scattergeo\"}],\"scattergl\":[{\"marker\":{\"colorbar\":{\"outlinewidth\":0,\"ticks\":\"\"}},\"type\":\"scattergl\"}],\"scattermapbox\":[{\"marker\":{\"colorbar\":{\"outlinewidth\":0,\"ticks\":\"\"}},\"type\":\"scattermapbox\"}],\"scatterpolar\":[{\"marker\":{\"colorbar\":{\"outlinewidth\":0,\"ticks\":\"\"}},\"type\":\"scatterpolar\"}],\"scatterpolargl\":[{\"marker\":{\"colorbar\":{\"outlinewidth\":0,\"ticks\":\"\"}},\"type\":\"scatterpolargl\"}],\"scatterternary\":[{\"marker\":{\"colorbar\":{\"outlinewidth\":0,\"ticks\":\"\"}},\"type\":\"scatterternary\"}],\"surface\":[{\"colorbar\":{\"outlinewidth\":0,\"ticks\":\"\"},\"colorscale\":[[0.0,\"#0d0887\"],[0.1111111111111111,\"#46039f\"],[0.2222222222222222,\"#7201a8\"],[0.3333333333333333,\"#9c179e\"],[0.4444444444444444,\"#bd3786\"],[0.5555555555555556,\"#d8576b\"],[0.6666666666666666,\"#ed7953\"],[0.7777777777777778,\"#fb9f3a\"],[0.8888888888888888,\"#fdca26\"],[1.0,\"#f0f921\"]],\"type\":\"surface\"}],\"table\":[{\"cells\":{\"fill\":{\"color\":\"#EBF0F8\"},\"line\":{\"color\":\"white\"}},\"header\":{\"fill\":{\"color\":\"#C8D4E3\"},\"line\":{\"color\":\"white\"}},\"type\":\"table\"}]},\"layout\":{\"annotationdefaults\":{\"arrowcolor\":\"#2a3f5f\",\"arrowhead\":0,\"arrowwidth\":1},\"autotypenumbers\":\"strict\",\"coloraxis\":{\"colorbar\":{\"outlinewidth\":0,\"ticks\":\"\"}},\"colorscale\":{\"diverging\":[[0,\"#8e0152\"],[0.1,\"#c51b7d\"],[0.2,\"#de77ae\"],[0.3,\"#f1b6da\"],[0.4,\"#fde0ef\"],[0.5,\"#f7f7f7\"],[0.6,\"#e6f5d0\"],[0.7,\"#b8e186\"],[0.8,\"#7fbc41\"],[0.9,\"#4d9221\"],[1,\"#276419\"]],\"sequential\":[[0.0,\"#0d0887\"],[0.1111111111111111,\"#46039f\"],[0.2222222222222222,\"#7201a8\"],[0.3333333333333333,\"#9c179e\"],[0.4444444444444444,\"#bd3786\"],[0.5555555555555556,\"#d8576b\"],[0.6666666666666666,\"#ed7953\"],[0.7777777777777778,\"#fb9f3a\"],[0.8888888888888888,\"#fdca26\"],[1.0,\"#f0f921\"]],\"sequentialminus\":[[0.0,\"#0d0887\"],[0.1111111111111111,\"#46039f\"],[0.2222222222222222,\"#7201a8\"],[0.3333333333333333,\"#9c179e\"],[0.4444444444444444,\"#bd3786\"],[0.5555555555555556,\"#d8576b\"],[0.6666666666666666,\"#ed7953\"],[0.7777777777777778,\"#fb9f3a\"],[0.8888888888888888,\"#fdca26\"],[1.0,\"#f0f921\"]]},\"colorway\":[\"#636efa\",\"#EF553B\",\"#00cc96\",\"#ab63fa\",\"#FFA15A\",\"#19d3f3\",\"#FF6692\",\"#B6E880\",\"#FF97FF\",\"#FECB52\"],\"font\":{\"color\":\"#2a3f5f\"},\"geo\":{\"bgcolor\":\"white\",\"lakecolor\":\"white\",\"landcolor\":\"#E5ECF6\",\"showlakes\":true,\"showland\":true,\"subunitcolor\":\"white\"},\"hoverlabel\":{\"align\":\"left\"},\"hovermode\":\"closest\",\"mapbox\":{\"style\":\"light\"},\"paper_bgcolor\":\"white\",\"plot_bgcolor\":\"#E5ECF6\",\"polar\":{\"angularaxis\":{\"gridcolor\":\"white\",\"linecolor\":\"white\",\"ticks\":\"\"},\"bgcolor\":\"#E5ECF6\",\"radialaxis\":{\"gridcolor\":\"white\",\"linecolor\":\"white\",\"ticks\":\"\"}},\"scene\":{\"xaxis\":{\"backgroundcolor\":\"#E5ECF6\",\"gridcolor\":\"white\",\"gridwidth\":2,\"linecolor\":\"white\",\"showbackground\":true,\"ticks\":\"\",\"zerolinecolor\":\"white\"},\"yaxis\":{\"backgroundcolor\":\"#E5ECF6\",\"gridcolor\":\"white\",\"gridwidth\":2,\"linecolor\":\"white\",\"showbackground\":true,\"ticks\":\"\",\"zerolinecolor\":\"white\"},\"zaxis\":{\"backgroundcolor\":\"#E5ECF6\",\"gridcolor\":\"white\",\"gridwidth\":2,\"linecolor\":\"white\",\"showbackground\":true,\"ticks\":\"\",\"zerolinecolor\":\"white\"}},\"shapedefaults\":{\"line\":{\"color\":\"#2a3f5f\"}},\"ternary\":{\"aaxis\":{\"gridcolor\":\"white\",\"linecolor\":\"white\",\"ticks\":\"\"},\"baxis\":{\"gridcolor\":\"white\",\"linecolor\":\"white\",\"ticks\":\"\"},\"bgcolor\":\"#E5ECF6\",\"caxis\":{\"gridcolor\":\"white\",\"linecolor\":\"white\",\"ticks\":\"\"}},\"title\":{\"x\":0.05},\"xaxis\":{\"automargin\":true,\"gridcolor\":\"white\",\"linecolor\":\"white\",\"ticks\":\"\",\"title\":{\"standoff\":15},\"zerolinecolor\":\"white\",\"zerolinewidth\":2},\"yaxis\":{\"automargin\":true,\"gridcolor\":\"white\",\"linecolor\":\"white\",\"ticks\":\"\",\"title\":{\"standoff\":15},\"zerolinecolor\":\"white\",\"zerolinewidth\":2}}},\"xaxis\":{\"anchor\":\"y\",\"domain\":[0.0,1.0],\"title\":{\"text\":\"share_not_winner\"}},\"yaxis\":{\"anchor\":\"x\",\"domain\":[0.0,1.0],\"title\":{\"text\":\"prob_super\"}}},                        {\"responsive\": true}                    ).then(function(){\n",
       "                            \n",
       "var gd = document.getElementById('7c0db055-8fb3-45ff-84ee-906d557397d7');\n",
       "var x = new MutationObserver(function (mutations, observer) {{\n",
       "        var display = window.getComputedStyle(gd).display;\n",
       "        if (!display || display === 'none') {{\n",
       "            console.log([gd, 'removed!']);\n",
       "            Plotly.purge(gd);\n",
       "            observer.disconnect();\n",
       "        }}\n",
       "}});\n",
       "\n",
       "// Listen for the removal of the full notebook cells\n",
       "var notebookContainer = gd.closest('#notebook-container');\n",
       "if (notebookContainer) {{\n",
       "    x.observe(notebookContainer, {childList: true});\n",
       "}}\n",
       "\n",
       "// Listen for the clearing of the current output cell\n",
       "var outputEl = gd.closest('.output');\n",
       "if (outputEl) {{\n",
       "    x.observe(outputEl, {childList: true});\n",
       "}}\n",
       "\n",
       "                        })                };                });            </script>        </div>"
      ]
     },
     "metadata": {},
     "output_type": "display_data"
    }
   ],
   "source": [
    "plot_df = thompson_results_df.query(\"\"\"mde == '0' & multi_armed == 'True'\"\"\").reset_index()[\n",
    "    ['share_not_winner', \"prob_super\",'batch_size_share_mu']].astype(float)\n",
    "fig = px.scatter(plot_df, x=\"share_not_winner\", y=\"prob_super\", color=\"batch_size_share_mu\")\n",
    "fig.show()"
   ]
  },
  {
   "cell_type": "code",
   "execution_count": 103,
   "metadata": {
    "scrolled": true
   },
   "outputs": [
    {
     "data": {
      "application/vnd.plotly.v1+json": {
       "config": {
        "plotlyServerURL": "https://plot.ly"
       },
       "data": [
        {
         "hovertemplate": "share_test_winner=%{x}<br>prob_super=%{y}<br>batch_size_share_mu=%{marker.color}<extra></extra>",
         "legendgroup": "",
         "marker": {
          "color": [
           0.09,
           0.01,
           0.1,
           0.08,
           0.04,
           0.01,
           0.05,
           0.04,
           0.06,
           0.04,
           0.05,
           0.05,
           0.03,
           0.07,
           0.07,
           0.07,
           0.01,
           0.1,
           0.06,
           0.09,
           0.08,
           0.08,
           0.03,
           0.1,
           0.01,
           0.04,
           0.04,
           0.09,
           0.1,
           0.08,
           0.01,
           0.07,
           0.04,
           0.1,
           0.04,
           0.03,
           0.06,
           0.03,
           0.08,
           0.07,
           0.09,
           0.1,
           0.01,
           0.08,
           0.02,
           0.05,
           0.02,
           0.1,
           0.09,
           0.08,
           0.02,
           0.08,
           0.03,
           0.04,
           0.06,
           0.04,
           0.07,
           0.07,
           0.03,
           0.01,
           0.09,
           0.03,
           0.06,
           0.08,
           0.07,
           0.05,
           0.05,
           0.05,
           0.08,
           0.02,
           0.09,
           0.05,
           0.06,
           0.1,
           0.1,
           0.05,
           0.01,
           0.06,
           0.07,
           0.03,
           0.05,
           0.04,
           0.06,
           0.01,
           0.04,
           0.09,
           0.07,
           0.05,
           0.07,
           0.08,
           0.08,
           0.04,
           0.03,
           0.07,
           0.06,
           0.05,
           0.09,
           0.05,
           0.01,
           0.06,
           0.1,
           0.03,
           0.09,
           0.03,
           0.09,
           0.02,
           0.08,
           0.06,
           0.05,
           0.03,
           0.05,
           0.01,
           0.1,
           0.02,
           0.09,
           0.03,
           0.06,
           0.03,
           0.09,
           0.01,
           0.04,
           0.1,
           0.09,
           0.06,
           0.03,
           0.07,
           0.02,
           0.1,
           0.04,
           0.1,
           0.02,
           0.01,
           0.03,
           0.04,
           0.02,
           0.09,
           0.07,
           0.05,
           0.02,
           0.1,
           0.05,
           0.02,
           0.03,
           0.02,
           0.08,
           0.03,
           0.08,
           0.02,
           0.04,
           0.05,
           0.03,
           0.02,
           0.01,
           0.03,
           0.05,
           0.06,
           0.06,
           0.01,
           0.02,
           0.02,
           0.04,
           0.02,
           0.1,
           0.05,
           0.01,
           0.07,
           0.04,
           0.09,
           0.02,
           0.02,
           0.03,
           0.03,
           0.09,
           0.04,
           0.1,
           0.07,
           0.03,
           0.06,
           0.1,
           0.08,
           0.07,
           0.03,
           0.09,
           0.01,
           0.06,
           0.04,
           0.06,
           0.09,
           0.1,
           0.07,
           0.01,
           0.03,
           0.01,
           0.06,
           0.1,
           0.09,
           0.02,
           0.05,
           0.09,
           0.09,
           0.02,
           0.09,
           0.06,
           0.04,
           0.06,
           0.01,
           0.02,
           0.01,
           0.06,
           0.02,
           0.09,
           0.1,
           0.02,
           0.07,
           0.05,
           0.1,
           0.01,
           0.08,
           0.06,
           0.02,
           0.07,
           0.1,
           0.07,
           0.01,
           0.03,
           0.08,
           0.1,
           0.07,
           0.02,
           0.07,
           0.04,
           0.05,
           0.04,
           0.1,
           0.08,
           0.02,
           0.1,
           0.06,
           0.06,
           0.09,
           0.01,
           0.09,
           0.03,
           0.04,
           0.08,
           0.02,
           0.06,
           0.03,
           0.06,
           0.08,
           0.04,
           0.09,
           0.04,
           0.08,
           0.05,
           0.05,
           0.08,
           0.07,
           0.05,
           0.04,
           0.05,
           0.07,
           0.04,
           0.08,
           0.01,
           0.05,
           0.08,
           0.05,
           0.05,
           0.07,
           0.06,
           0.07,
           0.04,
           0.08,
           0.07,
           0.01,
           0.08,
           0.08,
           0.02,
           0.1,
           0.04,
           0.07,
           0.09,
           0.1,
           0.1,
           0.03,
           0.09,
           0.07,
           0.09,
           0.01,
           0.1,
           0.06,
           0.06,
           0.01,
           0.08,
           0.08,
           0.02,
           0.03,
           0.01,
           0.01
          ],
          "coloraxis": "coloraxis",
          "symbol": "circle"
         },
         "mode": "markers",
         "name": "",
         "orientation": "v",
         "showlegend": false,
         "type": "scatter",
         "x": [
          0.587,
          0.568,
          0.825,
          0.775,
          0.74,
          0.599,
          0.641,
          0.688,
          0.728,
          0.69,
          0.747,
          0.651,
          0.703,
          0.746,
          0.807,
          0.791,
          0.584,
          0.603,
          0.571,
          0.603,
          0.592,
          0.81,
          0.676,
          0.719,
          0.628,
          0.671,
          0.733,
          0.781,
          0.821,
          0.787,
          0.564,
          0.79,
          0.742,
          0.826,
          0.716,
          0.679,
          0.785,
          0.697,
          0.567,
          0.774,
          0.739,
          0.805,
          0.596,
          0.691,
          0.691,
          0.574,
          0.57,
          0.79,
          0.687,
          0.818,
          0.684,
          0.74,
          0.564,
          0.734,
          0.579,
          0.55,
          0.669,
          0.711,
          0.689,
          0.641,
          0.811,
          0.656,
          0.784,
          0.797,
          0.783,
          0.772,
          0.693,
          0.758,
          0.767,
          0.628,
          0.592,
          0.734,
          0.69,
          0.59,
          0.587,
          0.779,
          0.633,
          0.669,
          0.676,
          0.69,
          0.661,
          0.575,
          0.677,
          0.606,
          0.636,
          0.709,
          0.691,
          0.721,
          0.735,
          0.744,
          0.689,
          0.58,
          0.541,
          0.575,
          0.743,
          0.567,
          0.818,
          0.679,
          0.619,
          0.59,
          0.692,
          0.643,
          0.791,
          0.705,
          0.795,
          0.646,
          0.709,
          0.754,
          0.756,
          0.673,
          0.663,
          0.645,
          0.814,
          0.532,
          0.822,
          0.626,
          0.782,
          0.636,
          0.765,
          0.539,
          0.651,
          0.785,
          0.792,
          0.725,
          0.541,
          0.741,
          0.542,
          0.763,
          0.728,
          0.829,
          0.658,
          0.619,
          0.581,
          0.708,
          0.656,
          0.764,
          0.594,
          0.576,
          0.653,
          0.773,
          0.774,
          0.59,
          0.682,
          0.668,
          0.748,
          0.655,
          0.797,
          0.688,
          0.686,
          0.751,
          0.651,
          0.533,
          0.635,
          0.712,
          0.67,
          0.752,
          0.761,
          0.63,
          0.643,
          0.618,
          0.591,
          0.655,
          0.691,
          0.745,
          0.521,
          0.678,
          0.748,
          0.805,
          0.565,
          0.643,
          0.648,
          0.678,
          0.741,
          0.689,
          0.751,
          0.759,
          0.728,
          0.786,
          0.718,
          0.595,
          0.788,
          0.685,
          0.71,
          0.627,
          0.708,
          0.665,
          0.556,
          0.761,
          0.58,
          0.746,
          0.605,
          0.603,
          0.619,
          0.656,
          0.709,
          0.786,
          0.652,
          0.7,
          0.589,
          0.706,
          0.628,
          0.816,
          0.69,
          0.563,
          0.594,
          0.549,
          0.588,
          0.644,
          0.591,
          0.663,
          0.779,
          0.582,
          0.636,
          0.69,
          0.741,
          0.775,
          0.574,
          0.575,
          0.737,
          0.549,
          0.576,
          0.611,
          0.593,
          0.525,
          0.554,
          0.685,
          0.805,
          0.767,
          0.617,
          0.68,
          0.714,
          0.591,
          0.714,
          0.84,
          0.585,
          0.613,
          0.793,
          0.676,
          0.75,
          0.825,
          0.609,
          0.76,
          0.705,
          0.726,
          0.597,
          0.681,
          0.727,
          0.609,
          0.726,
          0.775,
          0.72,
          0.564,
          0.664,
          0.708,
          0.701,
          0.729,
          0.761,
          0.743,
          0.713,
          0.712,
          0.584,
          0.588,
          0.55,
          0.785,
          0.66,
          0.702,
          0.748,
          0.713,
          0.557,
          0.776,
          0.769,
          0.765,
          0.635,
          0.81,
          0.762,
          0.59,
          0.778,
          0.787,
          0.671,
          0.767,
          0.65,
          0.794,
          0.71,
          0.829,
          0.767,
          0.621,
          0.591,
          0.575,
          0.695,
          0.586,
          0.722,
          0.795,
          0.784,
          0.616,
          0.727,
          0.686,
          0.599,
          0.557,
          0.572,
          0.603
         ],
         "xaxis": "x",
         "y": [
          0.99,
          0.99,
          0.8,
          0.85,
          0.8,
          0.85,
          0.95,
          0.9,
          0.9,
          0.9,
          0.8,
          0.95,
          0.85,
          0.9,
          0.8,
          0.8,
          0.95,
          0.99,
          0.99,
          0.99,
          0.99,
          0.8,
          0.85,
          0.95,
          0.9,
          0.9,
          0.8,
          0.85,
          0.8,
          0.85,
          0.99,
          0.8,
          0.8,
          0.8,
          0.85,
          0.9,
          0.8,
          0.8,
          0.99,
          0.85,
          0.9,
          0.85,
          0.95,
          0.95,
          0.8,
          0.99,
          0.99,
          0.85,
          0.95,
          0.8,
          0.85,
          0.9,
          0.99,
          0.8,
          0.99,
          0.99,
          0.95,
          0.9,
          0.85,
          0.85,
          0.8,
          0.9,
          0.8,
          0.8,
          0.85,
          0.8,
          0.9,
          0.8,
          0.85,
          0.9,
          0.99,
          0.85,
          0.95,
          0.99,
          0.99,
          0.8,
          0.8,
          0.95,
          0.95,
          0.8,
          0.95,
          0.99,
          0.95,
          0.9,
          0.95,
          0.95,
          0.95,
          0.9,
          0.9,
          0.9,
          0.95,
          0.99,
          0.99,
          0.99,
          0.85,
          0.99,
          0.8,
          0.95,
          0.85,
          0.99,
          0.95,
          0.95,
          0.85,
          0.8,
          0.85,
          0.9,
          0.95,
          0.85,
          0.85,
          0.85,
          0.95,
          0.85,
          0.8,
          0.99,
          0.8,
          0.95,
          0.85,
          0.95,
          0.9,
          0.99,
          0.95,
          0.85,
          0.85,
          0.9,
          0.99,
          0.85,
          0.99,
          0.9,
          0.85,
          0.85,
          0.9,
          0.85,
          0.99,
          0.85,
          0.8,
          0.9,
          0.99,
          0.99,
          0.85,
          0.9,
          0.8,
          0.95,
          0.9,
          0.85,
          0.9,
          0.9,
          0.8,
          0.8,
          0.9,
          0.85,
          0.9,
          0.99,
          0.8,
          0.85,
          0.95,
          0.85,
          0.85,
          0.9,
          0.9,
          0.9,
          0.99,
          0.85,
          0.95,
          0.8,
          0.99,
          0.95,
          0.8,
          0.8,
          0.99,
          0.85,
          0.9,
          0.85,
          0.9,
          0.9,
          0.9,
          0.9,
          0.8,
          0.8,
          0.95,
          0.99,
          0.8,
          0.8,
          0.95,
          0.8,
          0.9,
          0.95,
          0.99,
          0.9,
          0.99,
          0.9,
          0.95,
          0.95,
          0.8,
          0.95,
          0.95,
          0.85,
          0.85,
          0.9,
          0.99,
          0.95,
          0.95,
          0.8,
          0.95,
          0.99,
          0.99,
          0.99,
          0.95,
          0.8,
          0.99,
          0.8,
          0.85,
          0.99,
          0.9,
          0.95,
          0.85,
          0.9,
          0.95,
          0.99,
          0.9,
          0.99,
          0.99,
          0.99,
          0.99,
          0.99,
          0.99,
          0.95,
          0.85,
          0.8,
          0.95,
          0.95,
          0.9,
          0.99,
          0.85,
          0.8,
          0.99,
          0.95,
          0.85,
          0.95,
          0.85,
          0.8,
          0.95,
          0.9,
          0.8,
          0.8,
          0.99,
          0.8,
          0.9,
          0.95,
          0.9,
          0.85,
          0.85,
          0.99,
          0.95,
          0.95,
          0.9,
          0.85,
          0.9,
          0.9,
          0.9,
          0.85,
          0.99,
          0.99,
          0.99,
          0.8,
          0.8,
          0.9,
          0.9,
          0.85,
          0.99,
          0.85,
          0.8,
          0.85,
          0.95,
          0.8,
          0.85,
          0.9,
          0.85,
          0.85,
          0.8,
          0.9,
          0.95,
          0.8,
          0.95,
          0.8,
          0.9,
          0.95,
          0.99,
          0.99,
          0.95,
          0.9,
          0.95,
          0.8,
          0.8,
          0.85,
          0.9,
          0.95,
          0.95,
          0.99,
          0.95,
          0.9
         ],
         "yaxis": "y"
        }
       ],
       "layout": {
        "coloraxis": {
         "colorbar": {
          "title": {
           "text": "batch_size_share_mu"
          }
         },
         "colorscale": [
          [
           0,
           "#0d0887"
          ],
          [
           0.1111111111111111,
           "#46039f"
          ],
          [
           0.2222222222222222,
           "#7201a8"
          ],
          [
           0.3333333333333333,
           "#9c179e"
          ],
          [
           0.4444444444444444,
           "#bd3786"
          ],
          [
           0.5555555555555556,
           "#d8576b"
          ],
          [
           0.6666666666666666,
           "#ed7953"
          ],
          [
           0.7777777777777778,
           "#fb9f3a"
          ],
          [
           0.8888888888888888,
           "#fdca26"
          ],
          [
           1,
           "#f0f921"
          ]
         ]
        },
        "legend": {
         "tracegroupgap": 0
        },
        "margin": {
         "t": 60
        },
        "template": {
         "data": {
          "bar": [
           {
            "error_x": {
             "color": "#2a3f5f"
            },
            "error_y": {
             "color": "#2a3f5f"
            },
            "marker": {
             "line": {
              "color": "#E5ECF6",
              "width": 0.5
             },
             "pattern": {
              "fillmode": "overlay",
              "size": 10,
              "solidity": 0.2
             }
            },
            "type": "bar"
           }
          ],
          "barpolar": [
           {
            "marker": {
             "line": {
              "color": "#E5ECF6",
              "width": 0.5
             },
             "pattern": {
              "fillmode": "overlay",
              "size": 10,
              "solidity": 0.2
             }
            },
            "type": "barpolar"
           }
          ],
          "carpet": [
           {
            "aaxis": {
             "endlinecolor": "#2a3f5f",
             "gridcolor": "white",
             "linecolor": "white",
             "minorgridcolor": "white",
             "startlinecolor": "#2a3f5f"
            },
            "baxis": {
             "endlinecolor": "#2a3f5f",
             "gridcolor": "white",
             "linecolor": "white",
             "minorgridcolor": "white",
             "startlinecolor": "#2a3f5f"
            },
            "type": "carpet"
           }
          ],
          "choropleth": [
           {
            "colorbar": {
             "outlinewidth": 0,
             "ticks": ""
            },
            "type": "choropleth"
           }
          ],
          "contour": [
           {
            "colorbar": {
             "outlinewidth": 0,
             "ticks": ""
            },
            "colorscale": [
             [
              0,
              "#0d0887"
             ],
             [
              0.1111111111111111,
              "#46039f"
             ],
             [
              0.2222222222222222,
              "#7201a8"
             ],
             [
              0.3333333333333333,
              "#9c179e"
             ],
             [
              0.4444444444444444,
              "#bd3786"
             ],
             [
              0.5555555555555556,
              "#d8576b"
             ],
             [
              0.6666666666666666,
              "#ed7953"
             ],
             [
              0.7777777777777778,
              "#fb9f3a"
             ],
             [
              0.8888888888888888,
              "#fdca26"
             ],
             [
              1,
              "#f0f921"
             ]
            ],
            "type": "contour"
           }
          ],
          "contourcarpet": [
           {
            "colorbar": {
             "outlinewidth": 0,
             "ticks": ""
            },
            "type": "contourcarpet"
           }
          ],
          "heatmap": [
           {
            "colorbar": {
             "outlinewidth": 0,
             "ticks": ""
            },
            "colorscale": [
             [
              0,
              "#0d0887"
             ],
             [
              0.1111111111111111,
              "#46039f"
             ],
             [
              0.2222222222222222,
              "#7201a8"
             ],
             [
              0.3333333333333333,
              "#9c179e"
             ],
             [
              0.4444444444444444,
              "#bd3786"
             ],
             [
              0.5555555555555556,
              "#d8576b"
             ],
             [
              0.6666666666666666,
              "#ed7953"
             ],
             [
              0.7777777777777778,
              "#fb9f3a"
             ],
             [
              0.8888888888888888,
              "#fdca26"
             ],
             [
              1,
              "#f0f921"
             ]
            ],
            "type": "heatmap"
           }
          ],
          "heatmapgl": [
           {
            "colorbar": {
             "outlinewidth": 0,
             "ticks": ""
            },
            "colorscale": [
             [
              0,
              "#0d0887"
             ],
             [
              0.1111111111111111,
              "#46039f"
             ],
             [
              0.2222222222222222,
              "#7201a8"
             ],
             [
              0.3333333333333333,
              "#9c179e"
             ],
             [
              0.4444444444444444,
              "#bd3786"
             ],
             [
              0.5555555555555556,
              "#d8576b"
             ],
             [
              0.6666666666666666,
              "#ed7953"
             ],
             [
              0.7777777777777778,
              "#fb9f3a"
             ],
             [
              0.8888888888888888,
              "#fdca26"
             ],
             [
              1,
              "#f0f921"
             ]
            ],
            "type": "heatmapgl"
           }
          ],
          "histogram": [
           {
            "marker": {
             "pattern": {
              "fillmode": "overlay",
              "size": 10,
              "solidity": 0.2
             }
            },
            "type": "histogram"
           }
          ],
          "histogram2d": [
           {
            "colorbar": {
             "outlinewidth": 0,
             "ticks": ""
            },
            "colorscale": [
             [
              0,
              "#0d0887"
             ],
             [
              0.1111111111111111,
              "#46039f"
             ],
             [
              0.2222222222222222,
              "#7201a8"
             ],
             [
              0.3333333333333333,
              "#9c179e"
             ],
             [
              0.4444444444444444,
              "#bd3786"
             ],
             [
              0.5555555555555556,
              "#d8576b"
             ],
             [
              0.6666666666666666,
              "#ed7953"
             ],
             [
              0.7777777777777778,
              "#fb9f3a"
             ],
             [
              0.8888888888888888,
              "#fdca26"
             ],
             [
              1,
              "#f0f921"
             ]
            ],
            "type": "histogram2d"
           }
          ],
          "histogram2dcontour": [
           {
            "colorbar": {
             "outlinewidth": 0,
             "ticks": ""
            },
            "colorscale": [
             [
              0,
              "#0d0887"
             ],
             [
              0.1111111111111111,
              "#46039f"
             ],
             [
              0.2222222222222222,
              "#7201a8"
             ],
             [
              0.3333333333333333,
              "#9c179e"
             ],
             [
              0.4444444444444444,
              "#bd3786"
             ],
             [
              0.5555555555555556,
              "#d8576b"
             ],
             [
              0.6666666666666666,
              "#ed7953"
             ],
             [
              0.7777777777777778,
              "#fb9f3a"
             ],
             [
              0.8888888888888888,
              "#fdca26"
             ],
             [
              1,
              "#f0f921"
             ]
            ],
            "type": "histogram2dcontour"
           }
          ],
          "mesh3d": [
           {
            "colorbar": {
             "outlinewidth": 0,
             "ticks": ""
            },
            "type": "mesh3d"
           }
          ],
          "parcoords": [
           {
            "line": {
             "colorbar": {
              "outlinewidth": 0,
              "ticks": ""
             }
            },
            "type": "parcoords"
           }
          ],
          "pie": [
           {
            "automargin": true,
            "type": "pie"
           }
          ],
          "scatter": [
           {
            "marker": {
             "colorbar": {
              "outlinewidth": 0,
              "ticks": ""
             }
            },
            "type": "scatter"
           }
          ],
          "scatter3d": [
           {
            "line": {
             "colorbar": {
              "outlinewidth": 0,
              "ticks": ""
             }
            },
            "marker": {
             "colorbar": {
              "outlinewidth": 0,
              "ticks": ""
             }
            },
            "type": "scatter3d"
           }
          ],
          "scattercarpet": [
           {
            "marker": {
             "colorbar": {
              "outlinewidth": 0,
              "ticks": ""
             }
            },
            "type": "scattercarpet"
           }
          ],
          "scattergeo": [
           {
            "marker": {
             "colorbar": {
              "outlinewidth": 0,
              "ticks": ""
             }
            },
            "type": "scattergeo"
           }
          ],
          "scattergl": [
           {
            "marker": {
             "colorbar": {
              "outlinewidth": 0,
              "ticks": ""
             }
            },
            "type": "scattergl"
           }
          ],
          "scattermapbox": [
           {
            "marker": {
             "colorbar": {
              "outlinewidth": 0,
              "ticks": ""
             }
            },
            "type": "scattermapbox"
           }
          ],
          "scatterpolar": [
           {
            "marker": {
             "colorbar": {
              "outlinewidth": 0,
              "ticks": ""
             }
            },
            "type": "scatterpolar"
           }
          ],
          "scatterpolargl": [
           {
            "marker": {
             "colorbar": {
              "outlinewidth": 0,
              "ticks": ""
             }
            },
            "type": "scatterpolargl"
           }
          ],
          "scatterternary": [
           {
            "marker": {
             "colorbar": {
              "outlinewidth": 0,
              "ticks": ""
             }
            },
            "type": "scatterternary"
           }
          ],
          "surface": [
           {
            "colorbar": {
             "outlinewidth": 0,
             "ticks": ""
            },
            "colorscale": [
             [
              0,
              "#0d0887"
             ],
             [
              0.1111111111111111,
              "#46039f"
             ],
             [
              0.2222222222222222,
              "#7201a8"
             ],
             [
              0.3333333333333333,
              "#9c179e"
             ],
             [
              0.4444444444444444,
              "#bd3786"
             ],
             [
              0.5555555555555556,
              "#d8576b"
             ],
             [
              0.6666666666666666,
              "#ed7953"
             ],
             [
              0.7777777777777778,
              "#fb9f3a"
             ],
             [
              0.8888888888888888,
              "#fdca26"
             ],
             [
              1,
              "#f0f921"
             ]
            ],
            "type": "surface"
           }
          ],
          "table": [
           {
            "cells": {
             "fill": {
              "color": "#EBF0F8"
             },
             "line": {
              "color": "white"
             }
            },
            "header": {
             "fill": {
              "color": "#C8D4E3"
             },
             "line": {
              "color": "white"
             }
            },
            "type": "table"
           }
          ]
         },
         "layout": {
          "annotationdefaults": {
           "arrowcolor": "#2a3f5f",
           "arrowhead": 0,
           "arrowwidth": 1
          },
          "autotypenumbers": "strict",
          "coloraxis": {
           "colorbar": {
            "outlinewidth": 0,
            "ticks": ""
           }
          },
          "colorscale": {
           "diverging": [
            [
             0,
             "#8e0152"
            ],
            [
             0.1,
             "#c51b7d"
            ],
            [
             0.2,
             "#de77ae"
            ],
            [
             0.3,
             "#f1b6da"
            ],
            [
             0.4,
             "#fde0ef"
            ],
            [
             0.5,
             "#f7f7f7"
            ],
            [
             0.6,
             "#e6f5d0"
            ],
            [
             0.7,
             "#b8e186"
            ],
            [
             0.8,
             "#7fbc41"
            ],
            [
             0.9,
             "#4d9221"
            ],
            [
             1,
             "#276419"
            ]
           ],
           "sequential": [
            [
             0,
             "#0d0887"
            ],
            [
             0.1111111111111111,
             "#46039f"
            ],
            [
             0.2222222222222222,
             "#7201a8"
            ],
            [
             0.3333333333333333,
             "#9c179e"
            ],
            [
             0.4444444444444444,
             "#bd3786"
            ],
            [
             0.5555555555555556,
             "#d8576b"
            ],
            [
             0.6666666666666666,
             "#ed7953"
            ],
            [
             0.7777777777777778,
             "#fb9f3a"
            ],
            [
             0.8888888888888888,
             "#fdca26"
            ],
            [
             1,
             "#f0f921"
            ]
           ],
           "sequentialminus": [
            [
             0,
             "#0d0887"
            ],
            [
             0.1111111111111111,
             "#46039f"
            ],
            [
             0.2222222222222222,
             "#7201a8"
            ],
            [
             0.3333333333333333,
             "#9c179e"
            ],
            [
             0.4444444444444444,
             "#bd3786"
            ],
            [
             0.5555555555555556,
             "#d8576b"
            ],
            [
             0.6666666666666666,
             "#ed7953"
            ],
            [
             0.7777777777777778,
             "#fb9f3a"
            ],
            [
             0.8888888888888888,
             "#fdca26"
            ],
            [
             1,
             "#f0f921"
            ]
           ]
          },
          "colorway": [
           "#636efa",
           "#EF553B",
           "#00cc96",
           "#ab63fa",
           "#FFA15A",
           "#19d3f3",
           "#FF6692",
           "#B6E880",
           "#FF97FF",
           "#FECB52"
          ],
          "font": {
           "color": "#2a3f5f"
          },
          "geo": {
           "bgcolor": "white",
           "lakecolor": "white",
           "landcolor": "#E5ECF6",
           "showlakes": true,
           "showland": true,
           "subunitcolor": "white"
          },
          "hoverlabel": {
           "align": "left"
          },
          "hovermode": "closest",
          "mapbox": {
           "style": "light"
          },
          "paper_bgcolor": "white",
          "plot_bgcolor": "#E5ECF6",
          "polar": {
           "angularaxis": {
            "gridcolor": "white",
            "linecolor": "white",
            "ticks": ""
           },
           "bgcolor": "#E5ECF6",
           "radialaxis": {
            "gridcolor": "white",
            "linecolor": "white",
            "ticks": ""
           }
          },
          "scene": {
           "xaxis": {
            "backgroundcolor": "#E5ECF6",
            "gridcolor": "white",
            "gridwidth": 2,
            "linecolor": "white",
            "showbackground": true,
            "ticks": "",
            "zerolinecolor": "white"
           },
           "yaxis": {
            "backgroundcolor": "#E5ECF6",
            "gridcolor": "white",
            "gridwidth": 2,
            "linecolor": "white",
            "showbackground": true,
            "ticks": "",
            "zerolinecolor": "white"
           },
           "zaxis": {
            "backgroundcolor": "#E5ECF6",
            "gridcolor": "white",
            "gridwidth": 2,
            "linecolor": "white",
            "showbackground": true,
            "ticks": "",
            "zerolinecolor": "white"
           }
          },
          "shapedefaults": {
           "line": {
            "color": "#2a3f5f"
           }
          },
          "ternary": {
           "aaxis": {
            "gridcolor": "white",
            "linecolor": "white",
            "ticks": ""
           },
           "baxis": {
            "gridcolor": "white",
            "linecolor": "white",
            "ticks": ""
           },
           "bgcolor": "#E5ECF6",
           "caxis": {
            "gridcolor": "white",
            "linecolor": "white",
            "ticks": ""
           }
          },
          "title": {
           "x": 0.05
          },
          "xaxis": {
           "automargin": true,
           "gridcolor": "white",
           "linecolor": "white",
           "ticks": "",
           "title": {
            "standoff": 15
           },
           "zerolinecolor": "white",
           "zerolinewidth": 2
          },
          "yaxis": {
           "automargin": true,
           "gridcolor": "white",
           "linecolor": "white",
           "ticks": "",
           "title": {
            "standoff": 15
           },
           "zerolinecolor": "white",
           "zerolinewidth": 2
          }
         }
        },
        "xaxis": {
         "anchor": "y",
         "domain": [
          0,
          1
         ],
         "title": {
          "text": "share_test_winner"
         }
        },
        "yaxis": {
         "anchor": "x",
         "domain": [
          0,
          1
         ],
         "title": {
          "text": "prob_super"
         }
        }
       }
      },
      "text/html": [
       "<div>                            <div id=\"f2900cb5-178f-47ae-87f1-80e4ea123b39\" class=\"plotly-graph-div\" style=\"height:525px; width:100%;\"></div>            <script type=\"text/javascript\">                require([\"plotly\"], function(Plotly) {                    window.PLOTLYENV=window.PLOTLYENV || {};                                    if (document.getElementById(\"f2900cb5-178f-47ae-87f1-80e4ea123b39\")) {                    Plotly.newPlot(                        \"f2900cb5-178f-47ae-87f1-80e4ea123b39\",                        [{\"hovertemplate\":\"share_test_winner=%{x}<br>prob_super=%{y}<br>batch_size_share_mu=%{marker.color}<extra></extra>\",\"legendgroup\":\"\",\"marker\":{\"color\":[0.09,0.01,0.1,0.08,0.04,0.01,0.05,0.04,0.06,0.04,0.05,0.05,0.03,0.07,0.07,0.07,0.01,0.1,0.06,0.09,0.08,0.08,0.03,0.1,0.01,0.04,0.04,0.09,0.1,0.08,0.01,0.07,0.04,0.1,0.04,0.03,0.06,0.03,0.08,0.07,0.09,0.1,0.01,0.08,0.02,0.05,0.02,0.1,0.09,0.08,0.02,0.08,0.03,0.04,0.06,0.04,0.07,0.07,0.03,0.01,0.09,0.03,0.06,0.08,0.07,0.05,0.05,0.05,0.08,0.02,0.09,0.05,0.06,0.1,0.1,0.05,0.01,0.06,0.07,0.03,0.05,0.04,0.06,0.01,0.04,0.09,0.07,0.05,0.07,0.08,0.08,0.04,0.03,0.07,0.06,0.05,0.09,0.05,0.01,0.06,0.1,0.03,0.09,0.03,0.09,0.02,0.08,0.06,0.05,0.03,0.05,0.01,0.1,0.02,0.09,0.03,0.06,0.03,0.09,0.01,0.04,0.1,0.09,0.06,0.03,0.07,0.02,0.1,0.04,0.1,0.02,0.01,0.03,0.04,0.02,0.09,0.07,0.05,0.02,0.1,0.05,0.02,0.03,0.02,0.08,0.03,0.08,0.02,0.04,0.05,0.03,0.02,0.01,0.03,0.05,0.06,0.06,0.01,0.02,0.02,0.04,0.02,0.1,0.05,0.01,0.07,0.04,0.09,0.02,0.02,0.03,0.03,0.09,0.04,0.1,0.07,0.03,0.06,0.1,0.08,0.07,0.03,0.09,0.01,0.06,0.04,0.06,0.09,0.1,0.07,0.01,0.03,0.01,0.06,0.1,0.09,0.02,0.05,0.09,0.09,0.02,0.09,0.06,0.04,0.06,0.01,0.02,0.01,0.06,0.02,0.09,0.1,0.02,0.07,0.05,0.1,0.01,0.08,0.06,0.02,0.07,0.1,0.07,0.01,0.03,0.08,0.1,0.07,0.02,0.07,0.04,0.05,0.04,0.1,0.08,0.02,0.1,0.06,0.06,0.09,0.01,0.09,0.03,0.04,0.08,0.02,0.06,0.03,0.06,0.08,0.04,0.09,0.04,0.08,0.05,0.05,0.08,0.07,0.05,0.04,0.05,0.07,0.04,0.08,0.01,0.05,0.08,0.05,0.05,0.07,0.06,0.07,0.04,0.08,0.07,0.01,0.08,0.08,0.02,0.1,0.04,0.07,0.09,0.1,0.1,0.03,0.09,0.07,0.09,0.01,0.1,0.06,0.06,0.01,0.08,0.08,0.02,0.03,0.01,0.01],\"coloraxis\":\"coloraxis\",\"symbol\":\"circle\"},\"mode\":\"markers\",\"name\":\"\",\"orientation\":\"v\",\"showlegend\":false,\"type\":\"scatter\",\"x\":[0.587,0.568,0.825,0.775,0.74,0.599,0.641,0.688,0.728,0.69,0.747,0.651,0.703,0.746,0.807,0.791,0.584,0.603,0.571,0.603,0.592,0.81,0.676,0.719,0.628,0.671,0.733,0.781,0.821,0.787,0.564,0.79,0.742,0.826,0.716,0.679,0.785,0.697,0.567,0.774,0.739,0.805,0.596,0.691,0.691,0.574,0.57,0.79,0.687,0.818,0.684,0.74,0.564,0.734,0.579,0.55,0.669,0.711,0.689,0.641,0.811,0.656,0.784,0.797,0.783,0.772,0.693,0.758,0.767,0.628,0.592,0.734,0.69,0.59,0.587,0.779,0.633,0.669,0.676,0.69,0.661,0.575,0.677,0.606,0.636,0.709,0.691,0.721,0.735,0.744,0.689,0.58,0.541,0.575,0.743,0.567,0.818,0.679,0.619,0.59,0.692,0.643,0.791,0.705,0.795,0.646,0.709,0.754,0.756,0.673,0.663,0.645,0.814,0.532,0.822,0.626,0.782,0.636,0.765,0.539,0.651,0.785,0.792,0.725,0.541,0.741,0.542,0.763,0.728,0.829,0.658,0.619,0.581,0.708,0.656,0.764,0.594,0.576,0.653,0.773,0.774,0.59,0.682,0.668,0.748,0.655,0.797,0.688,0.686,0.751,0.651,0.533,0.635,0.712,0.67,0.752,0.761,0.63,0.643,0.618,0.591,0.655,0.691,0.745,0.521,0.678,0.748,0.805,0.565,0.643,0.648,0.678,0.741,0.689,0.751,0.759,0.728,0.786,0.718,0.595,0.788,0.685,0.71,0.627,0.708,0.665,0.556,0.761,0.58,0.746,0.605,0.603,0.619,0.656,0.709,0.786,0.652,0.7,0.589,0.706,0.628,0.816,0.69,0.563,0.594,0.549,0.588,0.644,0.591,0.663,0.779,0.582,0.636,0.69,0.741,0.775,0.574,0.575,0.737,0.549,0.576,0.611,0.593,0.525,0.554,0.685,0.805,0.767,0.617,0.68,0.714,0.591,0.714,0.84,0.585,0.613,0.793,0.676,0.75,0.825,0.609,0.76,0.705,0.726,0.597,0.681,0.727,0.609,0.726,0.775,0.72,0.564,0.664,0.708,0.701,0.729,0.761,0.743,0.713,0.712,0.584,0.588,0.55,0.785,0.66,0.702,0.748,0.713,0.557,0.776,0.769,0.765,0.635,0.81,0.762,0.59,0.778,0.787,0.671,0.767,0.65,0.794,0.71,0.829,0.767,0.621,0.591,0.575,0.695,0.586,0.722,0.795,0.784,0.616,0.727,0.686,0.599,0.557,0.572,0.603],\"xaxis\":\"x\",\"y\":[0.99,0.99,0.8,0.85,0.8,0.85,0.95,0.9,0.9,0.9,0.8,0.95,0.85,0.9,0.8,0.8,0.95,0.99,0.99,0.99,0.99,0.8,0.85,0.95,0.9,0.9,0.8,0.85,0.8,0.85,0.99,0.8,0.8,0.8,0.85,0.9,0.8,0.8,0.99,0.85,0.9,0.85,0.95,0.95,0.8,0.99,0.99,0.85,0.95,0.8,0.85,0.9,0.99,0.8,0.99,0.99,0.95,0.9,0.85,0.85,0.8,0.9,0.8,0.8,0.85,0.8,0.9,0.8,0.85,0.9,0.99,0.85,0.95,0.99,0.99,0.8,0.8,0.95,0.95,0.8,0.95,0.99,0.95,0.9,0.95,0.95,0.95,0.9,0.9,0.9,0.95,0.99,0.99,0.99,0.85,0.99,0.8,0.95,0.85,0.99,0.95,0.95,0.85,0.8,0.85,0.9,0.95,0.85,0.85,0.85,0.95,0.85,0.8,0.99,0.8,0.95,0.85,0.95,0.9,0.99,0.95,0.85,0.85,0.9,0.99,0.85,0.99,0.9,0.85,0.85,0.9,0.85,0.99,0.85,0.8,0.9,0.99,0.99,0.85,0.9,0.8,0.95,0.9,0.85,0.9,0.9,0.8,0.8,0.9,0.85,0.9,0.99,0.8,0.85,0.95,0.85,0.85,0.9,0.9,0.9,0.99,0.85,0.95,0.8,0.99,0.95,0.8,0.8,0.99,0.85,0.9,0.85,0.9,0.9,0.9,0.9,0.8,0.8,0.95,0.99,0.8,0.8,0.95,0.8,0.9,0.95,0.99,0.9,0.99,0.9,0.95,0.95,0.8,0.95,0.95,0.85,0.85,0.9,0.99,0.95,0.95,0.8,0.95,0.99,0.99,0.99,0.95,0.8,0.99,0.8,0.85,0.99,0.9,0.95,0.85,0.9,0.95,0.99,0.9,0.99,0.99,0.99,0.99,0.99,0.99,0.95,0.85,0.8,0.95,0.95,0.9,0.99,0.85,0.8,0.99,0.95,0.85,0.95,0.85,0.8,0.95,0.9,0.8,0.8,0.99,0.8,0.9,0.95,0.9,0.85,0.85,0.99,0.95,0.95,0.9,0.85,0.9,0.9,0.9,0.85,0.99,0.99,0.99,0.8,0.8,0.9,0.9,0.85,0.99,0.85,0.8,0.85,0.95,0.8,0.85,0.9,0.85,0.85,0.8,0.9,0.95,0.8,0.95,0.8,0.9,0.95,0.99,0.99,0.95,0.9,0.95,0.8,0.8,0.85,0.9,0.95,0.95,0.99,0.95,0.9],\"yaxis\":\"y\"}],                        {\"coloraxis\":{\"colorbar\":{\"title\":{\"text\":\"batch_size_share_mu\"}},\"colorscale\":[[0.0,\"#0d0887\"],[0.1111111111111111,\"#46039f\"],[0.2222222222222222,\"#7201a8\"],[0.3333333333333333,\"#9c179e\"],[0.4444444444444444,\"#bd3786\"],[0.5555555555555556,\"#d8576b\"],[0.6666666666666666,\"#ed7953\"],[0.7777777777777778,\"#fb9f3a\"],[0.8888888888888888,\"#fdca26\"],[1.0,\"#f0f921\"]]},\"legend\":{\"tracegroupgap\":0},\"margin\":{\"t\":60},\"template\":{\"data\":{\"bar\":[{\"error_x\":{\"color\":\"#2a3f5f\"},\"error_y\":{\"color\":\"#2a3f5f\"},\"marker\":{\"line\":{\"color\":\"#E5ECF6\",\"width\":0.5},\"pattern\":{\"fillmode\":\"overlay\",\"size\":10,\"solidity\":0.2}},\"type\":\"bar\"}],\"barpolar\":[{\"marker\":{\"line\":{\"color\":\"#E5ECF6\",\"width\":0.5},\"pattern\":{\"fillmode\":\"overlay\",\"size\":10,\"solidity\":0.2}},\"type\":\"barpolar\"}],\"carpet\":[{\"aaxis\":{\"endlinecolor\":\"#2a3f5f\",\"gridcolor\":\"white\",\"linecolor\":\"white\",\"minorgridcolor\":\"white\",\"startlinecolor\":\"#2a3f5f\"},\"baxis\":{\"endlinecolor\":\"#2a3f5f\",\"gridcolor\":\"white\",\"linecolor\":\"white\",\"minorgridcolor\":\"white\",\"startlinecolor\":\"#2a3f5f\"},\"type\":\"carpet\"}],\"choropleth\":[{\"colorbar\":{\"outlinewidth\":0,\"ticks\":\"\"},\"type\":\"choropleth\"}],\"contour\":[{\"colorbar\":{\"outlinewidth\":0,\"ticks\":\"\"},\"colorscale\":[[0.0,\"#0d0887\"],[0.1111111111111111,\"#46039f\"],[0.2222222222222222,\"#7201a8\"],[0.3333333333333333,\"#9c179e\"],[0.4444444444444444,\"#bd3786\"],[0.5555555555555556,\"#d8576b\"],[0.6666666666666666,\"#ed7953\"],[0.7777777777777778,\"#fb9f3a\"],[0.8888888888888888,\"#fdca26\"],[1.0,\"#f0f921\"]],\"type\":\"contour\"}],\"contourcarpet\":[{\"colorbar\":{\"outlinewidth\":0,\"ticks\":\"\"},\"type\":\"contourcarpet\"}],\"heatmap\":[{\"colorbar\":{\"outlinewidth\":0,\"ticks\":\"\"},\"colorscale\":[[0.0,\"#0d0887\"],[0.1111111111111111,\"#46039f\"],[0.2222222222222222,\"#7201a8\"],[0.3333333333333333,\"#9c179e\"],[0.4444444444444444,\"#bd3786\"],[0.5555555555555556,\"#d8576b\"],[0.6666666666666666,\"#ed7953\"],[0.7777777777777778,\"#fb9f3a\"],[0.8888888888888888,\"#fdca26\"],[1.0,\"#f0f921\"]],\"type\":\"heatmap\"}],\"heatmapgl\":[{\"colorbar\":{\"outlinewidth\":0,\"ticks\":\"\"},\"colorscale\":[[0.0,\"#0d0887\"],[0.1111111111111111,\"#46039f\"],[0.2222222222222222,\"#7201a8\"],[0.3333333333333333,\"#9c179e\"],[0.4444444444444444,\"#bd3786\"],[0.5555555555555556,\"#d8576b\"],[0.6666666666666666,\"#ed7953\"],[0.7777777777777778,\"#fb9f3a\"],[0.8888888888888888,\"#fdca26\"],[1.0,\"#f0f921\"]],\"type\":\"heatmapgl\"}],\"histogram\":[{\"marker\":{\"pattern\":{\"fillmode\":\"overlay\",\"size\":10,\"solidity\":0.2}},\"type\":\"histogram\"}],\"histogram2d\":[{\"colorbar\":{\"outlinewidth\":0,\"ticks\":\"\"},\"colorscale\":[[0.0,\"#0d0887\"],[0.1111111111111111,\"#46039f\"],[0.2222222222222222,\"#7201a8\"],[0.3333333333333333,\"#9c179e\"],[0.4444444444444444,\"#bd3786\"],[0.5555555555555556,\"#d8576b\"],[0.6666666666666666,\"#ed7953\"],[0.7777777777777778,\"#fb9f3a\"],[0.8888888888888888,\"#fdca26\"],[1.0,\"#f0f921\"]],\"type\":\"histogram2d\"}],\"histogram2dcontour\":[{\"colorbar\":{\"outlinewidth\":0,\"ticks\":\"\"},\"colorscale\":[[0.0,\"#0d0887\"],[0.1111111111111111,\"#46039f\"],[0.2222222222222222,\"#7201a8\"],[0.3333333333333333,\"#9c179e\"],[0.4444444444444444,\"#bd3786\"],[0.5555555555555556,\"#d8576b\"],[0.6666666666666666,\"#ed7953\"],[0.7777777777777778,\"#fb9f3a\"],[0.8888888888888888,\"#fdca26\"],[1.0,\"#f0f921\"]],\"type\":\"histogram2dcontour\"}],\"mesh3d\":[{\"colorbar\":{\"outlinewidth\":0,\"ticks\":\"\"},\"type\":\"mesh3d\"}],\"parcoords\":[{\"line\":{\"colorbar\":{\"outlinewidth\":0,\"ticks\":\"\"}},\"type\":\"parcoords\"}],\"pie\":[{\"automargin\":true,\"type\":\"pie\"}],\"scatter\":[{\"marker\":{\"colorbar\":{\"outlinewidth\":0,\"ticks\":\"\"}},\"type\":\"scatter\"}],\"scatter3d\":[{\"line\":{\"colorbar\":{\"outlinewidth\":0,\"ticks\":\"\"}},\"marker\":{\"colorbar\":{\"outlinewidth\":0,\"ticks\":\"\"}},\"type\":\"scatter3d\"}],\"scattercarpet\":[{\"marker\":{\"colorbar\":{\"outlinewidth\":0,\"ticks\":\"\"}},\"type\":\"scattercarpet\"}],\"scattergeo\":[{\"marker\":{\"colorbar\":{\"outlinewidth\":0,\"ticks\":\"\"}},\"type\":\"scattergeo\"}],\"scattergl\":[{\"marker\":{\"colorbar\":{\"outlinewidth\":0,\"ticks\":\"\"}},\"type\":\"scattergl\"}],\"scattermapbox\":[{\"marker\":{\"colorbar\":{\"outlinewidth\":0,\"ticks\":\"\"}},\"type\":\"scattermapbox\"}],\"scatterpolar\":[{\"marker\":{\"colorbar\":{\"outlinewidth\":0,\"ticks\":\"\"}},\"type\":\"scatterpolar\"}],\"scatterpolargl\":[{\"marker\":{\"colorbar\":{\"outlinewidth\":0,\"ticks\":\"\"}},\"type\":\"scatterpolargl\"}],\"scatterternary\":[{\"marker\":{\"colorbar\":{\"outlinewidth\":0,\"ticks\":\"\"}},\"type\":\"scatterternary\"}],\"surface\":[{\"colorbar\":{\"outlinewidth\":0,\"ticks\":\"\"},\"colorscale\":[[0.0,\"#0d0887\"],[0.1111111111111111,\"#46039f\"],[0.2222222222222222,\"#7201a8\"],[0.3333333333333333,\"#9c179e\"],[0.4444444444444444,\"#bd3786\"],[0.5555555555555556,\"#d8576b\"],[0.6666666666666666,\"#ed7953\"],[0.7777777777777778,\"#fb9f3a\"],[0.8888888888888888,\"#fdca26\"],[1.0,\"#f0f921\"]],\"type\":\"surface\"}],\"table\":[{\"cells\":{\"fill\":{\"color\":\"#EBF0F8\"},\"line\":{\"color\":\"white\"}},\"header\":{\"fill\":{\"color\":\"#C8D4E3\"},\"line\":{\"color\":\"white\"}},\"type\":\"table\"}]},\"layout\":{\"annotationdefaults\":{\"arrowcolor\":\"#2a3f5f\",\"arrowhead\":0,\"arrowwidth\":1},\"autotypenumbers\":\"strict\",\"coloraxis\":{\"colorbar\":{\"outlinewidth\":0,\"ticks\":\"\"}},\"colorscale\":{\"diverging\":[[0,\"#8e0152\"],[0.1,\"#c51b7d\"],[0.2,\"#de77ae\"],[0.3,\"#f1b6da\"],[0.4,\"#fde0ef\"],[0.5,\"#f7f7f7\"],[0.6,\"#e6f5d0\"],[0.7,\"#b8e186\"],[0.8,\"#7fbc41\"],[0.9,\"#4d9221\"],[1,\"#276419\"]],\"sequential\":[[0.0,\"#0d0887\"],[0.1111111111111111,\"#46039f\"],[0.2222222222222222,\"#7201a8\"],[0.3333333333333333,\"#9c179e\"],[0.4444444444444444,\"#bd3786\"],[0.5555555555555556,\"#d8576b\"],[0.6666666666666666,\"#ed7953\"],[0.7777777777777778,\"#fb9f3a\"],[0.8888888888888888,\"#fdca26\"],[1.0,\"#f0f921\"]],\"sequentialminus\":[[0.0,\"#0d0887\"],[0.1111111111111111,\"#46039f\"],[0.2222222222222222,\"#7201a8\"],[0.3333333333333333,\"#9c179e\"],[0.4444444444444444,\"#bd3786\"],[0.5555555555555556,\"#d8576b\"],[0.6666666666666666,\"#ed7953\"],[0.7777777777777778,\"#fb9f3a\"],[0.8888888888888888,\"#fdca26\"],[1.0,\"#f0f921\"]]},\"colorway\":[\"#636efa\",\"#EF553B\",\"#00cc96\",\"#ab63fa\",\"#FFA15A\",\"#19d3f3\",\"#FF6692\",\"#B6E880\",\"#FF97FF\",\"#FECB52\"],\"font\":{\"color\":\"#2a3f5f\"},\"geo\":{\"bgcolor\":\"white\",\"lakecolor\":\"white\",\"landcolor\":\"#E5ECF6\",\"showlakes\":true,\"showland\":true,\"subunitcolor\":\"white\"},\"hoverlabel\":{\"align\":\"left\"},\"hovermode\":\"closest\",\"mapbox\":{\"style\":\"light\"},\"paper_bgcolor\":\"white\",\"plot_bgcolor\":\"#E5ECF6\",\"polar\":{\"angularaxis\":{\"gridcolor\":\"white\",\"linecolor\":\"white\",\"ticks\":\"\"},\"bgcolor\":\"#E5ECF6\",\"radialaxis\":{\"gridcolor\":\"white\",\"linecolor\":\"white\",\"ticks\":\"\"}},\"scene\":{\"xaxis\":{\"backgroundcolor\":\"#E5ECF6\",\"gridcolor\":\"white\",\"gridwidth\":2,\"linecolor\":\"white\",\"showbackground\":true,\"ticks\":\"\",\"zerolinecolor\":\"white\"},\"yaxis\":{\"backgroundcolor\":\"#E5ECF6\",\"gridcolor\":\"white\",\"gridwidth\":2,\"linecolor\":\"white\",\"showbackground\":true,\"ticks\":\"\",\"zerolinecolor\":\"white\"},\"zaxis\":{\"backgroundcolor\":\"#E5ECF6\",\"gridcolor\":\"white\",\"gridwidth\":2,\"linecolor\":\"white\",\"showbackground\":true,\"ticks\":\"\",\"zerolinecolor\":\"white\"}},\"shapedefaults\":{\"line\":{\"color\":\"#2a3f5f\"}},\"ternary\":{\"aaxis\":{\"gridcolor\":\"white\",\"linecolor\":\"white\",\"ticks\":\"\"},\"baxis\":{\"gridcolor\":\"white\",\"linecolor\":\"white\",\"ticks\":\"\"},\"bgcolor\":\"#E5ECF6\",\"caxis\":{\"gridcolor\":\"white\",\"linecolor\":\"white\",\"ticks\":\"\"}},\"title\":{\"x\":0.05},\"xaxis\":{\"automargin\":true,\"gridcolor\":\"white\",\"linecolor\":\"white\",\"ticks\":\"\",\"title\":{\"standoff\":15},\"zerolinecolor\":\"white\",\"zerolinewidth\":2},\"yaxis\":{\"automargin\":true,\"gridcolor\":\"white\",\"linecolor\":\"white\",\"ticks\":\"\",\"title\":{\"standoff\":15},\"zerolinecolor\":\"white\",\"zerolinewidth\":2}}},\"xaxis\":{\"anchor\":\"y\",\"domain\":[0.0,1.0],\"title\":{\"text\":\"share_test_winner\"}},\"yaxis\":{\"anchor\":\"x\",\"domain\":[0.0,1.0],\"title\":{\"text\":\"prob_super\"}}},                        {\"responsive\": true}                    ).then(function(){\n",
       "                            \n",
       "var gd = document.getElementById('f2900cb5-178f-47ae-87f1-80e4ea123b39');\n",
       "var x = new MutationObserver(function (mutations, observer) {{\n",
       "        var display = window.getComputedStyle(gd).display;\n",
       "        if (!display || display === 'none') {{\n",
       "            console.log([gd, 'removed!']);\n",
       "            Plotly.purge(gd);\n",
       "            observer.disconnect();\n",
       "        }}\n",
       "}});\n",
       "\n",
       "// Listen for the removal of the full notebook cells\n",
       "var notebookContainer = gd.closest('#notebook-container');\n",
       "if (notebookContainer) {{\n",
       "    x.observe(notebookContainer, {childList: true});\n",
       "}}\n",
       "\n",
       "// Listen for the clearing of the current output cell\n",
       "var outputEl = gd.closest('.output');\n",
       "if (outputEl) {{\n",
       "    x.observe(outputEl, {childList: true});\n",
       "}}\n",
       "\n",
       "                        })                };                });            </script>        </div>"
      ]
     },
     "metadata": {},
     "output_type": "display_data"
    }
   ],
   "source": [
    "plot_df = thompson_results_df.query(\"\"\"mde != '0' & multi_armed == 'False'\"\"\").reset_index()[\n",
    "    [\"share_not_winner\", 'share_test_winner', \"prob_super\",'batch_size_share_mu']].astype(float)\n",
    "fig = px.scatter(plot_df, x=\"share_test_winner\", y=\"prob_super\", color=\"batch_size_share_mu\")\n",
    "fig.show()"
   ]
  }
 ],
 "metadata": {
  "kernelspec": {
   "display_name": "Python 3 (ipykernel)",
   "language": "python",
   "name": "python3"
  },
  "language_info": {
   "codemirror_mode": {
    "name": "ipython",
    "version": 3
   },
   "file_extension": ".py",
   "mimetype": "text/x-python",
   "name": "python",
   "nbconvert_exporter": "python",
   "pygments_lexer": "ipython3",
   "version": "3.9.7"
  }
 },
 "nbformat": 4,
 "nbformat_minor": 1
}
