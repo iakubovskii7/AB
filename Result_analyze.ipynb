{
 "cells": [
  {
   "cell_type": "code",
   "execution_count": 2,
   "metadata": {
    "pycharm": {
     "is_executing": true
    },
    "scrolled": true
   },
   "outputs": [],
   "source": [
    "from src.tests import *"
   ]
  },
  {
   "cell_type": "markdown",
   "metadata": {},
   "source": [
    "# Experiment 2\n",
    "## Thompson"
   ]
  },
  {
   "cell_type": "code",
   "execution_count": 3,
   "metadata": {},
   "outputs": [
    {
     "data": {
      "application/vnd.jupyter.widget-view+json": {
       "model_id": "3bd79d62f77947e8a6779faca48c231a",
       "version_major": 2,
       "version_minor": 0
      },
      "text/plain": [
       "  0%|          | 0/720 [00:00<?, ?it/s]"
      ]
     },
     "metadata": {},
     "output_type": "display_data"
    }
   ],
   "source": [
    "test_result_mab_2 = TestResult2Processing(folder=\"Thompson/Experiment2/\", test_type=\"thompson\")\n",
    "results_mab_2 = test_result_mab_2.run()\n",
    "results_mab_2_fp = results_mab_2.query(\"mde == '0'\")\n",
    "results_mab_2_fn = results_mab_2.query(\"mde != '0'\")\n",
    "\n",
    "results_mab_2_fn.unstack(level='multi_armed').to_excel(\n",
    "    \"Description experiment results/Conversion/Experiment2/thompson_FN.xlsx\")\n",
    "results_mab_2_fp.unstack(level='multi_armed').to_excel(\n",
    "    \"Description experiment results/Conversion/Experiment2/thompson_FP.xlsx\")"
   ]
  },
  {
   "cell_type": "code",
   "execution_count": 21,
   "metadata": {},
   "outputs": [
    {
     "data": {
      "text/html": [
       "<div>\n",
       "<style scoped>\n",
       "    .dataframe tbody tr th:only-of-type {\n",
       "        vertical-align: middle;\n",
       "    }\n",
       "\n",
       "    .dataframe tbody tr th {\n",
       "        vertical-align: top;\n",
       "    }\n",
       "\n",
       "    .dataframe thead tr th {\n",
       "        text-align: left;\n",
       "    }\n",
       "\n",
       "    .dataframe thead tr:last-of-type th {\n",
       "        text-align: right;\n",
       "    }\n",
       "</style>\n",
       "<table border=\"1\" class=\"dataframe\">\n",
       "  <thead>\n",
       "    <tr>\n",
       "      <th></th>\n",
       "      <th></th>\n",
       "      <th></th>\n",
       "      <th></th>\n",
       "      <th></th>\n",
       "      <th colspan=\"2\" halign=\"left\">count_winners</th>\n",
       "      <th colspan=\"2\" halign=\"left\">size</th>\n",
       "      <th colspan=\"2\" halign=\"left\">share_observations_mean</th>\n",
       "      <th colspan=\"2\" halign=\"left\">share_observations_median</th>\n",
       "      <th colspan=\"2\" halign=\"left\">share_test_winner</th>\n",
       "      <th colspan=\"2\" halign=\"left\">share_not_winner</th>\n",
       "      <th colspan=\"2\" halign=\"left\">share_control_winner</th>\n",
       "    </tr>\n",
       "    <tr>\n",
       "      <th></th>\n",
       "      <th></th>\n",
       "      <th></th>\n",
       "      <th></th>\n",
       "      <th>multi_armed</th>\n",
       "      <th>False</th>\n",
       "      <th>True</th>\n",
       "      <th>False</th>\n",
       "      <th>True</th>\n",
       "      <th>False</th>\n",
       "      <th>True</th>\n",
       "      <th>False</th>\n",
       "      <th>True</th>\n",
       "      <th>False</th>\n",
       "      <th>True</th>\n",
       "      <th>False</th>\n",
       "      <th>True</th>\n",
       "      <th>False</th>\n",
       "      <th>True</th>\n",
       "    </tr>\n",
       "    <tr>\n",
       "      <th>p_control</th>\n",
       "      <th>mde</th>\n",
       "      <th>prob_super</th>\n",
       "      <th>batch_size_share_mu</th>\n",
       "      <th>method_update_params</th>\n",
       "      <th></th>\n",
       "      <th></th>\n",
       "      <th></th>\n",
       "      <th></th>\n",
       "      <th></th>\n",
       "      <th></th>\n",
       "      <th></th>\n",
       "      <th></th>\n",
       "      <th></th>\n",
       "      <th></th>\n",
       "      <th></th>\n",
       "      <th></th>\n",
       "      <th></th>\n",
       "      <th></th>\n",
       "    </tr>\n",
       "  </thead>\n",
       "  <tbody>\n",
       "    <tr>\n",
       "      <th rowspan=\"5\" valign=\"top\">1</th>\n",
       "      <th rowspan=\"5\" valign=\"top\">10</th>\n",
       "      <th rowspan=\"5\" valign=\"top\">0.9</th>\n",
       "      <th rowspan=\"2\" valign=\"top\">0.01</th>\n",
       "      <th>normalization</th>\n",
       "      <td>{1: 593, -1: 110, 0: 297}</td>\n",
       "      <td>{1: 518, -1: 242, 0: 240}</td>\n",
       "      <td>163091</td>\n",
       "      <td>163091</td>\n",
       "      <td>[0.446, 0.446]</td>\n",
       "      <td>[0.427, 0.534]</td>\n",
       "      <td>[0.121, 0.121]</td>\n",
       "      <td>[0.061, 0.078]</td>\n",
       "      <td>0.593</td>\n",
       "      <td>0.518</td>\n",
       "      <td>0.110</td>\n",
       "      <td>0.242</td>\n",
       "      <td>0.297</td>\n",
       "      <td>0.240</td>\n",
       "    </tr>\n",
       "    <tr>\n",
       "      <th>summation</th>\n",
       "      <td>{1: 620, -1: 65, 0: 315}</td>\n",
       "      <td>{1: 524, -1: 243, 0: 233}</td>\n",
       "      <td>163091</td>\n",
       "      <td>163091</td>\n",
       "      <td>[0.267, 0.267]</td>\n",
       "      <td>[0.428, 0.495]</td>\n",
       "      <td>[0.044, 0.044]</td>\n",
       "      <td>[0.055, 0.076]</td>\n",
       "      <td>0.620</td>\n",
       "      <td>0.524</td>\n",
       "      <td>0.065</td>\n",
       "      <td>0.243</td>\n",
       "      <td>0.315</td>\n",
       "      <td>0.233</td>\n",
       "    </tr>\n",
       "    <tr>\n",
       "      <th rowspan=\"2\" valign=\"top\">0.02</th>\n",
       "      <th>normalization</th>\n",
       "      <td>{1: 654, -1: 129, 0: 217}</td>\n",
       "      <td>{1: 546, -1: 271, 0: 183}</td>\n",
       "      <td>163091</td>\n",
       "      <td>163091</td>\n",
       "      <td>[0.511, 0.511]</td>\n",
       "      <td>[0.466, 0.632]</td>\n",
       "      <td>[0.17, 0.17]</td>\n",
       "      <td>[0.108, 0.149]</td>\n",
       "      <td>0.654</td>\n",
       "      <td>0.546</td>\n",
       "      <td>0.129</td>\n",
       "      <td>0.271</td>\n",
       "      <td>0.217</td>\n",
       "      <td>0.183</td>\n",
       "    </tr>\n",
       "    <tr>\n",
       "      <th>summation</th>\n",
       "      <td>{1: 698, -1: 59, 0: 243}</td>\n",
       "      <td>{1: 576, -1: 229, 0: 195}</td>\n",
       "      <td>163091</td>\n",
       "      <td>163091</td>\n",
       "      <td>[0.298, 0.298]</td>\n",
       "      <td>[0.408, 0.543]</td>\n",
       "      <td>[0.073, 0.073]</td>\n",
       "      <td>[0.077, 0.116]</td>\n",
       "      <td>0.698</td>\n",
       "      <td>0.576</td>\n",
       "      <td>0.059</td>\n",
       "      <td>0.229</td>\n",
       "      <td>0.243</td>\n",
       "      <td>0.195</td>\n",
       "    </tr>\n",
       "    <tr>\n",
       "      <th>0.03</th>\n",
       "      <th>normalization</th>\n",
       "      <td>{1: 696, -1: 142, 0: 162}</td>\n",
       "      <td>{1: 601, -1: 256, 0: 143}</td>\n",
       "      <td>163091</td>\n",
       "      <td>163091</td>\n",
       "      <td>[0.601, 0.601]</td>\n",
       "      <td>[0.5, 0.65]</td>\n",
       "      <td>[0.206, 0.206]</td>\n",
       "      <td>[0.118, 0.213]</td>\n",
       "      <td>0.696</td>\n",
       "      <td>0.601</td>\n",
       "      <td>0.142</td>\n",
       "      <td>0.256</td>\n",
       "      <td>0.162</td>\n",
       "      <td>0.143</td>\n",
       "    </tr>\n",
       "    <tr>\n",
       "      <th>...</th>\n",
       "      <th>...</th>\n",
       "      <th>...</th>\n",
       "      <th>...</th>\n",
       "      <th>...</th>\n",
       "      <td>...</td>\n",
       "      <td>...</td>\n",
       "      <td>...</td>\n",
       "      <td>...</td>\n",
       "      <td>...</td>\n",
       "      <td>...</td>\n",
       "      <td>...</td>\n",
       "      <td>...</td>\n",
       "      <td>...</td>\n",
       "      <td>...</td>\n",
       "      <td>...</td>\n",
       "      <td>...</td>\n",
       "      <td>...</td>\n",
       "      <td>...</td>\n",
       "    </tr>\n",
       "    <tr>\n",
       "      <th rowspan=\"5\" valign=\"top\">6</th>\n",
       "      <th rowspan=\"5\" valign=\"top\">5</th>\n",
       "      <th rowspan=\"5\" valign=\"top\">0.95</th>\n",
       "      <th>0.08</th>\n",
       "      <th>summation</th>\n",
       "      <td>{1: 770, 0: 85, -1: 145}</td>\n",
       "      <td>{1: 602, -1: 370, 0: 28}</td>\n",
       "      <td>100667</td>\n",
       "      <td>100667</td>\n",
       "      <td>[0.656, 0.656]</td>\n",
       "      <td>[0.531, 0.932]</td>\n",
       "      <td>[0.31, 0.31]</td>\n",
       "      <td>[0.217, 0.559]</td>\n",
       "      <td>0.770</td>\n",
       "      <td>0.602</td>\n",
       "      <td>0.145</td>\n",
       "      <td>0.370</td>\n",
       "      <td>0.085</td>\n",
       "      <td>0.028</td>\n",
       "    </tr>\n",
       "    <tr>\n",
       "      <th rowspan=\"2\" valign=\"top\">0.09</th>\n",
       "      <th>normalization</th>\n",
       "      <td>{1: 708, -1: 254, 0: 38}</td>\n",
       "      <td>{1: 595, -1: 376, 0: 29}</td>\n",
       "      <td>100667</td>\n",
       "      <td>100667</td>\n",
       "      <td>[0.943, 0.943]</td>\n",
       "      <td>[0.62, 1.041]</td>\n",
       "      <td>[0.609, 0.609]</td>\n",
       "      <td>[0.301, 0.752]</td>\n",
       "      <td>0.708</td>\n",
       "      <td>0.595</td>\n",
       "      <td>0.254</td>\n",
       "      <td>0.376</td>\n",
       "      <td>0.038</td>\n",
       "      <td>0.029</td>\n",
       "    </tr>\n",
       "    <tr>\n",
       "      <th>summation</th>\n",
       "      <td>{1: 769, 0: 64, -1: 167}</td>\n",
       "      <td>{1: 621, -1: 351, 0: 28}</td>\n",
       "      <td>100667</td>\n",
       "      <td>100667</td>\n",
       "      <td>[0.684, 0.684]</td>\n",
       "      <td>[0.533, 0.948]</td>\n",
       "      <td>[0.322, 0.322]</td>\n",
       "      <td>[0.213, 0.559]</td>\n",
       "      <td>0.769</td>\n",
       "      <td>0.621</td>\n",
       "      <td>0.167</td>\n",
       "      <td>0.351</td>\n",
       "      <td>0.064</td>\n",
       "      <td>0.028</td>\n",
       "    </tr>\n",
       "    <tr>\n",
       "      <th rowspan=\"2\" valign=\"top\">0.1</th>\n",
       "      <th>normalization</th>\n",
       "      <td>{1: 699, -1: 271, 0: 30}</td>\n",
       "      <td>{1: 610, -1: 358, 0: 32}</td>\n",
       "      <td>100667</td>\n",
       "      <td>100667</td>\n",
       "      <td>[0.978, 0.978]</td>\n",
       "      <td>[0.605, 1.044]</td>\n",
       "      <td>[0.683, 0.683]</td>\n",
       "      <td>[0.309, 0.757]</td>\n",
       "      <td>0.699</td>\n",
       "      <td>0.610</td>\n",
       "      <td>0.271</td>\n",
       "      <td>0.358</td>\n",
       "      <td>0.030</td>\n",
       "      <td>0.032</td>\n",
       "    </tr>\n",
       "    <tr>\n",
       "      <th>summation</th>\n",
       "      <td>{1: 780, 0: 53, -1: 167}</td>\n",
       "      <td>{1: 629, -1: 358, 0: 13}</td>\n",
       "      <td>100667</td>\n",
       "      <td>100667</td>\n",
       "      <td>[0.703, 0.703]</td>\n",
       "      <td>[0.537, 0.977]</td>\n",
       "      <td>[0.347, 0.347]</td>\n",
       "      <td>[0.234, 0.669]</td>\n",
       "      <td>0.780</td>\n",
       "      <td>0.629</td>\n",
       "      <td>0.167</td>\n",
       "      <td>0.358</td>\n",
       "      <td>0.053</td>\n",
       "      <td>0.013</td>\n",
       "    </tr>\n",
       "  </tbody>\n",
       "</table>\n",
       "<p>240 rows × 14 columns</p>\n",
       "</div>"
      ],
      "text/plain": [
       "                                                                               count_winners  \\\n",
       "multi_armed                                                                            False   \n",
       "p_control mde prob_super batch_size_share_mu method_update_params                              \n",
       "1         10  0.9        0.01                normalization         {1: 593, -1: 110, 0: 297}   \n",
       "                                             summation              {1: 620, -1: 65, 0: 315}   \n",
       "                         0.02                normalization         {1: 654, -1: 129, 0: 217}   \n",
       "                                             summation              {1: 698, -1: 59, 0: 243}   \n",
       "                         0.03                normalization         {1: 696, -1: 142, 0: 162}   \n",
       "...                                                                                      ...   \n",
       "6         5   0.95       0.08                summation              {1: 770, 0: 85, -1: 145}   \n",
       "                         0.09                normalization          {1: 708, -1: 254, 0: 38}   \n",
       "                                             summation              {1: 769, 0: 64, -1: 167}   \n",
       "                         0.1                 normalization          {1: 699, -1: 271, 0: 30}   \n",
       "                                             summation              {1: 780, 0: 53, -1: 167}   \n",
       "\n",
       "                                                                                              \\\n",
       "multi_armed                                                                             True   \n",
       "p_control mde prob_super batch_size_share_mu method_update_params                              \n",
       "1         10  0.9        0.01                normalization         {1: 518, -1: 242, 0: 240}   \n",
       "                                             summation             {1: 524, -1: 243, 0: 233}   \n",
       "                         0.02                normalization         {1: 546, -1: 271, 0: 183}   \n",
       "                                             summation             {1: 576, -1: 229, 0: 195}   \n",
       "                         0.03                normalization         {1: 601, -1: 256, 0: 143}   \n",
       "...                                                                                      ...   \n",
       "6         5   0.95       0.08                summation              {1: 602, -1: 370, 0: 28}   \n",
       "                         0.09                normalization          {1: 595, -1: 376, 0: 29}   \n",
       "                                             summation              {1: 621, -1: 351, 0: 28}   \n",
       "                         0.1                 normalization          {1: 610, -1: 358, 0: 32}   \n",
       "                                             summation              {1: 629, -1: 358, 0: 13}   \n",
       "\n",
       "                                                                     size  \\\n",
       "multi_armed                                                         False   \n",
       "p_control mde prob_super batch_size_share_mu method_update_params           \n",
       "1         10  0.9        0.01                normalization         163091   \n",
       "                                             summation             163091   \n",
       "                         0.02                normalization         163091   \n",
       "                                             summation             163091   \n",
       "                         0.03                normalization         163091   \n",
       "...                                                                   ...   \n",
       "6         5   0.95       0.08                summation             100667   \n",
       "                         0.09                normalization         100667   \n",
       "                                             summation             100667   \n",
       "                         0.1                 normalization         100667   \n",
       "                                             summation             100667   \n",
       "\n",
       "                                                                           \\\n",
       "multi_armed                                                          True   \n",
       "p_control mde prob_super batch_size_share_mu method_update_params           \n",
       "1         10  0.9        0.01                normalization         163091   \n",
       "                                             summation             163091   \n",
       "                         0.02                normalization         163091   \n",
       "                                             summation             163091   \n",
       "                         0.03                normalization         163091   \n",
       "...                                                                   ...   \n",
       "6         5   0.95       0.08                summation             100667   \n",
       "                         0.09                normalization         100667   \n",
       "                                             summation             100667   \n",
       "                         0.1                 normalization         100667   \n",
       "                                             summation             100667   \n",
       "\n",
       "                                                                  share_observations_mean  \\\n",
       "multi_armed                                                                         False   \n",
       "p_control mde prob_super batch_size_share_mu method_update_params                           \n",
       "1         10  0.9        0.01                normalization                 [0.446, 0.446]   \n",
       "                                             summation                     [0.267, 0.267]   \n",
       "                         0.02                normalization                 [0.511, 0.511]   \n",
       "                                             summation                     [0.298, 0.298]   \n",
       "                         0.03                normalization                 [0.601, 0.601]   \n",
       "...                                                                                   ...   \n",
       "6         5   0.95       0.08                summation                     [0.656, 0.656]   \n",
       "                         0.09                normalization                 [0.943, 0.943]   \n",
       "                                             summation                     [0.684, 0.684]   \n",
       "                         0.1                 normalization                 [0.978, 0.978]   \n",
       "                                             summation                     [0.703, 0.703]   \n",
       "\n",
       "                                                                                   \\\n",
       "multi_armed                                                                  True   \n",
       "p_control mde prob_super batch_size_share_mu method_update_params                   \n",
       "1         10  0.9        0.01                normalization         [0.427, 0.534]   \n",
       "                                             summation             [0.428, 0.495]   \n",
       "                         0.02                normalization         [0.466, 0.632]   \n",
       "                                             summation             [0.408, 0.543]   \n",
       "                         0.03                normalization            [0.5, 0.65]   \n",
       "...                                                                           ...   \n",
       "6         5   0.95       0.08                summation             [0.531, 0.932]   \n",
       "                         0.09                normalization          [0.62, 1.041]   \n",
       "                                             summation             [0.533, 0.948]   \n",
       "                         0.1                 normalization         [0.605, 1.044]   \n",
       "                                             summation             [0.537, 0.977]   \n",
       "\n",
       "                                                                  share_observations_median  \\\n",
       "multi_armed                                                                           False   \n",
       "p_control mde prob_super batch_size_share_mu method_update_params                             \n",
       "1         10  0.9        0.01                normalization                   [0.121, 0.121]   \n",
       "                                             summation                       [0.044, 0.044]   \n",
       "                         0.02                normalization                     [0.17, 0.17]   \n",
       "                                             summation                       [0.073, 0.073]   \n",
       "                         0.03                normalization                   [0.206, 0.206]   \n",
       "...                                                                                     ...   \n",
       "6         5   0.95       0.08                summation                         [0.31, 0.31]   \n",
       "                         0.09                normalization                   [0.609, 0.609]   \n",
       "                                             summation                       [0.322, 0.322]   \n",
       "                         0.1                 normalization                   [0.683, 0.683]   \n",
       "                                             summation                       [0.347, 0.347]   \n",
       "\n",
       "                                                                                   \\\n",
       "multi_armed                                                                  True   \n",
       "p_control mde prob_super batch_size_share_mu method_update_params                   \n",
       "1         10  0.9        0.01                normalization         [0.061, 0.078]   \n",
       "                                             summation             [0.055, 0.076]   \n",
       "                         0.02                normalization         [0.108, 0.149]   \n",
       "                                             summation             [0.077, 0.116]   \n",
       "                         0.03                normalization         [0.118, 0.213]   \n",
       "...                                                                           ...   \n",
       "6         5   0.95       0.08                summation             [0.217, 0.559]   \n",
       "                         0.09                normalization         [0.301, 0.752]   \n",
       "                                             summation             [0.213, 0.559]   \n",
       "                         0.1                 normalization         [0.309, 0.757]   \n",
       "                                             summation             [0.234, 0.669]   \n",
       "\n",
       "                                                                  share_test_winner  \\\n",
       "multi_armed                                                                   False   \n",
       "p_control mde prob_super batch_size_share_mu method_update_params                     \n",
       "1         10  0.9        0.01                normalization                    0.593   \n",
       "                                             summation                        0.620   \n",
       "                         0.02                normalization                    0.654   \n",
       "                                             summation                        0.698   \n",
       "                         0.03                normalization                    0.696   \n",
       "...                                                                             ...   \n",
       "6         5   0.95       0.08                summation                        0.770   \n",
       "                         0.09                normalization                    0.708   \n",
       "                                             summation                        0.769   \n",
       "                         0.1                 normalization                    0.699   \n",
       "                                             summation                        0.780   \n",
       "\n",
       "                                                                          \\\n",
       "multi_armed                                                         True   \n",
       "p_control mde prob_super batch_size_share_mu method_update_params          \n",
       "1         10  0.9        0.01                normalization         0.518   \n",
       "                                             summation             0.524   \n",
       "                         0.02                normalization         0.546   \n",
       "                                             summation             0.576   \n",
       "                         0.03                normalization         0.601   \n",
       "...                                                                  ...   \n",
       "6         5   0.95       0.08                summation             0.602   \n",
       "                         0.09                normalization         0.595   \n",
       "                                             summation             0.621   \n",
       "                         0.1                 normalization         0.610   \n",
       "                                             summation             0.629   \n",
       "\n",
       "                                                                  share_not_winner  \\\n",
       "multi_armed                                                                  False   \n",
       "p_control mde prob_super batch_size_share_mu method_update_params                    \n",
       "1         10  0.9        0.01                normalization                   0.110   \n",
       "                                             summation                       0.065   \n",
       "                         0.02                normalization                   0.129   \n",
       "                                             summation                       0.059   \n",
       "                         0.03                normalization                   0.142   \n",
       "...                                                                            ...   \n",
       "6         5   0.95       0.08                summation                       0.145   \n",
       "                         0.09                normalization                   0.254   \n",
       "                                             summation                       0.167   \n",
       "                         0.1                 normalization                   0.271   \n",
       "                                             summation                       0.167   \n",
       "\n",
       "                                                                          \\\n",
       "multi_armed                                                         True   \n",
       "p_control mde prob_super batch_size_share_mu method_update_params          \n",
       "1         10  0.9        0.01                normalization         0.242   \n",
       "                                             summation             0.243   \n",
       "                         0.02                normalization         0.271   \n",
       "                                             summation             0.229   \n",
       "                         0.03                normalization         0.256   \n",
       "...                                                                  ...   \n",
       "6         5   0.95       0.08                summation             0.370   \n",
       "                         0.09                normalization         0.376   \n",
       "                                             summation             0.351   \n",
       "                         0.1                 normalization         0.358   \n",
       "                                             summation             0.358   \n",
       "\n",
       "                                                                  share_control_winner  \\\n",
       "multi_armed                                                                      False   \n",
       "p_control mde prob_super batch_size_share_mu method_update_params                        \n",
       "1         10  0.9        0.01                normalization                       0.297   \n",
       "                                             summation                           0.315   \n",
       "                         0.02                normalization                       0.217   \n",
       "                                             summation                           0.243   \n",
       "                         0.03                normalization                       0.162   \n",
       "...                                                                                ...   \n",
       "6         5   0.95       0.08                summation                           0.085   \n",
       "                         0.09                normalization                       0.038   \n",
       "                                             summation                           0.064   \n",
       "                         0.1                 normalization                       0.030   \n",
       "                                             summation                           0.053   \n",
       "\n",
       "                                                                          \n",
       "multi_armed                                                         True  \n",
       "p_control mde prob_super batch_size_share_mu method_update_params         \n",
       "1         10  0.9        0.01                normalization         0.240  \n",
       "                                             summation             0.233  \n",
       "                         0.02                normalization         0.183  \n",
       "                                             summation             0.195  \n",
       "                         0.03                normalization         0.143  \n",
       "...                                                                  ...  \n",
       "6         5   0.95       0.08                summation             0.028  \n",
       "                         0.09                normalization         0.029  \n",
       "                                             summation             0.028  \n",
       "                         0.1                 normalization         0.032  \n",
       "                                             summation             0.013  \n",
       "\n",
       "[240 rows x 14 columns]"
      ]
     },
     "execution_count": 21,
     "metadata": {},
     "output_type": "execute_result"
    }
   ],
   "source": [
    "results_mab_2_fn.unstack(level='multi_armed')"
   ]
  },
  {
   "cell_type": "code",
   "execution_count": 19,
   "metadata": {},
   "outputs": [
    {
     "data": {
      "text/html": [
       "<div>\n",
       "<style scoped>\n",
       "    .dataframe tbody tr th:only-of-type {\n",
       "        vertical-align: middle;\n",
       "    }\n",
       "\n",
       "    .dataframe tbody tr th {\n",
       "        vertical-align: top;\n",
       "    }\n",
       "\n",
       "    .dataframe thead th {\n",
       "        text-align: right;\n",
       "    }\n",
       "</style>\n",
       "<table border=\"1\" class=\"dataframe\">\n",
       "  <thead>\n",
       "    <tr style=\"text-align: right;\">\n",
       "      <th></th>\n",
       "      <th></th>\n",
       "      <th></th>\n",
       "      <th></th>\n",
       "      <th></th>\n",
       "      <th></th>\n",
       "      <th>count_winners</th>\n",
       "      <th>size</th>\n",
       "      <th>share_observations_mean</th>\n",
       "      <th>share_observations_median</th>\n",
       "      <th>share_test_winner</th>\n",
       "      <th>share_not_winner</th>\n",
       "      <th>share_control_winner</th>\n",
       "    </tr>\n",
       "    <tr>\n",
       "      <th>p_control</th>\n",
       "      <th>mde</th>\n",
       "      <th>prob_super</th>\n",
       "      <th>batch_size_share_mu</th>\n",
       "      <th>method_update_params</th>\n",
       "      <th>multi_armed</th>\n",
       "      <th></th>\n",
       "      <th></th>\n",
       "      <th></th>\n",
       "      <th></th>\n",
       "      <th></th>\n",
       "      <th></th>\n",
       "      <th></th>\n",
       "    </tr>\n",
       "  </thead>\n",
       "  <tbody>\n",
       "    <tr>\n",
       "      <th rowspan=\"2\" valign=\"top\">1</th>\n",
       "      <th>5</th>\n",
       "      <th>0.9</th>\n",
       "      <th>0.1</th>\n",
       "      <th>summation</th>\n",
       "      <th>True</th>\n",
       "      <td>{1: 767, -1: 206, 0: 27}</td>\n",
       "      <td>637007</td>\n",
       "      <td>[0.438, 0.655]</td>\n",
       "      <td>[0.171, 0.29]</td>\n",
       "      <td>0.767</td>\n",
       "      <td>0.206</td>\n",
       "      <td>0.027</td>\n",
       "    </tr>\n",
       "    <tr>\n",
       "      <th>10</th>\n",
       "      <th>0.9</th>\n",
       "      <th>0.1</th>\n",
       "      <th>summation</th>\n",
       "      <th>True</th>\n",
       "      <td>{1: 760, -1: 207, 0: 33}</td>\n",
       "      <td>163091</td>\n",
       "      <td>[0.45, 0.66]</td>\n",
       "      <td>[0.169, 0.295]</td>\n",
       "      <td>0.760</td>\n",
       "      <td>0.207</td>\n",
       "      <td>0.033</td>\n",
       "    </tr>\n",
       "    <tr>\n",
       "      <th rowspan=\"2\" valign=\"top\">6</th>\n",
       "      <th rowspan=\"2\" valign=\"top\">10</th>\n",
       "      <th rowspan=\"2\" valign=\"top\">0.9</th>\n",
       "      <th>0.1</th>\n",
       "      <th>summation</th>\n",
       "      <th>True</th>\n",
       "      <td>{1: 760, -1: 207, 0: 33}</td>\n",
       "      <td>25736</td>\n",
       "      <td>[0.459, 0.654]</td>\n",
       "      <td>[0.17, 0.278]</td>\n",
       "      <td>0.760</td>\n",
       "      <td>0.207</td>\n",
       "      <td>0.033</td>\n",
       "    </tr>\n",
       "    <tr>\n",
       "      <th>0.09</th>\n",
       "      <th>summation</th>\n",
       "      <th>True</th>\n",
       "      <td>{1: 746, -1: 209, 0: 45}</td>\n",
       "      <td>25736</td>\n",
       "      <td>[0.453, 0.631]</td>\n",
       "      <td>[0.152, 0.279]</td>\n",
       "      <td>0.746</td>\n",
       "      <td>0.209</td>\n",
       "      <td>0.045</td>\n",
       "    </tr>\n",
       "    <tr>\n",
       "      <th rowspan=\"3\" valign=\"top\">1</th>\n",
       "      <th rowspan=\"3\" valign=\"top\">10</th>\n",
       "      <th>0.9</th>\n",
       "      <th>0.09</th>\n",
       "      <th>summation</th>\n",
       "      <th>True</th>\n",
       "      <td>{1: 746, 0: 60, -1: 194}</td>\n",
       "      <td>163091</td>\n",
       "      <td>[0.445, 0.628]</td>\n",
       "      <td>[0.16, 0.261]</td>\n",
       "      <td>0.746</td>\n",
       "      <td>0.194</td>\n",
       "      <td>0.060</td>\n",
       "    </tr>\n",
       "    <tr>\n",
       "      <th>...</th>\n",
       "      <th>...</th>\n",
       "      <th>...</th>\n",
       "      <th>...</th>\n",
       "      <td>...</td>\n",
       "      <td>...</td>\n",
       "      <td>...</td>\n",
       "      <td>...</td>\n",
       "      <td>...</td>\n",
       "      <td>...</td>\n",
       "      <td>...</td>\n",
       "    </tr>\n",
       "    <tr>\n",
       "      <th>0.95</th>\n",
       "      <th>0.01</th>\n",
       "      <th>normalization</th>\n",
       "      <th>True</th>\n",
       "      <td>{1: 431, -1: 353, 0: 216}</td>\n",
       "      <td>163091</td>\n",
       "      <td>[0.53, 0.725]</td>\n",
       "      <td>[0.146, 0.175]</td>\n",
       "      <td>0.431</td>\n",
       "      <td>0.353</td>\n",
       "      <td>0.216</td>\n",
       "    </tr>\n",
       "    <tr>\n",
       "      <th rowspan=\"2\" valign=\"top\">11</th>\n",
       "      <th>5</th>\n",
       "      <th>0.95</th>\n",
       "      <th>0.01</th>\n",
       "      <th>normalization</th>\n",
       "      <th>True</th>\n",
       "      <td>{-1: 366, 1: 424, 0: 210}</td>\n",
       "      <td>51908</td>\n",
       "      <td>[0.556, 0.732]</td>\n",
       "      <td>[0.151, 0.177]</td>\n",
       "      <td>0.424</td>\n",
       "      <td>0.366</td>\n",
       "      <td>0.210</td>\n",
       "    </tr>\n",
       "    <tr>\n",
       "      <th>10</th>\n",
       "      <th>0.95</th>\n",
       "      <th>0.01</th>\n",
       "      <th>summation</th>\n",
       "      <th>True</th>\n",
       "      <td>{1: 420, -1: 385, 0: 195}</td>\n",
       "      <td>13249</td>\n",
       "      <td>[0.544, 0.732]</td>\n",
       "      <td>[0.187, 0.185]</td>\n",
       "      <td>0.420</td>\n",
       "      <td>0.385</td>\n",
       "      <td>0.195</td>\n",
       "    </tr>\n",
       "    <tr>\n",
       "      <th>6</th>\n",
       "      <th>5</th>\n",
       "      <th>0.95</th>\n",
       "      <th>0.01</th>\n",
       "      <th>summation</th>\n",
       "      <th>True</th>\n",
       "      <td>{-1: 385, 1: 419, 0: 196}</td>\n",
       "      <td>100667</td>\n",
       "      <td>[0.572, 0.731]</td>\n",
       "      <td>[0.2, 0.204]</td>\n",
       "      <td>0.419</td>\n",
       "      <td>0.385</td>\n",
       "      <td>0.196</td>\n",
       "    </tr>\n",
       "    <tr>\n",
       "      <th>11</th>\n",
       "      <th>5</th>\n",
       "      <th>0.95</th>\n",
       "      <th>0.01</th>\n",
       "      <th>summation</th>\n",
       "      <th>True</th>\n",
       "      <td>{-1: 407, 1: 408, 0: 185}</td>\n",
       "      <td>51908</td>\n",
       "      <td>[0.599, 0.737]</td>\n",
       "      <td>[0.185, 0.23]</td>\n",
       "      <td>0.408</td>\n",
       "      <td>0.407</td>\n",
       "      <td>0.185</td>\n",
       "    </tr>\n",
       "  </tbody>\n",
       "</table>\n",
       "<p>240 rows × 7 columns</p>\n",
       "</div>"
      ],
      "text/plain": [
       "                                                                                           count_winners  \\\n",
       "p_control mde prob_super batch_size_share_mu method_update_params multi_armed                              \n",
       "1         5   0.9        0.1                 summation            True          {1: 767, -1: 206, 0: 27}   \n",
       "          10  0.9        0.1                 summation            True          {1: 760, -1: 207, 0: 33}   \n",
       "6         10  0.9        0.1                 summation            True          {1: 760, -1: 207, 0: 33}   \n",
       "                         0.09                summation            True          {1: 746, -1: 209, 0: 45}   \n",
       "1         10  0.9        0.09                summation            True          {1: 746, 0: 60, -1: 194}   \n",
       "...                                                                                                  ...   \n",
       "              0.95       0.01                normalization        True         {1: 431, -1: 353, 0: 216}   \n",
       "11        5   0.95       0.01                normalization        True         {-1: 366, 1: 424, 0: 210}   \n",
       "          10  0.95       0.01                summation            True         {1: 420, -1: 385, 0: 195}   \n",
       "6         5   0.95       0.01                summation            True         {-1: 385, 1: 419, 0: 196}   \n",
       "11        5   0.95       0.01                summation            True         {-1: 407, 1: 408, 0: 185}   \n",
       "\n",
       "                                                                                 size  \\\n",
       "p_control mde prob_super batch_size_share_mu method_update_params multi_armed           \n",
       "1         5   0.9        0.1                 summation            True         637007   \n",
       "          10  0.9        0.1                 summation            True         163091   \n",
       "6         10  0.9        0.1                 summation            True          25736   \n",
       "                         0.09                summation            True          25736   \n",
       "1         10  0.9        0.09                summation            True         163091   \n",
       "...                                                                               ...   \n",
       "              0.95       0.01                normalization        True         163091   \n",
       "11        5   0.95       0.01                normalization        True          51908   \n",
       "          10  0.95       0.01                summation            True          13249   \n",
       "6         5   0.95       0.01                summation            True         100667   \n",
       "11        5   0.95       0.01                summation            True          51908   \n",
       "\n",
       "                                                                              share_observations_mean  \\\n",
       "p_control mde prob_super batch_size_share_mu method_update_params multi_armed                           \n",
       "1         5   0.9        0.1                 summation            True                 [0.438, 0.655]   \n",
       "          10  0.9        0.1                 summation            True                   [0.45, 0.66]   \n",
       "6         10  0.9        0.1                 summation            True                 [0.459, 0.654]   \n",
       "                         0.09                summation            True                 [0.453, 0.631]   \n",
       "1         10  0.9        0.09                summation            True                 [0.445, 0.628]   \n",
       "...                                                                                               ...   \n",
       "              0.95       0.01                normalization        True                  [0.53, 0.725]   \n",
       "11        5   0.95       0.01                normalization        True                 [0.556, 0.732]   \n",
       "          10  0.95       0.01                summation            True                 [0.544, 0.732]   \n",
       "6         5   0.95       0.01                summation            True                 [0.572, 0.731]   \n",
       "11        5   0.95       0.01                summation            True                 [0.599, 0.737]   \n",
       "\n",
       "                                                                              share_observations_median  \\\n",
       "p_control mde prob_super batch_size_share_mu method_update_params multi_armed                             \n",
       "1         5   0.9        0.1                 summation            True                    [0.171, 0.29]   \n",
       "          10  0.9        0.1                 summation            True                   [0.169, 0.295]   \n",
       "6         10  0.9        0.1                 summation            True                    [0.17, 0.278]   \n",
       "                         0.09                summation            True                   [0.152, 0.279]   \n",
       "1         10  0.9        0.09                summation            True                    [0.16, 0.261]   \n",
       "...                                                                                                 ...   \n",
       "              0.95       0.01                normalization        True                   [0.146, 0.175]   \n",
       "11        5   0.95       0.01                normalization        True                   [0.151, 0.177]   \n",
       "          10  0.95       0.01                summation            True                   [0.187, 0.185]   \n",
       "6         5   0.95       0.01                summation            True                     [0.2, 0.204]   \n",
       "11        5   0.95       0.01                summation            True                    [0.185, 0.23]   \n",
       "\n",
       "                                                                               share_test_winner  \\\n",
       "p_control mde prob_super batch_size_share_mu method_update_params multi_armed                      \n",
       "1         5   0.9        0.1                 summation            True                     0.767   \n",
       "          10  0.9        0.1                 summation            True                     0.760   \n",
       "6         10  0.9        0.1                 summation            True                     0.760   \n",
       "                         0.09                summation            True                     0.746   \n",
       "1         10  0.9        0.09                summation            True                     0.746   \n",
       "...                                                                                          ...   \n",
       "              0.95       0.01                normalization        True                     0.431   \n",
       "11        5   0.95       0.01                normalization        True                     0.424   \n",
       "          10  0.95       0.01                summation            True                     0.420   \n",
       "6         5   0.95       0.01                summation            True                     0.419   \n",
       "11        5   0.95       0.01                summation            True                     0.408   \n",
       "\n",
       "                                                                               share_not_winner  \\\n",
       "p_control mde prob_super batch_size_share_mu method_update_params multi_armed                     \n",
       "1         5   0.9        0.1                 summation            True                    0.206   \n",
       "          10  0.9        0.1                 summation            True                    0.207   \n",
       "6         10  0.9        0.1                 summation            True                    0.207   \n",
       "                         0.09                summation            True                    0.209   \n",
       "1         10  0.9        0.09                summation            True                    0.194   \n",
       "...                                                                                         ...   \n",
       "              0.95       0.01                normalization        True                    0.353   \n",
       "11        5   0.95       0.01                normalization        True                    0.366   \n",
       "          10  0.95       0.01                summation            True                    0.385   \n",
       "6         5   0.95       0.01                summation            True                    0.385   \n",
       "11        5   0.95       0.01                summation            True                    0.407   \n",
       "\n",
       "                                                                               share_control_winner  \n",
       "p_control mde prob_super batch_size_share_mu method_update_params multi_armed                        \n",
       "1         5   0.9        0.1                 summation            True                        0.027  \n",
       "          10  0.9        0.1                 summation            True                        0.033  \n",
       "6         10  0.9        0.1                 summation            True                        0.033  \n",
       "                         0.09                summation            True                        0.045  \n",
       "1         10  0.9        0.09                summation            True                        0.060  \n",
       "...                                                                                             ...  \n",
       "              0.95       0.01                normalization        True                        0.216  \n",
       "11        5   0.95       0.01                normalization        True                        0.210  \n",
       "          10  0.95       0.01                summation            True                        0.195  \n",
       "6         5   0.95       0.01                summation            True                        0.196  \n",
       "11        5   0.95       0.01                summation            True                        0.185  \n",
       "\n",
       "[240 rows x 7 columns]"
      ]
     },
     "execution_count": 19,
     "metadata": {},
     "output_type": "execute_result"
    }
   ],
   "source": [
    "results_mab_2_fn.query(\"multi_armed=='True'\").sort_values(\"share_test_winner\", ascending=False)"
   ]
  },
  {
   "cell_type": "markdown",
   "metadata": {},
   "source": [
    "# Experiment 3\n",
    "## Thompson"
   ]
  },
  {
   "cell_type": "code",
   "execution_count": 5,
   "metadata": {},
   "outputs": [
    {
     "data": {
      "application/vnd.jupyter.widget-view+json": {
       "model_id": "62c71d103416408e8a07d174ccd42742",
       "version_major": 2,
       "version_minor": 0
      },
      "text/plain": [
       "  0%|          | 0/360 [00:00<?, ?it/s]"
      ]
     },
     "metadata": {},
     "output_type": "display_data"
    }
   ],
   "source": [
    "test_result_mab_3 = TestResult2Processing(folder=\"Thompson/Experiment3/\", test_type=\"thompson\")\n",
    "results_mab_3 = test_result_mab_3.run()\n",
    "results_mab_3_fp = results_mab_3.query(\"mde == '0'\")\n",
    "results_mab_3_fn = results_mab_3.query(\"mde != '0'\")"
   ]
  },
  {
   "cell_type": "code",
   "execution_count": 18,
   "metadata": {},
   "outputs": [
    {
     "data": {
      "text/html": [
       "<div>\n",
       "<style scoped>\n",
       "    .dataframe tbody tr th:only-of-type {\n",
       "        vertical-align: middle;\n",
       "    }\n",
       "\n",
       "    .dataframe tbody tr th {\n",
       "        vertical-align: top;\n",
       "    }\n",
       "\n",
       "    .dataframe thead th {\n",
       "        text-align: right;\n",
       "    }\n",
       "</style>\n",
       "<table border=\"1\" class=\"dataframe\">\n",
       "  <thead>\n",
       "    <tr style=\"text-align: right;\">\n",
       "      <th></th>\n",
       "      <th></th>\n",
       "      <th></th>\n",
       "      <th></th>\n",
       "      <th></th>\n",
       "      <th></th>\n",
       "      <th>count_winners</th>\n",
       "      <th>size</th>\n",
       "      <th>share_observations_mean</th>\n",
       "      <th>share_observations_median</th>\n",
       "      <th>share_test_winner</th>\n",
       "      <th>share_not_winner</th>\n",
       "      <th>share_control_winner</th>\n",
       "    </tr>\n",
       "    <tr>\n",
       "      <th>p_control</th>\n",
       "      <th>mde</th>\n",
       "      <th>prob_super</th>\n",
       "      <th>batch_size_share_mu</th>\n",
       "      <th>method_update_params</th>\n",
       "      <th>multi_armed</th>\n",
       "      <th></th>\n",
       "      <th></th>\n",
       "      <th></th>\n",
       "      <th></th>\n",
       "      <th></th>\n",
       "      <th></th>\n",
       "      <th></th>\n",
       "    </tr>\n",
       "  </thead>\n",
       "  <tbody>\n",
       "    <tr>\n",
       "      <th>1</th>\n",
       "      <th>5</th>\n",
       "      <th>0.9</th>\n",
       "      <th>0.1</th>\n",
       "      <th>summation</th>\n",
       "      <th>False</th>\n",
       "      <td>{1: 779, -1: 184, 0: 37}</td>\n",
       "      <td>637007</td>\n",
       "      <td>[1.053, 1.053]</td>\n",
       "      <td>[1.048, 1.048]</td>\n",
       "      <td>0.779</td>\n",
       "      <td>0.184</td>\n",
       "      <td>0.037</td>\n",
       "    </tr>\n",
       "    <tr>\n",
       "      <th>6</th>\n",
       "      <th>10</th>\n",
       "      <th>0.9</th>\n",
       "      <th>0.1</th>\n",
       "      <th>summation</th>\n",
       "      <th>False</th>\n",
       "      <td>{1: 766, -1: 194, 0: 40}</td>\n",
       "      <td>25736</td>\n",
       "      <td>[1.055, 1.055]</td>\n",
       "      <td>[1.051, 1.051]</td>\n",
       "      <td>0.766</td>\n",
       "      <td>0.194</td>\n",
       "      <td>0.040</td>\n",
       "    </tr>\n",
       "    <tr>\n",
       "      <th rowspan=\"3\" valign=\"top\">1</th>\n",
       "      <th rowspan=\"2\" valign=\"top\">5</th>\n",
       "      <th rowspan=\"2\" valign=\"top\">0.9</th>\n",
       "      <th>0.08</th>\n",
       "      <th>summation</th>\n",
       "      <th>False</th>\n",
       "      <td>{1: 762, -1: 182, 0: 56}</td>\n",
       "      <td>637007</td>\n",
       "      <td>[1.043, 1.043]</td>\n",
       "      <td>[1.04, 1.04]</td>\n",
       "      <td>0.762</td>\n",
       "      <td>0.182</td>\n",
       "      <td>0.056</td>\n",
       "    </tr>\n",
       "    <tr>\n",
       "      <th>0.09</th>\n",
       "      <th>summation</th>\n",
       "      <th>False</th>\n",
       "      <td>{1: 758, -1: 197, 0: 45}</td>\n",
       "      <td>637007</td>\n",
       "      <td>[1.05, 1.05]</td>\n",
       "      <td>[1.045, 1.045]</td>\n",
       "      <td>0.758</td>\n",
       "      <td>0.197</td>\n",
       "      <td>0.045</td>\n",
       "    </tr>\n",
       "    <tr>\n",
       "      <th>10</th>\n",
       "      <th>0.9</th>\n",
       "      <th>0.1</th>\n",
       "      <th>summation</th>\n",
       "      <th>False</th>\n",
       "      <td>{1: 747, -1: 206, 0: 47}</td>\n",
       "      <td>163091</td>\n",
       "      <td>[1.056, 1.056]</td>\n",
       "      <td>[1.05, 1.05]</td>\n",
       "      <td>0.747</td>\n",
       "      <td>0.206</td>\n",
       "      <td>0.047</td>\n",
       "    </tr>\n",
       "    <tr>\n",
       "      <th>...</th>\n",
       "      <th>...</th>\n",
       "      <th>...</th>\n",
       "      <th>...</th>\n",
       "      <th>...</th>\n",
       "      <th>...</th>\n",
       "      <td>...</td>\n",
       "      <td>...</td>\n",
       "      <td>...</td>\n",
       "      <td>...</td>\n",
       "      <td>...</td>\n",
       "      <td>...</td>\n",
       "      <td>...</td>\n",
       "    </tr>\n",
       "    <tr>\n",
       "      <th>11</th>\n",
       "      <th>10</th>\n",
       "      <th>0.95</th>\n",
       "      <th>0.01</th>\n",
       "      <th>summation</th>\n",
       "      <th>True</th>\n",
       "      <td>{1: 370, -1: 504, 0: 126}</td>\n",
       "      <td>13249</td>\n",
       "      <td>[0.69, 1.321]</td>\n",
       "      <td>[0.383, 1.63]</td>\n",
       "      <td>0.370</td>\n",
       "      <td>0.504</td>\n",
       "      <td>0.126</td>\n",
       "    </tr>\n",
       "    <tr>\n",
       "      <th>6</th>\n",
       "      <th>10</th>\n",
       "      <th>0.95</th>\n",
       "      <th>0.01</th>\n",
       "      <th>summation</th>\n",
       "      <th>True</th>\n",
       "      <td>{-1: 498, 1: 368, 0: 134}</td>\n",
       "      <td>25736</td>\n",
       "      <td>[0.702, 1.309]</td>\n",
       "      <td>[0.413, 1.598]</td>\n",
       "      <td>0.368</td>\n",
       "      <td>0.498</td>\n",
       "      <td>0.134</td>\n",
       "    </tr>\n",
       "    <tr>\n",
       "      <th rowspan=\"2\" valign=\"top\">1</th>\n",
       "      <th>5</th>\n",
       "      <th>0.95</th>\n",
       "      <th>0.01</th>\n",
       "      <th>summation</th>\n",
       "      <th>True</th>\n",
       "      <td>{1: 366, 0: 133, -1: 501}</td>\n",
       "      <td>637007</td>\n",
       "      <td>[0.688, 1.323]</td>\n",
       "      <td>[0.346, 1.661]</td>\n",
       "      <td>0.366</td>\n",
       "      <td>0.501</td>\n",
       "      <td>0.133</td>\n",
       "    </tr>\n",
       "    <tr>\n",
       "      <th>10</th>\n",
       "      <th>0.95</th>\n",
       "      <th>0.01</th>\n",
       "      <th>summation</th>\n",
       "      <th>True</th>\n",
       "      <td>{1: 364, -1: 520, 0: 116}</td>\n",
       "      <td>163091</td>\n",
       "      <td>[0.685, 1.327]</td>\n",
       "      <td>[0.373, 1.638]</td>\n",
       "      <td>0.364</td>\n",
       "      <td>0.520</td>\n",
       "      <td>0.116</td>\n",
       "    </tr>\n",
       "    <tr>\n",
       "      <th>6</th>\n",
       "      <th>5</th>\n",
       "      <th>0.95</th>\n",
       "      <th>0.01</th>\n",
       "      <th>summation</th>\n",
       "      <th>True</th>\n",
       "      <td>{-1: 523, 1: 350, 0: 127}</td>\n",
       "      <td>100667</td>\n",
       "      <td>[0.698, 1.314]</td>\n",
       "      <td>[0.43, 1.582]</td>\n",
       "      <td>0.350</td>\n",
       "      <td>0.523</td>\n",
       "      <td>0.127</td>\n",
       "    </tr>\n",
       "  </tbody>\n",
       "</table>\n",
       "<p>240 rows × 7 columns</p>\n",
       "</div>"
      ],
      "text/plain": [
       "                                                                                           count_winners  \\\n",
       "p_control mde prob_super batch_size_share_mu method_update_params multi_armed                              \n",
       "1         5   0.9        0.1                 summation            False         {1: 779, -1: 184, 0: 37}   \n",
       "6         10  0.9        0.1                 summation            False         {1: 766, -1: 194, 0: 40}   \n",
       "1         5   0.9        0.08                summation            False         {1: 762, -1: 182, 0: 56}   \n",
       "                         0.09                summation            False         {1: 758, -1: 197, 0: 45}   \n",
       "          10  0.9        0.1                 summation            False         {1: 747, -1: 206, 0: 47}   \n",
       "...                                                                                                  ...   \n",
       "11        10  0.95       0.01                summation            True         {1: 370, -1: 504, 0: 126}   \n",
       "6         10  0.95       0.01                summation            True         {-1: 498, 1: 368, 0: 134}   \n",
       "1         5   0.95       0.01                summation            True         {1: 366, 0: 133, -1: 501}   \n",
       "          10  0.95       0.01                summation            True         {1: 364, -1: 520, 0: 116}   \n",
       "6         5   0.95       0.01                summation            True         {-1: 523, 1: 350, 0: 127}   \n",
       "\n",
       "                                                                                 size  \\\n",
       "p_control mde prob_super batch_size_share_mu method_update_params multi_armed           \n",
       "1         5   0.9        0.1                 summation            False        637007   \n",
       "6         10  0.9        0.1                 summation            False         25736   \n",
       "1         5   0.9        0.08                summation            False        637007   \n",
       "                         0.09                summation            False        637007   \n",
       "          10  0.9        0.1                 summation            False        163091   \n",
       "...                                                                               ...   \n",
       "11        10  0.95       0.01                summation            True          13249   \n",
       "6         10  0.95       0.01                summation            True          25736   \n",
       "1         5   0.95       0.01                summation            True         637007   \n",
       "          10  0.95       0.01                summation            True         163091   \n",
       "6         5   0.95       0.01                summation            True         100667   \n",
       "\n",
       "                                                                              share_observations_mean  \\\n",
       "p_control mde prob_super batch_size_share_mu method_update_params multi_armed                           \n",
       "1         5   0.9        0.1                 summation            False                [1.053, 1.053]   \n",
       "6         10  0.9        0.1                 summation            False                [1.055, 1.055]   \n",
       "1         5   0.9        0.08                summation            False                [1.043, 1.043]   \n",
       "                         0.09                summation            False                  [1.05, 1.05]   \n",
       "          10  0.9        0.1                 summation            False                [1.056, 1.056]   \n",
       "...                                                                                               ...   \n",
       "11        10  0.95       0.01                summation            True                  [0.69, 1.321]   \n",
       "6         10  0.95       0.01                summation            True                 [0.702, 1.309]   \n",
       "1         5   0.95       0.01                summation            True                 [0.688, 1.323]   \n",
       "          10  0.95       0.01                summation            True                 [0.685, 1.327]   \n",
       "6         5   0.95       0.01                summation            True                 [0.698, 1.314]   \n",
       "\n",
       "                                                                              share_observations_median  \\\n",
       "p_control mde prob_super batch_size_share_mu method_update_params multi_armed                             \n",
       "1         5   0.9        0.1                 summation            False                  [1.048, 1.048]   \n",
       "6         10  0.9        0.1                 summation            False                  [1.051, 1.051]   \n",
       "1         5   0.9        0.08                summation            False                    [1.04, 1.04]   \n",
       "                         0.09                summation            False                  [1.045, 1.045]   \n",
       "          10  0.9        0.1                 summation            False                    [1.05, 1.05]   \n",
       "...                                                                                                 ...   \n",
       "11        10  0.95       0.01                summation            True                    [0.383, 1.63]   \n",
       "6         10  0.95       0.01                summation            True                   [0.413, 1.598]   \n",
       "1         5   0.95       0.01                summation            True                   [0.346, 1.661]   \n",
       "          10  0.95       0.01                summation            True                   [0.373, 1.638]   \n",
       "6         5   0.95       0.01                summation            True                    [0.43, 1.582]   \n",
       "\n",
       "                                                                               share_test_winner  \\\n",
       "p_control mde prob_super batch_size_share_mu method_update_params multi_armed                      \n",
       "1         5   0.9        0.1                 summation            False                    0.779   \n",
       "6         10  0.9        0.1                 summation            False                    0.766   \n",
       "1         5   0.9        0.08                summation            False                    0.762   \n",
       "                         0.09                summation            False                    0.758   \n",
       "          10  0.9        0.1                 summation            False                    0.747   \n",
       "...                                                                                          ...   \n",
       "11        10  0.95       0.01                summation            True                     0.370   \n",
       "6         10  0.95       0.01                summation            True                     0.368   \n",
       "1         5   0.95       0.01                summation            True                     0.366   \n",
       "          10  0.95       0.01                summation            True                     0.364   \n",
       "6         5   0.95       0.01                summation            True                     0.350   \n",
       "\n",
       "                                                                               share_not_winner  \\\n",
       "p_control mde prob_super batch_size_share_mu method_update_params multi_armed                     \n",
       "1         5   0.9        0.1                 summation            False                   0.184   \n",
       "6         10  0.9        0.1                 summation            False                   0.194   \n",
       "1         5   0.9        0.08                summation            False                   0.182   \n",
       "                         0.09                summation            False                   0.197   \n",
       "          10  0.9        0.1                 summation            False                   0.206   \n",
       "...                                                                                         ...   \n",
       "11        10  0.95       0.01                summation            True                    0.504   \n",
       "6         10  0.95       0.01                summation            True                    0.498   \n",
       "1         5   0.95       0.01                summation            True                    0.501   \n",
       "          10  0.95       0.01                summation            True                    0.520   \n",
       "6         5   0.95       0.01                summation            True                    0.523   \n",
       "\n",
       "                                                                               share_control_winner  \n",
       "p_control mde prob_super batch_size_share_mu method_update_params multi_armed                        \n",
       "1         5   0.9        0.1                 summation            False                       0.037  \n",
       "6         10  0.9        0.1                 summation            False                       0.040  \n",
       "1         5   0.9        0.08                summation            False                       0.056  \n",
       "                         0.09                summation            False                       0.045  \n",
       "          10  0.9        0.1                 summation            False                       0.047  \n",
       "...                                                                                             ...  \n",
       "11        10  0.95       0.01                summation            True                        0.126  \n",
       "6         10  0.95       0.01                summation            True                        0.134  \n",
       "1         5   0.95       0.01                summation            True                        0.133  \n",
       "          10  0.95       0.01                summation            True                        0.116  \n",
       "6         5   0.95       0.01                summation            True                        0.127  \n",
       "\n",
       "[240 rows x 7 columns]"
      ]
     },
     "execution_count": 18,
     "metadata": {},
     "output_type": "execute_result"
    }
   ],
   "source": [
    "results_mab_3_fn.sort_values(\"share_test_winner\", ascending=False)"
   ]
  },
  {
   "cell_type": "markdown",
   "metadata": {},
   "source": [
    "# Compare experiments \n",
    "\n",
    "## Thompson"
   ]
  },
  {
   "cell_type": "code",
   "execution_count": 8,
   "metadata": {},
   "outputs": [
    {
     "data": {
      "text/html": [
       "<div>\n",
       "<style scoped>\n",
       "    .dataframe tbody tr th:only-of-type {\n",
       "        vertical-align: middle;\n",
       "    }\n",
       "\n",
       "    .dataframe tbody tr th {\n",
       "        vertical-align: top;\n",
       "    }\n",
       "\n",
       "    .dataframe thead th {\n",
       "        text-align: right;\n",
       "    }\n",
       "</style>\n",
       "<table border=\"1\" class=\"dataframe\">\n",
       "  <thead>\n",
       "    <tr style=\"text-align: right;\">\n",
       "      <th></th>\n",
       "      <th></th>\n",
       "      <th></th>\n",
       "      <th></th>\n",
       "      <th></th>\n",
       "      <th></th>\n",
       "      <th>share_not_winner_exp3</th>\n",
       "      <th>share_not_winner_exp2</th>\n",
       "    </tr>\n",
       "    <tr>\n",
       "      <th>p_control</th>\n",
       "      <th>mde</th>\n",
       "      <th>prob_super</th>\n",
       "      <th>batch_size_share_mu</th>\n",
       "      <th>method_update_params</th>\n",
       "      <th>multi_armed</th>\n",
       "      <th></th>\n",
       "      <th></th>\n",
       "    </tr>\n",
       "  </thead>\n",
       "  <tbody>\n",
       "    <tr>\n",
       "      <th>11</th>\n",
       "      <th>0</th>\n",
       "      <th>0.9</th>\n",
       "      <th>0.01</th>\n",
       "      <th>summation</th>\n",
       "      <th>True</th>\n",
       "      <td>0.359</td>\n",
       "      <td>0.216</td>\n",
       "    </tr>\n",
       "    <tr>\n",
       "      <th>1</th>\n",
       "      <th>0</th>\n",
       "      <th>0.9</th>\n",
       "      <th>0.07</th>\n",
       "      <th>summation</th>\n",
       "      <th>True</th>\n",
       "      <td>0.513</td>\n",
       "      <td>0.322</td>\n",
       "    </tr>\n",
       "    <tr>\n",
       "      <th rowspan=\"3\" valign=\"top\">6</th>\n",
       "      <th rowspan=\"3\" valign=\"top\">0</th>\n",
       "      <th rowspan=\"3\" valign=\"top\">0.9</th>\n",
       "      <th>0.01</th>\n",
       "      <th>summation</th>\n",
       "      <th>True</th>\n",
       "      <td>0.354</td>\n",
       "      <td>0.211</td>\n",
       "    </tr>\n",
       "    <tr>\n",
       "      <th>0.06</th>\n",
       "      <th>summation</th>\n",
       "      <th>False</th>\n",
       "      <td>0.330</td>\n",
       "      <td>0.165</td>\n",
       "    </tr>\n",
       "    <tr>\n",
       "      <th>0.01</th>\n",
       "      <th>summation</th>\n",
       "      <th>False</th>\n",
       "      <td>0.135</td>\n",
       "      <td>0.033</td>\n",
       "    </tr>\n",
       "    <tr>\n",
       "      <th>...</th>\n",
       "      <th>...</th>\n",
       "      <th>...</th>\n",
       "      <th>...</th>\n",
       "      <th>...</th>\n",
       "      <th>...</th>\n",
       "      <td>...</td>\n",
       "      <td>...</td>\n",
       "    </tr>\n",
       "    <tr>\n",
       "      <th>11</th>\n",
       "      <th>0</th>\n",
       "      <th>0.95</th>\n",
       "      <th>0.1</th>\n",
       "      <th>summation</th>\n",
       "      <th>False</th>\n",
       "      <td>0.492</td>\n",
       "      <td>0.329</td>\n",
       "    </tr>\n",
       "    <tr>\n",
       "      <th>1</th>\n",
       "      <th>0</th>\n",
       "      <th>0.9</th>\n",
       "      <th>0.01</th>\n",
       "      <th>summation</th>\n",
       "      <th>True</th>\n",
       "      <td>0.222</td>\n",
       "      <td>0.171</td>\n",
       "    </tr>\n",
       "    <tr>\n",
       "      <th rowspan=\"3\" valign=\"top\">11</th>\n",
       "      <th rowspan=\"3\" valign=\"top\">0</th>\n",
       "      <th>0.9</th>\n",
       "      <th>0.05</th>\n",
       "      <th>summation</th>\n",
       "      <th>False</th>\n",
       "      <td>0.306</td>\n",
       "      <td>0.148</td>\n",
       "    </tr>\n",
       "    <tr>\n",
       "      <th rowspan=\"2\" valign=\"top\">0.95</th>\n",
       "      <th>0.06</th>\n",
       "      <th>summation</th>\n",
       "      <th>False</th>\n",
       "      <td>0.411</td>\n",
       "      <td>0.246</td>\n",
       "    </tr>\n",
       "    <tr>\n",
       "      <th>0.03</th>\n",
       "      <th>summation</th>\n",
       "      <th>False</th>\n",
       "      <td>0.281</td>\n",
       "      <td>0.154</td>\n",
       "    </tr>\n",
       "  </tbody>\n",
       "</table>\n",
       "<p>120 rows × 2 columns</p>\n",
       "</div>"
      ],
      "text/plain": [
       "                                                                               share_not_winner_exp3  \\\n",
       "p_control mde prob_super batch_size_share_mu method_update_params multi_armed                          \n",
       "11        0   0.9        0.01                summation            True                         0.359   \n",
       "1         0   0.9        0.07                summation            True                         0.513   \n",
       "6         0   0.9        0.01                summation            True                         0.354   \n",
       "                         0.06                summation            False                        0.330   \n",
       "                         0.01                summation            False                        0.135   \n",
       "...                                                                                              ...   \n",
       "11        0   0.95       0.1                 summation            False                        0.492   \n",
       "1         0   0.9        0.01                summation            True                         0.222   \n",
       "11        0   0.9        0.05                summation            False                        0.306   \n",
       "              0.95       0.06                summation            False                        0.411   \n",
       "                         0.03                summation            False                        0.281   \n",
       "\n",
       "                                                                               share_not_winner_exp2  \n",
       "p_control mde prob_super batch_size_share_mu method_update_params multi_armed                         \n",
       "11        0   0.9        0.01                summation            True                         0.216  \n",
       "1         0   0.9        0.07                summation            True                         0.322  \n",
       "6         0   0.9        0.01                summation            True                         0.211  \n",
       "                         0.06                summation            False                        0.165  \n",
       "                         0.01                summation            False                        0.033  \n",
       "...                                                                                              ...  \n",
       "11        0   0.95       0.1                 summation            False                        0.329  \n",
       "1         0   0.9        0.01                summation            True                         0.171  \n",
       "11        0   0.9        0.05                summation            False                        0.148  \n",
       "              0.95       0.06                summation            False                        0.246  \n",
       "                         0.03                summation            False                        0.154  \n",
       "\n",
       "[120 rows x 2 columns]"
      ]
     },
     "execution_count": 8,
     "metadata": {},
     "output_type": "execute_result"
    }
   ],
   "source": [
    "results_mab_3_fp[['share_not_winner']].join(\n",
    "results_mab_2_fp[['share_not_winner']], rsuffix='_exp2', lsuffix='_exp3')"
   ]
  },
  {
   "cell_type": "code",
   "execution_count": 16,
   "metadata": {},
   "outputs": [
    {
     "data": {
      "text/html": [
       "<div>\n",
       "<style scoped>\n",
       "    .dataframe tbody tr th:only-of-type {\n",
       "        vertical-align: middle;\n",
       "    }\n",
       "\n",
       "    .dataframe tbody tr th {\n",
       "        vertical-align: top;\n",
       "    }\n",
       "\n",
       "    .dataframe thead th {\n",
       "        text-align: right;\n",
       "    }\n",
       "</style>\n",
       "<table border=\"1\" class=\"dataframe\">\n",
       "  <thead>\n",
       "    <tr style=\"text-align: right;\">\n",
       "      <th></th>\n",
       "      <th></th>\n",
       "      <th></th>\n",
       "      <th></th>\n",
       "      <th></th>\n",
       "      <th></th>\n",
       "      <th>share_test_winner_exp3</th>\n",
       "      <th>share_test_winner_exp2</th>\n",
       "    </tr>\n",
       "    <tr>\n",
       "      <th>p_control</th>\n",
       "      <th>mde</th>\n",
       "      <th>prob_super</th>\n",
       "      <th>batch_size_share_mu</th>\n",
       "      <th>method_update_params</th>\n",
       "      <th>multi_armed</th>\n",
       "      <th></th>\n",
       "      <th></th>\n",
       "    </tr>\n",
       "  </thead>\n",
       "  <tbody>\n",
       "    <tr>\n",
       "      <th rowspan=\"2\" valign=\"top\">1</th>\n",
       "      <th>10</th>\n",
       "      <th>0.9</th>\n",
       "      <th>0.03</th>\n",
       "      <th>summation</th>\n",
       "      <th>False</th>\n",
       "      <td>0.669</td>\n",
       "      <td>0.730</td>\n",
       "    </tr>\n",
       "    <tr>\n",
       "      <th>5</th>\n",
       "      <th>0.95</th>\n",
       "      <th>0.05</th>\n",
       "      <th>summation</th>\n",
       "      <th>False</th>\n",
       "      <td>0.668</td>\n",
       "      <td>0.743</td>\n",
       "    </tr>\n",
       "    <tr>\n",
       "      <th rowspan=\"2\" valign=\"top\">6</th>\n",
       "      <th rowspan=\"2\" valign=\"top\">5</th>\n",
       "      <th>0.9</th>\n",
       "      <th>0.04</th>\n",
       "      <th>summation</th>\n",
       "      <th>False</th>\n",
       "      <td>0.668</td>\n",
       "      <td>0.739</td>\n",
       "    </tr>\n",
       "    <tr>\n",
       "      <th>0.95</th>\n",
       "      <th>0.05</th>\n",
       "      <th>summation</th>\n",
       "      <th>False</th>\n",
       "      <td>0.667</td>\n",
       "      <td>0.726</td>\n",
       "    </tr>\n",
       "    <tr>\n",
       "      <th>1</th>\n",
       "      <th>10</th>\n",
       "      <th>0.95</th>\n",
       "      <th>0.06</th>\n",
       "      <th>summation</th>\n",
       "      <th>False</th>\n",
       "      <td>0.666</td>\n",
       "      <td>0.752</td>\n",
       "    </tr>\n",
       "    <tr>\n",
       "      <th>6</th>\n",
       "      <th>5</th>\n",
       "      <th>0.95</th>\n",
       "      <th>0.06</th>\n",
       "      <th>summation</th>\n",
       "      <th>False</th>\n",
       "      <td>0.666</td>\n",
       "      <td>0.731</td>\n",
       "    </tr>\n",
       "    <tr>\n",
       "      <th>11</th>\n",
       "      <th>5</th>\n",
       "      <th>0.95</th>\n",
       "      <th>0.06</th>\n",
       "      <th>summation</th>\n",
       "      <th>False</th>\n",
       "      <td>0.666</td>\n",
       "      <td>0.735</td>\n",
       "    </tr>\n",
       "    <tr>\n",
       "      <th>1</th>\n",
       "      <th>10</th>\n",
       "      <th>0.95</th>\n",
       "      <th>0.08</th>\n",
       "      <th>summation</th>\n",
       "      <th>False</th>\n",
       "      <td>0.665</td>\n",
       "      <td>0.768</td>\n",
       "    </tr>\n",
       "    <tr>\n",
       "      <th>11</th>\n",
       "      <th>10</th>\n",
       "      <th>0.95</th>\n",
       "      <th>0.08</th>\n",
       "      <th>summation</th>\n",
       "      <th>False</th>\n",
       "      <td>0.664</td>\n",
       "      <td>0.755</td>\n",
       "    </tr>\n",
       "    <tr>\n",
       "      <th rowspan=\"4\" valign=\"top\">1</th>\n",
       "      <th>10</th>\n",
       "      <th>0.95</th>\n",
       "      <th>0.05</th>\n",
       "      <th>summation</th>\n",
       "      <th>False</th>\n",
       "      <td>0.663</td>\n",
       "      <td>0.724</td>\n",
       "    </tr>\n",
       "    <tr>\n",
       "      <th>5</th>\n",
       "      <th>0.9</th>\n",
       "      <th>0.04</th>\n",
       "      <th>summation</th>\n",
       "      <th>False</th>\n",
       "      <td>0.659</td>\n",
       "      <td>0.736</td>\n",
       "    </tr>\n",
       "    <tr>\n",
       "      <th>10</th>\n",
       "      <th>0.9</th>\n",
       "      <th>0.1</th>\n",
       "      <th>summation</th>\n",
       "      <th>True</th>\n",
       "      <td>0.658</td>\n",
       "      <td>0.760</td>\n",
       "    </tr>\n",
       "    <tr>\n",
       "      <th>5</th>\n",
       "      <th>0.9</th>\n",
       "      <th>0.1</th>\n",
       "      <th>summation</th>\n",
       "      <th>True</th>\n",
       "      <td>0.658</td>\n",
       "      <td>0.767</td>\n",
       "    </tr>\n",
       "    <tr>\n",
       "      <th rowspan=\"2\" valign=\"top\">6</th>\n",
       "      <th rowspan=\"2\" valign=\"top\">10</th>\n",
       "      <th>0.9</th>\n",
       "      <th>0.03</th>\n",
       "      <th>summation</th>\n",
       "      <th>False</th>\n",
       "      <td>0.656</td>\n",
       "      <td>0.699</td>\n",
       "    </tr>\n",
       "    <tr>\n",
       "      <th>0.95</th>\n",
       "      <th>0.05</th>\n",
       "      <th>summation</th>\n",
       "      <th>False</th>\n",
       "      <td>0.654</td>\n",
       "      <td>0.728</td>\n",
       "    </tr>\n",
       "    <tr>\n",
       "      <th>11</th>\n",
       "      <th>5</th>\n",
       "      <th>0.9</th>\n",
       "      <th>0.04</th>\n",
       "      <th>summation</th>\n",
       "      <th>False</th>\n",
       "      <td>0.652</td>\n",
       "      <td>0.716</td>\n",
       "    </tr>\n",
       "    <tr>\n",
       "      <th>6</th>\n",
       "      <th>10</th>\n",
       "      <th>0.95</th>\n",
       "      <th>0.06</th>\n",
       "      <th>summation</th>\n",
       "      <th>False</th>\n",
       "      <td>0.652</td>\n",
       "      <td>0.733</td>\n",
       "    </tr>\n",
       "    <tr>\n",
       "      <th>1</th>\n",
       "      <th>10</th>\n",
       "      <th>0.95</th>\n",
       "      <th>0.04</th>\n",
       "      <th>summation</th>\n",
       "      <th>False</th>\n",
       "      <td>0.652</td>\n",
       "      <td>0.718</td>\n",
       "    </tr>\n",
       "    <tr>\n",
       "      <th>11</th>\n",
       "      <th>10</th>\n",
       "      <th>0.9</th>\n",
       "      <th>0.04</th>\n",
       "      <th>summation</th>\n",
       "      <th>False</th>\n",
       "      <td>0.646</td>\n",
       "      <td>0.728</td>\n",
       "    </tr>\n",
       "    <tr>\n",
       "      <th>1</th>\n",
       "      <th>10</th>\n",
       "      <th>0.95</th>\n",
       "      <th>0.03</th>\n",
       "      <th>summation</th>\n",
       "      <th>False</th>\n",
       "      <td>0.644</td>\n",
       "      <td>0.698</td>\n",
       "    </tr>\n",
       "    <tr>\n",
       "      <th>6</th>\n",
       "      <th>10</th>\n",
       "      <th>0.95</th>\n",
       "      <th>0.04</th>\n",
       "      <th>summation</th>\n",
       "      <th>False</th>\n",
       "      <td>0.644</td>\n",
       "      <td>0.708</td>\n",
       "    </tr>\n",
       "    <tr>\n",
       "      <th rowspan=\"2\" valign=\"top\">11</th>\n",
       "      <th>10</th>\n",
       "      <th>0.95</th>\n",
       "      <th>0.07</th>\n",
       "      <th>summation</th>\n",
       "      <th>False</th>\n",
       "      <td>0.643</td>\n",
       "      <td>0.723</td>\n",
       "    </tr>\n",
       "    <tr>\n",
       "      <th>5</th>\n",
       "      <th>0.95</th>\n",
       "      <th>0.05</th>\n",
       "      <th>summation</th>\n",
       "      <th>False</th>\n",
       "      <td>0.641</td>\n",
       "      <td>0.723</td>\n",
       "    </tr>\n",
       "    <tr>\n",
       "      <th>1</th>\n",
       "      <th>5</th>\n",
       "      <th>0.95</th>\n",
       "      <th>0.04</th>\n",
       "      <th>summation</th>\n",
       "      <th>False</th>\n",
       "      <td>0.641</td>\n",
       "      <td>0.706</td>\n",
       "    </tr>\n",
       "    <tr>\n",
       "      <th>6</th>\n",
       "      <th>10</th>\n",
       "      <th>0.9</th>\n",
       "      <th>0.1</th>\n",
       "      <th>summation</th>\n",
       "      <th>True</th>\n",
       "      <td>0.640</td>\n",
       "      <td>0.760</td>\n",
       "    </tr>\n",
       "    <tr>\n",
       "      <th>1</th>\n",
       "      <th>10</th>\n",
       "      <th>0.9</th>\n",
       "      <th>0.02</th>\n",
       "      <th>summation</th>\n",
       "      <th>False</th>\n",
       "      <td>0.640</td>\n",
       "      <td>0.698</td>\n",
       "    </tr>\n",
       "    <tr>\n",
       "      <th rowspan=\"3\" valign=\"top\">6</th>\n",
       "      <th rowspan=\"3\" valign=\"top\">5</th>\n",
       "      <th rowspan=\"3\" valign=\"top\">0.9</th>\n",
       "      <th>0.02</th>\n",
       "      <th>summation</th>\n",
       "      <th>False</th>\n",
       "      <td>0.639</td>\n",
       "      <td>0.672</td>\n",
       "    </tr>\n",
       "    <tr>\n",
       "      <th>0.03</th>\n",
       "      <th>summation</th>\n",
       "      <th>False</th>\n",
       "      <td>0.639</td>\n",
       "      <td>0.711</td>\n",
       "    </tr>\n",
       "    <tr>\n",
       "      <th>0.1</th>\n",
       "      <th>summation</th>\n",
       "      <th>True</th>\n",
       "      <td>0.638</td>\n",
       "      <td>0.740</td>\n",
       "    </tr>\n",
       "    <tr>\n",
       "      <th>11</th>\n",
       "      <th>10</th>\n",
       "      <th>0.95</th>\n",
       "      <th>0.06</th>\n",
       "      <th>summation</th>\n",
       "      <th>False</th>\n",
       "      <td>0.638</td>\n",
       "      <td>0.728</td>\n",
       "    </tr>\n",
       "    <tr>\n",
       "      <th>1</th>\n",
       "      <th>5</th>\n",
       "      <th>0.9</th>\n",
       "      <th>0.09</th>\n",
       "      <th>summation</th>\n",
       "      <th>True</th>\n",
       "      <td>0.635</td>\n",
       "      <td>0.745</td>\n",
       "    </tr>\n",
       "    <tr>\n",
       "      <th rowspan=\"2\" valign=\"top\">6</th>\n",
       "      <th>5</th>\n",
       "      <th>0.95</th>\n",
       "      <th>0.04</th>\n",
       "      <th>summation</th>\n",
       "      <th>False</th>\n",
       "      <td>0.634</td>\n",
       "      <td>0.700</td>\n",
       "    </tr>\n",
       "    <tr>\n",
       "      <th>10</th>\n",
       "      <th>0.9</th>\n",
       "      <th>0.09</th>\n",
       "      <th>summation</th>\n",
       "      <th>True</th>\n",
       "      <td>0.634</td>\n",
       "      <td>0.746</td>\n",
       "    </tr>\n",
       "    <tr>\n",
       "      <th>1</th>\n",
       "      <th>10</th>\n",
       "      <th>0.9</th>\n",
       "      <th>0.09</th>\n",
       "      <th>summation</th>\n",
       "      <th>True</th>\n",
       "      <td>0.633</td>\n",
       "      <td>0.746</td>\n",
       "    </tr>\n",
       "    <tr>\n",
       "      <th rowspan=\"4\" valign=\"top\">11</th>\n",
       "      <th rowspan=\"2\" valign=\"top\">10</th>\n",
       "      <th>0.9</th>\n",
       "      <th>0.03</th>\n",
       "      <th>summation</th>\n",
       "      <th>False</th>\n",
       "      <td>0.631</td>\n",
       "      <td>0.691</td>\n",
       "    </tr>\n",
       "    <tr>\n",
       "      <th>0.95</th>\n",
       "      <th>0.05</th>\n",
       "      <th>summation</th>\n",
       "      <th>False</th>\n",
       "      <td>0.630</td>\n",
       "      <td>0.690</td>\n",
       "    </tr>\n",
       "    <tr>\n",
       "      <th>5</th>\n",
       "      <th>0.9</th>\n",
       "      <th>0.1</th>\n",
       "      <th>summation</th>\n",
       "      <th>True</th>\n",
       "      <td>0.627</td>\n",
       "      <td>0.742</td>\n",
       "    </tr>\n",
       "    <tr>\n",
       "      <th>10</th>\n",
       "      <th>0.9</th>\n",
       "      <th>0.1</th>\n",
       "      <th>summation</th>\n",
       "      <th>True</th>\n",
       "      <td>0.626</td>\n",
       "      <td>0.736</td>\n",
       "    </tr>\n",
       "    <tr>\n",
       "      <th>6</th>\n",
       "      <th>10</th>\n",
       "      <th>0.95</th>\n",
       "      <th>0.03</th>\n",
       "      <th>summation</th>\n",
       "      <th>False</th>\n",
       "      <td>0.624</td>\n",
       "      <td>0.674</td>\n",
       "    </tr>\n",
       "    <tr>\n",
       "      <th rowspan=\"2\" valign=\"top\">1</th>\n",
       "      <th>5</th>\n",
       "      <th>0.9</th>\n",
       "      <th>0.03</th>\n",
       "      <th>summation</th>\n",
       "      <th>False</th>\n",
       "      <td>0.623</td>\n",
       "      <td>0.692</td>\n",
       "    </tr>\n",
       "    <tr>\n",
       "      <th>10</th>\n",
       "      <th>0.9</th>\n",
       "      <th>0.08</th>\n",
       "      <th>summation</th>\n",
       "      <th>True</th>\n",
       "      <td>0.621</td>\n",
       "      <td>0.724</td>\n",
       "    </tr>\n",
       "    <tr>\n",
       "      <th rowspan=\"2\" valign=\"top\">11</th>\n",
       "      <th rowspan=\"2\" valign=\"top\">5</th>\n",
       "      <th>0.9</th>\n",
       "      <th>0.03</th>\n",
       "      <th>summation</th>\n",
       "      <th>False</th>\n",
       "      <td>0.621</td>\n",
       "      <td>0.684</td>\n",
       "    </tr>\n",
       "    <tr>\n",
       "      <th>0.95</th>\n",
       "      <th>0.04</th>\n",
       "      <th>summation</th>\n",
       "      <th>False</th>\n",
       "      <td>0.621</td>\n",
       "      <td>0.678</td>\n",
       "    </tr>\n",
       "    <tr>\n",
       "      <th rowspan=\"2\" valign=\"top\">6</th>\n",
       "      <th>10</th>\n",
       "      <th>0.9</th>\n",
       "      <th>0.08</th>\n",
       "      <th>summation</th>\n",
       "      <th>True</th>\n",
       "      <td>0.620</td>\n",
       "      <td>0.715</td>\n",
       "    </tr>\n",
       "    <tr>\n",
       "      <th>5</th>\n",
       "      <th>0.9</th>\n",
       "      <th>0.09</th>\n",
       "      <th>summation</th>\n",
       "      <th>True</th>\n",
       "      <td>0.620</td>\n",
       "      <td>0.735</td>\n",
       "    </tr>\n",
       "    <tr>\n",
       "      <th rowspan=\"2\" valign=\"top\">1</th>\n",
       "      <th>10</th>\n",
       "      <th>0.9</th>\n",
       "      <th>0.07</th>\n",
       "      <th>summation</th>\n",
       "      <th>True</th>\n",
       "      <td>0.620</td>\n",
       "      <td>0.726</td>\n",
       "    </tr>\n",
       "    <tr>\n",
       "      <th>5</th>\n",
       "      <th>0.9</th>\n",
       "      <th>0.08</th>\n",
       "      <th>summation</th>\n",
       "      <th>True</th>\n",
       "      <td>0.619</td>\n",
       "      <td>0.741</td>\n",
       "    </tr>\n",
       "    <tr>\n",
       "      <th>11</th>\n",
       "      <th>10</th>\n",
       "      <th>0.95</th>\n",
       "      <th>0.04</th>\n",
       "      <th>summation</th>\n",
       "      <th>False</th>\n",
       "      <td>0.618</td>\n",
       "      <td>0.695</td>\n",
       "    </tr>\n",
       "    <tr>\n",
       "      <th>1</th>\n",
       "      <th>10</th>\n",
       "      <th>0.95</th>\n",
       "      <th>0.02</th>\n",
       "      <th>summation</th>\n",
       "      <th>False</th>\n",
       "      <td>0.614</td>\n",
       "      <td>0.663</td>\n",
       "    </tr>\n",
       "    <tr>\n",
       "      <th rowspan=\"2\" valign=\"top\">6</th>\n",
       "      <th>10</th>\n",
       "      <th>0.9</th>\n",
       "      <th>0.02</th>\n",
       "      <th>summation</th>\n",
       "      <th>False</th>\n",
       "      <td>0.612</td>\n",
       "      <td>0.677</td>\n",
       "    </tr>\n",
       "    <tr>\n",
       "      <th>5</th>\n",
       "      <th>0.95</th>\n",
       "      <th>0.03</th>\n",
       "      <th>summation</th>\n",
       "      <th>False</th>\n",
       "      <td>0.611</td>\n",
       "      <td>0.673</td>\n",
       "    </tr>\n",
       "    <tr>\n",
       "      <th rowspan=\"2\" valign=\"top\">1</th>\n",
       "      <th rowspan=\"2\" valign=\"top\">5</th>\n",
       "      <th rowspan=\"2\" valign=\"top\">0.9</th>\n",
       "      <th>0.02</th>\n",
       "      <th>summation</th>\n",
       "      <th>False</th>\n",
       "      <td>0.610</td>\n",
       "      <td>0.670</td>\n",
       "    </tr>\n",
       "    <tr>\n",
       "      <th>0.01</th>\n",
       "      <th>summation</th>\n",
       "      <th>False</th>\n",
       "      <td>0.610</td>\n",
       "      <td>0.648</td>\n",
       "    </tr>\n",
       "    <tr>\n",
       "      <th rowspan=\"2\" valign=\"top\">6</th>\n",
       "      <th rowspan=\"2\" valign=\"top\">5</th>\n",
       "      <th>0.9</th>\n",
       "      <th>0.08</th>\n",
       "      <th>summation</th>\n",
       "      <th>True</th>\n",
       "      <td>0.609</td>\n",
       "      <td>0.712</td>\n",
       "    </tr>\n",
       "    <tr>\n",
       "      <th>0.95</th>\n",
       "      <th>0.02</th>\n",
       "      <th>summation</th>\n",
       "      <th>False</th>\n",
       "      <td>0.609</td>\n",
       "      <td>0.645</td>\n",
       "    </tr>\n",
       "    <tr>\n",
       "      <th>1</th>\n",
       "      <th>5</th>\n",
       "      <th>0.95</th>\n",
       "      <th>0.03</th>\n",
       "      <th>summation</th>\n",
       "      <th>False</th>\n",
       "      <td>0.609</td>\n",
       "      <td>0.665</td>\n",
       "    </tr>\n",
       "    <tr>\n",
       "      <th rowspan=\"2\" valign=\"top\">11</th>\n",
       "      <th>5</th>\n",
       "      <th>0.9</th>\n",
       "      <th>0.09</th>\n",
       "      <th>summation</th>\n",
       "      <th>True</th>\n",
       "      <td>0.609</td>\n",
       "      <td>0.721</td>\n",
       "    </tr>\n",
       "    <tr>\n",
       "      <th>10</th>\n",
       "      <th>0.9</th>\n",
       "      <th>0.02</th>\n",
       "      <th>summation</th>\n",
       "      <th>False</th>\n",
       "      <td>0.606</td>\n",
       "      <td>0.661</td>\n",
       "    </tr>\n",
       "    <tr>\n",
       "      <th>1</th>\n",
       "      <th>5</th>\n",
       "      <th>0.9</th>\n",
       "      <th>0.07</th>\n",
       "      <th>summation</th>\n",
       "      <th>True</th>\n",
       "      <td>0.604</td>\n",
       "      <td>0.707</td>\n",
       "    </tr>\n",
       "    <tr>\n",
       "      <th>11</th>\n",
       "      <th>10</th>\n",
       "      <th>0.9</th>\n",
       "      <th>0.08</th>\n",
       "      <th>summation</th>\n",
       "      <th>True</th>\n",
       "      <td>0.603</td>\n",
       "      <td>0.698</td>\n",
       "    </tr>\n",
       "  </tbody>\n",
       "</table>\n",
       "</div>"
      ],
      "text/plain": [
       "                                                                               share_test_winner_exp3  \\\n",
       "p_control mde prob_super batch_size_share_mu method_update_params multi_armed                           \n",
       "1         10  0.9        0.03                summation            False                         0.669   \n",
       "          5   0.95       0.05                summation            False                         0.668   \n",
       "6         5   0.9        0.04                summation            False                         0.668   \n",
       "              0.95       0.05                summation            False                         0.667   \n",
       "1         10  0.95       0.06                summation            False                         0.666   \n",
       "6         5   0.95       0.06                summation            False                         0.666   \n",
       "11        5   0.95       0.06                summation            False                         0.666   \n",
       "1         10  0.95       0.08                summation            False                         0.665   \n",
       "11        10  0.95       0.08                summation            False                         0.664   \n",
       "1         10  0.95       0.05                summation            False                         0.663   \n",
       "          5   0.9        0.04                summation            False                         0.659   \n",
       "          10  0.9        0.1                 summation            True                          0.658   \n",
       "          5   0.9        0.1                 summation            True                          0.658   \n",
       "6         10  0.9        0.03                summation            False                         0.656   \n",
       "              0.95       0.05                summation            False                         0.654   \n",
       "11        5   0.9        0.04                summation            False                         0.652   \n",
       "6         10  0.95       0.06                summation            False                         0.652   \n",
       "1         10  0.95       0.04                summation            False                         0.652   \n",
       "11        10  0.9        0.04                summation            False                         0.646   \n",
       "1         10  0.95       0.03                summation            False                         0.644   \n",
       "6         10  0.95       0.04                summation            False                         0.644   \n",
       "11        10  0.95       0.07                summation            False                         0.643   \n",
       "          5   0.95       0.05                summation            False                         0.641   \n",
       "1         5   0.95       0.04                summation            False                         0.641   \n",
       "6         10  0.9        0.1                 summation            True                          0.640   \n",
       "1         10  0.9        0.02                summation            False                         0.640   \n",
       "6         5   0.9        0.02                summation            False                         0.639   \n",
       "                         0.03                summation            False                         0.639   \n",
       "                         0.1                 summation            True                          0.638   \n",
       "11        10  0.95       0.06                summation            False                         0.638   \n",
       "1         5   0.9        0.09                summation            True                          0.635   \n",
       "6         5   0.95       0.04                summation            False                         0.634   \n",
       "          10  0.9        0.09                summation            True                          0.634   \n",
       "1         10  0.9        0.09                summation            True                          0.633   \n",
       "11        10  0.9        0.03                summation            False                         0.631   \n",
       "              0.95       0.05                summation            False                         0.630   \n",
       "          5   0.9        0.1                 summation            True                          0.627   \n",
       "          10  0.9        0.1                 summation            True                          0.626   \n",
       "6         10  0.95       0.03                summation            False                         0.624   \n",
       "1         5   0.9        0.03                summation            False                         0.623   \n",
       "          10  0.9        0.08                summation            True                          0.621   \n",
       "11        5   0.9        0.03                summation            False                         0.621   \n",
       "              0.95       0.04                summation            False                         0.621   \n",
       "6         10  0.9        0.08                summation            True                          0.620   \n",
       "          5   0.9        0.09                summation            True                          0.620   \n",
       "1         10  0.9        0.07                summation            True                          0.620   \n",
       "          5   0.9        0.08                summation            True                          0.619   \n",
       "11        10  0.95       0.04                summation            False                         0.618   \n",
       "1         10  0.95       0.02                summation            False                         0.614   \n",
       "6         10  0.9        0.02                summation            False                         0.612   \n",
       "          5   0.95       0.03                summation            False                         0.611   \n",
       "1         5   0.9        0.02                summation            False                         0.610   \n",
       "                         0.01                summation            False                         0.610   \n",
       "6         5   0.9        0.08                summation            True                          0.609   \n",
       "              0.95       0.02                summation            False                         0.609   \n",
       "1         5   0.95       0.03                summation            False                         0.609   \n",
       "11        5   0.9        0.09                summation            True                          0.609   \n",
       "          10  0.9        0.02                summation            False                         0.606   \n",
       "1         5   0.9        0.07                summation            True                          0.604   \n",
       "11        10  0.9        0.08                summation            True                          0.603   \n",
       "\n",
       "                                                                               share_test_winner_exp2  \n",
       "p_control mde prob_super batch_size_share_mu method_update_params multi_armed                          \n",
       "1         10  0.9        0.03                summation            False                         0.730  \n",
       "          5   0.95       0.05                summation            False                         0.743  \n",
       "6         5   0.9        0.04                summation            False                         0.739  \n",
       "              0.95       0.05                summation            False                         0.726  \n",
       "1         10  0.95       0.06                summation            False                         0.752  \n",
       "6         5   0.95       0.06                summation            False                         0.731  \n",
       "11        5   0.95       0.06                summation            False                         0.735  \n",
       "1         10  0.95       0.08                summation            False                         0.768  \n",
       "11        10  0.95       0.08                summation            False                         0.755  \n",
       "1         10  0.95       0.05                summation            False                         0.724  \n",
       "          5   0.9        0.04                summation            False                         0.736  \n",
       "          10  0.9        0.1                 summation            True                          0.760  \n",
       "          5   0.9        0.1                 summation            True                          0.767  \n",
       "6         10  0.9        0.03                summation            False                         0.699  \n",
       "              0.95       0.05                summation            False                         0.728  \n",
       "11        5   0.9        0.04                summation            False                         0.716  \n",
       "6         10  0.95       0.06                summation            False                         0.733  \n",
       "1         10  0.95       0.04                summation            False                         0.718  \n",
       "11        10  0.9        0.04                summation            False                         0.728  \n",
       "1         10  0.95       0.03                summation            False                         0.698  \n",
       "6         10  0.95       0.04                summation            False                         0.708  \n",
       "11        10  0.95       0.07                summation            False                         0.723  \n",
       "          5   0.95       0.05                summation            False                         0.723  \n",
       "1         5   0.95       0.04                summation            False                         0.706  \n",
       "6         10  0.9        0.1                 summation            True                          0.760  \n",
       "1         10  0.9        0.02                summation            False                         0.698  \n",
       "6         5   0.9        0.02                summation            False                         0.672  \n",
       "                         0.03                summation            False                         0.711  \n",
       "                         0.1                 summation            True                          0.740  \n",
       "11        10  0.95       0.06                summation            False                         0.728  \n",
       "1         5   0.9        0.09                summation            True                          0.745  \n",
       "6         5   0.95       0.04                summation            False                         0.700  \n",
       "          10  0.9        0.09                summation            True                          0.746  \n",
       "1         10  0.9        0.09                summation            True                          0.746  \n",
       "11        10  0.9        0.03                summation            False                         0.691  \n",
       "              0.95       0.05                summation            False                         0.690  \n",
       "          5   0.9        0.1                 summation            True                          0.742  \n",
       "          10  0.9        0.1                 summation            True                          0.736  \n",
       "6         10  0.95       0.03                summation            False                         0.674  \n",
       "1         5   0.9        0.03                summation            False                         0.692  \n",
       "          10  0.9        0.08                summation            True                          0.724  \n",
       "11        5   0.9        0.03                summation            False                         0.684  \n",
       "              0.95       0.04                summation            False                         0.678  \n",
       "6         10  0.9        0.08                summation            True                          0.715  \n",
       "          5   0.9        0.09                summation            True                          0.735  \n",
       "1         10  0.9        0.07                summation            True                          0.726  \n",
       "          5   0.9        0.08                summation            True                          0.741  \n",
       "11        10  0.95       0.04                summation            False                         0.695  \n",
       "1         10  0.95       0.02                summation            False                         0.663  \n",
       "6         10  0.9        0.02                summation            False                         0.677  \n",
       "          5   0.95       0.03                summation            False                         0.673  \n",
       "1         5   0.9        0.02                summation            False                         0.670  \n",
       "                         0.01                summation            False                         0.648  \n",
       "6         5   0.9        0.08                summation            True                          0.712  \n",
       "              0.95       0.02                summation            False                         0.645  \n",
       "1         5   0.95       0.03                summation            False                         0.665  \n",
       "11        5   0.9        0.09                summation            True                          0.721  \n",
       "          10  0.9        0.02                summation            False                         0.661  \n",
       "1         5   0.9        0.07                summation            True                          0.707  \n",
       "11        10  0.9        0.08                summation            True                          0.698  "
      ]
     },
     "execution_count": 16,
     "metadata": {},
     "output_type": "execute_result"
    }
   ],
   "source": [
    "results_mab_3_fn[['share_test_winner']].join(\n",
    "results_mab_2_fn[['share_test_winner']], rsuffix='_exp2', lsuffix='_exp3').\\\n",
    "sort_values(\"share_test_winner_exp3\", ascending=False).iloc[60:120]"
   ]
  },
  {
   "cell_type": "code",
   "execution_count": null,
   "metadata": {},
   "outputs": [],
   "source": [
    "# test_result_mab = TestResult1Processing(folder=\"Thompson/Experiment1/\",\n",
    "#                                         test_type=\"thompson\")\n",
    "# test_result_bayes = TestResult1Processing(folder=\"Bayesian/Experiment1/\",\n",
    "#                                           test_type=\"bayesian\")\n",
    "# test_result_mab = TestResult1Processing(folder=\"Thompson/Experiment2/\",\n",
    "#                                         test_type=\"thompson\")\n",
    "# test_result2_bayes = TestResult2Processing(folder=\"Bayesian/Experiment2/\",\n",
    "#                                            test_type=\"bayesian\")\n",
    "\n",
    "# results_bayes = test_result_bayes.run()\n",
    "# results_bayes_fp = results_bayes.query(\"mde == '0'\")\n",
    "\n",
    "# # # results_bayes_fn = results_bayes.query(\"mde != '0'\")\n",
    "# results2_bayes = test_result2_bayes.run()\n",
    "# results2_bayes_fp = results2_bayes.query(\"mde == '0'\")\n",
    "# results2_bayes_fn = results2_bayes.query(\"mde != '0'\")\n",
    "# results2_bayes_fp.reset_index()[\n",
    "#     ['share_observation_optimal_arms', 'share_not_winner']\n",
    "# ].astype(float).corr()\n",
    "# n_samples = results2_bayes_fn[['share_test_winner']].unstack()\n",
    "# n_samples_fp = results2_bayes_fp[['share_not_winner']].unstack()\n",
    "\n"
   ]
  },
  {
   "cell_type": "code",
   "execution_count": 80,
   "metadata": {},
   "outputs": [
    {
     "data": {
      "image/png": "[encoded data removed]",
      "text/plain": [
       "<Figure size 432x288 with 1 Axes>"
      ]
     },
     "metadata": {
      "needs_background": "light"
     },
     "output_type": "display_data"
    }
   ],
   "source": [
    "thompson_results_df.query(\"mde == '0'\")['share_not_winner'].plot(kind='hist');\n",
    "plt.title(\"Доля тестов, которые зафиксировали, что различий нет, когда их на самом деле нет\");"
   ]
  },
  {
   "cell_type": "code",
   "execution_count": 95,
   "metadata": {
    "scrolled": true
   },
   "outputs": [
    {
     "data": {
      "application/vnd.plotly.v1+json": {
       "config": {
        "plotlyServerURL": "https://plot.ly"
       },
       "data": [
        {
         "hovertemplate": "share_not_winner=%{x}<br>prob_super=%{y}<br>batch_size_share_mu=%{marker.color}<extra></extra>",
         "legendgroup": "",
         "marker": {
          "color": [
           0.08,
           0.07,
           0.1,
           0.04,
           0.06,
           0.03,
           0.09,
           0.01,
           0.01,
           0.05,
           0.05,
           0.07,
           0.02,
           0.09,
           0.03,
           0.08,
           0.02,
           0.06,
           0.06,
           0.02,
           0.09,
           0.1,
           0.04,
           0.01,
           0.07,
           0.07,
           0.07,
           0.06,
           0.07,
           0.01,
           0.08,
           0.04,
           0.02,
           0.08,
           0.08,
           0.07,
           0.04,
           0.05,
           0.1,
           0.1,
           0.04,
           0.09,
           0.03,
           0.06,
           0.08,
           0.06,
           0.02,
           0.09,
           0.08,
           0.05,
           0.05,
           0.06,
           0.04,
           0.1,
           0.04,
           0.06,
           0.04,
           0.04,
           0.09,
           0.1,
           0.06,
           0.05,
           0.09,
           0.1,
           0.07,
           0.03,
           0.05,
           0.09,
           0.03,
           0.01,
           0.02,
           0.07,
           0.08,
           0.04,
           0.02,
           0.06,
           0.01,
           0.01,
           0.08,
           0.09,
           0.1,
           0.05,
           0.05,
           0.04,
           0.09,
           0.03,
           0.09,
           0.03,
           0.1,
           0.05,
           0.1,
           0.07,
           0.01,
           0.04,
           0.05,
           0.04,
           0.06,
           0.09,
           0.07,
           0.08,
           0.1,
           0.08,
           0.05,
           0.03,
           0.02,
           0.1,
           0.08,
           0.08,
           0.02,
           0.06,
           0.04,
           0.03,
           0.03,
           0.1,
           0.01,
           0.1,
           0.07,
           0.01,
           0.03,
           0.01,
           0.08,
           0.02,
           0.02,
           0.05,
           0.09,
           0.09,
           0.03,
           0.01,
           0.06,
           0.03,
           0.04,
           0.09,
           0.05,
           0.01,
           0.1,
           0.06,
           0.01,
           0.05,
           0.07,
           0.03,
           0.07,
           0.01,
           0.07,
           0.03,
           0.02,
           0.02,
           0.02,
           0.06,
           0.08,
           0.02
          ],
          "coloraxis": "coloraxis",
          "symbol": "circle"
         },
         "mode": "markers",
         "name": "",
         "orientation": "v",
         "showlegend": false,
         "type": "scatter",
         "x": [
          0.442,
          0.22,
          0.499,
          0.401,
          0.548,
          0.392,
          0.25,
          0.024,
          0.083,
          0.342,
          0.342,
          0.212,
          0.082,
          0.63,
          0.176,
          0.443,
          0.107,
          0.276,
          0.278,
          0.166,
          0.252,
          0.668,
          0.47,
          0.115,
          0.3,
          0.596,
          0.582,
          0.373,
          0.155,
          0.115,
          0.326,
          0.108,
          0.32,
          0.315,
          0.591,
          0.553,
          0.46,
          0.247,
          0.181,
          0.38,
          0.102,
          0.589,
          0.164,
          0.207,
          0.222,
          0.143,
          0.272,
          0.453,
          0.624,
          0.181,
          0.122,
          0.4,
          0.306,
          0.353,
          0.136,
          0.197,
          0.164,
          0.198,
          0.332,
          0.28,
          0.138,
          0.249,
          0.162,
          0.272,
          0.221,
          0.081,
          0.187,
          0.33,
          0.081,
          0.073,
          0.328,
          0.168,
          0.158,
          0.199,
          0.106,
          0.499,
          0.047,
          0.17,
          0.229,
          0.458,
          0.186,
          0.176,
          0.466,
          0.228,
          0.619,
          0.108,
          0.187,
          0.076,
          0.194,
          0.127,
          0.271,
          0.416,
          0.232,
          0.149,
          0.504,
          0.295,
          0.131,
          0.332,
          0.405,
          0.591,
          0.62,
          0.324,
          0.241,
          0.23,
          0.09,
          0.376,
          0.45,
          0.247,
          0.135,
          0.374,
          0.319,
          0.132,
          0.256,
          0.483,
          0.075,
          0.65,
          0.408,
          0.043,
          0.354,
          0.18,
          0.151,
          0.189,
          0.041,
          0.128,
          0.26,
          0.449,
          0.409,
          0.028,
          0.203,
          0.183,
          0.109,
          0.169,
          0.512,
          0.103,
          0.48,
          0.275,
          0.101,
          0.325,
          0.291,
          0.265,
          0.297,
          0.161,
          0.161,
          0.12,
          0.211,
          0.06,
          0.161,
          0.551,
          0.174,
          0.059
         ],
         "xaxis": "x",
         "y": [
          0.95,
          0.85,
          0.95,
          0.99,
          0.99,
          0.99,
          0.85,
          0.8,
          0.9,
          0.95,
          0.95,
          0.85,
          0.85,
          0.99,
          0.9,
          0.95,
          0.9,
          0.9,
          0.9,
          0.95,
          0.85,
          0.99,
          0.99,
          0.95,
          0.9,
          0.99,
          0.99,
          0.95,
          0.8,
          0.9,
          0.9,
          0.8,
          0.99,
          0.9,
          0.99,
          0.99,
          0.99,
          0.9,
          0.8,
          0.9,
          0.8,
          0.99,
          0.9,
          0.85,
          0.85,
          0.8,
          0.99,
          0.95,
          0.99,
          0.85,
          0.8,
          0.95,
          0.95,
          0.9,
          0.85,
          0.85,
          0.85,
          0.9,
          0.9,
          0.85,
          0.8,
          0.9,
          0.8,
          0.85,
          0.85,
          0.8,
          0.85,
          0.9,
          0.8,
          0.9,
          0.99,
          0.8,
          0.8,
          0.9,
          0.85,
          0.99,
          0.85,
          0.99,
          0.85,
          0.95,
          0.8,
          0.85,
          0.99,
          0.9,
          0.99,
          0.85,
          0.8,
          0.8,
          0.8,
          0.8,
          0.85,
          0.95,
          0.99,
          0.85,
          0.99,
          0.95,
          0.8,
          0.9,
          0.95,
          0.99,
          0.99,
          0.9,
          0.9,
          0.95,
          0.85,
          0.9,
          0.95,
          0.85,
          0.9,
          0.95,
          0.95,
          0.85,
          0.95,
          0.95,
          0.8,
          0.99,
          0.95,
          0.85,
          0.99,
          0.99,
          0.8,
          0.95,
          0.8,
          0.8,
          0.85,
          0.95,
          0.99,
          0.8,
          0.85,
          0.9,
          0.8,
          0.8,
          0.99,
          0.85,
          0.95,
          0.9,
          0.95,
          0.95,
          0.9,
          0.95,
          0.9,
          0.95,
          0.8,
          0.85,
          0.95,
          0.8,
          0.9,
          0.99,
          0.8,
          0.8
         ],
         "yaxis": "y"
        }
       ],
       "layout": {
        "coloraxis": {
         "colorbar": {
          "title": {
           "text": "batch_size_share_mu"
          }
         },
         "colorscale": [
          [
           0,
           "#0d0887"
          ],
          [
           0.1111111111111111,
           "#46039f"
          ],
          [
           0.2222222222222222,
           "#7201a8"
          ],
          [
           0.3333333333333333,
           "#9c179e"
          ],
          [
           0.4444444444444444,
           "#bd3786"
          ],
          [
           0.5555555555555556,
           "#d8576b"
          ],
          [
           0.6666666666666666,
           "#ed7953"
          ],
          [
           0.7777777777777778,
           "#fb9f3a"
          ],
          [
           0.8888888888888888,
           "#fdca26"
          ],
          [
           1,
           "#f0f921"
          ]
         ]
        },
        "legend": {
         "tracegroupgap": 0
        },
        "margin": {
         "t": 60
        },
        "template": {
         "data": {
          "bar": [
           {
            "error_x": {
             "color": "#2a3f5f"
            },
            "error_y": {
             "color": "#2a3f5f"
            },
            "marker": {
             "line": {
              "color": "#E5ECF6",
              "width": 0.5
             },
             "pattern": {
              "fillmode": "overlay",
              "size": 10,
              "solidity": 0.2
             }
            },
            "type": "bar"
           }
          ],
          "barpolar": [
           {
            "marker": {
             "line": {
              "color": "#E5ECF6",
              "width": 0.5
             },
             "pattern": {
              "fillmode": "overlay",
              "size": 10,
              "solidity": 0.2
             }
            },
            "type": "barpolar"
           }
          ],
          "carpet": [
           {
            "aaxis": {
             "endlinecolor": "#2a3f5f",
             "gridcolor": "white",
             "linecolor": "white",
             "minorgridcolor": "white",
             "startlinecolor": "#2a3f5f"
            },
            "baxis": {
             "endlinecolor": "#2a3f5f",
             "gridcolor": "white",
             "linecolor": "white",
             "minorgridcolor": "white",
             "startlinecolor": "#2a3f5f"
            },
            "type": "carpet"
           }
          ],
          "choropleth": [
           {
            "colorbar": {
             "outlinewidth": 0,
             "ticks": ""
            },
            "type": "choropleth"
           }
          ],
          "contour": [
           {
            "colorbar": {
             "outlinewidth": 0,
             "ticks": ""
            },
            "colorscale": [
             [
              0,
              "#0d0887"
             ],
             [
              0.1111111111111111,
              "#46039f"
             ],
             [
              0.2222222222222222,
              "#7201a8"
             ],
             [
              0.3333333333333333,
              "#9c179e"
             ],
             [
              0.4444444444444444,
              "#bd3786"
             ],
             [
              0.5555555555555556,
              "#d8576b"
             ],
             [
              0.6666666666666666,
              "#ed7953"
             ],
             [
              0.7777777777777778,
              "#fb9f3a"
             ],
             [
              0.8888888888888888,
              "#fdca26"
             ],
             [
              1,
              "#f0f921"
             ]
            ],
            "type": "contour"
           }
          ],
          "contourcarpet": [
           {
            "colorbar": {
             "outlinewidth": 0,
             "ticks": ""
            },
            "type": "contourcarpet"
           }
          ],
          "heatmap": [
           {
            "colorbar": {
             "outlinewidth": 0,
             "ticks": ""
            },
            "colorscale": [
             [
              0,
              "#0d0887"
             ],
             [
              0.1111111111111111,
              "#46039f"
             ],
             [
              0.2222222222222222,
              "#7201a8"
             ],
             [
              0.3333333333333333,
              "#9c179e"
             ],
             [
              0.4444444444444444,
              "#bd3786"
             ],
             [
              0.5555555555555556,
              "#d8576b"
             ],
             [
              0.6666666666666666,
              "#ed7953"
             ],
             [
              0.7777777777777778,
              "#fb9f3a"
             ],
             [
              0.8888888888888888,
              "#fdca26"
             ],
             [
              1,
              "#f0f921"
             ]
            ],
            "type": "heatmap"
           }
          ],
          "heatmapgl": [
           {
            "colorbar": {
             "outlinewidth": 0,
             "ticks": ""
            },
            "colorscale": [
             [
              0,
              "#0d0887"
             ],
             [
              0.1111111111111111,
              "#46039f"
             ],
             [
              0.2222222222222222,
              "#7201a8"
             ],
             [
              0.3333333333333333,
              "#9c179e"
             ],
             [
              0.4444444444444444,
              "#bd3786"
             ],
             [
              0.5555555555555556,
              "#d8576b"
             ],
             [
              0.6666666666666666,
              "#ed7953"
             ],
             [
              0.7777777777777778,
              "#fb9f3a"
             ],
             [
              0.8888888888888888,
              "#fdca26"
             ],
             [
              1,
              "#f0f921"
             ]
            ],
            "type": "heatmapgl"
           }
          ],
          "histogram": [
           {
            "marker": {
             "pattern": {
              "fillmode": "overlay",
              "size": 10,
              "solidity": 0.2
             }
            },
            "type": "histogram"
           }
          ],
          "histogram2d": [
           {
            "colorbar": {
             "outlinewidth": 0,
             "ticks": ""
            },
            "colorscale": [
             [
              0,
              "#0d0887"
             ],
             [
              0.1111111111111111,
              "#46039f"
             ],
             [
              0.2222222222222222,
              "#7201a8"
             ],
             [
              0.3333333333333333,
              "#9c179e"
             ],
             [
              0.4444444444444444,
              "#bd3786"
             ],
             [
              0.5555555555555556,
              "#d8576b"
             ],
             [
              0.6666666666666666,
              "#ed7953"
             ],
             [
              0.7777777777777778,
              "#fb9f3a"
             ],
             [
              0.8888888888888888,
              "#fdca26"
             ],
             [
              1,
              "#f0f921"
             ]
            ],
            "type": "histogram2d"
           }
          ],
          "histogram2dcontour": [
           {
            "colorbar": {
             "outlinewidth": 0,
             "ticks": ""
            },
            "colorscale": [
             [
              0,
              "#0d0887"
             ],
             [
              0.1111111111111111,
              "#46039f"
             ],
             [
              0.2222222222222222,
              "#7201a8"
             ],
             [
              0.3333333333333333,
              "#9c179e"
             ],
             [
              0.4444444444444444,
              "#bd3786"
             ],
             [
              0.5555555555555556,
              "#d8576b"
             ],
             [
              0.6666666666666666,
              "#ed7953"
             ],
             [
              0.7777777777777778,
              "#fb9f3a"
             ],
             [
              0.8888888888888888,
              "#fdca26"
             ],
             [
              1,
              "#f0f921"
             ]
            ],
            "type": "histogram2dcontour"
           }
          ],
          "mesh3d": [
           {
            "colorbar": {
             "outlinewidth": 0,
             "ticks": ""
            },
            "type": "mesh3d"
           }
          ],
          "parcoords": [
           {
            "line": {
             "colorbar": {
              "outlinewidth": 0,
              "ticks": ""
             }
            },
            "type": "parcoords"
           }
          ],
          "pie": [
           {
            "automargin": true,
            "type": "pie"
           }
          ],
          "scatter": [
           {
            "marker": {
             "colorbar": {
              "outlinewidth": 0,
              "ticks": ""
             }
            },
            "type": "scatter"
           }
          ],
          "scatter3d": [
           {
            "line": {
             "colorbar": {
              "outlinewidth": 0,
              "ticks": ""
             }
            },
            "marker": {
             "colorbar": {
              "outlinewidth": 0,
              "ticks": ""
             }
            },
            "type": "scatter3d"
           }
          ],
          "scattercarpet": [
           {
            "marker": {
             "colorbar": {
              "outlinewidth": 0,
              "ticks": ""
             }
            },
            "type": "scattercarpet"
           }
          ],
          "scattergeo": [
           {
            "marker": {
             "colorbar": {
              "outlinewidth": 0,
              "ticks": ""
             }
            },
            "type": "scattergeo"
           }
          ],
          "scattergl": [
           {
            "marker": {
             "colorbar": {
              "outlinewidth": 0,
              "ticks": ""
             }
            },
            "type": "scattergl"
           }
          ],
          "scattermapbox": [
           {
            "marker": {
             "colorbar": {
              "outlinewidth": 0,
              "ticks": ""
             }
            },
            "type": "scattermapbox"
           }
          ],
          "scatterpolar": [
           {
            "marker": {
             "colorbar": {
              "outlinewidth": 0,
              "ticks": ""
             }
            },
            "type": "scatterpolar"
           }
          ],
          "scatterpolargl": [
           {
            "marker": {
             "colorbar": {
              "outlinewidth": 0,
              "ticks": ""
             }
            },
            "type": "scatterpolargl"
           }
          ],
          "scatterternary": [
           {
            "marker": {
             "colorbar": {
              "outlinewidth": 0,
              "ticks": ""
             }
            },
            "type": "scatterternary"
           }
          ],
          "surface": [
           {
            "colorbar": {
             "outlinewidth": 0,
             "ticks": ""
            },
            "colorscale": [
             [
              0,
              "#0d0887"
             ],
             [
              0.1111111111111111,
              "#46039f"
             ],
             [
              0.2222222222222222,
              "#7201a8"
             ],
             [
              0.3333333333333333,
              "#9c179e"
             ],
             [
              0.4444444444444444,
              "#bd3786"
             ],
             [
              0.5555555555555556,
              "#d8576b"
             ],
             [
              0.6666666666666666,
              "#ed7953"
             ],
             [
              0.7777777777777778,
              "#fb9f3a"
             ],
             [
              0.8888888888888888,
              "#fdca26"
             ],
             [
              1,
              "#f0f921"
             ]
            ],
            "type": "surface"
           }
          ],
          "table": [
           {
            "cells": {
             "fill": {
              "color": "#EBF0F8"
             },
             "line": {
              "color": "white"
             }
            },
            "header": {
             "fill": {
              "color": "#C8D4E3"
             },
             "line": {
              "color": "white"
             }
            },
            "type": "table"
           }
          ]
         },
         "layout": {
          "annotationdefaults": {
           "arrowcolor": "#2a3f5f",
           "arrowhead": 0,
           "arrowwidth": 1
          },
          "autotypenumbers": "strict",
          "coloraxis": {
           "colorbar": {
            "outlinewidth": 0,
            "ticks": ""
           }
          },
          "colorscale": {
           "diverging": [
            [
             0,
             "#8e0152"
            ],
            [
             0.1,
             "#c51b7d"
            ],
            [
             0.2,
             "#de77ae"
            ],
            [
             0.3,
             "#f1b6da"
            ],
            [
             0.4,
             "#fde0ef"
            ],
            [
             0.5,
             "#f7f7f7"
            ],
            [
             0.6,
             "#e6f5d0"
            ],
            [
             0.7,
             "#b8e186"
            ],
            [
             0.8,
             "#7fbc41"
            ],
            [
             0.9,
             "#4d9221"
            ],
            [
             1,
             "#276419"
            ]
           ],
           "sequential": [
            [
             0,
             "#0d0887"
            ],
            [
             0.1111111111111111,
             "#46039f"
            ],
            [
             0.2222222222222222,
             "#7201a8"
            ],
            [
             0.3333333333333333,
             "#9c179e"
            ],
            [
             0.4444444444444444,
             "#bd3786"
            ],
            [
             0.5555555555555556,
             "#d8576b"
            ],
            [
             0.6666666666666666,
             "#ed7953"
            ],
            [
             0.7777777777777778,
             "#fb9f3a"
            ],
            [
             0.8888888888888888,
             "#fdca26"
            ],
            [
             1,
             "#f0f921"
            ]
           ],
           "sequentialminus": [
            [
             0,
             "#0d0887"
            ],
            [
             0.1111111111111111,
             "#46039f"
            ],
            [
             0.2222222222222222,
             "#7201a8"
            ],
            [
             0.3333333333333333,
             "#9c179e"
            ],
            [
             0.4444444444444444,
             "#bd3786"
            ],
            [
             0.5555555555555556,
             "#d8576b"
            ],
            [
             0.6666666666666666,
             "#ed7953"
            ],
            [
             0.7777777777777778,
             "#fb9f3a"
            ],
            [
             0.8888888888888888,
             "#fdca26"
            ],
            [
             1,
             "#f0f921"
            ]
           ]
          },
          "colorway": [
           "#636efa",
           "#EF553B",
           "#00cc96",
           "#ab63fa",
           "#FFA15A",
           "#19d3f3",
           "#FF6692",
           "#B6E880",
           "#FF97FF",
           "#FECB52"
          ],
          "font": {
           "color": "#2a3f5f"
          },
          "geo": {
           "bgcolor": "white",
           "lakecolor": "white",
           "landcolor": "#E5ECF6",
           "showlakes": true,
           "showland": true,
           "subunitcolor": "white"
          },
          "hoverlabel": {
           "align": "left"
          },
          "hovermode": "closest",
          "mapbox": {
           "style": "light"
          },
          "paper_bgcolor": "white",
          "plot_bgcolor": "#E5ECF6",
          "polar": {
           "angularaxis": {
            "gridcolor": "white",
            "linecolor": "white",
            "ticks": ""
           },
           "bgcolor": "#E5ECF6",
           "radialaxis": {
            "gridcolor": "white",
            "linecolor": "white",
            "ticks": ""
           }
          },
          "scene": {
           "xaxis": {
            "backgroundcolor": "#E5ECF6",
            "gridcolor": "white",
            "gridwidth": 2,
            "linecolor": "white",
            "showbackground": true,
            "ticks": "",
            "zerolinecolor": "white"
           },
           "yaxis": {
            "backgroundcolor": "#E5ECF6",
            "gridcolor": "white",
            "gridwidth": 2,
            "linecolor": "white",
            "showbackground": true,
            "ticks": "",
            "zerolinecolor": "white"
           },
           "zaxis": {
            "backgroundcolor": "#E5ECF6",
            "gridcolor": "white",
            "gridwidth": 2,
            "linecolor": "white",
            "showbackground": true,
            "ticks": "",
            "zerolinecolor": "white"
           }
          },
          "shapedefaults": {
           "line": {
            "color": "#2a3f5f"
           }
          },
          "ternary": {
           "aaxis": {
            "gridcolor": "white",
            "linecolor": "white",
            "ticks": ""
           },
           "baxis": {
            "gridcolor": "white",
            "linecolor": "white",
            "ticks": ""
           },
           "bgcolor": "#E5ECF6",
           "caxis": {
            "gridcolor": "white",
            "linecolor": "white",
            "ticks": ""
           }
          },
          "title": {
           "x": 0.05
          },
          "xaxis": {
           "automargin": true,
           "gridcolor": "white",
           "linecolor": "white",
           "ticks": "",
           "title": {
            "standoff": 15
           },
           "zerolinecolor": "white",
           "zerolinewidth": 2
          },
          "yaxis": {
           "automargin": true,
           "gridcolor": "white",
           "linecolor": "white",
           "ticks": "",
           "title": {
            "standoff": 15
           },
           "zerolinecolor": "white",
           "zerolinewidth": 2
          }
         }
        },
        "xaxis": {
         "anchor": "y",
         "domain": [
          0,
          1
         ],
         "title": {
          "text": "share_not_winner"
         }
        },
        "yaxis": {
         "anchor": "x",
         "domain": [
          0,
          1
         ],
         "title": {
          "text": "prob_super"
         }
        }
       }
      },
      "text/html": [
       "<div>                            <div id=\"7c0db055-8fb3-45ff-84ee-906d557397d7\" class=\"plotly-graph-div\" style=\"height:525px; width:100%;\"></div>            <script type=\"text/javascript\">                require([\"plotly\"], function(Plotly) {                    window.PLOTLYENV=window.PLOTLYENV || {};                                    if (document.getElementById(\"7c0db055-8fb3-45ff-84ee-906d557397d7\")) {                    Plotly.newPlot(                        \"7c0db055-8fb3-45ff-84ee-906d557397d7\",                        [{\"hovertemplate\":\"share_not_winner=%{x}<br>prob_super=%{y}<br>batch_size_share_mu=%{marker.color}<extra></extra>\",\"legendgroup\":\"\",\"marker\":{\"color\":[0.08,0.07,0.1,0.04,0.06,0.03,0.09,0.01,0.01,0.05,0.05,0.07,0.02,0.09,0.03,0.08,0.02,0.06,0.06,0.02,0.09,0.1,0.04,0.01,0.07,0.07,0.07,0.06,0.07,0.01,0.08,0.04,0.02,0.08,0.08,0.07,0.04,0.05,0.1,0.1,0.04,0.09,0.03,0.06,0.08,0.06,0.02,0.09,0.08,0.05,0.05,0.06,0.04,0.1,0.04,0.06,0.04,0.04,0.09,0.1,0.06,0.05,0.09,0.1,0.07,0.03,0.05,0.09,0.03,0.01,0.02,0.07,0.08,0.04,0.02,0.06,0.01,0.01,0.08,0.09,0.1,0.05,0.05,0.04,0.09,0.03,0.09,0.03,0.1,0.05,0.1,0.07,0.01,0.04,0.05,0.04,0.06,0.09,0.07,0.08,0.1,0.08,0.05,0.03,0.02,0.1,0.08,0.08,0.02,0.06,0.04,0.03,0.03,0.1,0.01,0.1,0.07,0.01,0.03,0.01,0.08,0.02,0.02,0.05,0.09,0.09,0.03,0.01,0.06,0.03,0.04,0.09,0.05,0.01,0.1,0.06,0.01,0.05,0.07,0.03,0.07,0.01,0.07,0.03,0.02,0.02,0.02,0.06,0.08,0.02],\"coloraxis\":\"coloraxis\",\"symbol\":\"circle\"},\"mode\":\"markers\",\"name\":\"\",\"orientation\":\"v\",\"showlegend\":false,\"type\":\"scatter\",\"x\":[0.442,0.22,0.499,0.401,0.548,0.392,0.25,0.024,0.083,0.342,0.342,0.212,0.082,0.63,0.176,0.443,0.107,0.276,0.278,0.166,0.252,0.668,0.47,0.115,0.3,0.596,0.582,0.373,0.155,0.115,0.326,0.108,0.32,0.315,0.591,0.553,0.46,0.247,0.181,0.38,0.102,0.589,0.164,0.207,0.222,0.143,0.272,0.453,0.624,0.181,0.122,0.4,0.306,0.353,0.136,0.197,0.164,0.198,0.332,0.28,0.138,0.249,0.162,0.272,0.221,0.081,0.187,0.33,0.081,0.073,0.328,0.168,0.158,0.199,0.106,0.499,0.047,0.17,0.229,0.458,0.186,0.176,0.466,0.228,0.619,0.108,0.187,0.076,0.194,0.127,0.271,0.416,0.232,0.149,0.504,0.295,0.131,0.332,0.405,0.591,0.62,0.324,0.241,0.23,0.09,0.376,0.45,0.247,0.135,0.374,0.319,0.132,0.256,0.483,0.075,0.65,0.408,0.043,0.354,0.18,0.151,0.189,0.041,0.128,0.26,0.449,0.409,0.028,0.203,0.183,0.109,0.169,0.512,0.103,0.48,0.275,0.101,0.325,0.291,0.265,0.297,0.161,0.161,0.12,0.211,0.06,0.161,0.551,0.174,0.059],\"xaxis\":\"x\",\"y\":[0.95,0.85,0.95,0.99,0.99,0.99,0.85,0.8,0.9,0.95,0.95,0.85,0.85,0.99,0.9,0.95,0.9,0.9,0.9,0.95,0.85,0.99,0.99,0.95,0.9,0.99,0.99,0.95,0.8,0.9,0.9,0.8,0.99,0.9,0.99,0.99,0.99,0.9,0.8,0.9,0.8,0.99,0.9,0.85,0.85,0.8,0.99,0.95,0.99,0.85,0.8,0.95,0.95,0.9,0.85,0.85,0.85,0.9,0.9,0.85,0.8,0.9,0.8,0.85,0.85,0.8,0.85,0.9,0.8,0.9,0.99,0.8,0.8,0.9,0.85,0.99,0.85,0.99,0.85,0.95,0.8,0.85,0.99,0.9,0.99,0.85,0.8,0.8,0.8,0.8,0.85,0.95,0.99,0.85,0.99,0.95,0.8,0.9,0.95,0.99,0.99,0.9,0.9,0.95,0.85,0.9,0.95,0.85,0.9,0.95,0.95,0.85,0.95,0.95,0.8,0.99,0.95,0.85,0.99,0.99,0.8,0.95,0.8,0.8,0.85,0.95,0.99,0.8,0.85,0.9,0.8,0.8,0.99,0.85,0.95,0.9,0.95,0.95,0.9,0.95,0.9,0.95,0.8,0.85,0.95,0.8,0.9,0.99,0.8,0.8],\"yaxis\":\"y\"}],                        {\"coloraxis\":{\"colorbar\":{\"title\":{\"text\":\"batch_size_share_mu\"}},\"colorscale\":[[0.0,\"#0d0887\"],[0.1111111111111111,\"#46039f\"],[0.2222222222222222,\"#7201a8\"],[0.3333333333333333,\"#9c179e\"],[0.4444444444444444,\"#bd3786\"],[0.5555555555555556,\"#d8576b\"],[0.6666666666666666,\"#ed7953\"],[0.7777777777777778,\"#fb9f3a\"],[0.8888888888888888,\"#fdca26\"],[1.0,\"#f0f921\"]]},\"legend\":{\"tracegroupgap\":0},\"margin\":{\"t\":60},\"template\":{\"data\":{\"bar\":[{\"error_x\":{\"color\":\"#2a3f5f\"},\"error_y\":{\"color\":\"#2a3f5f\"},\"marker\":{\"line\":{\"color\":\"#E5ECF6\",\"width\":0.5},\"pattern\":{\"fillmode\":\"overlay\",\"size\":10,\"solidity\":0.2}},\"type\":\"bar\"}],\"barpolar\":[{\"marker\":{\"line\":{\"color\":\"#E5ECF6\",\"width\":0.5},\"pattern\":{\"fillmode\":\"overlay\",\"size\":10,\"solidity\":0.2}},\"type\":\"barpolar\"}],\"carpet\":[{\"aaxis\":{\"endlinecolor\":\"#2a3f5f\",\"gridcolor\":\"white\",\"linecolor\":\"white\",\"minorgridcolor\":\"white\",\"startlinecolor\":\"#2a3f5f\"},\"baxis\":{\"endlinecolor\":\"#2a3f5f\",\"gridcolor\":\"white\",\"linecolor\":\"white\",\"minorgridcolor\":\"white\",\"startlinecolor\":\"#2a3f5f\"},\"type\":\"carpet\"}],\"choropleth\":[{\"colorbar\":{\"outlinewidth\":0,\"ticks\":\"\"},\"type\":\"choropleth\"}],\"contour\":[{\"colorbar\":{\"outlinewidth\":0,\"ticks\":\"\"},\"colorscale\":[[0.0,\"#0d0887\"],[0.1111111111111111,\"#46039f\"],[0.2222222222222222,\"#7201a8\"],[0.3333333333333333,\"#9c179e\"],[0.4444444444444444,\"#bd3786\"],[0.5555555555555556,\"#d8576b\"],[0.6666666666666666,\"#ed7953\"],[0.7777777777777778,\"#fb9f3a\"],[0.8888888888888888,\"#fdca26\"],[1.0,\"#f0f921\"]],\"type\":\"contour\"}],\"contourcarpet\":[{\"colorbar\":{\"outlinewidth\":0,\"ticks\":\"\"},\"type\":\"contourcarpet\"}],\"heatmap\":[{\"colorbar\":{\"outlinewidth\":0,\"ticks\":\"\"},\"colorscale\":[[0.0,\"#0d0887\"],[0.1111111111111111,\"#46039f\"],[0.2222222222222222,\"#7201a8\"],[0.3333333333333333,\"#9c179e\"],[0.4444444444444444,\"#bd3786\"],[0.5555555555555556,\"#d8576b\"],[0.6666666666666666,\"#ed7953\"],[0.7777777777777778,\"#fb9f3a\"],[0.8888888888888888,\"#fdca26\"],[1.0,\"#f0f921\"]],\"type\":\"heatmap\"}],\"heatmapgl\":[{\"colorbar\":{\"outlinewidth\":0,\"ticks\":\"\"},\"colorscale\":[[0.0,\"#0d0887\"],[0.1111111111111111,\"#46039f\"],[0.2222222222222222,\"#7201a8\"],[0.3333333333333333,\"#9c179e\"],[0.4444444444444444,\"#bd3786\"],[0.5555555555555556,\"#d8576b\"],[0.6666666666666666,\"#ed7953\"],[0.7777777777777778,\"#fb9f3a\"],[0.8888888888888888,\"#fdca26\"],[1.0,\"#f0f921\"]],\"type\":\"heatmapgl\"}],\"histogram\":[{\"marker\":{\"pattern\":{\"fillmode\":\"overlay\",\"size\":10,\"solidity\":0.2}},\"type\":\"histogram\"}],\"histogram2d\":[{\"colorbar\":{\"outlinewidth\":0,\"ticks\":\"\"},\"colorscale\":[[0.0,\"#0d0887\"],[0.1111111111111111,\"#46039f\"],[0.2222222222222222,\"#7201a8\"],[0.3333333333333333,\"#9c179e\"],[0.4444444444444444,\"#bd3786\"],[0.5555555555555556,\"#d8576b\"],[0.6666666666666666,\"#ed7953\"],[0.7777777777777778,\"#fb9f3a\"],[0.8888888888888888,\"#fdca26\"],[1.0,\"#f0f921\"]],\"type\":\"histogram2d\"}],\"histogram2dcontour\":[{\"colorbar\":{\"outlinewidth\":0,\"ticks\":\"\"},\"colorscale\":[[0.0,\"#0d0887\"],[0.1111111111111111,\"#46039f\"],[0.2222222222222222,\"#7201a8\"],[0.3333333333333333,\"#9c179e\"],[0.4444444444444444,\"#bd3786\"],[0.5555555555555556,\"#d8576b\"],[0.6666666666666666,\"#ed7953\"],[0.7777777777777778,\"#fb9f3a\"],[0.8888888888888888,\"#fdca26\"],[1.0,\"#f0f921\"]],\"type\":\"histogram2dcontour\"}],\"mesh3d\":[{\"colorbar\":{\"outlinewidth\":0,\"ticks\":\"\"},\"type\":\"mesh3d\"}],\"parcoords\":[{\"line\":{\"colorbar\":{\"outlinewidth\":0,\"ticks\":\"\"}},\"type\":\"parcoords\"}],\"pie\":[{\"automargin\":true,\"type\":\"pie\"}],\"scatter\":[{\"marker\":{\"colorbar\":{\"outlinewidth\":0,\"ticks\":\"\"}},\"type\":\"scatter\"}],\"scatter3d\":[{\"line\":{\"colorbar\":{\"outlinewidth\":0,\"ticks\":\"\"}},\"marker\":{\"colorbar\":{\"outlinewidth\":0,\"ticks\":\"\"}},\"type\":\"scatter3d\"}],\"scattercarpet\":[{\"marker\":{\"colorbar\":{\"outlinewidth\":0,\"ticks\":\"\"}},\"type\":\"scattercarpet\"}],\"scattergeo\":[{\"marker\":{\"colorbar\":{\"outlinewidth\":0,\"ticks\":\"\"}},\"type\":\"scattergeo\"}],\"scattergl\":[{\"marker\":{\"colorbar\":{\"outlinewidth\":0,\"ticks\":\"\"}},\"type\":\"scattergl\"}],\"scattermapbox\":[{\"marker\":{\"colorbar\":{\"outlinewidth\":0,\"ticks\":\"\"}},\"type\":\"scattermapbox\"}],\"scatterpolar\":[{\"marker\":{\"colorbar\":{\"outlinewidth\":0,\"ticks\":\"\"}},\"type\":\"scatterpolar\"}],\"scatterpolargl\":[{\"marker\":{\"colorbar\":{\"outlinewidth\":0,\"ticks\":\"\"}},\"type\":\"scatterpolargl\"}],\"scatterternary\":[{\"marker\":{\"colorbar\":{\"outlinewidth\":0,\"ticks\":\"\"}},\"type\":\"scatterternary\"}],\"surface\":[{\"colorbar\":{\"outlinewidth\":0,\"ticks\":\"\"},\"colorscale\":[[0.0,\"#0d0887\"],[0.1111111111111111,\"#46039f\"],[0.2222222222222222,\"#7201a8\"],[0.3333333333333333,\"#9c179e\"],[0.4444444444444444,\"#bd3786\"],[0.5555555555555556,\"#d8576b\"],[0.6666666666666666,\"#ed7953\"],[0.7777777777777778,\"#fb9f3a\"],[0.8888888888888888,\"#fdca26\"],[1.0,\"#f0f921\"]],\"type\":\"surface\"}],\"table\":[{\"cells\":{\"fill\":{\"color\":\"#EBF0F8\"},\"line\":{\"color\":\"white\"}},\"header\":{\"fill\":{\"color\":\"#C8D4E3\"},\"line\":{\"color\":\"white\"}},\"type\":\"table\"}]},\"layout\":{\"annotationdefaults\":{\"arrowcolor\":\"#2a3f5f\",\"arrowhead\":0,\"arrowwidth\":1},\"autotypenumbers\":\"strict\",\"coloraxis\":{\"colorbar\":{\"outlinewidth\":0,\"ticks\":\"\"}},\"colorscale\":{\"diverging\":[[0,\"#8e0152\"],[0.1,\"#c51b7d\"],[0.2,\"#de77ae\"],[0.3,\"#f1b6da\"],[0.4,\"#fde0ef\"],[0.5,\"#f7f7f7\"],[0.6,\"#e6f5d0\"],[0.7,\"#b8e186\"],[0.8,\"#7fbc41\"],[0.9,\"#4d9221\"],[1,\"#276419\"]],\"sequential\":[[0.0,\"#0d0887\"],[0.1111111111111111,\"#46039f\"],[0.2222222222222222,\"#7201a8\"],[0.3333333333333333,\"#9c179e\"],[0.4444444444444444,\"#bd3786\"],[0.5555555555555556,\"#d8576b\"],[0.6666666666666666,\"#ed7953\"],[0.7777777777777778,\"#fb9f3a\"],[0.8888888888888888,\"#fdca26\"],[1.0,\"#f0f921\"]],\"sequentialminus\":[[0.0,\"#0d0887\"],[0.1111111111111111,\"#46039f\"],[0.2222222222222222,\"#7201a8\"],[0.3333333333333333,\"#9c179e\"],[0.4444444444444444,\"#bd3786\"],[0.5555555555555556,\"#d8576b\"],[0.6666666666666666,\"#ed7953\"],[0.7777777777777778,\"#fb9f3a\"],[0.8888888888888888,\"#fdca26\"],[1.0,\"#f0f921\"]]},\"colorway\":[\"#636efa\",\"#EF553B\",\"#00cc96\",\"#ab63fa\",\"#FFA15A\",\"#19d3f3\",\"#FF6692\",\"#B6E880\",\"#FF97FF\",\"#FECB52\"],\"font\":{\"color\":\"#2a3f5f\"},\"geo\":{\"bgcolor\":\"white\",\"lakecolor\":\"white\",\"landcolor\":\"#E5ECF6\",\"showlakes\":true,\"showland\":true,\"subunitcolor\":\"white\"},\"hoverlabel\":{\"align\":\"left\"},\"hovermode\":\"closest\",\"mapbox\":{\"style\":\"light\"},\"paper_bgcolor\":\"white\",\"plot_bgcolor\":\"#E5ECF6\",\"polar\":{\"angularaxis\":{\"gridcolor\":\"white\",\"linecolor\":\"white\",\"ticks\":\"\"},\"bgcolor\":\"#E5ECF6\",\"radialaxis\":{\"gridcolor\":\"white\",\"linecolor\":\"white\",\"ticks\":\"\"}},\"scene\":{\"xaxis\":{\"backgroundcolor\":\"#E5ECF6\",\"gridcolor\":\"white\",\"gridwidth\":2,\"linecolor\":\"white\",\"showbackground\":true,\"ticks\":\"\",\"zerolinecolor\":\"white\"},\"yaxis\":{\"backgroundcolor\":\"#E5ECF6\",\"gridcolor\":\"white\",\"gridwidth\":2,\"linecolor\":\"white\",\"showbackground\":true,\"ticks\":\"\",\"zerolinecolor\":\"white\"},\"zaxis\":{\"backgroundcolor\":\"#E5ECF6\",\"gridcolor\":\"white\",\"gridwidth\":2,\"linecolor\":\"white\",\"showbackground\":true,\"ticks\":\"\",\"zerolinecolor\":\"white\"}},\"shapedefaults\":{\"line\":{\"color\":\"#2a3f5f\"}},\"ternary\":{\"aaxis\":{\"gridcolor\":\"white\",\"linecolor\":\"white\",\"ticks\":\"\"},\"baxis\":{\"gridcolor\":\"white\",\"linecolor\":\"white\",\"ticks\":\"\"},\"bgcolor\":\"#E5ECF6\",\"caxis\":{\"gridcolor\":\"white\",\"linecolor\":\"white\",\"ticks\":\"\"}},\"title\":{\"x\":0.05},\"xaxis\":{\"automargin\":true,\"gridcolor\":\"white\",\"linecolor\":\"white\",\"ticks\":\"\",\"title\":{\"standoff\":15},\"zerolinecolor\":\"white\",\"zerolinewidth\":2},\"yaxis\":{\"automargin\":true,\"gridcolor\":\"white\",\"linecolor\":\"white\",\"ticks\":\"\",\"title\":{\"standoff\":15},\"zerolinecolor\":\"white\",\"zerolinewidth\":2}}},\"xaxis\":{\"anchor\":\"y\",\"domain\":[0.0,1.0],\"title\":{\"text\":\"share_not_winner\"}},\"yaxis\":{\"anchor\":\"x\",\"domain\":[0.0,1.0],\"title\":{\"text\":\"prob_super\"}}},                        {\"responsive\": true}                    ).then(function(){\n",
       "                            \n",
       "var gd = document.getElementById('7c0db055-8fb3-45ff-84ee-906d557397d7');\n",
       "var x = new MutationObserver(function (mutations, observer) {{\n",
       "        var display = window.getComputedStyle(gd).display;\n",
       "        if (!display || display === 'none') {{\n",
       "            console.log([gd, 'removed!']);\n",
       "            Plotly.purge(gd);\n",
       "            observer.disconnect();\n",
       "        }}\n",
       "}});\n",
       "\n",
       "// Listen for the removal of the full notebook cells\n",
       "var notebookContainer = gd.closest('#notebook-container');\n",
       "if (notebookContainer) {{\n",
       "    x.observe(notebookContainer, {childList: true});\n",
       "}}\n",
       "\n",
       "// Listen for the clearing of the current output cell\n",
       "var outputEl = gd.closest('.output');\n",
       "if (outputEl) {{\n",
       "    x.observe(outputEl, {childList: true});\n",
       "}}\n",
       "\n",
       "                        })                };                });            </script>        </div>"
      ]
     },
     "metadata": {},
     "output_type": "display_data"
    }
   ],
   "source": [
    "plot_df = thompson_results_df.query(\"\"\"mde == '0' & multi_armed == 'True'\"\"\").reset_index()[\n",
    "    ['share_not_winner', \"prob_super\",'batch_size_share_mu']].astype(float)\n",
    "fig = px.scatter(plot_df, x=\"share_not_winner\", y=\"prob_super\", color=\"batch_size_share_mu\")\n",
    "fig.show()"
   ]
  },
  {
   "cell_type": "code",
   "execution_count": 103,
   "metadata": {
    "scrolled": true
   },
   "outputs": [
    {
     "data": {
      "application/vnd.plotly.v1+json": {
       "config": {
        "plotlyServerURL": "https://plot.ly"
       },
       "data": [
        {
         "hovertemplate": "share_test_winner=%{x}<br>prob_super=%{y}<br>batch_size_share_mu=%{marker.color}<extra></extra>",
         "legendgroup": "",
         "marker": {
          "color": [
           0.09,
           0.01,
           0.1,
           0.08,
           0.04,
           0.01,
           0.05,
           0.04,
           0.06,
           0.04,
           0.05,
           0.05,
           0.03,
           0.07,
           0.07,
           0.07,
           0.01,
           0.1,
           0.06,
           0.09,
           0.08,
           0.08,
           0.03,
           0.1,
           0.01,
           0.04,
           0.04,
           0.09,
           0.1,
           0.08,
           0.01,
           0.07,
           0.04,
           0.1,
           0.04,
           0.03,
           0.06,
           0.03,
           0.08,
           0.07,
           0.09,
           0.1,
           0.01,
           0.08,
           0.02,
           0.05,
           0.02,
           0.1,
           0.09,
           0.08,
           0.02,
           0.08,
           0.03,
           0.04,
           0.06,
           0.04,
           0.07,
           0.07,
           0.03,
           0.01,
           0.09,
           0.03,
           0.06,
           0.08,
           0.07,
           0.05,
           0.05,
           0.05,
           0.08,
           0.02,
           0.09,
           0.05,
           0.06,
           0.1,
           0.1,
           0.05,
           0.01,
           0.06,
           0.07,
           0.03,
           0.05,
           0.04,
           0.06,
           0.01,
           0.04,
           0.09,
           0.07,
           0.05,
           0.07,
           0.08,
           0.08,
           0.04,
           0.03,
           0.07,
           0.06,
           0.05,
           0.09,
           0.05,
           0.01,
           0.06,
           0.1,
           0.03,
           0.09,
           0.03,
           0.09,
           0.02,
           0.08,
           0.06,
           0.05,
           0.03,
           0.05,
           0.01,
           0.1,
           0.02,
           0.09,
           0.03,
           0.06,
           0.03,
           0.09,
           0.01,
           0.04,
           0.1,
           0.09,
           0.06,
           0.03,
           0.07,
           0.02,
           0.1,
           0.04,
           0.1,
           0.02,
           0.01,
           0.03,
           0.04,
           0.02,
           0.09,
           0.07,
           0.05,
           0.02,
           0.1,
           0.05,
           0.02,
           0.03,
           0.02,
           0.08,
           0.03,
           0.08,
           0.02,
           0.04,
           0.05,
           0.03,
           0.02,
           0.01,
           0.03,
           0.05,
           0.06,
           0.06,
           0.01,
           0.02,
           0.02,
           0.04,
           0.02,
           0.1,
           0.05,
           0.01,
           0.07,
           0.04,
           0.09,
           0.02,
           0.02,
           0.03,
           0.03,
           0.09,
           0.04,
           0.1,
           0.07,
           0.03,
           0.06,
           0.1,
           0.08,
           0.07,
           0.03,
           0.09,
           0.01,
           0.06,
           0.04,
           0.06,
           0.09,
           0.1,
           0.07,
           0.01,
           0.03,
           0.01,
           0.06,
           0.1,
           0.09,
           0.02,
           0.05,
           0.09,
           0.09,
           0.02,
           0.09,
           0.06,
           0.04,
           0.06,
           0.01,
           0.02,
           0.01,
           0.06,
           0.02,
           0.09,
           0.1,
           0.02,
           0.07,
           0.05,
           0.1,
           0.01,
           0.08,
           0.06,
           0.02,
           0.07,
           0.1,
           0.07,
           0.01,
           0.03,
           0.08,
           0.1,
           0.07,
           0.02,
           0.07,
           0.04,
           0.05,
           0.04,
           0.1,
           0.08,
           0.02,
           0.1,
           0.06,
           0.06,
           0.09,
           0.01,
           0.09,
           0.03,
           0.04,
           0.08,
           0.02,
           0.06,
           0.03,
           0.06,
           0.08,
           0.04,
           0.09,
           0.04,
           0.08,
           0.05,
           0.05,
           0.08,
           0.07,
           0.05,
           0.04,
           0.05,
           0.07,
           0.04,
           0.08,
           0.01,
           0.05,
           0.08,
           0.05,
           0.05,
           0.07,
           0.06,
           0.07,
           0.04,
           0.08,
           0.07,
           0.01,
           0.08,
           0.08,
           0.02,
           0.1,
           0.04,
           0.07,
           0.09,
           0.1,
           0.1,
           0.03,
           0.09,
           0.07,
           0.09,
           0.01,
           0.1,
           0.06,
           0.06,
           0.01,
           0.08,
           0.08,
           0.02,
           0.03,
           0.01,
           0.01
          ],
          "coloraxis": "coloraxis",
          "symbol": "circle"
         },
         "mode": "markers",
         "name": "",
         "orientation": "v",
         "showlegend": false,
         "type": "scatter",
         "x": [
          0.587,
          0.568,
          0.825,
          0.775,
          0.74,
          0.599,
          0.641,
          0.688,
          0.728,
          0.69,
          0.747,
          0.651,
          0.703,
          0.746,
          0.807,
          0.791,
          0.584,
          0.603,
          0.571,
          0.603,
          0.592,
          0.81,
          0.676,
          0.719,
          0.628,
          0.671,
          0.733,
          0.781,
          0.821,
          0.787,
          0.564,
          0.79,
          0.742,
          0.826,
          0.716,
          0.679,
          0.785,
          0.697,
          0.567,
          0.774,
          0.739,
          0.805,
          0.596,
          0.691,
          0.691,
          0.574,
          0.57,
          0.79,
          0.687,
          0.818,
          0.684,
          0.74,
          0.564,
          0.734,
          0.579,
          0.55,
          0.669,
          0.711,
          0.689,
          0.641,
          0.811,
          0.656,
          0.784,
          0.797,
          0.783,
          0.772,
          0.693,
          0.758,
          0.767,
          0.628,
          0.592,
          0.734,
          0.69,
          0.59,
          0.587,
          0.779,
          0.633,
          0.669,
          0.676,
          0.69,
          0.661,
          0.575,
          0.677,
          0.606,
          0.636,
          0.709,
          0.691,
          0.721,
          0.735,
          0.744,
          0.689,
          0.58,
          0.541,
          0.575,
          0.743,
          0.567,
          0.818,
          0.679,
          0.619,
          0.59,
          0.692,
          0.643,
          0.791,
          0.705,
          0.795,
          0.646,
          0.709,
          0.754,
          0.756,
          0.673,
          0.663,
          0.645,
          0.814,
          0.532,
          0.822,
          0.626,
          0.782,
          0.636,
          0.765,
          0.539,
          0.651,
          0.785,
          0.792,
          0.725,
          0.541,
          0.741,
          0.542,
          0.763,
          0.728,
          0.829,
          0.658,
          0.619,
          0.581,
          0.708,
          0.656,
          0.764,
          0.594,
          0.576,
          0.653,
          0.773,
          0.774,
          0.59,
          0.682,
          0.668,
          0.748,
          0.655,
          0.797,
          0.688,
          0.686,
          0.751,
          0.651,
          0.533,
          0.635,
          0.712,
          0.67,
          0.752,
          0.761,
          0.63,
          0.643,
          0.618,
          0.591,
          0.655,
          0.691,
          0.745,
          0.521,
          0.678,
          0.748,
          0.805,
          0.565,
          0.643,
          0.648,
          0.678,
          0.741,
          0.689,
          0.751,
          0.759,
          0.728,
          0.786,
          0.718,
          0.595,
          0.788,
          0.685,
          0.71,
          0.627,
          0.708,
          0.665,
          0.556,
          0.761,
          0.58,
          0.746,
          0.605,
          0.603,
          0.619,
          0.656,
          0.709,
          0.786,
          0.652,
          0.7,
          0.589,
          0.706,
          0.628,
          0.816,
          0.69,
          0.563,
          0.594,
          0.549,
          0.588,
          0.644,
          0.591,
          0.663,
          0.779,
          0.582,
          0.636,
          0.69,
          0.741,
          0.775,
          0.574,
          0.575,
          0.737,
          0.549,
          0.576,
          0.611,
          0.593,
          0.525,
          0.554,
          0.685,
          0.805,
          0.767,
          0.617,
          0.68,
          0.714,
          0.591,
          0.714,
          0.84,
          0.585,
          0.613,
          0.793,
          0.676,
          0.75,
          0.825,
          0.609,
          0.76,
          0.705,
          0.726,
          0.597,
          0.681,
          0.727,
          0.609,
          0.726,
          0.775,
          0.72,
          0.564,
          0.664,
          0.708,
          0.701,
          0.729,
          0.761,
          0.743,
          0.713,
          0.712,
          0.584,
          0.588,
          0.55,
          0.785,
          0.66,
          0.702,
          0.748,
          0.713,
          0.557,
          0.776,
          0.769,
          0.765,
          0.635,
          0.81,
          0.762,
          0.59,
          0.778,
          0.787,
          0.671,
          0.767,
          0.65,
          0.794,
          0.71,
          0.829,
          0.767,
          0.621,
          0.591,
          0.575,
          0.695,
          0.586,
          0.722,
          0.795,
          0.784,
          0.616,
          0.727,
          0.686,
          0.599,
          0.557,
          0.572,
          0.603
         ],
         "xaxis": "x",
         "y": [
          0.99,
          0.99,
          0.8,
          0.85,
          0.8,
          0.85,
          0.95,
          0.9,
          0.9,
          0.9,
          0.8,
          0.95,
          0.85,
          0.9,
          0.8,
          0.8,
          0.95,
          0.99,
          0.99,
          0.99,
          0.99,
          0.8,
          0.85,
          0.95,
          0.9,
          0.9,
          0.8,
          0.85,
          0.8,
          0.85,
          0.99,
          0.8,
          0.8,
          0.8,
          0.85,
          0.9,
          0.8,
          0.8,
          0.99,
          0.85,
          0.9,
          0.85,
          0.95,
          0.95,
          0.8,
          0.99,
          0.99,
          0.85,
          0.95,
          0.8,
          0.85,
          0.9,
          0.99,
          0.8,
          0.99,
          0.99,
          0.95,
          0.9,
          0.85,
          0.85,
          0.8,
          0.9,
          0.8,
          0.8,
          0.85,
          0.8,
          0.9,
          0.8,
          0.85,
          0.9,
          0.99,
          0.85,
          0.95,
          0.99,
          0.99,
          0.8,
          0.8,
          0.95,
          0.95,
          0.8,
          0.95,
          0.99,
          0.95,
          0.9,
          0.95,
          0.95,
          0.95,
          0.9,
          0.9,
          0.9,
          0.95,
          0.99,
          0.99,
          0.99,
          0.85,
          0.99,
          0.8,
          0.95,
          0.85,
          0.99,
          0.95,
          0.95,
          0.85,
          0.8,
          0.85,
          0.9,
          0.95,
          0.85,
          0.85,
          0.85,
          0.95,
          0.85,
          0.8,
          0.99,
          0.8,
          0.95,
          0.85,
          0.95,
          0.9,
          0.99,
          0.95,
          0.85,
          0.85,
          0.9,
          0.99,
          0.85,
          0.99,
          0.9,
          0.85,
          0.85,
          0.9,
          0.85,
          0.99,
          0.85,
          0.8,
          0.9,
          0.99,
          0.99,
          0.85,
          0.9,
          0.8,
          0.95,
          0.9,
          0.85,
          0.9,
          0.9,
          0.8,
          0.8,
          0.9,
          0.85,
          0.9,
          0.99,
          0.8,
          0.85,
          0.95,
          0.85,
          0.85,
          0.9,
          0.9,
          0.9,
          0.99,
          0.85,
          0.95,
          0.8,
          0.99,
          0.95,
          0.8,
          0.8,
          0.99,
          0.85,
          0.9,
          0.85,
          0.9,
          0.9,
          0.9,
          0.9,
          0.8,
          0.8,
          0.95,
          0.99,
          0.8,
          0.8,
          0.95,
          0.8,
          0.9,
          0.95,
          0.99,
          0.9,
          0.99,
          0.9,
          0.95,
          0.95,
          0.8,
          0.95,
          0.95,
          0.85,
          0.85,
          0.9,
          0.99,
          0.95,
          0.95,
          0.8,
          0.95,
          0.99,
          0.99,
          0.99,
          0.95,
          0.8,
          0.99,
          0.8,
          0.85,
          0.99,
          0.9,
          0.95,
          0.85,
          0.9,
          0.95,
          0.99,
          0.9,
          0.99,
          0.99,
          0.99,
          0.99,
          0.99,
          0.99,
          0.95,
          0.85,
          0.8,
          0.95,
          0.95,
          0.9,
          0.99,
          0.85,
          0.8,
          0.99,
          0.95,
          0.85,
          0.95,
          0.85,
          0.8,
          0.95,
          0.9,
          0.8,
          0.8,
          0.99,
          0.8,
          0.9,
          0.95,
          0.9,
          0.85,
          0.85,
          0.99,
          0.95,
          0.95,
          0.9,
          0.85,
          0.9,
          0.9,
          0.9,
          0.85,
          0.99,
          0.99,
          0.99,
          0.8,
          0.8,
          0.9,
          0.9,
          0.85,
          0.99,
          0.85,
          0.8,
          0.85,
          0.95,
          0.8,
          0.85,
          0.9,
          0.85,
          0.85,
          0.8,
          0.9,
          0.95,
          0.8,
          0.95,
          0.8,
          0.9,
          0.95,
          0.99,
          0.99,
          0.95,
          0.9,
          0.95,
          0.8,
          0.8,
          0.85,
          0.9,
          0.95,
          0.95,
          0.99,
          0.95,
          0.9
         ],
         "yaxis": "y"
        }
       ],
       "layout": {
        "coloraxis": {
         "colorbar": {
          "title": {
           "text": "batch_size_share_mu"
          }
         },
         "colorscale": [
          [
           0,
           "#0d0887"
          ],
          [
           0.1111111111111111,
           "#46039f"
          ],
          [
           0.2222222222222222,
           "#7201a8"
          ],
          [
           0.3333333333333333,
           "#9c179e"
          ],
          [
           0.4444444444444444,
           "#bd3786"
          ],
          [
           0.5555555555555556,
           "#d8576b"
          ],
          [
           0.6666666666666666,
           "#ed7953"
          ],
          [
           0.7777777777777778,
           "#fb9f3a"
          ],
          [
           0.8888888888888888,
           "#fdca26"
          ],
          [
           1,
           "#f0f921"
          ]
         ]
        },
        "legend": {
         "tracegroupgap": 0
        },
        "margin": {
         "t": 60
        },
        "template": {
         "data": {
          "bar": [
           {
            "error_x": {
             "color": "#2a3f5f"
            },
            "error_y": {
             "color": "#2a3f5f"
            },
            "marker": {
             "line": {
              "color": "#E5ECF6",
              "width": 0.5
             },
             "pattern": {
              "fillmode": "overlay",
              "size": 10,
              "solidity": 0.2
             }
            },
            "type": "bar"
           }
          ],
          "barpolar": [
           {
            "marker": {
             "line": {
              "color": "#E5ECF6",
              "width": 0.5
             },
             "pattern": {
              "fillmode": "overlay",
              "size": 10,
              "solidity": 0.2
             }
            },
            "type": "barpolar"
           }
          ],
          "carpet": [
           {
            "aaxis": {
             "endlinecolor": "#2a3f5f",
             "gridcolor": "white",
             "linecolor": "white",
             "minorgridcolor": "white",
             "startlinecolor": "#2a3f5f"
            },
            "baxis": {
             "endlinecolor": "#2a3f5f",
             "gridcolor": "white",
             "linecolor": "white",
             "minorgridcolor": "white",
             "startlinecolor": "#2a3f5f"
            },
            "type": "carpet"
           }
          ],
          "choropleth": [
           {
            "colorbar": {
             "outlinewidth": 0,
             "ticks": ""
            },
            "type": "choropleth"
           }
          ],
          "contour": [
           {
            "colorbar": {
             "outlinewidth": 0,
             "ticks": ""
            },
            "colorscale": [
             [
              0,
              "#0d0887"
             ],
             [
              0.1111111111111111,
              "#46039f"
             ],
             [
              0.2222222222222222,
              "#7201a8"
             ],
             [
              0.3333333333333333,
              "#9c179e"
             ],
             [
              0.4444444444444444,
              "#bd3786"
             ],
             [
              0.5555555555555556,
              "#d8576b"
             ],
             [
              0.6666666666666666,
              "#ed7953"
             ],
             [
              0.7777777777777778,
              "#fb9f3a"
             ],
             [
              0.8888888888888888,
              "#fdca26"
             ],
             [
              1,
              "#f0f921"
             ]
            ],
            "type": "contour"
           }
          ],
          "contourcarpet": [
           {
            "colorbar": {
             "outlinewidth": 0,
             "ticks": ""
            },
            "type": "contourcarpet"
           }
          ],
          "heatmap": [
           {
            "colorbar": {
             "outlinewidth": 0,
             "ticks": ""
            },
            "colorscale": [
             [
              0,
              "#0d0887"
             ],
             [
              0.1111111111111111,
              "#46039f"
             ],
             [
              0.2222222222222222,
              "#7201a8"
             ],
             [
              0.3333333333333333,
              "#9c179e"
             ],
             [
              0.4444444444444444,
              "#bd3786"
             ],
             [
              0.5555555555555556,
              "#d8576b"
             ],
             [
              0.6666666666666666,
              "#ed7953"
             ],
             [
              0.7777777777777778,
              "#fb9f3a"
             ],
             [
              0.8888888888888888,
              "#fdca26"
             ],
             [
              1,
              "#f0f921"
             ]
            ],
            "type": "heatmap"
           }
          ],
          "heatmapgl": [
           {
            "colorbar": {
             "outlinewidth": 0,
             "ticks": ""
            },
            "colorscale": [
             [
              0,
              "#0d0887"
             ],
             [
              0.1111111111111111,
              "#46039f"
             ],
             [
              0.2222222222222222,
              "#7201a8"
             ],
             [
              0.3333333333333333,
              "#9c179e"
             ],
             [
              0.4444444444444444,
              "#bd3786"
             ],
             [
              0.5555555555555556,
              "#d8576b"
             ],
             [
              0.6666666666666666,
              "#ed7953"
             ],
             [
              0.7777777777777778,
              "#fb9f3a"
             ],
             [
              0.8888888888888888,
              "#fdca26"
             ],
             [
              1,
              "#f0f921"
             ]
            ],
            "type": "heatmapgl"
           }
          ],
          "histogram": [
           {
            "marker": {
             "pattern": {
              "fillmode": "overlay",
              "size": 10,
              "solidity": 0.2
             }
            },
            "type": "histogram"
           }
          ],
          "histogram2d": [
           {
            "colorbar": {
             "outlinewidth": 0,
             "ticks": ""
            },
            "colorscale": [
             [
              0,
              "#0d0887"
             ],
             [
              0.1111111111111111,
              "#46039f"
             ],
             [
              0.2222222222222222,
              "#7201a8"
             ],
             [
              0.3333333333333333,
              "#9c179e"
             ],
             [
              0.4444444444444444,
              "#bd3786"
             ],
             [
              0.5555555555555556,
              "#d8576b"
             ],
             [
              0.6666666666666666,
              "#ed7953"
             ],
             [
              0.7777777777777778,
              "#fb9f3a"
             ],
             [
              0.8888888888888888,
              "#fdca26"
             ],
             [
              1,
              "#f0f921"
             ]
            ],
            "type": "histogram2d"
           }
          ],
          "histogram2dcontour": [
           {
            "colorbar": {
             "outlinewidth": 0,
             "ticks": ""
            },
            "colorscale": [
             [
              0,
              "#0d0887"
             ],
             [
              0.1111111111111111,
              "#46039f"
             ],
             [
              0.2222222222222222,
              "#7201a8"
             ],
             [
              0.3333333333333333,
              "#9c179e"
             ],
             [
              0.4444444444444444,
              "#bd3786"
             ],
             [
              0.5555555555555556,
              "#d8576b"
             ],
             [
              0.6666666666666666,
              "#ed7953"
             ],
             [
              0.7777777777777778,
              "#fb9f3a"
             ],
             [
              0.8888888888888888,
              "#fdca26"
             ],
             [
              1,
              "#f0f921"
             ]
            ],
            "type": "histogram2dcontour"
           }
          ],
          "mesh3d": [
           {
            "colorbar": {
             "outlinewidth": 0,
             "ticks": ""
            },
            "type": "mesh3d"
           }
          ],
          "parcoords": [
           {
            "line": {
             "colorbar": {
              "outlinewidth": 0,
              "ticks": ""
             }
            },
            "type": "parcoords"
           }
          ],
          "pie": [
           {
            "automargin": true,
            "type": "pie"
           }
          ],
          "scatter": [
           {
            "marker": {
             "colorbar": {
              "outlinewidth": 0,
              "ticks": ""
             }
            },
            "type": "scatter"
           }
          ],
          "scatter3d": [
           {
            "line": {
             "colorbar": {
              "outlinewidth": 0,
              "ticks": ""
             }
            },
            "marker": {
             "colorbar": {
              "outlinewidth": 0,
              "ticks": ""
             }
            },
            "type": "scatter3d"
           }
          ],
          "scattercarpet": [
           {
            "marker": {
             "colorbar": {
              "outlinewidth": 0,
              "ticks": ""
             }
            },
            "type": "scattercarpet"
           }
          ],
          "scattergeo": [
           {
            "marker": {
             "colorbar": {
              "outlinewidth": 0,
              "ticks": ""
             }
            },
            "type": "scattergeo"
           }
          ],
          "scattergl": [
           {
            "marker": {
             "colorbar": {
              "outlinewidth": 0,
              "ticks": ""
             }
            },
            "type": "scattergl"
           }
          ],
          "scattermapbox": [
           {
            "marker": {
             "colorbar": {
              "outlinewidth": 0,
              "ticks": ""
             }
            },
            "type": "scattermapbox"
           }
          ],
          "scatterpolar": [
           {
            "marker": {
             "colorbar": {
              "outlinewidth": 0,
              "ticks": ""
             }
            },
            "type": "scatterpolar"
           }
          ],
          "scatterpolargl": [
           {
            "marker": {
             "colorbar": {
              "outlinewidth": 0,
              "ticks": ""
             }
            },
            "type": "scatterpolargl"
           }
          ],
          "scatterternary": [
           {
            "marker": {
             "colorbar": {
              "outlinewidth": 0,
              "ticks": ""
             }
            },
            "type": "scatterternary"
           }
          ],
          "surface": [
           {
            "colorbar": {
             "outlinewidth": 0,
             "ticks": ""
            },
            "colorscale": [
             [
              0,
              "#0d0887"
             ],
             [
              0.1111111111111111,
              "#46039f"
             ],
             [
              0.2222222222222222,
              "#7201a8"
             ],
             [
              0.3333333333333333,
              "#9c179e"
             ],
             [
              0.4444444444444444,
              "#bd3786"
             ],
             [
              0.5555555555555556,
              "#d8576b"
             ],
             [
              0.6666666666666666,
              "#ed7953"
             ],
             [
              0.7777777777777778,
              "#fb9f3a"
             ],
             [
              0.8888888888888888,
              "#fdca26"
             ],
             [
              1,
              "#f0f921"
             ]
            ],
            "type": "surface"
           }
          ],
          "table": [
           {
            "cells": {
             "fill": {
              "color": "#EBF0F8"
             },
             "line": {
              "color": "white"
             }
            },
            "header": {
             "fill": {
              "color": "#C8D4E3"
             },
             "line": {
              "color": "white"
             }
            },
            "type": "table"
           }
          ]
         },
         "layout": {
          "annotationdefaults": {
           "arrowcolor": "#2a3f5f",
           "arrowhead": 0,
           "arrowwidth": 1
          },
          "autotypenumbers": "strict",
          "coloraxis": {
           "colorbar": {
            "outlinewidth": 0,
            "ticks": ""
           }
          },
          "colorscale": {
           "diverging": [
            [
             0,
             "#8e0152"
            ],
            [
             0.1,
             "#c51b7d"
            ],
            [
             0.2,
             "#de77ae"
            ],
            [
             0.3,
             "#f1b6da"
            ],
            [
             0.4,
             "#fde0ef"
            ],
            [
             0.5,
             "#f7f7f7"
            ],
            [
             0.6,
             "#e6f5d0"
            ],
            [
             0.7,
             "#b8e186"
            ],
            [
             0.8,
             "#7fbc41"
            ],
            [
             0.9,
             "#4d9221"
            ],
            [
             1,
             "#276419"
            ]
           ],
           "sequential": [
            [
             0,
             "#0d0887"
            ],
            [
             0.1111111111111111,
             "#46039f"
            ],
            [
             0.2222222222222222,
             "#7201a8"
            ],
            [
             0.3333333333333333,
             "#9c179e"
            ],
            [
             0.4444444444444444,
             "#bd3786"
            ],
            [
             0.5555555555555556,
             "#d8576b"
            ],
            [
             0.6666666666666666,
             "#ed7953"
            ],
            [
             0.7777777777777778,
             "#fb9f3a"
            ],
            [
             0.8888888888888888,
             "#fdca26"
            ],
            [
             1,
             "#f0f921"
            ]
           ],
           "sequentialminus": [
            [
             0,
             "#0d0887"
            ],
            [
             0.1111111111111111,
             "#46039f"
            ],
            [
             0.2222222222222222,
             "#7201a8"
            ],
            [
             0.3333333333333333,
             "#9c179e"
            ],
            [
             0.4444444444444444,
             "#bd3786"
            ],
            [
             0.5555555555555556,
             "#d8576b"
            ],
            [
             0.6666666666666666,
             "#ed7953"
            ],
            [
             0.7777777777777778,
             "#fb9f3a"
            ],
            [
             0.8888888888888888,
             "#fdca26"
            ],
            [
             1,
             "#f0f921"
            ]
           ]
          },
          "colorway": [
           "#636efa",
           "#EF553B",
           "#00cc96",
           "#ab63fa",
           "#FFA15A",
           "#19d3f3",
           "#FF6692",
           "#B6E880",
           "#FF97FF",
           "#FECB52"
          ],
          "font": {
           "color": "#2a3f5f"
          },
          "geo": {
           "bgcolor": "white",
           "lakecolor": "white",
           "landcolor": "#E5ECF6",
           "showlakes": true,
           "showland": true,
           "subunitcolor": "white"
          },
          "hoverlabel": {
           "align": "left"
          },
          "hovermode": "closest",
          "mapbox": {
           "style": "light"
          },
          "paper_bgcolor": "white",
          "plot_bgcolor": "#E5ECF6",
          "polar": {
           "angularaxis": {
            "gridcolor": "white",
            "linecolor": "white",
            "ticks": ""
           },
           "bgcolor": "#E5ECF6",
           "radialaxis": {
            "gridcolor": "white",
            "linecolor": "white",
            "ticks": ""
           }
          },
          "scene": {
           "xaxis": {
            "backgroundcolor": "#E5ECF6",
            "gridcolor": "white",
            "gridwidth": 2,
            "linecolor": "white",
            "showbackground": true,
            "ticks": "",
            "zerolinecolor": "white"
           },
           "yaxis": {
            "backgroundcolor": "#E5ECF6",
            "gridcolor": "white",
            "gridwidth": 2,
            "linecolor": "white",
            "showbackground": true,
            "ticks": "",
            "zerolinecolor": "white"
           },
           "zaxis": {
            "backgroundcolor": "#E5ECF6",
            "gridcolor": "white",
            "gridwidth": 2,
            "linecolor": "white",
            "showbackground": true,
            "ticks": "",
            "zerolinecolor": "white"
           }
          },
          "shapedefaults": {
           "line": {
            "color": "#2a3f5f"
           }
          },
          "ternary": {
           "aaxis": {
            "gridcolor": "white",
            "linecolor": "white",
            "ticks": ""
           },
           "baxis": {
            "gridcolor": "white",
            "linecolor": "white",
            "ticks": ""
           },
           "bgcolor": "#E5ECF6",
           "caxis": {
            "gridcolor": "white",
            "linecolor": "white",
            "ticks": ""
           }
          },
          "title": {
           "x": 0.05
          },
          "xaxis": {
           "automargin": true,
           "gridcolor": "white",
           "linecolor": "white",
           "ticks": "",
           "title": {
            "standoff": 15
           },
           "zerolinecolor": "white",
           "zerolinewidth": 2
          },
          "yaxis": {
           "automargin": true,
           "gridcolor": "white",
           "linecolor": "white",
           "ticks": "",
           "title": {
            "standoff": 15
           },
           "zerolinecolor": "white",
           "zerolinewidth": 2
          }
         }
        },
        "xaxis": {
         "anchor": "y",
         "domain": [
          0,
          1
         ],
         "title": {
          "text": "share_test_winner"
         }
        },
        "yaxis": {
         "anchor": "x",
         "domain": [
          0,
          1
         ],
         "title": {
          "text": "prob_super"
         }
        }
       }
      },
      "text/html": [
       "<div>                            <div id=\"f2900cb5-178f-47ae-87f1-80e4ea123b39\" class=\"plotly-graph-div\" style=\"height:525px; width:100%;\"></div>            <script type=\"text/javascript\">                require([\"plotly\"], function(Plotly) {                    window.PLOTLYENV=window.PLOTLYENV || {};                                    if (document.getElementById(\"f2900cb5-178f-47ae-87f1-80e4ea123b39\")) {                    Plotly.newPlot(                        \"f2900cb5-178f-47ae-87f1-80e4ea123b39\",                        [{\"hovertemplate\":\"share_test_winner=%{x}<br>prob_super=%{y}<br>batch_size_share_mu=%{marker.color}<extra></extra>\",\"legendgroup\":\"\",\"marker\":{\"color\":[0.09,0.01,0.1,0.08,0.04,0.01,0.05,0.04,0.06,0.04,0.05,0.05,0.03,0.07,0.07,0.07,0.01,0.1,0.06,0.09,0.08,0.08,0.03,0.1,0.01,0.04,0.04,0.09,0.1,0.08,0.01,0.07,0.04,0.1,0.04,0.03,0.06,0.03,0.08,0.07,0.09,0.1,0.01,0.08,0.02,0.05,0.02,0.1,0.09,0.08,0.02,0.08,0.03,0.04,0.06,0.04,0.07,0.07,0.03,0.01,0.09,0.03,0.06,0.08,0.07,0.05,0.05,0.05,0.08,0.02,0.09,0.05,0.06,0.1,0.1,0.05,0.01,0.06,0.07,0.03,0.05,0.04,0.06,0.01,0.04,0.09,0.07,0.05,0.07,0.08,0.08,0.04,0.03,0.07,0.06,0.05,0.09,0.05,0.01,0.06,0.1,0.03,0.09,0.03,0.09,0.02,0.08,0.06,0.05,0.03,0.05,0.01,0.1,0.02,0.09,0.03,0.06,0.03,0.09,0.01,0.04,0.1,0.09,0.06,0.03,0.07,0.02,0.1,0.04,0.1,0.02,0.01,0.03,0.04,0.02,0.09,0.07,0.05,0.02,0.1,0.05,0.02,0.03,0.02,0.08,0.03,0.08,0.02,0.04,0.05,0.03,0.02,0.01,0.03,0.05,0.06,0.06,0.01,0.02,0.02,0.04,0.02,0.1,0.05,0.01,0.07,0.04,0.09,0.02,0.02,0.03,0.03,0.09,0.04,0.1,0.07,0.03,0.06,0.1,0.08,0.07,0.03,0.09,0.01,0.06,0.04,0.06,0.09,0.1,0.07,0.01,0.03,0.01,0.06,0.1,0.09,0.02,0.05,0.09,0.09,0.02,0.09,0.06,0.04,0.06,0.01,0.02,0.01,0.06,0.02,0.09,0.1,0.02,0.07,0.05,0.1,0.01,0.08,0.06,0.02,0.07,0.1,0.07,0.01,0.03,0.08,0.1,0.07,0.02,0.07,0.04,0.05,0.04,0.1,0.08,0.02,0.1,0.06,0.06,0.09,0.01,0.09,0.03,0.04,0.08,0.02,0.06,0.03,0.06,0.08,0.04,0.09,0.04,0.08,0.05,0.05,0.08,0.07,0.05,0.04,0.05,0.07,0.04,0.08,0.01,0.05,0.08,0.05,0.05,0.07,0.06,0.07,0.04,0.08,0.07,0.01,0.08,0.08,0.02,0.1,0.04,0.07,0.09,0.1,0.1,0.03,0.09,0.07,0.09,0.01,0.1,0.06,0.06,0.01,0.08,0.08,0.02,0.03,0.01,0.01],\"coloraxis\":\"coloraxis\",\"symbol\":\"circle\"},\"mode\":\"markers\",\"name\":\"\",\"orientation\":\"v\",\"showlegend\":false,\"type\":\"scatter\",\"x\":[0.587,0.568,0.825,0.775,0.74,0.599,0.641,0.688,0.728,0.69,0.747,0.651,0.703,0.746,0.807,0.791,0.584,0.603,0.571,0.603,0.592,0.81,0.676,0.719,0.628,0.671,0.733,0.781,0.821,0.787,0.564,0.79,0.742,0.826,0.716,0.679,0.785,0.697,0.567,0.774,0.739,0.805,0.596,0.691,0.691,0.574,0.57,0.79,0.687,0.818,0.684,0.74,0.564,0.734,0.579,0.55,0.669,0.711,0.689,0.641,0.811,0.656,0.784,0.797,0.783,0.772,0.693,0.758,0.767,0.628,0.592,0.734,0.69,0.59,0.587,0.779,0.633,0.669,0.676,0.69,0.661,0.575,0.677,0.606,0.636,0.709,0.691,0.721,0.735,0.744,0.689,0.58,0.541,0.575,0.743,0.567,0.818,0.679,0.619,0.59,0.692,0.643,0.791,0.705,0.795,0.646,0.709,0.754,0.756,0.673,0.663,0.645,0.814,0.532,0.822,0.626,0.782,0.636,0.765,0.539,0.651,0.785,0.792,0.725,0.541,0.741,0.542,0.763,0.728,0.829,0.658,0.619,0.581,0.708,0.656,0.764,0.594,0.576,0.653,0.773,0.774,0.59,0.682,0.668,0.748,0.655,0.797,0.688,0.686,0.751,0.651,0.533,0.635,0.712,0.67,0.752,0.761,0.63,0.643,0.618,0.591,0.655,0.691,0.745,0.521,0.678,0.748,0.805,0.565,0.643,0.648,0.678,0.741,0.689,0.751,0.759,0.728,0.786,0.718,0.595,0.788,0.685,0.71,0.627,0.708,0.665,0.556,0.761,0.58,0.746,0.605,0.603,0.619,0.656,0.709,0.786,0.652,0.7,0.589,0.706,0.628,0.816,0.69,0.563,0.594,0.549,0.588,0.644,0.591,0.663,0.779,0.582,0.636,0.69,0.741,0.775,0.574,0.575,0.737,0.549,0.576,0.611,0.593,0.525,0.554,0.685,0.805,0.767,0.617,0.68,0.714,0.591,0.714,0.84,0.585,0.613,0.793,0.676,0.75,0.825,0.609,0.76,0.705,0.726,0.597,0.681,0.727,0.609,0.726,0.775,0.72,0.564,0.664,0.708,0.701,0.729,0.761,0.743,0.713,0.712,0.584,0.588,0.55,0.785,0.66,0.702,0.748,0.713,0.557,0.776,0.769,0.765,0.635,0.81,0.762,0.59,0.778,0.787,0.671,0.767,0.65,0.794,0.71,0.829,0.767,0.621,0.591,0.575,0.695,0.586,0.722,0.795,0.784,0.616,0.727,0.686,0.599,0.557,0.572,0.603],\"xaxis\":\"x\",\"y\":[0.99,0.99,0.8,0.85,0.8,0.85,0.95,0.9,0.9,0.9,0.8,0.95,0.85,0.9,0.8,0.8,0.95,0.99,0.99,0.99,0.99,0.8,0.85,0.95,0.9,0.9,0.8,0.85,0.8,0.85,0.99,0.8,0.8,0.8,0.85,0.9,0.8,0.8,0.99,0.85,0.9,0.85,0.95,0.95,0.8,0.99,0.99,0.85,0.95,0.8,0.85,0.9,0.99,0.8,0.99,0.99,0.95,0.9,0.85,0.85,0.8,0.9,0.8,0.8,0.85,0.8,0.9,0.8,0.85,0.9,0.99,0.85,0.95,0.99,0.99,0.8,0.8,0.95,0.95,0.8,0.95,0.99,0.95,0.9,0.95,0.95,0.95,0.9,0.9,0.9,0.95,0.99,0.99,0.99,0.85,0.99,0.8,0.95,0.85,0.99,0.95,0.95,0.85,0.8,0.85,0.9,0.95,0.85,0.85,0.85,0.95,0.85,0.8,0.99,0.8,0.95,0.85,0.95,0.9,0.99,0.95,0.85,0.85,0.9,0.99,0.85,0.99,0.9,0.85,0.85,0.9,0.85,0.99,0.85,0.8,0.9,0.99,0.99,0.85,0.9,0.8,0.95,0.9,0.85,0.9,0.9,0.8,0.8,0.9,0.85,0.9,0.99,0.8,0.85,0.95,0.85,0.85,0.9,0.9,0.9,0.99,0.85,0.95,0.8,0.99,0.95,0.8,0.8,0.99,0.85,0.9,0.85,0.9,0.9,0.9,0.9,0.8,0.8,0.95,0.99,0.8,0.8,0.95,0.8,0.9,0.95,0.99,0.9,0.99,0.9,0.95,0.95,0.8,0.95,0.95,0.85,0.85,0.9,0.99,0.95,0.95,0.8,0.95,0.99,0.99,0.99,0.95,0.8,0.99,0.8,0.85,0.99,0.9,0.95,0.85,0.9,0.95,0.99,0.9,0.99,0.99,0.99,0.99,0.99,0.99,0.95,0.85,0.8,0.95,0.95,0.9,0.99,0.85,0.8,0.99,0.95,0.85,0.95,0.85,0.8,0.95,0.9,0.8,0.8,0.99,0.8,0.9,0.95,0.9,0.85,0.85,0.99,0.95,0.95,0.9,0.85,0.9,0.9,0.9,0.85,0.99,0.99,0.99,0.8,0.8,0.9,0.9,0.85,0.99,0.85,0.8,0.85,0.95,0.8,0.85,0.9,0.85,0.85,0.8,0.9,0.95,0.8,0.95,0.8,0.9,0.95,0.99,0.99,0.95,0.9,0.95,0.8,0.8,0.85,0.9,0.95,0.95,0.99,0.95,0.9],\"yaxis\":\"y\"}],                        {\"coloraxis\":{\"colorbar\":{\"title\":{\"text\":\"batch_size_share_mu\"}},\"colorscale\":[[0.0,\"#0d0887\"],[0.1111111111111111,\"#46039f\"],[0.2222222222222222,\"#7201a8\"],[0.3333333333333333,\"#9c179e\"],[0.4444444444444444,\"#bd3786\"],[0.5555555555555556,\"#d8576b\"],[0.6666666666666666,\"#ed7953\"],[0.7777777777777778,\"#fb9f3a\"],[0.8888888888888888,\"#fdca26\"],[1.0,\"#f0f921\"]]},\"legend\":{\"tracegroupgap\":0},\"margin\":{\"t\":60},\"template\":{\"data\":{\"bar\":[{\"error_x\":{\"color\":\"#2a3f5f\"},\"error_y\":{\"color\":\"#2a3f5f\"},\"marker\":{\"line\":{\"color\":\"#E5ECF6\",\"width\":0.5},\"pattern\":{\"fillmode\":\"overlay\",\"size\":10,\"solidity\":0.2}},\"type\":\"bar\"}],\"barpolar\":[{\"marker\":{\"line\":{\"color\":\"#E5ECF6\",\"width\":0.5},\"pattern\":{\"fillmode\":\"overlay\",\"size\":10,\"solidity\":0.2}},\"type\":\"barpolar\"}],\"carpet\":[{\"aaxis\":{\"endlinecolor\":\"#2a3f5f\",\"gridcolor\":\"white\",\"linecolor\":\"white\",\"minorgridcolor\":\"white\",\"startlinecolor\":\"#2a3f5f\"},\"baxis\":{\"endlinecolor\":\"#2a3f5f\",\"gridcolor\":\"white\",\"linecolor\":\"white\",\"minorgridcolor\":\"white\",\"startlinecolor\":\"#2a3f5f\"},\"type\":\"carpet\"}],\"choropleth\":[{\"colorbar\":{\"outlinewidth\":0,\"ticks\":\"\"},\"type\":\"choropleth\"}],\"contour\":[{\"colorbar\":{\"outlinewidth\":0,\"ticks\":\"\"},\"colorscale\":[[0.0,\"#0d0887\"],[0.1111111111111111,\"#46039f\"],[0.2222222222222222,\"#7201a8\"],[0.3333333333333333,\"#9c179e\"],[0.4444444444444444,\"#bd3786\"],[0.5555555555555556,\"#d8576b\"],[0.6666666666666666,\"#ed7953\"],[0.7777777777777778,\"#fb9f3a\"],[0.8888888888888888,\"#fdca26\"],[1.0,\"#f0f921\"]],\"type\":\"contour\"}],\"contourcarpet\":[{\"colorbar\":{\"outlinewidth\":0,\"ticks\":\"\"},\"type\":\"contourcarpet\"}],\"heatmap\":[{\"colorbar\":{\"outlinewidth\":0,\"ticks\":\"\"},\"colorscale\":[[0.0,\"#0d0887\"],[0.1111111111111111,\"#46039f\"],[0.2222222222222222,\"#7201a8\"],[0.3333333333333333,\"#9c179e\"],[0.4444444444444444,\"#bd3786\"],[0.5555555555555556,\"#d8576b\"],[0.6666666666666666,\"#ed7953\"],[0.7777777777777778,\"#fb9f3a\"],[0.8888888888888888,\"#fdca26\"],[1.0,\"#f0f921\"]],\"type\":\"heatmap\"}],\"heatmapgl\":[{\"colorbar\":{\"outlinewidth\":0,\"ticks\":\"\"},\"colorscale\":[[0.0,\"#0d0887\"],[0.1111111111111111,\"#46039f\"],[0.2222222222222222,\"#7201a8\"],[0.3333333333333333,\"#9c179e\"],[0.4444444444444444,\"#bd3786\"],[0.5555555555555556,\"#d8576b\"],[0.6666666666666666,\"#ed7953\"],[0.7777777777777778,\"#fb9f3a\"],[0.8888888888888888,\"#fdca26\"],[1.0,\"#f0f921\"]],\"type\":\"heatmapgl\"}],\"histogram\":[{\"marker\":{\"pattern\":{\"fillmode\":\"overlay\",\"size\":10,\"solidity\":0.2}},\"type\":\"histogram\"}],\"histogram2d\":[{\"colorbar\":{\"outlinewidth\":0,\"ticks\":\"\"},\"colorscale\":[[0.0,\"#0d0887\"],[0.1111111111111111,\"#46039f\"],[0.2222222222222222,\"#7201a8\"],[0.3333333333333333,\"#9c179e\"],[0.4444444444444444,\"#bd3786\"],[0.5555555555555556,\"#d8576b\"],[0.6666666666666666,\"#ed7953\"],[0.7777777777777778,\"#fb9f3a\"],[0.8888888888888888,\"#fdca26\"],[1.0,\"#f0f921\"]],\"type\":\"histogram2d\"}],\"histogram2dcontour\":[{\"colorbar\":{\"outlinewidth\":0,\"ticks\":\"\"},\"colorscale\":[[0.0,\"#0d0887\"],[0.1111111111111111,\"#46039f\"],[0.2222222222222222,\"#7201a8\"],[0.3333333333333333,\"#9c179e\"],[0.4444444444444444,\"#bd3786\"],[0.5555555555555556,\"#d8576b\"],[0.6666666666666666,\"#ed7953\"],[0.7777777777777778,\"#fb9f3a\"],[0.8888888888888888,\"#fdca26\"],[1.0,\"#f0f921\"]],\"type\":\"histogram2dcontour\"}],\"mesh3d\":[{\"colorbar\":{\"outlinewidth\":0,\"ticks\":\"\"},\"type\":\"mesh3d\"}],\"parcoords\":[{\"line\":{\"colorbar\":{\"outlinewidth\":0,\"ticks\":\"\"}},\"type\":\"parcoords\"}],\"pie\":[{\"automargin\":true,\"type\":\"pie\"}],\"scatter\":[{\"marker\":{\"colorbar\":{\"outlinewidth\":0,\"ticks\":\"\"}},\"type\":\"scatter\"}],\"scatter3d\":[{\"line\":{\"colorbar\":{\"outlinewidth\":0,\"ticks\":\"\"}},\"marker\":{\"colorbar\":{\"outlinewidth\":0,\"ticks\":\"\"}},\"type\":\"scatter3d\"}],\"scattercarpet\":[{\"marker\":{\"colorbar\":{\"outlinewidth\":0,\"ticks\":\"\"}},\"type\":\"scattercarpet\"}],\"scattergeo\":[{\"marker\":{\"colorbar\":{\"outlinewidth\":0,\"ticks\":\"\"}},\"type\":\"scattergeo\"}],\"scattergl\":[{\"marker\":{\"colorbar\":{\"outlinewidth\":0,\"ticks\":\"\"}},\"type\":\"scattergl\"}],\"scattermapbox\":[{\"marker\":{\"colorbar\":{\"outlinewidth\":0,\"ticks\":\"\"}},\"type\":\"scattermapbox\"}],\"scatterpolar\":[{\"marker\":{\"colorbar\":{\"outlinewidth\":0,\"ticks\":\"\"}},\"type\":\"scatterpolar\"}],\"scatterpolargl\":[{\"marker\":{\"colorbar\":{\"outlinewidth\":0,\"ticks\":\"\"}},\"type\":\"scatterpolargl\"}],\"scatterternary\":[{\"marker\":{\"colorbar\":{\"outlinewidth\":0,\"ticks\":\"\"}},\"type\":\"scatterternary\"}],\"surface\":[{\"colorbar\":{\"outlinewidth\":0,\"ticks\":\"\"},\"colorscale\":[[0.0,\"#0d0887\"],[0.1111111111111111,\"#46039f\"],[0.2222222222222222,\"#7201a8\"],[0.3333333333333333,\"#9c179e\"],[0.4444444444444444,\"#bd3786\"],[0.5555555555555556,\"#d8576b\"],[0.6666666666666666,\"#ed7953\"],[0.7777777777777778,\"#fb9f3a\"],[0.8888888888888888,\"#fdca26\"],[1.0,\"#f0f921\"]],\"type\":\"surface\"}],\"table\":[{\"cells\":{\"fill\":{\"color\":\"#EBF0F8\"},\"line\":{\"color\":\"white\"}},\"header\":{\"fill\":{\"color\":\"#C8D4E3\"},\"line\":{\"color\":\"white\"}},\"type\":\"table\"}]},\"layout\":{\"annotationdefaults\":{\"arrowcolor\":\"#2a3f5f\",\"arrowhead\":0,\"arrowwidth\":1},\"autotypenumbers\":\"strict\",\"coloraxis\":{\"colorbar\":{\"outlinewidth\":0,\"ticks\":\"\"}},\"colorscale\":{\"diverging\":[[0,\"#8e0152\"],[0.1,\"#c51b7d\"],[0.2,\"#de77ae\"],[0.3,\"#f1b6da\"],[0.4,\"#fde0ef\"],[0.5,\"#f7f7f7\"],[0.6,\"#e6f5d0\"],[0.7,\"#b8e186\"],[0.8,\"#7fbc41\"],[0.9,\"#4d9221\"],[1,\"#276419\"]],\"sequential\":[[0.0,\"#0d0887\"],[0.1111111111111111,\"#46039f\"],[0.2222222222222222,\"#7201a8\"],[0.3333333333333333,\"#9c179e\"],[0.4444444444444444,\"#bd3786\"],[0.5555555555555556,\"#d8576b\"],[0.6666666666666666,\"#ed7953\"],[0.7777777777777778,\"#fb9f3a\"],[0.8888888888888888,\"#fdca26\"],[1.0,\"#f0f921\"]],\"sequentialminus\":[[0.0,\"#0d0887\"],[0.1111111111111111,\"#46039f\"],[0.2222222222222222,\"#7201a8\"],[0.3333333333333333,\"#9c179e\"],[0.4444444444444444,\"#bd3786\"],[0.5555555555555556,\"#d8576b\"],[0.6666666666666666,\"#ed7953\"],[0.7777777777777778,\"#fb9f3a\"],[0.8888888888888888,\"#fdca26\"],[1.0,\"#f0f921\"]]},\"colorway\":[\"#636efa\",\"#EF553B\",\"#00cc96\",\"#ab63fa\",\"#FFA15A\",\"#19d3f3\",\"#FF6692\",\"#B6E880\",\"#FF97FF\",\"#FECB52\"],\"font\":{\"color\":\"#2a3f5f\"},\"geo\":{\"bgcolor\":\"white\",\"lakecolor\":\"white\",\"landcolor\":\"#E5ECF6\",\"showlakes\":true,\"showland\":true,\"subunitcolor\":\"white\"},\"hoverlabel\":{\"align\":\"left\"},\"hovermode\":\"closest\",\"mapbox\":{\"style\":\"light\"},\"paper_bgcolor\":\"white\",\"plot_bgcolor\":\"#E5ECF6\",\"polar\":{\"angularaxis\":{\"gridcolor\":\"white\",\"linecolor\":\"white\",\"ticks\":\"\"},\"bgcolor\":\"#E5ECF6\",\"radialaxis\":{\"gridcolor\":\"white\",\"linecolor\":\"white\",\"ticks\":\"\"}},\"scene\":{\"xaxis\":{\"backgroundcolor\":\"#E5ECF6\",\"gridcolor\":\"white\",\"gridwidth\":2,\"linecolor\":\"white\",\"showbackground\":true,\"ticks\":\"\",\"zerolinecolor\":\"white\"},\"yaxis\":{\"backgroundcolor\":\"#E5ECF6\",\"gridcolor\":\"white\",\"gridwidth\":2,\"linecolor\":\"white\",\"showbackground\":true,\"ticks\":\"\",\"zerolinecolor\":\"white\"},\"zaxis\":{\"backgroundcolor\":\"#E5ECF6\",\"gridcolor\":\"white\",\"gridwidth\":2,\"linecolor\":\"white\",\"showbackground\":true,\"ticks\":\"\",\"zerolinecolor\":\"white\"}},\"shapedefaults\":{\"line\":{\"color\":\"#2a3f5f\"}},\"ternary\":{\"aaxis\":{\"gridcolor\":\"white\",\"linecolor\":\"white\",\"ticks\":\"\"},\"baxis\":{\"gridcolor\":\"white\",\"linecolor\":\"white\",\"ticks\":\"\"},\"bgcolor\":\"#E5ECF6\",\"caxis\":{\"gridcolor\":\"white\",\"linecolor\":\"white\",\"ticks\":\"\"}},\"title\":{\"x\":0.05},\"xaxis\":{\"automargin\":true,\"gridcolor\":\"white\",\"linecolor\":\"white\",\"ticks\":\"\",\"title\":{\"standoff\":15},\"zerolinecolor\":\"white\",\"zerolinewidth\":2},\"yaxis\":{\"automargin\":true,\"gridcolor\":\"white\",\"linecolor\":\"white\",\"ticks\":\"\",\"title\":{\"standoff\":15},\"zerolinecolor\":\"white\",\"zerolinewidth\":2}}},\"xaxis\":{\"anchor\":\"y\",\"domain\":[0.0,1.0],\"title\":{\"text\":\"share_test_winner\"}},\"yaxis\":{\"anchor\":\"x\",\"domain\":[0.0,1.0],\"title\":{\"text\":\"prob_super\"}}},                        {\"responsive\": true}                    ).then(function(){\n",
       "                            \n",
       "var gd = document.getElementById('f2900cb5-178f-47ae-87f1-80e4ea123b39');\n",
       "var x = new MutationObserver(function (mutations, observer) {{\n",
       "        var display = window.getComputedStyle(gd).display;\n",
       "        if (!display || display === 'none') {{\n",
       "            console.log([gd, 'removed!']);\n",
       "            Plotly.purge(gd);\n",
       "            observer.disconnect();\n",
       "        }}\n",
       "}});\n",
       "\n",
       "// Listen for the removal of the full notebook cells\n",
       "var notebookContainer = gd.closest('#notebook-container');\n",
       "if (notebookContainer) {{\n",
       "    x.observe(notebookContainer, {childList: true});\n",
       "}}\n",
       "\n",
       "// Listen for the clearing of the current output cell\n",
       "var outputEl = gd.closest('.output');\n",
       "if (outputEl) {{\n",
       "    x.observe(outputEl, {childList: true});\n",
       "}}\n",
       "\n",
       "                        })                };                });            </script>        </div>"
      ]
     },
     "metadata": {},
     "output_type": "display_data"
    }
   ],
   "source": [
    "plot_df = thompson_results_df.query(\"\"\"mde != '0' & multi_armed == 'False'\"\"\").reset_index()[\n",
    "    [\"share_not_winner\", 'share_test_winner', \"prob_super\",'batch_size_share_mu']].astype(float)\n",
    "fig = px.scatter(plot_df, x=\"share_test_winner\", y=\"prob_super\", color=\"batch_size_share_mu\")\n",
    "fig.show()"
   ]
  }
 ],
 "metadata": {
  "kernelspec": {
   "display_name": "Python 3 (ipykernel)",
   "language": "python",
   "name": "python3"
  },
  "language_info": {
   "codemirror_mode": {
    "name": "ipython",
    "version": 3
   },
   "file_extension": ".py",
   "mimetype": "text/x-python",
   "name": "python",
   "nbconvert_exporter": "python",
   "pygments_lexer": "ipython3",
   "version": "3.9.7"
  }
 },
 "nbformat": 4,
 "nbformat_minor": 1
}
