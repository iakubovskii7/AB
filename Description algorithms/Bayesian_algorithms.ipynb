{
 "cells": [
  {
   "cell_type": "code",
   "execution_count": 1,
   "metadata": {
    "pycharm": {
     "name": "#%%\n"
    }
   },
   "outputs": [
    {
     "name": "stdout",
     "output_type": "stream",
     "text": [
      "Modules to reload:\n",
      "all-except-skipped\n",
      "\n",
      "Modules to skip:\n",
      "\n",
      "Ссылка на описание байесовского AB-тестирования для базы знаний, \n",
      "\n",
      "https://docs.google.com/document/d/1JH4tsAXeVObgKDd73JSCBB6acGZHU3mVDiglAfYopFA/edit\n"
     ]
    }
   ],
   "source": [
    "%load_ext autoreload\n",
    "%autoreload 2\n",
    "%aimport\n",
    "import statistics\n",
    "from math import lgamma\n",
    "from src.bayesian import *\n",
    "import matplotlib.pyplot as plt\n",
    "from numba import jit\n",
    "import numpy as np\n",
    "from scipy.stats import beta\n",
    "from tqdm.notebook import tqdm\n",
    "from p_tqdm import p_map\n",
    "print(\"Ссылка на описание байесовского AB-тестирования для базы знаний, \\n\")\n",
    "print(\"https://docs.google.com/document/d/1JH4tsAXeVObgKDd73JSCBB6acGZHU3mVDiglAfYopFA/edit\")"
   ]
  },
  {
   "cell_type": "markdown",
   "metadata": {
    "collapsed": true,
    "pycharm": {
     "name": "#%% md\n"
    }
   },
   "source": [
    "# Описание работы Байесовских алгоритмов\n",
    "\n"
   ]
  },
  {
   "cell_type": "markdown",
   "source": [
    "## Отличия байесовского подхода от классического"
   ],
   "metadata": {
    "collapsed": false,
    "pycharm": {
     "name": "#%% md\n"
    }
   }
  },
  {
   "cell_type": "markdown",
   "metadata": {
    "pycharm": {
     "name": "#%% md\n"
    }
   },
   "source": [
    "## Принцип работы\n",
    "Предполагается некое априорное распределения метрик (биномиальные, нормальное,\n",
    "экспоненциальное и т.д.). Затем, используя полученные данные (новую информацию), мы\n",
    "пересчитываем распределения для метрик. При помощи распределения"
   ]
  },
  {
   "cell_type": "markdown",
   "metadata": {
    "pycharm": {
     "name": "#%% md\n"
    }
   },
   "source": [
    "## Основные критерии принятия решений\n",
    "\n",
    "Основная проблема Байесовских тестов по сравнению с классическими - проблема\n",
    "контроля ошибки 1 и 2 рода. Особенно это проявляется в случае ранней остановки\n",
    "алгоритма (когда мы заканчиваем эксперимент при достижении определенных значений\n",
    "критериев). Ниже будут описаны основные критерии принятия решений\n",
    "в случае байесовских тестов\n",
    "(как для алгоритма Томпсона, так и для разбивки 50 на 50)."
   ]
  },
  {
   "cell_type": "markdown",
   "metadata": {
    "pycharm": {
     "name": "#%% md\n"
    }
   },
   "source": [
    "### Вероятность превосходства для конверсии\n",
    "Английские термины: *chance to beat control*, *probability superiority*\n",
    "\n",
    "В случае алгоритма на конверсию у нас в качестве априорного распределения берется\n",
    "биномиальное. Для того чтобы пересчитать апостериорную вероятность для биномиального\n",
    "распределения, используется сопряженное ему бета-распределение.\n",
    "Вероятность превосходства  можно посчитать двумя способами: по точной формуле или при помощи генерации\n",
    "случайных величин из бета-распределения с параметрами на момент пересчета.\n",
    "\n",
    "Точная формула описана [здесь](https://www.johndcook.com/UTMDABTR-005-05.pdf).\n",
    "\n",
    "Метод сэмплирования следующий:\n",
    "\n",
    "1. Сэмплируем значения из бета-распределений с параметрами\n",
    "на текущий момент (желательно как можно больше значений)\n",
    "2. Вычисляем разницу между конверсиями для каждого варианта из\n",
    "этих распределений\n",
    "3. Смотрим сумму положительных значений для теста\n",
    "4. Суммируем и делим на число сэмплирований"
   ]
  },
  {
   "cell_type": "code",
   "execution_count": 2,
   "metadata": {
    "pycharm": {
     "name": "#%%\n"
    }
   },
   "outputs": [
    {
     "name": "stdout",
     "output_type": "stream",
     "text": [
      "Точная формула: 0.5148327134707491\n",
      "Сэмплирование: [0.485663 0.514681]\n"
     ]
    }
   ],
   "source": [
    "# Посмотрим на результаты, полученные разными способами\n",
    "alphas, betas = [10, 20], [100, 200]\n",
    "print(f\"Точная формула: {calc_prob_between(alphas, betas)}\")\n",
    "print(f\"Сэмплирование: {chance_to_beat_all(np.array(alphas), np.array(betas))}\")"
   ]
  },
  {
   "cell_type": "markdown",
   "metadata": {
    "pycharm": {
     "name": "#%% md\n"
    }
   },
   "source": [
    "Отметим, что сэмплирование приводит примерно к тому же результату, но при большом\n",
    "количестве генераций случайных распределений (например, 1 млн).\n",
    "\n",
    "Важный момент, который важно понять - эта вероятность превосходства\n",
    "верна только для текущего набора наблюдений. Другими словами,\n",
    "мы не знаем, как все изменится при добавлении других данных.\n",
    "А вот как раз в случае p-value мы можем предположить, в скольких\n",
    "случаях выигрышный на данный момент вариант может на самом\n",
    "деле оказаться проигрышным в будущем.\n",
    "\n",
    "Экспериментальным путем однако выявлено, что в случае\n",
    "Байесовских тестов без остановки для контроля ошибок\n",
    "1,2 рода, вероятности превосходства вполне достаточно."
   ]
  },
  {
   "cell_type": "markdown",
   "metadata": {
    "pycharm": {
     "name": "#%% md\n"
    }
   },
   "source": [
    "### Ожидаемые потери\n",
    "Английский термин: *expected losses*\n",
    "\n",
    "Данный критерий описан в [статье](https://www.chrisstucchio.com/pubs/slides/gilt_bayesian_ab_2015/slides.html#1)\n",
    "*Chris Stucchio* - разработчика\n",
    "самого лучшего инструмента для АБ-тестов\n",
    "*Visual Website Optimizer*.\n",
    "\n",
    "\n",
    "Ожидаемые потери контрольного / тестового варианта - сколько мы ожидаем в среднем потерь в случае,\n",
    "если выберем контрольный / тестовый вариант. Считается похожим\n",
    "образом, как и сэплированная вероятность превосходства:\n",
    "1. Сэмплируем значения из бета-распределений с параметрами\n",
    "на текущий момент (желательно как можно больше значений)\n",
    "2. Вычисляем разницу между конверсиями для каждого варианта из\n",
    "этих распределений\n",
    "3. Отрицательной разнице присваиваем 0\n",
    "4. Суммируем и делим на число сэмплирований\n",
    "\n",
    "Определяем некий порог и в бой!"
   ]
  },
  {
   "cell_type": "markdown",
   "metadata": {
    "pycharm": {
     "name": "#%% md\n"
    }
   },
   "source": [
    "### Размер эффекта\n",
    "Английский термин: *effect size*\n",
    "\n",
    "Размер эффект дополняет показатель разницы конверсий и\n",
    "рассчитывается по такой формуле:\n",
    "\n",
    "$\n",
    "\\frac{\\hat{p_1} - \\hat{p_2}} {\n",
    "[\\hat{p_1} * (1 - \\hat{p_1}) * (n_1 - 1) + \\hat{p_2} *\n",
    "(1 - \\hat{p_2}) * (n_2 - 1)] /\n",
    "(n_1 + n_2 - 2)}\n",
    "$"
   ]
  },
  {
   "cell_type": "markdown",
   "metadata": {
    "pycharm": {
     "name": "#%% md\n"
    }
   },
   "source": [
    "### Достоверные интервалы\n",
    "Английский термин: *credible intervals*\n",
    "\n",
    "Достоверные интервалы являются аналогом доверительных интервалов в случае\n",
    "классических АБ-тестов. Однако, достоверные интервалы фиксируют\n",
    "нашу текущую неопределенность о потенциальных значениях параметра и\n",
    "могут быть интерпретированы как вероятностное утверждение о параметре.\n",
    "\n",
    "Доверительные интервалы отражают неопределенность относительно\n",
    "полученного нами интервала (т.е. содержит ли он истинное значение или нет).\n",
    "Таким образом, их нельзя интерпретировать как вероятностное утверждение\n",
    "об истинных значениях параметров.\n",
    "\n",
    "Сравним интерпретацию 95% доверительного и достоверного интервала.\n",
    "\n",
    "В случае доверительного интервала в 95% экспериментах истинное значение\n",
    "параметра будет лежать в данном диапазоне.\n",
    "\n",
    "В случае достоверного интервала 95% ВСЕХ ЗНАЧЕНИЙ лежит в этом диапазоне."
   ]
  },
  {
   "cell_type": "markdown",
   "metadata": {
    "pycharm": {
     "name": "#%% md\n"
    }
   },
   "source": [
    "### Область практической эквивалентности\n",
    "Английский термин: *ROPE - region of practical equivalence*\n",
    "\n",
    "Данный критерий может помочь принять нулевую гипотезу - случай\n",
    "отсутствия разницы между разными вариантами теста. Рекомендуемое значение\n",
    "границ *ROPE* = +- 0.1 для размера эффекта.\n",
    "\n",
    "Если *credible intervals* полностью лежат внутри ROPE, то\n",
    "делаем вывод, что разницы нет."
   ]
  },
  {
   "cell_type": "markdown",
   "metadata": {
    "pycharm": {
     "name": "#%% md\n"
    }
   },
   "source": [
    "## Пример реализации Байесовских тестов с разными критериями\n",
    "\n",
    "Будем пользоваться пакетом abyes и собственными вычислениями\n",
    "В этом пакете мы можем выбрать несколько критериев:\n",
    "- decision_var = ['es' - effect size; 'lift' - разница эффектов]\n",
    "- rule = ['loss', 'rope']\n",
    "\n",
    "Возьмем конверсии с крайне маленькими значениями и существенным улучшением: 0.02 (контрольный вариант)\n",
    "против 0.025 (тестовый вариант). - 25% улучшение"
   ]
  },
  {
   "cell_type": "code",
   "execution_count": 3,
   "outputs": [
    {
     "name": "stdout",
     "output_type": "stream",
     "text": [
      "Нужно наблюдений для классического теста: 13806\n"
     ]
    }
   ],
   "source": [
    "print(f\"Нужно наблюдений для классического теста: {get_size_zratio(2, 25, 0.05, 0.2)}\")"
   ],
   "metadata": {
    "collapsed": false,
    "pycharm": {
     "name": "#%%\n"
    }
   }
  },
  {
   "cell_type": "markdown",
   "source": [
    "***Критерий 1:*** ожидаемые потери при выборе контрольного варианта = 0,25%. (Чем они больше, тем выше вероятность, что тестовый вариант лучше)"
   ],
   "metadata": {
    "collapsed": false,
    "pycharm": {
     "name": "#%% md\n"
    }
   }
  },
  {
   "cell_type": "code",
   "execution_count": 20,
   "metadata": {
    "pycharm": {
     "name": "#%%\n"
    }
   },
   "outputs": [
    {
     "name": "stdout",
     "output_type": "stream",
     "text": [
      "\n",
      "*** abyes ***\n",
      "\n",
      "Method = analytic\n",
      "Decision Rule = loss\n",
      "Threshold of Caring = 0.0025\n",
      "Decision Variable = lift\n",
      "\n",
      "Result is conclusive: B variant is winner!\n",
      "\n"
     ]
    },
    {
     "data": {
      "text/plain": "<Figure size 1500x500 with 2 Axes>",
      "image/png": "[encoded data removed]"
     },
     "metadata": {
      "image/png": {
       "width": 1511,
       "height": 511
      }
     },
     "output_type": "display_data"
    },
    {
     "data": {
      "text/plain": "1"
     },
     "execution_count": 20,
     "metadata": {},
     "output_type": "execute_result"
    }
   ],
   "source": [
    "import abyes as ab\n",
    "np.random.seed(0)\n",
    "data = np.random.binomial([1, 1], [0.02, 0.025], size=(10000, 2))\n",
    "\n",
    "exp = ab.AbExp(method='analytic', decision_var = 'lift',\n",
    "               rule='loss', toc=0.0025, alpha=0.95, plot=True)\n",
    "exp.experiment(data.T)"
   ]
  },
  {
   "cell_type": "code",
   "execution_count": 5,
   "outputs": [
    {
     "name": "stdout",
     "output_type": "stream",
     "text": [
      "Значения конверсий на текущий момент: [0.0197 0.024 ]\n"
     ]
    }
   ],
   "source": [
    "print(f\"Значения конверсий на текущий момент: {data.mean(axis=0)}\")"
   ],
   "metadata": {
    "collapsed": false,
    "pycharm": {
     "name": "#%%\n"
    }
   }
  },
  {
   "cell_type": "markdown",
   "metadata": {
    "pycharm": {
     "name": "#%% md\n"
    }
   },
   "source": [
    "Попробуем ***второй критерий*** - lift + ROPE."
   ]
  },
  {
   "cell_type": "code",
   "execution_count": 6,
   "outputs": [
    {
     "data": {
      "text/plain": "0.005000000000000001"
     },
     "execution_count": 6,
     "metadata": {},
     "output_type": "execute_result"
    }
   ],
   "source": [
    "0.025 - 0.02"
   ],
   "metadata": {
    "collapsed": false,
    "pycharm": {
     "name": "#%%\n"
    }
   }
  },
  {
   "cell_type": "code",
   "execution_count": 7,
   "metadata": {
    "pycharm": {
     "name": "#%%\n"
    }
   },
   "outputs": [
    {
     "name": "stdout",
     "output_type": "stream",
     "text": [
      "\n",
      "*** abyes ***\n",
      "\n",
      "Method = analytic\n",
      "Decision Rule = rope\n",
      "Alpha = 0.95\n",
      "Rope = (-0.005, 0.005)\n",
      "Decision Variable = lift\n",
      "\n",
      "Result is inconclusive.\n",
      "\n"
     ]
    },
    {
     "data": {
      "text/plain": "<Figure size 1080x360 with 2 Axes>",
      "image/png": "[encoded data removed]"
     },
     "metadata": {
      "needs_background": "light"
     },
     "output_type": "display_data"
    }
   ],
   "source": [
    "exp = ab.AbExp(method='analytic', decision_var = 'lift',\n",
    "               rule='rope', rope=(-0.005,0.005), alpha=0.95, plot=True)\n",
    "results = exp.experiment(data.T)"
   ]
  },
  {
   "cell_type": "markdown",
   "metadata": {
    "pycharm": {
     "name": "#%% md\n"
    }
   },
   "source": [
    "По этому критерию у нас недостаточно данных, чтобы принять решение. Вероятно, что\n",
    "мы выбрали неправильный порог для ROPE.\n",
    "\n",
    "Попробуем ***третий критерий*** - effect size + ROPE\n",
    "\n",
    "Вычислим теперь все показатели самостоятельно."
   ]
  },
  {
   "cell_type": "code",
   "execution_count": 8,
   "outputs": [
    {
     "name": "stdout",
     "output_type": "stream",
     "text": [
      "\n",
      "*** abyes ***\n",
      "\n",
      "Method = analytic\n",
      "Decision Rule = rope\n",
      "Alpha = 0.95\n",
      "Rope = (-0.005, 0.005)\n",
      "Decision Variable = es\n",
      "\n",
      "Result is inconclusive.\n",
      "\n"
     ]
    },
    {
     "data": {
      "text/plain": "<Figure size 1080x360 with 2 Axes>",
      "image/png": "[encoded data removed]"
     },
     "metadata": {
      "needs_background": "light"
     },
     "output_type": "display_data"
    },
    {
     "data": {
      "text/plain": "nan"
     },
     "execution_count": 8,
     "metadata": {},
     "output_type": "execute_result"
    }
   ],
   "source": [
    "exp = ab.AbExp(method='analytic', decision_var = 'es',\n",
    "               rule='rope', rope=(-0.005,0.005), alpha=0.95, plot=True)\n",
    "exp.experiment(data.T)"
   ],
   "metadata": {
    "collapsed": false,
    "pycharm": {
     "name": "#%%\n"
    }
   }
  },
  {
   "cell_type": "markdown",
   "source": [
    "Вероятно и здесь мы не очень грамотно выбрали пороговые значения."
   ],
   "metadata": {
    "collapsed": false,
    "pycharm": {
     "name": "#%% md\n"
    }
   }
  },
  {
   "cell_type": "code",
   "execution_count": 9,
   "metadata": {},
   "outputs": [
    {
     "data": {
      "text/plain": "(array([0.018369, 0.981567]),\n array([4.31431435e-03, 1.41507983e-05]),\n array([ 0.22446831, -0.17587198]),\n               n1     n2     mu1    mu2      var1      var2 effect_size  \\\n var1 var2                                                                \n 0    1     10000  10000  0.0197  0.024  0.019312  0.023424   -0.029416   \n \n                                                   HDI_lift  \n var1 var2                                                   \n 0    1     [-0.008385091429339957, -0.0002835192720311297]  )"
     },
     "execution_count": 9,
     "metadata": {},
     "output_type": "execute_result"
    }
   ],
   "source": [
    "alphas, betas = data.sum(axis=0), data.shape[0] - data.sum(axis=0)\n",
    "bayesian_metrics(alphas, betas)"
   ]
  },
  {
   "cell_type": "markdown",
   "source": [
    "Видим, что HDI выходят за нулевое значение.\n"
   ],
   "metadata": {
    "collapsed": false,
    "pycharm": {
     "name": "#%% md\n"
    }
   }
  },
  {
   "cell_type": "code",
   "execution_count": 5,
   "outputs": [
    {
     "data": {
      "text/plain": "  0%|          | 0/1000 [00:00<?, ?it/s]",
      "application/vnd.jupyter.widget-view+json": {
       "version_major": 2,
       "version_minor": 0,
       "model_id": "1d2bfb1567d9422197f407ae6bf2c520"
      }
     },
     "metadata": {},
     "output_type": "display_data"
    }
   ],
   "source": [
    "def get_corr_bayes_metrics(i):\n",
    "    np.random.seed(i)\n",
    "    data = np.random.binomial([1, 1], [0.02, 0.025], size=(10000, 2))\n",
    "    alphas, betas = data.sum(axis=0), data.shape[0] - data.sum(axis=0)\n",
    "    results = bayesian_metrics(alphas, betas)\n",
    "    prob_super_test = results[0][1]\n",
    "    expected_losses_test = results[1][1]\n",
    "    expected_related_losses_test = results[2][1]\n",
    "    effect_size_test = results[3]['effect_size'].values[0]\n",
    "    left_hdi = results[3]['HDI_lift'].values[0][0]\n",
    "    right_hdi = results[3]['HDI_lift'].values[0][1]\n",
    "    return (prob_super_test, expected_losses_test, expected_related_losses_test,\n",
    "            effect_size_test, left_hdi, right_hdi)\n",
    "\n",
    "results = list(p_map(get_corr_bayes_metrics, range(1000)))"
   ],
   "metadata": {
    "collapsed": false,
    "pycharm": {
     "name": "#%%\n"
    }
   }
  },
  {
   "cell_type": "code",
   "execution_count": 6,
   "outputs": [
    {
     "name": "stdout",
     "output_type": "stream",
     "text": [
      "                              prob_super_test  expected_losses_test  \\\n",
      "prob_super_test                      1.000000             -0.939829   \n",
      "expected_losses_test                -0.939829              1.000000   \n",
      "expected_related_losses_test        -0.765585              0.628090   \n",
      "effect_size_test                    -0.728023              0.587510   \n",
      "hdi_left                            -0.761103              0.624578   \n",
      "hdi_right                           -0.767574              0.629642   \n",
      "\n",
      "                              expected_related_losses_test  effect_size_test  \\\n",
      "prob_super_test                                  -0.765585         -0.728023   \n",
      "expected_losses_test                              0.628090          0.587510   \n",
      "expected_related_losses_test                      1.000000          0.996499   \n",
      "effect_size_test                                  0.996499          1.000000   \n",
      "hdi_left                                          0.998537          0.992576   \n",
      "hdi_right                                         0.999162          0.997573   \n",
      "\n",
      "                              hdi_left  hdi_right  \n",
      "prob_super_test              -0.761103  -0.767574  \n",
      "expected_losses_test          0.624578   0.629642  \n",
      "expected_related_losses_test  0.998537   0.999162  \n",
      "effect_size_test              0.992576   0.997573  \n",
      "hdi_left                      1.000000   0.995694  \n",
      "hdi_right                     0.995694   1.000000  \n"
     ]
    }
   ],
   "source": [
    "df = pd.DataFrame(results)\n",
    "df.columns = ['prob_super_test', 'expected_losses_test', 'expected_related_losses_test',\n",
    "              'effect_size_test', 'hdi_left', 'hdi_right']\n",
    "print(df.corr())"
   ],
   "metadata": {
    "collapsed": false,
    "pycharm": {
     "name": "#%%\n"
    }
   }
  },
  {
   "cell_type": "markdown",
   "source": [
    "Идентичные пары критериев:\n",
    "- chance to beat control и expected loss (0.94 корреляция)\n",
    "- expected related losses и effect size (0.99 корреляция)\n",
    "- HDI и effect size (0.99 корреляция)\n",
    "- expected related losses и HDI (0.99 корреляция)"
   ],
   "metadata": {
    "collapsed": false,
    "pycharm": {
     "name": "#%% md\n"
    }
   }
  },
  {
   "cell_type": "markdown",
   "source": [
    "Сравним с готовой реализацией pyMC3"
   ],
   "metadata": {
    "collapsed": false,
    "pycharm": {
     "name": "#%% md\n"
    }
   }
  },
  {
   "cell_type": "code",
   "execution_count": 15,
   "outputs": [
    {
     "name": "stdout",
     "output_type": "stream",
     "text": [
      "Running on PyMC3 v3.11.4\n"
     ]
    }
   ],
   "source": [
    "from dataclasses import dataclass\n",
    "from typing import Dict, List, Union\n",
    "\n",
    "import arviz as az\n",
    "import matplotlib.pyplot as plt\n",
    "import numpy as np\n",
    "import pandas as pd\n",
    "import pymc3 as pm\n",
    "import pymc3.math as pmm\n",
    "\n",
    "from scipy.stats import bernoulli, expon\n",
    "\n",
    "print(f\"Running on PyMC3 v{pm.__version__}\")\n",
    "\n",
    "@dataclass\n",
    "class BetaPrior:\n",
    "    alpha: float\n",
    "    beta: float\n",
    "@dataclass\n",
    "class BinomialData:\n",
    "    trials: int\n",
    "    successes: int\n",
    "\n",
    "RANDOM_SEED = 4000\n",
    "rng = np.random.default_rng(RANDOM_SEED)\n",
    "\n",
    "%config InlineBackend.figure_format = 'retina'\n",
    "az.style.use(\"arviz-darkgrid\")\n",
    "\n",
    "class ConversionModelTwoVariant:\n",
    "    def __init__(self, priors: BetaPrior):\n",
    "        self.priors = priors\n",
    "\n",
    "    def create_model(self, data: List[BinomialData]) -> pm.Model:\n",
    "        trials = [d.trials for d in data]\n",
    "        successes = [d.successes for d in data]\n",
    "        with pm.Model() as model:\n",
    "            p = pm.Beta(\"p\", alpha=self.priors.alpha, beta=self.priors.beta, shape=2)\n",
    "            obs = pm.Binomial(\"y\", n=trials, p=p, shape=2, observed=successes)\n",
    "            reluplift = pm.Deterministic(\"reluplift_b\", p[1] / p[0] - 1)\n",
    "        return model"
   ],
   "metadata": {
    "collapsed": false,
    "pycharm": {
     "name": "#%%\n"
    }
   }
  },
  {
   "cell_type": "code",
   "execution_count": 42,
   "outputs": [
    {
     "data": {
      "text/plain": "               A      B\ntrials     10000  10000\nsuccesses    183    259",
      "text/html": "<div>\n<style scoped>\n    .dataframe tbody tr th:only-of-type {\n        vertical-align: middle;\n    }\n\n    .dataframe tbody tr th {\n        vertical-align: top;\n    }\n\n    .dataframe thead th {\n        text-align: right;\n    }\n</style>\n<table border=\"1\" class=\"dataframe\">\n  <thead>\n    <tr style=\"text-align: right;\">\n      <th></th>\n      <th>A</th>\n      <th>B</th>\n    </tr>\n  </thead>\n  <tbody>\n    <tr>\n      <th>trials</th>\n      <td>10000</td>\n      <td>10000</td>\n    </tr>\n    <tr>\n      <th>successes</th>\n      <td>183</td>\n      <td>259</td>\n    </tr>\n  </tbody>\n</table>\n</div>"
     },
     "execution_count": 42,
     "metadata": {},
     "output_type": "execute_result"
    }
   ],
   "source": [
    "def generate_binomial_data(\n",
    "        variants: List[str],\n",
    "        true_rates: List[float],\n",
    "        samples_per_variant: int = 10000\n",
    ") -> pd.DataFrame:\n",
    "    data = {}\n",
    "    np.random.seed(0)\n",
    "    for variant, p in zip(variants, true_rates):\n",
    "        data[variant] = np.random.binomial(1, p=p, size=samples_per_variant)\n",
    "    agg = (\n",
    "        pd.DataFrame(data)\n",
    "            .aggregate([\"count\", \"sum\"])\n",
    "            .rename(index={\"count\": \"trials\", \"sum\": \"successes\"})\n",
    "    )\n",
    "    return agg\n",
    "# Example generated data\n",
    "generate_binomial_data([\"A\", \"B\"], [0.02, 0.025])"
   ],
   "metadata": {
    "collapsed": false,
    "pycharm": {
     "name": "#%%\n"
    }
   }
  },
  {
   "cell_type": "code",
   "execution_count": 61,
   "outputs": [
    {
     "name": "stderr",
     "output_type": "stream",
     "text": [
      "Auto-assigning NUTS sampler...\n",
      "Initializing NUTS using jitter+adapt_diag...\n",
      "Sequential sampling (2 chains in 1 job)\n",
      "NUTS: [p]\n"
     ]
    },
    {
     "data": {
      "text/plain": "<IPython.core.display.HTML object>",
      "text/html": "\n    <div>\n        <style>\n            /* Turns off some styling */\n            progress {\n                /* gets rid of default border in Firefox and Opera. */\n                border: none;\n                /* Needs to be in here for Safari polyfill so background images work as expected. */\n                background-size: auto;\n            }\n            .progress-bar-interrupted, .progress-bar-interrupted::-webkit-progress-bar {\n                background: #F44336;\n            }\n        </style>\n      <progress value='0' class='' max='51000' style='width:300px; height:20px; vertical-align: middle;'></progress>\n      \n    </div>\n    "
     },
     "metadata": {},
     "output_type": "display_data"
    },
    {
     "data": {
      "text/plain": "<IPython.core.display.HTML object>",
      "text/html": "\n    <div>\n        <style>\n            /* Turns off some styling */\n            progress {\n                /* gets rid of default border in Firefox and Opera. */\n                border: none;\n                /* Needs to be in here for Safari polyfill so background images work as expected. */\n                background-size: auto;\n            }\n            .progress-bar-interrupted, .progress-bar-interrupted::-webkit-progress-bar {\n                background: #F44336;\n            }\n        </style>\n      <progress value='0' class='' max='51000' style='width:300px; height:20px; vertical-align: middle;'></progress>\n      \n    </div>\n    "
     },
     "metadata": {},
     "output_type": "display_data"
    },
    {
     "name": "stderr",
     "output_type": "stream",
     "text": [
      "Sampling 2 chains for 1_000 tune and 50_000 draw iterations (2_000 + 100_000 draws total) took 53 seconds.\n"
     ]
    },
    {
     "data": {
      "text/plain": "<Figure size 700x700 with 2 Axes>",
      "image/png": "[encoded data removed]"
     },
     "metadata": {
      "image/png": {
       "width": 711,
       "height": 711
      }
     },
     "output_type": "display_data"
    }
   ],
   "source": [
    "def run_scenario_twovariant(\n",
    "        variants: List[str],\n",
    "        true_rates: List[float],\n",
    "        samples_per_variant: int,\n",
    "        our_prior: BetaPrior\n",
    "        # weak_prior: BetaPrior,\n",
    "        # strong_prior: BetaPrior,\n",
    "):\n",
    "    generated = generate_binomial_data(variants, true_rates, samples_per_variant)\n",
    "    data = [BinomialData(**generated[v].to_dict()) for v in variants]\n",
    "    with ConversionModelTwoVariant(priors=our_prior).create_model(data):\n",
    "        trace_our = pm.sample(draws=50000, return_inferencedata=True, cores=1, chains=2)\n",
    "    # with ConversionModelTwoVariant(priors=weak_prior).create_model(data):\n",
    "    #     trace_weak = pm.sample(draws=5000, return_inferencedata=True, cores=1, chains=2)\n",
    "    # with ConversionModelTwoVariant(priors=strong_prior).create_model(data):\n",
    "    #     trace_strong = pm.sample(draws=5000, return_inferencedata=True, cores=1, chains=2)\n",
    "\n",
    "    true_rel_uplift = true_rates[1] / true_rates[0] - 1\n",
    "\n",
    "    fig, axs = plt.subplots(2, 1, figsize=(7, 7), sharex=True)\n",
    "    az.plot_posterior(trace_our.posterior[\"reluplift_b\"], textsize=10, ax=axs[0], kind=\"hist\")\n",
    "    axs[0].set_title(f\"True Rel Uplift = {true_rel_uplift:.1%}, {our_prior}\", fontsize=10)\n",
    "    axs[0].axvline(x=0, color=\"red\")\n",
    "    # az.plot_posterior(trace_strong.posterior[\"reluplift_b\"], textsize=10, ax=axs[1], kind=\"hist\")\n",
    "    # axs[1].set_title(f\"True Rel Uplift = {true_rel_uplift:.1%}, {strong_prior}\", fontsize=10)\n",
    "    # axs[1].axvline(x=0, color=\"red\")\n",
    "    fig.suptitle(\"B vs. A Rel Uplift\")\n",
    "    return data\n",
    "data = run_scenario_twovariant(\n",
    "    variants=[\"A\", \"B\"],\n",
    "    true_rates=[0.02, 0.02],\n",
    "    samples_per_variant=10000,\n",
    "    our_prior=BetaPrior(alpha=1, beta=1)\n",
    "    # weak_prior=BetaPrior(alpha=100, beta=100),\n",
    "    # strong_prior=BetaPrior(alpha=10000, beta=10000),\n",
    ")"
   ],
   "metadata": {
    "collapsed": false,
    "pycharm": {
     "name": "#%%\n"
    }
   }
  },
  {
   "cell_type": "code",
   "execution_count": 14,
   "outputs": [
    {
     "data": {
      "text/plain": "  0%|          | 0/1000 [00:00<?, ?it/s]",
      "application/vnd.jupyter.widget-view+json": {
       "version_major": 2,
       "version_minor": 0,
       "model_id": "5b0cac31b7e642d784af066a832fea40"
      }
     },
     "metadata": {},
     "output_type": "display_data"
    },
    {
     "name": "stdout",
     "output_type": "stream",
     "text": [
      "1000\n",
      "291\n",
      "0\n"
     ]
    }
   ],
   "source": [
    "def get_metrics(i):\n",
    "    np.random.seed(i)\n",
    "    data = np.random.binomial([1, 1], [0.02, 0.025], size=(10000, 2))\n",
    "    alphas, betas = data.sum(axis=0), data.shape[0] - data.sum(axis=0)\n",
    "    hdi_zero_belong = hdi_difference(alphas, betas)[0] < 0 < hdi_difference(alphas, betas)[1]\n",
    "    ctbc = chance_to_beat_all(alphas, betas)[1]\n",
    "    return (hdi_zero_belong, ctbc)\n",
    "results = list(p_map(get_metrics, range(1000)))\n",
    "df = pd.DataFrame(columns=['hdi_zero', 'ctbc'])\n",
    "df['hdi_zero'] = [results[i][0] for i in range(1000)]\n",
    "df['ctbc'] = [results[i][1] for i in range(1000)]\n",
    "\n",
    "print(df.query(\"ctbc <= 0.975\").shape[0])\n",
    "print(df.query(\"hdi_zero == True\").shape[0])\n",
    "print(df.query(\"ctbc >= 0.95 & hdi_zero == False\").shape[0])"
   ],
   "metadata": {
    "collapsed": false,
    "pycharm": {
     "name": "#%%\n"
    }
   }
  },
  {
   "cell_type": "code",
   "execution_count": 33,
   "outputs": [
    {
     "name": "stdout",
     "output_type": "stream",
     "text": [
      "313\n",
      "291\n",
      "875\n"
     ]
    }
   ],
   "source": [
    "print(df.query(\"ctbc <= 0.975\").shape[0])\n",
    "print(df.query(\"hdi_zero == True\").shape[0])\n",
    "print(df.query(\"ctbc >= 0.9 | hdi_zero == False\").shape[0])"
   ],
   "metadata": {
    "collapsed": false,
    "pycharm": {
     "name": "#%%\n"
    }
   }
  },
  {
   "cell_type": "code",
   "execution_count": 24,
   "outputs": [
    {
     "data": {
      "text/plain": "     hdi_zero      ctbc\n0       False  0.981351\n4       False  0.999273\n6       False  0.996868\n7       False  0.997042\n8       False  0.978960\n..        ...       ...\n993     False  0.999366\n994     False  0.997944\n995     False  0.999743\n996     False  0.999994\n998     False  0.991512\n\n[709 rows x 2 columns]",
      "text/html": "<div>\n<style scoped>\n    .dataframe tbody tr th:only-of-type {\n        vertical-align: middle;\n    }\n\n    .dataframe tbody tr th {\n        vertical-align: top;\n    }\n\n    .dataframe thead th {\n        text-align: right;\n    }\n</style>\n<table border=\"1\" class=\"dataframe\">\n  <thead>\n    <tr style=\"text-align: right;\">\n      <th></th>\n      <th>hdi_zero</th>\n      <th>ctbc</th>\n    </tr>\n  </thead>\n  <tbody>\n    <tr>\n      <th>0</th>\n      <td>False</td>\n      <td>0.981351</td>\n    </tr>\n    <tr>\n      <th>4</th>\n      <td>False</td>\n      <td>0.999273</td>\n    </tr>\n    <tr>\n      <th>6</th>\n      <td>False</td>\n      <td>0.996868</td>\n    </tr>\n    <tr>\n      <th>7</th>\n      <td>False</td>\n      <td>0.997042</td>\n    </tr>\n    <tr>\n      <th>8</th>\n      <td>False</td>\n      <td>0.978960</td>\n    </tr>\n    <tr>\n      <th>...</th>\n      <td>...</td>\n      <td>...</td>\n    </tr>\n    <tr>\n      <th>993</th>\n      <td>False</td>\n      <td>0.999366</td>\n    </tr>\n    <tr>\n      <th>994</th>\n      <td>False</td>\n      <td>0.997944</td>\n    </tr>\n    <tr>\n      <th>995</th>\n      <td>False</td>\n      <td>0.999743</td>\n    </tr>\n    <tr>\n      <th>996</th>\n      <td>False</td>\n      <td>0.999994</td>\n    </tr>\n    <tr>\n      <th>998</th>\n      <td>False</td>\n      <td>0.991512</td>\n    </tr>\n  </tbody>\n</table>\n<p>709 rows × 2 columns</p>\n</div>"
     },
     "execution_count": 24,
     "metadata": {},
     "output_type": "execute_result"
    }
   ],
   "source": [
    "df.query(\"hdi_zero == False\")"
   ],
   "metadata": {
    "collapsed": false,
    "pycharm": {
     "name": "#%%\n"
    }
   }
  },
  {
   "cell_type": "code",
   "execution_count": 34,
   "outputs": [
    {
     "data": {
      "text/plain": "     hdi_zero      ctbc\n0       False  0.981351\n4       False  0.999273\n6       False  0.996868\n7       False  0.997042\n8       False  0.978960\n..        ...       ...\n995     False  0.999743\n996     False  0.999994\n997      True  0.943766\n998     False  0.991512\n999      True  0.922823\n\n[875 rows x 2 columns]",
      "text/html": "<div>\n<style scoped>\n    .dataframe tbody tr th:only-of-type {\n        vertical-align: middle;\n    }\n\n    .dataframe tbody tr th {\n        vertical-align: top;\n    }\n\n    .dataframe thead th {\n        text-align: right;\n    }\n</style>\n<table border=\"1\" class=\"dataframe\">\n  <thead>\n    <tr style=\"text-align: right;\">\n      <th></th>\n      <th>hdi_zero</th>\n      <th>ctbc</th>\n    </tr>\n  </thead>\n  <tbody>\n    <tr>\n      <th>0</th>\n      <td>False</td>\n      <td>0.981351</td>\n    </tr>\n    <tr>\n      <th>4</th>\n      <td>False</td>\n      <td>0.999273</td>\n    </tr>\n    <tr>\n      <th>6</th>\n      <td>False</td>\n      <td>0.996868</td>\n    </tr>\n    <tr>\n      <th>7</th>\n      <td>False</td>\n      <td>0.997042</td>\n    </tr>\n    <tr>\n      <th>8</th>\n      <td>False</td>\n      <td>0.978960</td>\n    </tr>\n    <tr>\n      <th>...</th>\n      <td>...</td>\n      <td>...</td>\n    </tr>\n    <tr>\n      <th>995</th>\n      <td>False</td>\n      <td>0.999743</td>\n    </tr>\n    <tr>\n      <th>996</th>\n      <td>False</td>\n      <td>0.999994</td>\n    </tr>\n    <tr>\n      <th>997</th>\n      <td>True</td>\n      <td>0.943766</td>\n    </tr>\n    <tr>\n      <th>998</th>\n      <td>False</td>\n      <td>0.991512</td>\n    </tr>\n    <tr>\n      <th>999</th>\n      <td>True</td>\n      <td>0.922823</td>\n    </tr>\n  </tbody>\n</table>\n<p>875 rows × 2 columns</p>\n</div>"
     },
     "execution_count": 34,
     "metadata": {},
     "output_type": "execute_result"
    }
   ],
   "source": [
    "df.query(\"ctbc >= 0.9\")"
   ],
   "metadata": {
    "collapsed": false,
    "pycharm": {
     "name": "#%%\n"
    }
   }
  },
  {
   "cell_type": "markdown",
   "source": [
    "# CPRIOR package for conversion rates"
   ],
   "metadata": {
    "collapsed": false,
    "pycharm": {
     "name": "#%% md\n"
    }
   }
  },
  {
   "cell_type": "code",
   "execution_count": 22,
   "outputs": [
    {
     "name": "stdout",
     "output_type": "stream",
     "text": [
      "True winner B\n"
     ]
    }
   ],
   "source": [
    "from scipy import stats\n",
    "from cprior.models import BernoulliModel, BernoulliMVTest, BernoulliABTest\n",
    "from cprior.experiment.base import Experiment\n",
    "\n",
    "modelA = BernoulliModel(name=\"control\", alpha=1, beta=1)\n",
    "modelB = BernoulliModel(name=\"variation\", alpha=1, beta=1)\n",
    "\n",
    "mvtest = BernoulliMVTest({\"A\": modelA, \"B\": modelB})\n",
    "\n",
    "experiment = Experiment(name=\"CTR\", test=mvtest,\n",
    "                        stopping_rule=\"probability_vs_all\",\n",
    "                        epsilon=0.99, min_n_samples=1000, max_n_samples=None)\n",
    "\n",
    "with experiment as e:\n",
    "    while not e.termination:\n",
    "        data_A = np.random.binomial(1, p=0.02, size=np.random.randint(100, 200))\n",
    "        data_B = np.random.binomial(1, p=0.025, size=np.random.randint(100, 200))\n",
    "\n",
    "        e.run_update(**{\"A\": data_A, \"B\": data_B})\n",
    "    print(e.termination, e.status)"
   ],
   "metadata": {
    "collapsed": false,
    "pycharm": {
     "name": "#%%\n"
    }
   }
  },
  {
   "cell_type": "code",
   "execution_count": 126,
   "outputs": [
    {
     "name": "stdout",
     "output_type": "stream",
     "text": [
      "[5 5]\n",
      "[10 10]\n",
      "[14 14]\n",
      "[18 18]\n",
      "[22 22]\n",
      "[25 28]\n",
      "[28 34]\n",
      "[31 40]\n",
      "[35 45]\n",
      "[39 50]\n",
      "[43 55]\n",
      "[47 60]\n",
      "[51 65]\n",
      "[55 70]\n",
      "[59 75]\n",
      "[63 80]\n",
      "[67 85]\n",
      "[71 90]\n",
      "[75 95]\n",
      "[81 98]\n",
      "[ 88 100]\n",
      "[ 95 102]\n",
      "[101 105]\n",
      "[107 108]\n",
      "[113 111]\n",
      "[119 114]\n",
      "[125 117]\n",
      "[131 120]\n",
      "[137 123]\n",
      "[143 126]\n",
      "[148 130]\n",
      "[153 134]\n",
      "[158 138]\n",
      "[163 142]\n",
      "[168 146]\n",
      "[173 150]\n",
      "[178 154]\n",
      "[183 158]\n",
      "[188 162]\n",
      "[193 166]\n",
      "[198 170]\n",
      "[203 174]\n",
      "[208 178]\n",
      "[213 182]\n",
      "[218 186]\n",
      "[223 190]\n",
      "[228 194]\n",
      "[233 198]\n",
      "[238 202]\n",
      "[243 206]\n",
      "[248 210]\n",
      "[253 214]\n",
      "[259 217]\n",
      "[265 220]\n",
      "[271 223]\n",
      "[277 226]\n",
      "[283 229]\n",
      "[289 232]\n",
      "[296 234]\n",
      "[303 236]\n",
      "[310 238]\n",
      "[317 240]\n",
      "[323 243]\n",
      "[329 246]\n",
      "[335 249]\n",
      "[341 252]\n",
      "[347 255]\n",
      "[353 258]\n",
      "[359 261]\n",
      "[365 264]\n",
      "[371 267]\n",
      "[377 270]\n",
      "[383 273]\n",
      "[389 276]\n",
      "[395 279]\n",
      "[401 282]\n",
      "[407 285]\n",
      "[414 287]\n",
      "[421 289]\n",
      "[428 291]\n",
      "[435 293]\n",
      "[442 295]\n",
      "[449 297]\n",
      "[456 299]\n",
      "[463 301]\n",
      "[470 303]\n",
      "[477 305]\n",
      "[484 307]\n",
      "[491 309]\n",
      "[498 311]\n",
      "[505 313]\n",
      "[512 315]\n",
      "[519 317]\n",
      "[526 319]\n",
      "[533 321]\n",
      "[540 323]\n",
      "[547 325]\n",
      "[555 326]\n",
      "[563 327]\n",
      "[571 328]\n",
      "[579 329]\n",
      "[587 330]\n",
      "[594 332]\n",
      "[601 334]\n",
      "[608 336]\n",
      "[615 338]\n",
      "[622 340]\n",
      "[629 342]\n",
      "[635 345]\n",
      "[641 348]\n",
      "[647 351]\n",
      "[653 354]\n",
      "[659 357]\n",
      "[665 360]\n",
      "[672 362]\n",
      "[679 364]\n",
      "[686 366]\n",
      "[693 368]\n",
      "[700 370]\n",
      "[707 372]\n",
      "[714 374]\n",
      "[721 376]\n",
      "[728 378]\n",
      "[735 380]\n",
      "[742 382]\n",
      "[749 384]\n",
      "[757 385]\n",
      "[765 386]\n",
      "[773 387]\n",
      "[781 388]\n",
      "[789 389]\n",
      "[797 390]\n",
      "[805 391]\n",
      "[813 392]\n",
      "[821 393]\n",
      "[829 394]\n",
      "[837 395]\n",
      "[845 396]\n",
      "[853 397]\n",
      "[861 398]\n",
      "[869 399]\n",
      "[877 400]\n",
      "[885 401]\n",
      "[893 402]\n",
      "[901 403]\n",
      "[909 404]\n",
      "[917 405]\n",
      "[925 406]\n",
      "[933 407]\n",
      "[941 408]\n",
      "[949 409]\n",
      "[957 410]\n",
      "[964 412]\n",
      "[971 414]\n",
      "[978 416]\n",
      "[985 418]\n",
      "[992 420]\n",
      "[998 423]\n",
      "[1004  426]\n",
      "[1011  428]\n",
      "[1017  431]\n",
      "[1023  434]\n",
      "[1030  436]\n",
      "[1036  439]\n",
      "[1042  442]\n",
      "[1049  444]\n",
      "[1055  447]\n",
      "[1061  450]\n",
      "[1068  452]\n",
      "[1074  455]\n",
      "[1080  458]\n",
      "[1086  461]\n",
      "[1091  465]\n",
      "[1096  469]\n",
      "[1101  473]\n",
      "[1106  477]\n",
      "[1111  481]\n",
      "[1117  484]\n",
      "[1123  487]\n",
      "[1129  490]\n",
      "[1135  493]\n",
      "[1141  496]\n",
      "[1147  499]\n",
      "[1153  502]\n",
      "[1159  505]\n",
      "[1166  507]\n",
      "[1172  510]\n",
      "[1178  513]\n",
      "[1184  516]\n",
      "[1190  519]\n",
      "[1196  522]\n",
      "[1202  525]\n",
      "[1208  528]\n",
      "[1214  531]\n",
      "[1220  534]\n",
      "[1226  537]\n",
      "[1232  540]\n",
      "[1238  543]\n",
      "[1243  547]\n",
      "[1248  551]\n",
      "[1253  555]\n",
      "[1258  559]\n",
      "[1262  564]\n",
      "[1266  569]\n",
      "[1271  573]\n",
      "[1276  577]\n",
      "[1281  581]\n",
      "[1286  585]\n",
      "[1291  589]\n",
      "[1296  593]\n",
      "[1301  597]\n",
      "[1306  601]\n",
      "[1311  605]\n",
      "[1316  609]\n",
      "[1321  613]\n",
      "[1326  617]\n",
      "[1331  621]\n",
      "[1337  624]\n",
      "[1343  627]\n",
      "[1349  630]\n",
      "[1355  633]\n",
      "[1361  636]\n",
      "[1366  640]\n",
      "[1371  644]\n",
      "[1376  648]\n",
      "[1381  652]\n",
      "[1386  656]\n",
      "[1391  660]\n",
      "[1396  664]\n",
      "[1401  668]\n",
      "[1407  671]\n",
      "[1413  674]\n",
      "[1419  677]\n",
      "[1425  680]\n",
      "[1431  683]\n",
      "[1437  686]\n",
      "[1443  689]\n",
      "[1449  692]\n",
      "[1455  695]\n",
      "[1461  698]\n",
      "[1467  701]\n",
      "[1473  704]\n",
      "[1479  707]\n",
      "[1485  710]\n",
      "[1491  713]\n",
      "[1496  717]\n",
      "[1501  721]\n",
      "[1506  725]\n",
      "[1510  730]\n",
      "[1514  735]\n",
      "[1518  740]\n",
      "[1522  745]\n",
      "[1526  750]\n",
      "[1530  755]\n",
      "[1535  759]\n",
      "[1540  763]\n",
      "[1545  767]\n",
      "[1549  772]\n",
      "[1553  777]\n",
      "[1557  782]\n",
      "[1561  787]\n",
      "[1565  792]\n",
      "[1569  797]\n",
      "[1573  802]\n",
      "[1577  807]\n",
      "[1581  812]\n",
      "[1585  817]\n",
      "[1589  822]\n",
      "[1594  826]\n",
      "[1599  830]\n",
      "[1604  834]\n",
      "[1609  838]\n",
      "[1614  842]\n",
      "[1619  846]\n",
      "[1623  851]\n",
      "[1627  856]\n",
      "[1631  861]\n",
      "[1635  866]\n",
      "[1639  871]\n",
      "[1643  876]\n",
      "[1647  881]\n",
      "[1651  886]\n",
      "[1655  891]\n",
      "[1659  896]\n",
      "[1663  901]\n",
      "[1667  906]\n",
      "[1671  911]\n",
      "[1675  916]\n",
      "[1679  921]\n",
      "[1683  926]\n",
      "[1687  931]\n",
      "[1691  936]\n",
      "[1695  941]\n",
      "[1699  946]\n",
      "[1703  951]\n",
      "[1707  956]\n",
      "[1711  961]\n",
      "[1715  966]\n",
      "[1719  971]\n",
      "[1722  977]\n",
      "[1725  983]\n",
      "[1728  989]\n",
      "[1731  995]\n",
      "[1734 1001]\n",
      "[1737 1007]\n",
      "[1740 1013]\n",
      "[1744 1018]\n",
      "[1747 1024]\n",
      "[1750 1030]\n",
      "[1753 1036]\n",
      "[1756 1042]\n",
      "[1759 1048]\n",
      "[1762 1054]\n",
      "[1764 1061]\n",
      "[1766 1068]\n",
      "[1768 1075]\n",
      "[1770 1082]\n",
      "[1772 1089]\n",
      "[1774 1096]\n",
      "[1776 1103]\n",
      "[1779 1109]\n",
      "[1782 1115]\n",
      "[1785 1121]\n",
      "[1788 1127]\n",
      "[1791 1133]\n",
      "[1793 1140]\n",
      "[1795 1147]\n",
      "[1797 1154]\n",
      "[1799 1161]\n",
      "[1800 1169]\n",
      "[1802 1176]\n",
      "[1804 1183]\n",
      "[1806 1190]\n",
      "[1808 1197]\n",
      "[1810 1204]\n",
      "[1812 1211]\n",
      "[1814 1218]\n",
      "[1816 1225]\n",
      "[1818 1232]\n",
      "[1820 1239]\n",
      "[1822 1246]\n",
      "[1824 1253]\n",
      "[1826 1260]\n",
      "[1827 1268]\n",
      "[1828 1276]\n",
      "[1830 1283]\n",
      "[1832 1290]\n",
      "[1834 1297]\n",
      "[1836 1304]\n",
      "[1838 1311]\n",
      "[1839 1319]\n",
      "[1841 1326]\n",
      "[1843 1333]\n",
      "[1845 1340]\n",
      "[1847 1347]\n",
      "[1849 1354]\n",
      "[1851 1361]\n",
      "[1853 1368]\n",
      "[1855 1375]\n",
      "[1857 1382]\n",
      "[1859 1389]\n",
      "[1861 1396]\n",
      "[1863 1403]\n",
      "[1865 1410]\n",
      "[1867 1417]\n",
      "[1869 1424]\n",
      "[1871 1431]\n",
      "[1873 1438]\n",
      "[1875 1445]\n",
      "[1877 1452]\n",
      "[1879 1459]\n",
      "[1881 1466]\n",
      "[1883 1473]\n",
      "[1886 1479]\n",
      "[1889 1485]\n",
      "[1892 1491]\n",
      "[1895 1497]\n",
      "[1898 1503]\n",
      "[1900 1510]\n",
      "[1902 1517]\n",
      "[1904 1524]\n",
      "[1906 1531]\n",
      "[1908 1538]\n",
      "[1910 1545]\n",
      "[1913 1551]\n",
      "[1916 1557]\n",
      "[1919 1563]\n",
      "[1922 1569]\n",
      "[1925 1575]\n",
      "[1928 1581]\n",
      "[1931 1587]\n",
      "[1934 1593]\n",
      "[1937 1599]\n",
      "[1940 1605]\n",
      "[1943 1611]\n",
      "[1946 1617]\n",
      "[1949 1623]\n",
      "[1952 1629]\n",
      "[1955 1635]\n",
      "[1958 1641]\n",
      "[1960 1648]\n",
      "[1962 1655]\n",
      "[1964 1662]\n",
      "[1966 1669]\n",
      "[1968 1676]\n",
      "[1970 1683]\n",
      "[1972 1690]\n",
      "[1974 1697]\n",
      "[1976 1704]\n",
      "[1978 1711]\n",
      "[1980 1718]\n",
      "[1982 1725]\n",
      "[1984 1732]\n",
      "[1986 1739]\n",
      "[1987 1747]\n",
      "[1988 1755]\n",
      "[1989 1763]\n",
      "[1990 1771]\n",
      "[1991 1779]\n",
      "[1992 1787]\n",
      "[1993 1795]\n",
      "[1994 1803]\n",
      "[1995 1811]\n",
      "[1996 1819]\n",
      "[1997 1827]\n",
      "[1998 1835]\n",
      "[1999 1843]\n",
      "[2000 1851]\n",
      "[2001 1859]\n",
      "[2002 1867]\n",
      "[2003 1875]\n",
      "[2004 1883]\n",
      "[2005 1891]\n",
      "[2006 1899]\n",
      "[2007 1907]\n",
      "[2008 1915]\n",
      "[2009 1923]\n",
      "[2010 1931]\n",
      "[2011 1939]\n",
      "[2012 1947]\n",
      "[2013 1955]\n",
      "[2014 1963]\n",
      "[2015 1971]\n",
      "[2016 1979]\n",
      "[2017 1987]\n",
      "[2018 1995]\n",
      "[2019 2003]\n",
      "[2020 2011]\n",
      "[2021 2019]\n",
      "[2022 2027]\n",
      "[2023 2035]\n",
      "[2024 2043]\n",
      "[2025 2051]\n",
      "[2026 2059]\n",
      "[2027 2067]\n",
      "[2028 2075]\n",
      "[2029 2083]\n",
      "[2030 2091]\n",
      "[2031 2099]\n",
      "[2032 2107]\n",
      "[2033 2115]\n",
      "[2034 2123]\n",
      "[2035 2131]\n",
      "[2036 2139]\n",
      "[2037 2147]\n",
      "[2038 2155]\n",
      "[2039 2163]\n",
      "[2040 2171]\n",
      "[2041 2179]\n",
      "[2041 2188]\n",
      "[2041 2197]\n",
      "[2041 2206]\n",
      "[2042 2214]\n",
      "[2042 2223]\n",
      "[2042 2232]\n",
      "[2042 2241]\n",
      "[2042 2250]\n",
      "[2043 2258]\n",
      "[2044 2266]\n",
      "[2045 2274]\n",
      "[2046 2282]\n",
      "[2047 2290]\n",
      "[2048 2298]\n",
      "[2049 2306]\n",
      "[2050 2314]\n",
      "[2051 2322]\n",
      "[2052 2330]\n",
      "[2053 2338]\n",
      "[2054 2346]\n",
      "[2055 2354]\n",
      "[2055 2363]\n",
      "[2056 2371]\n",
      "[2057 2379]\n",
      "[2058 2387]\n",
      "[2059 2395]\n",
      "[2060 2403]\n",
      "[2061 2411]\n",
      "[2062 2419]\n",
      "[2063 2427]\n",
      "[2064 2435]\n",
      "[2065 2443]\n",
      "[2066 2451]\n",
      "[2067 2459]\n",
      "[2068 2467]\n",
      "[2069 2475]\n",
      "[2070 2483]\n",
      "[2071 2491]\n",
      "[2072 2499]\n",
      "[2073 2507]\n",
      "[2074 2515]\n",
      "[2075 2523]\n",
      "[2076 2531]\n",
      "[2077 2539]\n",
      "[2078 2547]\n",
      "[2079 2555]\n",
      "[2080 2563]\n",
      "[2081 2571]\n",
      "[2082 2579]\n",
      "[2083 2587]\n",
      "[2084 2595]\n",
      "[2085 2603]\n",
      "[2086 2611]\n",
      "[2087 2619]\n",
      "[2088 2627]\n",
      "[2089 2635]\n",
      "[2090 2643]\n",
      "[2091 2651]\n",
      "[2092 2659]\n",
      "[2093 2667]\n",
      "[2094 2675]\n",
      "[2095 2683]\n",
      "[2096 2691]\n",
      "[2097 2699]\n",
      "[2098 2707]\n",
      "[2099 2715]\n",
      "[2100 2723]\n",
      "[2101 2731]\n",
      "[2102 2739]\n",
      "[2103 2747]\n",
      "[2104 2755]\n",
      "[2105 2763]\n",
      "[2106 2771]\n",
      "[2107 2779]\n",
      "[2108 2787]\n",
      "[2109 2795]\n",
      "[2110 2803]\n",
      "[2111 2811]\n",
      "[2112 2819]\n",
      "[2113 2827]\n",
      "[2114 2835]\n",
      "[2115 2843]\n",
      "[2116 2851]\n",
      "[2117 2859]\n",
      "[2118 2867]\n",
      "[2119 2875]\n",
      "[2120 2883]\n",
      "[2121 2891]\n",
      "[2122 2899]\n",
      "[2123 2907]\n",
      "[2124 2915]\n",
      "[2125 2923]\n",
      "[2126 2931]\n",
      "[2127 2939]\n",
      "[2128 2947]\n",
      "[2129 2955]\n",
      "[2130 2963]\n",
      "[2131 2971]\n",
      "[2132 2979]\n",
      "[2133 2987]\n",
      "[2134 2995]\n",
      "[2135 3003]\n",
      "[2136 3011]\n",
      "[2137 3019]\n",
      "[2138 3027]\n",
      "[2139 3035]\n",
      "[2140 3043]\n",
      "[2140 3052]\n",
      "[2140 3061]\n",
      "[2141 3069]\n",
      "[2142 3077]\n",
      "[2142 3086]\n",
      "[2142 3095]\n",
      "[2142 3104]\n",
      "[2142 3113]\n",
      "[2142 3122]\n",
      "[2142 3131]\n",
      "[2142 3140]\n",
      "[2142 3149]\n",
      "[2142 3158]\n",
      "[2142 3167]\n",
      "[2142 3176]\n",
      "[2142 3185]\n",
      "[2142 3194]\n",
      "[2142 3203]\n",
      "[2142 3212]\n",
      "[2142 3221]\n",
      "[2142 3230]\n",
      "[2142 3239]\n",
      "[2142 3248]\n",
      "[2142 3257]\n",
      "[2142 3266]\n",
      "[2142 3275]\n",
      "[2142 3284]\n",
      "[2142 3293]\n",
      "[2142 3302]\n",
      "[2143 3310]\n",
      "[2144 3318]\n",
      "[2145 3326]\n",
      "[2145 3335]\n",
      "[2145 3344]\n",
      "[2145 3353]\n",
      "[2146 3361]\n",
      "[2147 3369]\n",
      "[2148 3377]\n",
      "[2149 3385]\n",
      "[2150 3393]\n",
      "[2151 3401]\n",
      "[2152 3409]\n",
      "[2153 3417]\n",
      "[2154 3425]\n",
      "[2155 3433]\n",
      "[2156 3441]\n",
      "[2157 3449]\n",
      "[2157 3458]\n",
      "[2157 3467]\n",
      "[2158 3475]\n",
      "[2159 3483]\n",
      "[2160 3491]\n",
      "[2160 3500]\n",
      "[2160 3509]\n",
      "[2160 3518]\n",
      "[2161 3526]\n",
      "[2162 3534]\n",
      "[2163 3542]\n",
      "[2164 3550]\n",
      "[2164 3559]\n",
      "[2164 3568]\n",
      "[2164 3577]\n",
      "[2164 3586]\n",
      "[2164 3595]\n",
      "[2164 3604]\n",
      "[2164 3613]\n",
      "[2164 3622]\n",
      "[2164 3631]\n",
      "[2164 3640]\n",
      "[2164 3649]\n",
      "[2164 3658]\n",
      "[2164 3667]\n",
      "[2164 3676]\n",
      "[2164 3685]\n",
      "[2164 3694]\n",
      "[2164 3703]\n",
      "[2164 3712]\n",
      "[2164 3721]\n",
      "[2164 3730]\n",
      "[2164 3739]\n",
      "[2164 3748]\n",
      "[2164 3757]\n",
      "[2164 3766]\n",
      "[2164 3775]\n",
      "[2164 3784]\n",
      "[2164 3793]\n",
      "[2164 3802]\n",
      "[2164 3811]\n",
      "[2165 3819]\n",
      "[2166 3827]\n",
      "[2167 3835]\n",
      "[2168 3843]\n",
      "[2169 3851]\n",
      "[2170 3859]\n",
      "[2171 3867]\n",
      "[2172 3875]\n",
      "[2173 3883]\n",
      "[2174 3891]\n",
      "[2175 3899]\n",
      "[2176 3907]\n",
      "[2177 3915]\n",
      "[2178 3923]\n",
      "[2179 3931]\n",
      "[2180 3939]\n",
      "[2181 3947]\n",
      "[2182 3955]\n",
      "[2183 3963]\n",
      "[2184 3971]\n",
      "[2185 3979]\n",
      "[2186 3987]\n",
      "[2187 3995]\n",
      "[2188 4003]\n",
      "[2189 4011]\n",
      "[2190 4019]\n",
      "[2191 4027]\n",
      "[2192 4035]\n",
      "[2193 4043]\n",
      "[2194 4051]\n",
      "[2195 4059]\n",
      "[2196 4067]\n",
      "[2197 4075]\n",
      "[2197 4084]\n",
      "[2197 4093]\n",
      "[2197 4102]\n",
      "[2197 4111]\n",
      "[2197 4120]\n",
      "[2197 4129]\n",
      "[2197 4138]\n",
      "[2197 4147]\n",
      "[2197 4156]\n",
      "[2197 4165]\n",
      "[2197 4174]\n",
      "[2197 4183]\n",
      "[2197 4192]\n",
      "[2197 4201]\n",
      "[2197 4210]\n",
      "[2197 4219]\n",
      "[2197 4228]\n",
      "[2197 4237]\n",
      "[2197 4246]\n",
      "[2197 4255]\n",
      "[2197 4264]\n",
      "[2197 4273]\n",
      "[2197 4282]\n",
      "[2197 4291]\n",
      "[2197 4300]\n",
      "[2197 4309]\n",
      "[2197 4318]\n",
      "[2197 4327]\n",
      "[2197 4336]\n",
      "[2197 4345]\n",
      "[2197 4354]\n",
      "[2197 4363]\n",
      "[2197 4372]\n",
      "[2197 4381]\n",
      "[2197 4390]\n",
      "[2197 4399]\n",
      "[2197 4408]\n",
      "[2197 4417]\n",
      "[2197 4426]\n",
      "[2197 4435]\n",
      "[2197 4444]\n",
      "[2197 4453]\n",
      "[2197 4462]\n",
      "[2197 4471]\n",
      "[2197 4480]\n",
      "[2197 4489]\n",
      "[2197 4498]\n",
      "[2197 4507]\n",
      "[2197 4516]\n",
      "[2197 4525]\n",
      "[2197 4534]\n",
      "[2197 4543]\n",
      "[2197 4552]\n",
      "[2197 4561]\n",
      "[2197 4570]\n",
      "[2197 4579]\n",
      "[2197 4588]\n",
      "[2197 4597]\n",
      "[2197 4606]\n",
      "[2197 4615]\n",
      "[2197 4624]\n",
      "[2197 4633]\n",
      "[2197 4642]\n",
      "[2197 4651]\n",
      "[2197 4660]\n",
      "[2197 4669]\n",
      "[2197 4678]\n",
      "[2197 4687]\n",
      "[2197 4696]\n",
      "[2197 4705]\n",
      "[2197 4714]\n",
      "[2197 4723]\n",
      "[2197 4732]\n",
      "[2198 4740]\n",
      "[2199 4748]\n",
      "[2200 4756]\n",
      "[2201 4764]\n",
      "[2202 4772]\n",
      "[2203 4780]\n",
      "[2204 4788]\n",
      "[2205 4796]\n",
      "[2206 4804]\n",
      "[2207 4812]\n",
      "[2208 4820]\n",
      "[2209 4828]\n",
      "[2210 4836]\n",
      "[2211 4844]\n",
      "[2212 4852]\n",
      "[2213 4860]\n",
      "[2214 4868]\n",
      "[2215 4876]\n",
      "[2216 4884]\n",
      "[2217 4892]\n",
      "[2218 4900]\n",
      "[2219 4908]\n",
      "[2220 4916]\n",
      "[2221 4924]\n",
      "[2222 4932]\n",
      "[2223 4940]\n",
      "[2224 4948]\n",
      "[2225 4956]\n",
      "[2226 4964]\n",
      "[2227 4972]\n",
      "[2228 4980]\n",
      "[2229 4988]\n",
      "[2229 4997]\n",
      "[2230 5005]\n",
      "[2231 5013]\n",
      "[2232 5021]\n",
      "[2233 5029]\n",
      "[2234 5037]\n",
      "[2235 5045]\n",
      "[2236 5053]\n",
      "[2237 5061]\n",
      "[2238 5069]\n",
      "[2239 5077]\n",
      "[2240 5085]\n",
      "[2241 5093]\n",
      "[2242 5101]\n",
      "[2243 5109]\n",
      "[2244 5117]\n",
      "[2245 5125]\n",
      "[2246 5133]\n",
      "[2247 5141]\n",
      "[2248 5149]\n",
      "[2249 5157]\n",
      "[2250 5165]\n",
      "[2251 5173]\n",
      "[2252 5181]\n",
      "[2253 5189]\n",
      "[2254 5197]\n",
      "[2255 5205]\n",
      "[2256 5213]\n",
      "[2257 5221]\n",
      "[2258 5229]\n",
      "[2259 5237]\n",
      "[2260 5245]\n",
      "[2261 5253]\n",
      "[2262 5261]\n",
      "[2263 5269]\n",
      "[2264 5277]\n",
      "[2265 5285]\n",
      "[2266 5293]\n",
      "[2267 5301]\n",
      "[2268 5309]\n",
      "[2269 5317]\n",
      "[2270 5325]\n",
      "[2271 5333]\n",
      "[2272 5341]\n",
      "[2273 5349]\n",
      "[2274 5357]\n",
      "[2275 5365]\n",
      "[2276 5373]\n",
      "[2277 5381]\n",
      "[2278 5389]\n",
      "[2279 5397]\n",
      "[2280 5405]\n",
      "[2281 5413]\n",
      "[2282 5421]\n",
      "[2283 5429]\n",
      "[2285 5436]\n",
      "[2287 5443]\n",
      "[2289 5450]\n",
      "[2291 5457]\n",
      "[2293 5464]\n",
      "[2295 5471]\n",
      "[2297 5478]\n",
      "[2298 5486]\n",
      "[2300 5493]\n",
      "[2302 5500]\n",
      "[2304 5507]\n",
      "[2306 5514]\n",
      "[2308 5521]\n",
      "[2309 5529]\n",
      "[2310 5537]\n",
      "[2311 5545]\n",
      "[2312 5553]\n",
      "[2313 5561]\n",
      "[2314 5569]\n",
      "[2315 5577]\n",
      "[2316 5585]\n",
      "[2317 5593]\n",
      "[2318 5601]\n",
      "[2319 5609]\n",
      "[2320 5617]\n",
      "[2321 5625]\n",
      "[2322 5633]\n",
      "[2323 5641]\n",
      "[2325 5648]\n",
      "[2327 5655]\n",
      "[2329 5662]\n",
      "[2331 5669]\n",
      "[2333 5676]\n",
      "[2335 5683]\n",
      "[2337 5690]\n",
      "[2339 5697]\n",
      "[2341 5704]\n",
      "[2343 5711]\n",
      "[2345 5718]\n",
      "[2347 5725]\n"
     ]
    },
    {
     "ename": "KeyboardInterrupt",
     "evalue": "",
     "output_type": "error",
     "traceback": [
      "\u001B[0;31m---------------------------------------------------------------------------\u001B[0m",
      "\u001B[0;31mKeyboardInterrupt\u001B[0m                         Traceback (most recent call last)",
      "\u001B[0;32m/tmp/ipykernel_15778/3519075020.py\u001B[0m in \u001B[0;36m<module>\u001B[0;34m\u001B[0m\n\u001B[1;32m     32\u001B[0m     \u001B[0mexpected_loss_step_list\u001B[0m\u001B[0;34m.\u001B[0m\u001B[0mappend\u001B[0m\u001B[0;34m(\u001B[0m\u001B[0mtest\u001B[0m\u001B[0;34m.\u001B[0m\u001B[0mexpected_loss\u001B[0m\u001B[0;34m(\u001B[0m\u001B[0mvariant\u001B[0m\u001B[0;34m=\u001B[0m\u001B[0;34m\"A\"\u001B[0m\u001B[0;34m)\u001B[0m\u001B[0;34m)\u001B[0m\u001B[0;34m\u001B[0m\u001B[0;34m\u001B[0m\u001B[0m\n\u001B[1;32m     33\u001B[0m     \u001B[0mcriterion_stop\u001B[0m \u001B[0;34m=\u001B[0m \u001B[0;34m(\u001B[0m\u001B[0mtest\u001B[0m\u001B[0;34m.\u001B[0m\u001B[0mprobability\u001B[0m\u001B[0;34m(\u001B[0m\u001B[0mvariant\u001B[0m\u001B[0;34m=\u001B[0m\u001B[0;34m\"A\"\u001B[0m\u001B[0;34m)\u001B[0m \u001B[0;34m<\u001B[0m \u001B[0;36m0.95\u001B[0m\u001B[0;34m)\u001B[0m \u001B[0;34m&\u001B[0m \u001B[0;34m(\u001B[0m\u001B[0mtest\u001B[0m\u001B[0;34m.\u001B[0m\u001B[0mprobability\u001B[0m\u001B[0;34m(\u001B[0m\u001B[0mvariant\u001B[0m\u001B[0;34m=\u001B[0m\u001B[0;34m\"B\"\u001B[0m\u001B[0;34m)\u001B[0m \u001B[0;34m<\u001B[0m \u001B[0;36m0.95\u001B[0m\u001B[0;34m)\u001B[0m \u001B[0;34m&\u001B[0m\u001B[0;31m\\\u001B[0m\u001B[0;34m\u001B[0m\u001B[0;34m\u001B[0m\u001B[0m\n\u001B[0;32m---> 34\u001B[0;31m                      \u001B[0;34m(\u001B[0m\u001B[0mtest\u001B[0m\u001B[0;34m.\u001B[0m\u001B[0mexpected_loss_ci\u001B[0m\u001B[0;34m(\u001B[0m\u001B[0mvariant\u001B[0m\u001B[0;34m=\u001B[0m\u001B[0;34m\"A\"\u001B[0m\u001B[0;34m)\u001B[0m\u001B[0;34m[\u001B[0m\u001B[0;36m0\u001B[0m\u001B[0;34m]\u001B[0m \u001B[0;34m<\u001B[0m \u001B[0;36m0\u001B[0m \u001B[0;34m<\u001B[0m \u001B[0mtest\u001B[0m\u001B[0;34m.\u001B[0m\u001B[0mexpected_loss_ci\u001B[0m\u001B[0;34m(\u001B[0m\u001B[0mvariant\u001B[0m\u001B[0;34m=\u001B[0m\u001B[0;34m\"A\"\u001B[0m\u001B[0;34m)\u001B[0m\u001B[0;34m[\u001B[0m\u001B[0;36m1\u001B[0m\u001B[0;34m]\u001B[0m\u001B[0;34m)\u001B[0m \u001B[0;34m&\u001B[0m\u001B[0;31m\\\u001B[0m\u001B[0;34m\u001B[0m\u001B[0;34m\u001B[0m\u001B[0m\n\u001B[0m\u001B[1;32m     35\u001B[0m                      \u001B[0;34m(\u001B[0m\u001B[0mnp\u001B[0m\u001B[0;34m.\u001B[0m\u001B[0msum\u001B[0m\u001B[0;34m(\u001B[0m\u001B[0mobservations_step_list\u001B[0m\u001B[0;34m)\u001B[0m \u001B[0;34m<\u001B[0m \u001B[0mn_obs_every_arm\u001B[0m \u001B[0;34m*\u001B[0m \u001B[0;36m3\u001B[0m\u001B[0;34m)\u001B[0m\u001B[0;34m\u001B[0m\u001B[0;34m\u001B[0m\u001B[0m\n\u001B[1;32m     36\u001B[0m     \u001B[0mprint\u001B[0m\u001B[0;34m(\u001B[0m\u001B[0mobservations_step_list\u001B[0m\u001B[0;34m)\u001B[0m\u001B[0;34m\u001B[0m\u001B[0;34m\u001B[0m\u001B[0m\n",
      "\u001B[0;32m~/Appbooster/proba.ai/venv/lib/python3.9/site-packages/cprior/cdist/beta.py\u001B[0m in \u001B[0;36mexpected_loss_ci\u001B[0;34m(self, method, variant, interval_length, ci_method)\u001B[0m\n\u001B[1;32m    473\u001B[0m \u001B[0;34m\u001B[0m\u001B[0m\n\u001B[1;32m    474\u001B[0m             \u001B[0;32mif\u001B[0m \u001B[0mvariant\u001B[0m \u001B[0;34m==\u001B[0m \u001B[0;34m\"A\"\u001B[0m\u001B[0;34m:\u001B[0m\u001B[0;34m\u001B[0m\u001B[0;34m\u001B[0m\u001B[0m\n\u001B[0;32m--> 475\u001B[0;31m                 \u001B[0;32mreturn\u001B[0m \u001B[0mci_interval\u001B[0m\u001B[0;34m(\u001B[0m\u001B[0;34m(\u001B[0m\u001B[0mxB\u001B[0m \u001B[0;34m-\u001B[0m \u001B[0mxA\u001B[0m\u001B[0;34m)\u001B[0m\u001B[0;34m,\u001B[0m \u001B[0minterval_length\u001B[0m\u001B[0;34m,\u001B[0m \u001B[0mci_method\u001B[0m\u001B[0;34m)\u001B[0m\u001B[0;34m\u001B[0m\u001B[0;34m\u001B[0m\u001B[0m\n\u001B[0m\u001B[1;32m    476\u001B[0m             \u001B[0;32melif\u001B[0m \u001B[0mvariant\u001B[0m \u001B[0;34m==\u001B[0m \u001B[0;34m\"B\"\u001B[0m\u001B[0;34m:\u001B[0m\u001B[0;34m\u001B[0m\u001B[0;34m\u001B[0m\u001B[0m\n\u001B[1;32m    477\u001B[0m                 \u001B[0;32mreturn\u001B[0m \u001B[0mci_interval\u001B[0m\u001B[0;34m(\u001B[0m\u001B[0;34m(\u001B[0m\u001B[0mxA\u001B[0m \u001B[0;34m-\u001B[0m \u001B[0mxB\u001B[0m\u001B[0;34m)\u001B[0m\u001B[0;34m,\u001B[0m \u001B[0minterval_length\u001B[0m\u001B[0;34m,\u001B[0m \u001B[0mci_method\u001B[0m\u001B[0;34m)\u001B[0m\u001B[0;34m\u001B[0m\u001B[0;34m\u001B[0m\u001B[0m\n",
      "\u001B[0;32m~/Appbooster/proba.ai/venv/lib/python3.9/site-packages/cprior/cdist/ci.py\u001B[0m in \u001B[0;36mci_interval\u001B[0;34m(x, interval_length, method)\u001B[0m\n\u001B[1;32m     58\u001B[0m         \u001B[0mupper\u001B[0m \u001B[0;34m=\u001B[0m \u001B[0;36m100\u001B[0m \u001B[0;34m*\u001B[0m \u001B[0;34m(\u001B[0m\u001B[0;36m1\u001B[0m \u001B[0;34m+\u001B[0m \u001B[0minterval_length\u001B[0m\u001B[0;34m)\u001B[0m \u001B[0;34m/\u001B[0m \u001B[0;36m2\u001B[0m\u001B[0;34m\u001B[0m\u001B[0;34m\u001B[0m\u001B[0m\n\u001B[1;32m     59\u001B[0m \u001B[0;34m\u001B[0m\u001B[0m\n\u001B[0;32m---> 60\u001B[0;31m         \u001B[0;32mreturn\u001B[0m \u001B[0mnp\u001B[0m\u001B[0;34m.\u001B[0m\u001B[0mpercentile\u001B[0m\u001B[0;34m(\u001B[0m\u001B[0mx\u001B[0m\u001B[0;34m,\u001B[0m \u001B[0;34m[\u001B[0m\u001B[0mlower\u001B[0m\u001B[0;34m,\u001B[0m \u001B[0mupper\u001B[0m\u001B[0;34m]\u001B[0m\u001B[0;34m)\u001B[0m\u001B[0;34m\u001B[0m\u001B[0;34m\u001B[0m\u001B[0m\n\u001B[0m\u001B[1;32m     61\u001B[0m     \u001B[0;32melse\u001B[0m\u001B[0;34m:\u001B[0m\u001B[0;34m\u001B[0m\u001B[0;34m\u001B[0m\u001B[0m\n\u001B[1;32m     62\u001B[0m         \u001B[0mn\u001B[0m \u001B[0;34m=\u001B[0m \u001B[0mlen\u001B[0m\u001B[0;34m(\u001B[0m\u001B[0mx\u001B[0m\u001B[0;34m)\u001B[0m\u001B[0;34m\u001B[0m\u001B[0;34m\u001B[0m\u001B[0m\n",
      "\u001B[0;32m<__array_function__ internals>\u001B[0m in \u001B[0;36mpercentile\u001B[0;34m(*args, **kwargs)\u001B[0m\n",
      "\u001B[0;32m~/Appbooster/proba.ai/venv/lib/python3.9/site-packages/numpy/lib/function_base.py\u001B[0m in \u001B[0;36mpercentile\u001B[0;34m(a, q, axis, out, overwrite_input, interpolation, keepdims)\u001B[0m\n\u001B[1;32m   3865\u001B[0m     \u001B[0;32mif\u001B[0m \u001B[0;32mnot\u001B[0m \u001B[0m_quantile_is_valid\u001B[0m\u001B[0;34m(\u001B[0m\u001B[0mq\u001B[0m\u001B[0;34m)\u001B[0m\u001B[0;34m:\u001B[0m\u001B[0;34m\u001B[0m\u001B[0;34m\u001B[0m\u001B[0m\n\u001B[1;32m   3866\u001B[0m         \u001B[0;32mraise\u001B[0m \u001B[0mValueError\u001B[0m\u001B[0;34m(\u001B[0m\u001B[0;34m\"Percentiles must be in the range [0, 100]\"\u001B[0m\u001B[0;34m)\u001B[0m\u001B[0;34m\u001B[0m\u001B[0;34m\u001B[0m\u001B[0m\n\u001B[0;32m-> 3867\u001B[0;31m     return _quantile_unchecked(\n\u001B[0m\u001B[1;32m   3868\u001B[0m         a, q, axis, out, overwrite_input, interpolation, keepdims)\n\u001B[1;32m   3869\u001B[0m \u001B[0;34m\u001B[0m\u001B[0m\n",
      "\u001B[0;32m~/Appbooster/proba.ai/venv/lib/python3.9/site-packages/numpy/lib/function_base.py\u001B[0m in \u001B[0;36m_quantile_unchecked\u001B[0;34m(a, q, axis, out, overwrite_input, interpolation, keepdims)\u001B[0m\n\u001B[1;32m   3984\u001B[0m                         interpolation='linear', keepdims=False):\n\u001B[1;32m   3985\u001B[0m     \u001B[0;34m\"\"\"Assumes that q is in [0, 1], and is an ndarray\"\"\"\u001B[0m\u001B[0;34m\u001B[0m\u001B[0;34m\u001B[0m\u001B[0m\n\u001B[0;32m-> 3986\u001B[0;31m     r, k = _ureduce(a, func=_quantile_ureduce_func, q=q, axis=axis, out=out,\n\u001B[0m\u001B[1;32m   3987\u001B[0m                     \u001B[0moverwrite_input\u001B[0m\u001B[0;34m=\u001B[0m\u001B[0moverwrite_input\u001B[0m\u001B[0;34m,\u001B[0m\u001B[0;34m\u001B[0m\u001B[0;34m\u001B[0m\u001B[0m\n\u001B[1;32m   3988\u001B[0m                     interpolation=interpolation)\n",
      "\u001B[0;32m~/Appbooster/proba.ai/venv/lib/python3.9/site-packages/numpy/lib/function_base.py\u001B[0m in \u001B[0;36m_ureduce\u001B[0;34m(a, func, **kwargs)\u001B[0m\n\u001B[1;32m   3562\u001B[0m         \u001B[0mkeepdim\u001B[0m \u001B[0;34m=\u001B[0m \u001B[0;34m(\u001B[0m\u001B[0;36m1\u001B[0m\u001B[0;34m,\u001B[0m\u001B[0;34m)\u001B[0m \u001B[0;34m*\u001B[0m \u001B[0ma\u001B[0m\u001B[0;34m.\u001B[0m\u001B[0mndim\u001B[0m\u001B[0;34m\u001B[0m\u001B[0;34m\u001B[0m\u001B[0m\n\u001B[1;32m   3563\u001B[0m \u001B[0;34m\u001B[0m\u001B[0m\n\u001B[0;32m-> 3564\u001B[0;31m     \u001B[0mr\u001B[0m \u001B[0;34m=\u001B[0m \u001B[0mfunc\u001B[0m\u001B[0;34m(\u001B[0m\u001B[0ma\u001B[0m\u001B[0;34m,\u001B[0m \u001B[0;34m**\u001B[0m\u001B[0mkwargs\u001B[0m\u001B[0;34m)\u001B[0m\u001B[0;34m\u001B[0m\u001B[0;34m\u001B[0m\u001B[0m\n\u001B[0m\u001B[1;32m   3565\u001B[0m     \u001B[0;32mreturn\u001B[0m \u001B[0mr\u001B[0m\u001B[0;34m,\u001B[0m \u001B[0mkeepdim\u001B[0m\u001B[0;34m\u001B[0m\u001B[0;34m\u001B[0m\u001B[0m\n\u001B[1;32m   3566\u001B[0m \u001B[0;34m\u001B[0m\u001B[0m\n",
      "\u001B[0;32m~/Appbooster/proba.ai/venv/lib/python3.9/site-packages/numpy/lib/function_base.py\u001B[0m in \u001B[0;36m_quantile_ureduce_func\u001B[0;34m(***failed resolving arguments***)\u001B[0m\n\u001B[1;32m   4093\u001B[0m         \u001B[0;32mif\u001B[0m \u001B[0mnp\u001B[0m\u001B[0;34m.\u001B[0m\u001B[0missubdtype\u001B[0m\u001B[0;34m(\u001B[0m\u001B[0ma\u001B[0m\u001B[0;34m.\u001B[0m\u001B[0mdtype\u001B[0m\u001B[0;34m,\u001B[0m \u001B[0mnp\u001B[0m\u001B[0;34m.\u001B[0m\u001B[0minexact\u001B[0m\u001B[0;34m)\u001B[0m\u001B[0;34m:\u001B[0m\u001B[0;34m\u001B[0m\u001B[0;34m\u001B[0m\u001B[0m\n\u001B[1;32m   4094\u001B[0m             \u001B[0;31m# may contain nan, which would sort to the end\u001B[0m\u001B[0;34m\u001B[0m\u001B[0;34m\u001B[0m\u001B[0m\n\u001B[0;32m-> 4095\u001B[0;31m             ap.partition(concatenate((\n\u001B[0m\u001B[1;32m   4096\u001B[0m                 \u001B[0mindices_below\u001B[0m\u001B[0;34m.\u001B[0m\u001B[0mravel\u001B[0m\u001B[0;34m(\u001B[0m\u001B[0;34m)\u001B[0m\u001B[0;34m,\u001B[0m \u001B[0mindices_above\u001B[0m\u001B[0;34m.\u001B[0m\u001B[0mravel\u001B[0m\u001B[0;34m(\u001B[0m\u001B[0;34m)\u001B[0m\u001B[0;34m,\u001B[0m \u001B[0;34m[\u001B[0m\u001B[0;34m-\u001B[0m\u001B[0;36m1\u001B[0m\u001B[0;34m]\u001B[0m\u001B[0;34m\u001B[0m\u001B[0;34m\u001B[0m\u001B[0m\n\u001B[1;32m   4097\u001B[0m             )), axis=0)\n",
      "\u001B[0;31mKeyboardInterrupt\u001B[0m: "
     ]
    }
   ],
   "source": [
    "np.random.seed(100)\n",
    "modelA = BernoulliModel(alpha=1, beta=1)\n",
    "modelB = BernoulliModel(alpha=1, beta=1)\n",
    "\n",
    "test = BernoulliABTest(modelA=modelA, modelB=modelB)\n",
    "test.update_A([0, 1])\n",
    "\n",
    "test.update_B([0, 1])\n",
    "batch_size = 10\n",
    "p_control_percent, mde_percent = 2, 0\n",
    "n_obs_every_arm = get_size_zratio(p_control_percent, mde_percent, alpha=0.05, beta=0.2)\n",
    "p1, mde_test = p_control_percent / 100, -(p_control_percent * mde_percent) / 10000\n",
    "p2 = p1 - mde_test\n",
    "probability_superiority_step_list = []  # how share of traffic changes across experiment\n",
    "observations_step_list = np.array([0, 0])  # how many observations is cumulated in every step\n",
    "expected_loss_step_list = []\n",
    "alphas_step_list, betas_step_list = np.array([0, 0]), np.array([0, 0])\n",
    "criterion_stop = (test.probability(variant=\"A\") < 0.95) & (test.probability(variant=\"B\") < 0.95) &\\\n",
    "                 (test.expected_loss_ci(variant=\"A\")[0] < 0 < test.expected_loss_ci(variant=\"A\")[1]) &\\\n",
    "                 (np.sum(observations_step_list) < n_obs_every_arm * 3)\n",
    "while criterion_stop:\n",
    "    probability_superiority_step_list.append(test.probability(variant=\"B\"))\n",
    "    data_A_size = int(batch_size * test.probability(variant=\"A\"))\n",
    "    data_B_size = int(batch_size * test.probability(variant=\"B\"))\n",
    "    data_A = np.random.binomial(n=1, p=p1, size=data_A_size)\n",
    "    data_B = np.random.binomial(n=1, p=p2, size=data_B_size)\n",
    "    alphas_step_list += np.array([data_A.sum(), data_B.sum()])\n",
    "    betas_step_list += np.array([data_A_size - data_A.sum(), data_B_size - data_B.sum()])\n",
    "    observations_step_list += np.array([data_A_size, data_B_size])\n",
    "    test.update_A(data_A)\n",
    "    test.update_B(data_B)\n",
    "    expected_loss_step_list.append(test.expected_loss(variant=\"A\"))\n",
    "    criterion_stop = (test.probability(variant=\"A\") < 0.95) & (test.probability(variant=\"B\") < 0.95) &\\\n",
    "                     (test.expected_loss_ci(variant=\"A\")[0] < 0 < test.expected_loss_ci(variant=\"A\")[1]) &\\\n",
    "                     (np.sum(observations_step_list) < n_obs_every_arm * 3)\n",
    "    print(observations_step_list)"
   ],
   "metadata": {
    "collapsed": false,
    "pycharm": {
     "name": "#%%\n"
    }
   }
  },
  {
   "cell_type": "code",
   "execution_count": 110,
   "outputs": [
    {
     "data": {
      "text/plain": "1448"
     },
     "execution_count": 110,
     "metadata": {},
     "output_type": "execute_result"
    }
   ],
   "source": [
    "np.sum(observations_step_list)"
   ],
   "metadata": {
    "collapsed": false,
    "pycharm": {
     "name": "#%%\n"
    }
   }
  },
  {
   "cell_type": "code",
   "execution_count": 100,
   "outputs": [
    {
     "data": {
      "text/plain": "True"
     },
     "execution_count": 100,
     "metadata": {},
     "output_type": "execute_result"
    }
   ],
   "source": [
    "test.expected_loss_ci(variant=\"A\")[0] < 0 < test.expected_loss_ci(variant=\"A\")[1]"
   ],
   "metadata": {
    "collapsed": false,
    "pycharm": {
     "name": "#%%\n"
    }
   }
  },
  {
   "cell_type": "code",
   "execution_count": 84,
   "outputs": [
    {
     "data": {
      "text/plain": "[0.016869670167919085, 0.0006687565679281884]"
     },
     "execution_count": 84,
     "metadata": {},
     "output_type": "execute_result"
    }
   ],
   "source": [
    "expected_loss_step_list"
   ],
   "metadata": {
    "collapsed": false,
    "pycharm": {
     "name": "#%%\n"
    }
   }
  },
  {
   "cell_type": "code",
   "execution_count": 89,
   "outputs": [
    {
     "data": {
      "text/plain": "array([-0.90234788,  0.00196922])"
     },
     "execution_count": 89,
     "metadata": {},
     "output_type": "execute_result"
    }
   ],
   "source": [
    "test.expected_loss_relative_ci()"
   ],
   "metadata": {
    "collapsed": false,
    "pycharm": {
     "name": "#%%\n"
    }
   }
  },
  {
   "cell_type": "code",
   "execution_count": 45,
   "outputs": [
    {
     "data": {
      "text/plain": "array([-0.02227061, -0.00282725])"
     },
     "execution_count": 45,
     "metadata": {},
     "output_type": "execute_result"
    }
   ],
   "source": [
    "test.expected_loss_ci(variant=\"B\")"
   ],
   "metadata": {
    "collapsed": false,
    "pycharm": {
     "name": "#%%\n"
    }
   }
  },
  {
   "cell_type": "code",
   "execution_count": 43,
   "outputs": [
    {
     "name": "stdout",
     "output_type": "stream",
     "text": [
      "P[A > B] = 0.0170\n",
      "P[B > A] = 0.9830\n",
      "E[max(B - A, 0)] = 0.0126\n",
      "E[max(A - B, 0)] = 0.0000\n"
     ]
    }
   ],
   "source": [
    "# Compute P[A > B] and P[B > A]\n",
    "print(\"P[A > B] = {:.4f}\".format(test.probability(variant=\"A\")))\n",
    "print(\"P[B > A] = {:.4f}\".format(test.probability(variant=\"B\")))\n",
    "\n",
    "# Compute posterior expected loss given a variant\n",
    "print(\"E[max(B - A, 0)] = {:.4f}\".format(test.expected_loss(variant=\"A\")))\n",
    "print(\"E[max(A - B, 0)] = {:.4f}\".format(test.expected_loss(variant=\"B\")))"
   ],
   "metadata": {
    "collapsed": false,
    "pycharm": {
     "name": "#%%\n"
    }
   }
  },
  {
   "cell_type": "code",
   "execution_count": 37,
   "outputs": [
    {
     "data": {
      "text/plain": "(array([0.016889, 0.983076]),\n array([1.26011294e-02, 3.51543229e-05]),\n array([ 0.13313055, -0.11458055]),\n              n1    n2     mu1       mu2      var1      var2 effect_size  \\\n var1 var2                                                                 \n 0    1     5000  5500  0.0958  0.108364  0.086622  0.096621   -0.041453   \n \n                                                 HDI_lift  \n var1 var2                                                 \n 0    1     [-0.21395189679497584, -0.012340269728534081]  )"
     },
     "execution_count": 37,
     "metadata": {},
     "output_type": "execute_result"
    }
   ],
   "source": [
    "alphas = np.array([data1.sum(), data2.sum()])\n",
    "betas = np.array([data1.shape[0] - alphas[0], data2.shape[0] - alphas[1]])\n",
    "bayesian_metrics(alphas, betas)"
   ],
   "metadata": {
    "collapsed": false,
    "pycharm": {
     "name": "#%%\n"
    }
   }
  }
 ],
 "metadata": {
  "kernelspec": {
   "display_name": "Python 3 (ipykernel)",
   "language": "python",
   "name": "python3"
  },
  "language_info": {
   "codemirror_mode": {
    "name": "ipython",
    "version": 3
   },
   "file_extension": ".py",
   "mimetype": "text/x-python",
   "name": "python",
   "nbconvert_exporter": "python",
   "pygments_lexer": "ipython3",
   "version": "3.8.8"
  },
  "toc": {
   "base_numbering": 1,
   "nav_menu": {},
   "number_sections": true,
   "sideBar": true,
   "skip_h1_title": false,
   "title_cell": "Table of Contents",
   "title_sidebar": "Contents",
   "toc_cell": false,
   "toc_position": {},
   "toc_section_display": true,
   "toc_window_display": false
  },
  "varInspector": {
   "cols": {
    "lenName": 16,
    "lenType": 16,
    "lenVar": 40
   },
   "kernels_config": {
    "python": {
     "delete_cmd_postfix": "",
     "delete_cmd_prefix": "del ",
     "library": "var_list.py",
     "varRefreshCmd": "print(var_dic_list())"
    },
    "r": {
     "delete_cmd_postfix": ") ",
     "delete_cmd_prefix": "rm(",
     "library": "var_list.r",
     "varRefreshCmd": "cat(var_dic_list()) "
    }
   },
   "types_to_exclude": [
    "module",
    "function",
    "builtin_function_or_method",
    "instance",
    "_Feature"
   ],
   "window_display": false
  }
 },
 "nbformat": 4,
 "nbformat_minor": 1
}