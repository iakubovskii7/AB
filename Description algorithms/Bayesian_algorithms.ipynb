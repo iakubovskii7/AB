{
 "cells": [
  {
   "cell_type": "code",
   "execution_count": 1,
   "metadata": {
    "pycharm": {
     "is_executing": true,
     "name": "#%%\n"
    }
   },
   "outputs": [],
   "source": [
    "from math import lgamma\n",
    "from numba import jit\n",
    "import numpy as np\n",
    "from scipy.stats import beta"
   ]
  },
  {
   "cell_type": "markdown",
   "metadata": {
    "collapsed": true,
    "pycharm": {
     "name": "#%% md\n"
    }
   },
   "source": [
    "# Описание работы Байесовских алгоритмов"
   ]
  },
  {
   "cell_type": "markdown",
   "metadata": {
    "pycharm": {
     "name": "#%% md\n"
    }
   },
   "source": [
    "## Принцип работы\n",
    "Предполагается некое априорное распределения метрик (биномиальные, нормальное,\n",
    "экспоненциальное и т.д.). Затем, используя полученные данные (новую информацию), мы\n",
    "пересчитываем распределения для метрик. При помощи распределения"
   ]
  },
  {
   "cell_type": "markdown",
   "metadata": {
    "pycharm": {
     "name": "#%% md\n"
    }
   },
   "source": [
    "## Основные критерии принятия решений\n",
    "\n",
    "Основная проблема Байесовских тестов по сравнению с классическими - проблема\n",
    "контроля ошибки 1 и 2 рода. Особенно это проявляется в случае ранней остановки\n",
    "алгоритма (когда мы заканчиваем эксперимент при достижении определенных значений\n",
    "критериев). Ниже будут описаны основные критерии принятия решений\n",
    "в случае байесовских тестов\n",
    "(как для алгоритма Томпсона, так и для разбивки 50 на 50)."
   ]
  },
  {
   "cell_type": "markdown",
   "metadata": {
    "pycharm": {
     "name": "#%% md\n"
    }
   },
   "source": [
    "### Вероятность превосходства для конверсии\n",
    "Английские термины: *chance to beat control*, *probability superiority*\n",
    "\n",
    "В случае алгоритма на конверсию у нас в качестве априорного распределения берется\n",
    "биномиальное. Для того чтобы пересчитать апостериорную вероятность для биномиального\n",
    "распределения, используется сопряженное ему бета-распределение.\n",
    "Вероятность превосходства  можно посчитать двумя способами: по точной формуле или при помощи генерации\n",
    "случайных величин из бета-распределения с параметрами на момент пересчета.\n",
    "\n",
    "Точная формула описана [здесь](https://www.johndcook.com/UTMDABTR-005-05.pdf).\n",
    "\n",
    "Метод сэмплирования следующий:\n",
    "\n",
    "1. Сэмплируем значения из бета-распределений с параметрами\n",
    "на текущий момент (желательно как можно больше значений)\n",
    "2. Вычисляем разницу между конверсиями для каждого варианта из\n",
    "этих распределений\n",
    "3. Смотрим сумму положительных значений для теста\n",
    "4. Суммируем и делим на число сэмплирований"
   ]
  },
  {
   "cell_type": "code",
   "execution_count": 2,
   "metadata": {
    "pycharm": {
     "name": "#%%\n"
    }
   },
   "outputs": [
    {
     "name": "stdout",
     "output_type": "stream",
     "text": [
      "Точная формула: 0.5148327134706592\n",
      "Сэмплирование: [0.484889 0.515047]\n"
     ]
    }
   ],
   "source": [
    "from src.bayesian import *\n",
    "# Посмотрим на результаты, полученные разными способами\n",
    "alphas, betas = [10, 20], [100, 200]\n",
    "print(f\"Точная формула: {calc_prob_between(alphas, betas)}\")\n",
    "print(f\"Сэмплирование: {chance_to_beat_all(np.array(alphas), np.array(betas))}\")"
   ]
  },
  {
   "cell_type": "markdown",
   "metadata": {
    "pycharm": {
     "name": "#%% md\n"
    }
   },
   "source": [
    "Отметим, что сэмплирование приводит примерно к тому же результату, но при большом\n",
    "количестве генераций случайных распределений (например, 1 млн).\n",
    "\n",
    "Важный момент, который важно понять - эта вероятность превосходства\n",
    "верна только для текущего набора наблюдений. Другими словами,\n",
    "мы не знаем, как все изменится при добавлении других данных.\n",
    "А вот как раз в случае p-value мы можем предположить, в скольких\n",
    "случаях выигрышный на данный момент вариант может на самом\n",
    "деле оказаться проигрышным в будущем.\n",
    "\n",
    "Экспериментальным путем однако выявлено, что в случае\n",
    "Байесовских тестов без остановки для контроля ошибок\n",
    "1,2 рода, вероятности превосходства вполне достаточно."
   ]
  },
  {
   "cell_type": "markdown",
   "metadata": {
    "pycharm": {
     "name": "#%% md\n"
    }
   },
   "source": [
    "### Ожидаемые потери\n",
    "Английский термин: *expected losses*\n",
    "\n",
    "Данный критерий описан в [статье](https://www.chrisstucchio.com/pubs/slides/gilt_bayesian_ab_2015/slides.html#1)\n",
    "*Chris Stucchio* - разработчика\n",
    "самого лучшего инструмента для АБ-тестов\n",
    "*Visual Website Optimizer*.\n",
    "\n",
    "\n",
    "Ожидаемые потери контрольного / тестового варианта - сколько мы ожидаем в среднем потерь в случае,\n",
    "если выберем контрольный / тестовый вариант. Считается похожим\n",
    "образом, как и сэплированная вероятность превосходства:\n",
    "1. Сэмплируем значения из бета-распределений с параметрами\n",
    "на текущий момент (желательно как можно больше значений)\n",
    "2. Вычисляем разницу между конверсиями для каждого варианта из\n",
    "этих распределений\n",
    "3. Отрицательной разнице присваиваем 0\n",
    "4. Суммируем и делим на число сэмплирований\n",
    "\n",
    "Определяем некий порог и в бой!"
   ]
  },
  {
   "cell_type": "markdown",
   "metadata": {
    "pycharm": {
     "name": "#%% md\n"
    }
   },
   "source": [
    "### Размер эффекта\n",
    "Английский термин: *effect size*\n",
    "\n",
    "Размер эффект дополняет показатель разницы конверсий и\n",
    "рассчитывается по такой формуле:\n",
    "\n",
    "$\n",
    "\\frac{\\hat{p_1} - \\hat{p_2}} {\n",
    "[\\hat{p_1} * (1 - \\hat{p_1}) * (n_1 - 1) + \\hat{p_2} *\n",
    "(1 - \\hat{p_2}) * (n_2 - 1)] /\n",
    "(n_1 + n_2 - 2)}\n",
    "$"
   ]
  },
  {
   "cell_type": "markdown",
   "metadata": {
    "pycharm": {
     "name": "#%% md\n"
    }
   },
   "source": [
    "### Достоверные интервалы\n",
    "Английский термин: *credible intervals*\n",
    "\n",
    "Достоверные интервалы являются аналогом доверительных интервалов в случае\n",
    "классических АБ-тестов. Однако, достоверные интервалы фиксируют\n",
    "нашу текущую неопределенность о потенциальных значениях параметра и\n",
    "могут быть интерпретированы как вероятностное утверждение о параметре.\n",
    "\n",
    "Доверительные интервалы отражают неопределенность относительно\n",
    "полученного нами интервала (т.е. содержит ли он истинное значение или нет).\n",
    "Таким образом, их нельзя интерпретировать как вероятностное утверждение\n",
    "об истинных значениях параметров.\n",
    "\n",
    "Сравним интерпретацию 95% доверительного и достоверного интервала.\n",
    "\n",
    "В случае доверительного интервала в 95% экспериментах истинное значение\n",
    "параметра будет лежать в данном диапазоне.\n",
    "\n",
    "В случае достоверного интервала 95% ВСЕХ ЗНАЧЕНИЙ лежит в этом диапазоне."
   ]
  },
  {
   "cell_type": "markdown",
   "metadata": {
    "pycharm": {
     "name": "#%% md\n"
    }
   },
   "source": [
    "### Область практической эквивалентности\n",
    "Английский термин: *ROPE - region of practical equivalence*\n",
    "\n",
    "Данный критерий может помочь принять нулевую гипотезу - случай\n",
    "отсутствия разницы между разными вариантами теста. Рекомендуемое значение\n",
    "границ *ROPE* = +- 0.1 для размера эффекта.\n",
    "\n",
    "Если *credible intervals* полностью лежат внутри ROPE, то\n",
    "делаем вывод, что разницы нет."
   ]
  },
  {
   "cell_type": "markdown",
   "metadata": {
    "pycharm": {
     "name": "#%% md\n"
    }
   },
   "source": [
    "## Пример реализации Байесовских тестов с разными критериями\n",
    "\n",
    "Будем пользоваться пакетом abyes и собственными вычислениями\n",
    "В этом пакете мы можем выбрать несколько критериев:\n",
    "- decision_var = ['es' - effect size; 'lift' - разница эффектов]\n",
    "- rule = ['loss', 'rope']\n",
    "\n",
    "Возьмем конверсии с крайне маленькими различиями: 0.02 (контрольный вариант)\n",
    "против 0.025 (тестовый вариант)."
   ]
  },
  {
   "cell_type": "code",
   "execution_count": 3,
   "metadata": {
    "pycharm": {
     "name": "#%%\n"
    }
   },
   "outputs": [
    {
     "name": "stdout",
     "output_type": "stream",
     "text": [
      "\n",
      "*** abyes ***\n",
      "\n",
      "Method = analytic\n",
      "Decision Rule = loss\n",
      "Threshold of Caring = 0.01\n",
      "Decision Variable = lift\n",
      "\n",
      "* Result is conclusive: A and B variants are effectively equivalent!\n",
      "\n"
     ]
    },
    {
     "data": {
      "image/png": "[encoded data removed]",
      "text/plain": [
       "<Figure size 1080x360 with 2 Axes>"
      ]
     },
     "metadata": {
      "needs_background": "light"
     },
     "output_type": "display_data"
    },
    {
     "data": {
      "text/plain": [
       "0"
      ]
     },
     "execution_count": 3,
     "metadata": {},
     "output_type": "execute_result"
    }
   ],
   "source": [
    "import abyes as ab\n",
    "data = np.random.binomial([1, 1], [0.02, 0.025], size=(20000, 2))\n",
    "\n",
    "exp = ab.AbExp(method='analytic', decision_var = 'lift',\n",
    "               rule='loss', toc=0.01, alpha=0.95, plot=True)\n",
    "exp.experiment(data.T)"
   ]
  },
  {
   "cell_type": "markdown",
   "metadata": {
    "pycharm": {
     "name": "#%% md\n"
    }
   },
   "source": [
    "Видим, что по 20000 наблюдений недостаточно, чтобы определить такую разницу\n",
    "для данных критериев. Попробуем другой критерий - ROPE.\n",
    "\n"
   ]
  },
  {
   "cell_type": "code",
   "execution_count": 4,
   "metadata": {
    "pycharm": {
     "name": "#%%\n"
    }
   },
   "outputs": [
    {
     "name": "stdout",
     "output_type": "stream",
     "text": [
      "\n",
      "*** abyes ***\n",
      "\n",
      "Method = analytic\n",
      "Decision Rule = rope\n",
      "Alpha = 0.95\n",
      "Rope = (-0.1, 0.1)\n",
      "Decision Variable = es\n",
      "\n",
      "* Result is conclusive: A and B variants are effectively equivalent!\n",
      "\n"
     ]
    },
    {
     "data": {
      "image/png": "[encoded data removed]",
      "text/plain": [
       "<Figure size 1080x360 with 2 Axes>"
      ]
     },
     "metadata": {
      "needs_background": "light"
     },
     "output_type": "display_data"
    }
   ],
   "source": [
    "exp = ab.AbExp(method='analytic', decision_var = 'es',\n",
    "               rule='rope', rope=(-0.1,0.1), alpha=0.95, plot=True)\n",
    "results = exp.experiment(data.T)"
   ]
  },
  {
   "cell_type": "markdown",
   "metadata": {
    "pycharm": {
     "name": "#%% md\n"
    }
   },
   "source": [
    "Аналогично - результат теста - между вариантами нет различий.\n",
    "\n",
    "Вычислим теперь все показатели самостоятельно."
   ]
  },
  {
   "cell_type": "code",
   "execution_count": 5,
   "metadata": {
    "pycharm": {
     "name": "#%%\n"
    }
   },
   "outputs": [
    {
     "data": {
      "text/html": [
       "<div>\n",
       "<style scoped>\n",
       "    .dataframe tbody tr th:only-of-type {\n",
       "        vertical-align: middle;\n",
       "    }\n",
       "\n",
       "    .dataframe tbody tr th {\n",
       "        vertical-align: top;\n",
       "    }\n",
       "\n",
       "    .dataframe thead th {\n",
       "        text-align: right;\n",
       "    }\n",
       "</style>\n",
       "<table border=\"1\" class=\"dataframe\">\n",
       "  <thead>\n",
       "    <tr style=\"text-align: right;\">\n",
       "      <th></th>\n",
       "      <th></th>\n",
       "      <th>n1</th>\n",
       "      <th>n2</th>\n",
       "      <th>p1</th>\n",
       "      <th>p2</th>\n",
       "      <th>var1</th>\n",
       "      <th>var2</th>\n",
       "      <th>effect_size</th>\n",
       "    </tr>\n",
       "    <tr>\n",
       "      <th>var1</th>\n",
       "      <th>var2</th>\n",
       "      <th></th>\n",
       "      <th></th>\n",
       "      <th></th>\n",
       "      <th></th>\n",
       "      <th></th>\n",
       "      <th></th>\n",
       "      <th></th>\n",
       "    </tr>\n",
       "  </thead>\n",
       "  <tbody>\n",
       "    <tr>\n",
       "      <th>0</th>\n",
       "      <th>1</th>\n",
       "      <td>20000</td>\n",
       "      <td>20000</td>\n",
       "      <td>0.0201</td>\n",
       "      <td>0.0249</td>\n",
       "      <td>0.019696</td>\n",
       "      <td>0.02428</td>\n",
       "      <td>-0.03237</td>\n",
       "    </tr>\n",
       "  </tbody>\n",
       "</table>\n",
       "</div>"
      ],
      "text/plain": [
       "              n1     n2      p1      p2      var1     var2 effect_size\n",
       "var1 var2                                                             \n",
       "0    1     20000  20000  0.0201  0.0249  0.019696  0.02428    -0.03237"
      ]
     },
     "execution_count": 5,
     "metadata": {},
     "output_type": "execute_result"
    }
   ],
   "source": [
    "# Effect size\n",
    "from src.bayesian import *\n",
    "effect_size(data)"
   ]
  },
  {
   "cell_type": "code",
   "execution_count": 11,
   "metadata": {
    "pycharm": {
     "name": "#%%\n"
    }
   },
   "outputs": [
    {
     "data": {
      "text/plain": [
       "array([0, 0])"
      ]
     },
     "execution_count": 11,
     "metadata": {},
     "output_type": "execute_result"
    }
   ],
   "source": [
    "hdi_mc(data[:, 1])"
   ]
  },
  {
   "cell_type": "code",
   "execution_count": null,
   "metadata": {},
   "outputs": [],
   "source": []
  }
 ],
 "metadata": {
  "kernelspec": {
   "display_name": "Python 3 (ipykernel)",
   "language": "python",
   "name": "python3"
  },
  "language_info": {
   "codemirror_mode": {
    "name": "ipython",
    "version": 3
   },
   "file_extension": ".py",
   "mimetype": "text/x-python",
   "name": "python",
   "nbconvert_exporter": "python",
   "pygments_lexer": "ipython3",
   "version": "3.8.8"
  },
  "toc": {
   "base_numbering": 1,
   "nav_menu": {},
   "number_sections": true,
   "sideBar": true,
   "skip_h1_title": false,
   "title_cell": "Table of Contents",
   "title_sidebar": "Contents",
   "toc_cell": false,
   "toc_position": {},
   "toc_section_display": true,
   "toc_window_display": false
  },
  "varInspector": {
   "cols": {
    "lenName": 16,
    "lenType": 16,
    "lenVar": 40
   },
   "kernels_config": {
    "python": {
     "delete_cmd_postfix": "",
     "delete_cmd_prefix": "del ",
     "library": "var_list.py",
     "varRefreshCmd": "print(var_dic_list())"
    },
    "r": {
     "delete_cmd_postfix": ") ",
     "delete_cmd_prefix": "rm(",
     "library": "var_list.r",
     "varRefreshCmd": "cat(var_dic_list()) "
    }
   },
   "types_to_exclude": [
    "module",
    "function",
    "builtin_function_or_method",
    "instance",
    "_Feature"
   ],
   "window_display": false
  }
 },
 "nbformat": 4,
 "nbformat_minor": 1
}
