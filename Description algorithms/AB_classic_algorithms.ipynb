{
 "cells": [
  {
   "cell_type": "code",
   "execution_count": 5,
   "metadata": {
    "pycharm": {
     "name": "#%%\n"
    }
   },
   "outputs": [],
   "source": [
    "from scipy import stats\n",
    "import numpy as np\n",
    "import pandas as pd"
   ]
  },
  {
   "cell_type": "markdown",
   "metadata": {
    "collapsed": true,
    "pycharm": {
     "name": "#%% md\n"
    }
   },
   "source": [
    "# Конверсия\n",
    "\n",
    "Общий алгоритм:\n",
    "\n",
    "1. Определяем размер выборки\n",
    "2. Запускаем тест и останавливаем его в момент достаточного числа пользователей\n",
    "3. Считаем доверительные интервалы для разницы и p-value для z-тестов для разницы конверсий\n",
    "4. Если вариантов больше 2, то учитываем поправку FDR\n",
    "5. Делаем вывод о победителях или вывод, что победитель однозначно не определен\n",
    "6. Если победитель не определен, то можно запустить повторный тест с 5 шагами, описанными выше.\n",
    "\n",
    "## 1. Определяем размер выборки\n",
    "\n",
    "$\n",
    "n = \\frac{(z_{\\alpha/2} + z_{\\beta})^2} {(p_1 - p_2)^2} * p_1 * (1 - p_1) + p_2 * (1-p_2)\n",
    "$\n",
    "\n",
    "где $p_1$ - базовая конверсия, $p_2$ - конверсия при предполагаемом эффекте\n",
    "$z_{\\alpha}$ - $\\alpha$ квантиль нормального распределения\n",
    "$z_{\\beta}$ - $\\beta$ квантиль нормального распределения"
   ]
  },
  {
   "cell_type": "code",
   "execution_count": 9,
   "metadata": {
    "pycharm": {
     "name": "#%%\n"
    }
   },
   "outputs": [
    {
     "name": "stdout",
     "output_type": "stream",
     "text": [
      "Для базовой конверсии в 11% и ожидаемом минимальном эффекте \n",
      "в 10% необходимое ч  исло наблюдений для каждого варианта: \n",
      "13249\n"
     ]
    }
   ],
   "source": [
    "# Пример\n",
    "def get_size_zratio(p_control_percent, mde_percent, alpha=0.05, beta=0.2,\n",
    "                    type=\"equality\"):\n",
    "    \"\"\"\n",
    "    :param p_control_percent: conversion rate in percent (10 means 10% conversion)\n",
    "    :param mde_percent: mde in percent\n",
    "    :param alpha: error I\n",
    "    :param beta: error II\n",
    "    :param type: hypothesis\n",
    "    :return:\n",
    "    \"\"\"\n",
    "    z_alpha = stats.norm.ppf(1 - alpha/2)\n",
    "    z_beta = stats.norm.ppf(1 - beta)\n",
    "    # Rewrite to notice book 2007 year (SAMPLE SIZE CALCULATION FOR COMPARING PROPORTIONS)\n",
    "    p1, mde_test = p_control_percent / 100, -(p_control_percent * mde_percent) / 10000\n",
    "    p2 = p1 - mde_test\n",
    "    n = ((z_alpha + z_beta) ** 2 / (p1 - p2) ** 2) * (p1 * (1 - p1) + p2 * (1 - p2))\n",
    "    return np.uint32(n)\n",
    "p_control, mde_percent = 11, 10\n",
    "print(f\"Для базовой конверсии в {p_control}% и ожидаемом минимальном эффекте \\n\"\n",
    "      f\"в {mde_percent}% необходимое ч  исло наблюдений для каждого варианта: \\n\"\n",
    "      f\"{get_size_zratio(p_control, mde_percent)}\")"
   ]
  }
 ],
 "metadata": {
  "kernelspec": {
   "display_name": "Python 3 (ipykernel)",
   "language": "python",
   "name": "python3"
  },
  "language_info": {
   "codemirror_mode": {
    "name": "ipython",
    "version": 3
   },
   "file_extension": ".py",
   "mimetype": "text/x-python",
   "name": "python",
   "nbconvert_exporter": "python",
   "pygments_lexer": "ipython3",
   "version": "3.9.7"
  }
 },
 "nbformat": 4,
 "nbformat_minor": 1
}