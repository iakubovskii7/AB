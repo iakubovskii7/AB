{
 "cells": [
  {
   "cell_type": "code",
   "execution_count": 2,
   "metadata": {
    "pycharm": {
     "name": "#%%\n"
    }
   },
   "outputs": [
    {
     "name": "stdout",
     "output_type": "stream",
     "text": [
      "The autoreload extension is already loaded. To reload it, use:\n",
      "  %reload_ext autoreload\n",
      "Modules to reload:\n",
      "all-except-skipped\n",
      "\n",
      "Modules to skip:\n",
      "\n",
      "Ссылка на описание классического AB-тестирования для базы знаний, \n",
      "\n",
      "https://docs.google.com/document/d/1jlyXvtl3RB1CKtLFXdsZfyx83kpMHrKRaQgsPQIqLNo/edit\n"
     ]
    }
   ],
   "source": [
    "# Для того, чтобы изменения из .py файлов подгружались сразу без рестарта\n",
    "%load_ext autoreload\n",
    "%autoreload 2\n",
    "%aimport\n",
    "from scipy import stats\n",
    "import numpy as np\n",
    "import pandas as pd\n",
    "from src.ab import *\n",
    "from src.bayesian import *\n",
    "from src.mab import *\n",
    "import matplotlib.pyplot as plt\n",
    "import seaborn as sns\n",
    "plt.rcParams['figure.figsize'] = [16, 7]\n",
    "print(\"Ссылка на описание классического AB-тестирования для базы знаний, \\n\")\n",
    "print(\"https://docs.google.com/document/d/1jlyXvtl3RB1CKtLFXdsZfyx83kpMHrKRaQgsPQIqLNo/edit\")"
   ]
  },
  {
   "cell_type": "markdown",
   "metadata": {
    "pycharm": {
     "name": "#%% md\n"
    }
   },
   "source": [
    "# Общий алгоритм классических АB-тестов:\n",
    "\n",
    "1. Определяем размер выборки\n",
    "2. Запускаем тест и останавливаем его в момент достаточного числа пользователей\n",
    "3. Считаем доверительные интервалы и p-value для разницы средних конверсий или ARPU\n",
    "4. Если вариантов больше 2, то учитываем поправку FDR\n",
    "5. Делаем вывод о победителях или вывод, что победитель однозначно не определен\n",
    "6. Если победитель не определен, то можно запустить повторный тест с 5 шагами, описанными выше.\n"
   ]
  },
  {
   "cell_type": "markdown",
   "metadata": {
    "collapsed": true,
    "pycharm": {
     "name": "#%% md\n"
    }
   },
   "source": [
    "## Конверсия\n",
    "\n",
    "\n",
    "### Определяем размер выборки\n",
    "\n",
    "$\n",
    "n = \\frac{(z_{\\alpha/2} + z_{\\beta})^2} {(p_1 - p_2)^2} * p_1 * (1 - p_1) + p_2 * (1-p_2)\n",
    "$\n",
    "\n",
    "где $p_1$ - базовая конверсия, $p_2$ - конверсия при предполагаемом эффекте\n",
    "$z_{\\alpha}$ - $\\alpha$ квантиль нормального распределения\n",
    "$z_{\\beta}$ - $\\beta$ квантиль нормального распределения"
   ]
  },
  {
   "cell_type": "code",
   "execution_count": 3,
   "metadata": {
    "pycharm": {
     "name": "#%%\n"
    }
   },
   "outputs": [
    {
     "name": "stdout",
     "output_type": "stream",
     "text": [
      "При ошибке 1 рода в 5% и мощности теста в 80% \n",
      "для базовой конверсии в 2% и ожидаемом минимальном эффекте \n",
      "в 30% необходимое число наблюдений для каждого варианта: \n",
      "9794\n"
     ]
    }
   ],
   "source": [
    "p_control_percent, mde_percent = 2, 30\n",
    "print(f\"При ошибке 1 рода в 5% и мощности теста в 80% \\nдля базовой конверсии в {p_control_percent}% и ожидаемом минимальном эффекте \\n\"\n",
    "      f\"в {mde_percent}% необходимое число наблюдений для каждого варианта: \\n\"\n",
    "      f\"{get_size_zratio(p_control_percent, mde_percent)}\")"
   ]
  },
  {
   "cell_type": "code",
   "execution_count": 37,
   "metadata": {
    "pycharm": {
     "name": "#%%\n"
    }
   },
   "outputs": [
    {
     "name": "stdout",
     "output_type": "stream",
     "text": [
      "Средние конверсии для контрольного варианта: 1.91%\n",
      "Средние конверсии для тестового варианта: 2.42%\n",
      "Доверительный интервал z-теста: (-0.009180396502886413, -0.0010299363539647138) \n",
      "\n",
      "Доверительный интервал при бутстрапе: (-0.00908719624259751, -0.001021033285685112) \n",
      "\n",
      "p-value z-теста: 0.01409121808037592 \n",
      "\n",
      "p-value бутстрап: 0.016999999999999904 \n",
      "\n"
     ]
    }
   ],
   "source": [
    "ab_classic = ABConversionTest(p_control=2, mde=30)\n",
    "winner_df, result_df = ab_classic.start_experiment(seed=10000, n_boots=10000)\n",
    "print(f\"Средние конверсии для контрольного варианта: {round(result_df.T['mu1'].values[0] * 100, 2)}%\")\n",
    "print(f\"Средние конверсии для тестового варианта: {round(result_df.T['mu2'].values[0] * 100, 2)}%\")\n",
    "print(f\"Доверительный интервал z-теста: {(result_df.T['ci_lower_ztest'].values[0], result_df.T['ci_upper_ztest'].values[0])} \\n\")\n",
    "print(f\"Доверительный интервал при бутстрапе: {(result_df.T['ci_lower_bs'].values[0], result_df.T['ci_upper_bs'].values[0])} \\n\")\n",
    "print(f\"p-value z-теста: {result_df.T['p_value_zstat'].values[0]} \\n\")\n",
    "print(f\"p-value бутстрап: {result_df.T['p_value_bs'].values[0]} \\n\")"
   ]
  },
  {
   "cell_type": "markdown",
   "metadata": {
    "pycharm": {
     "name": "#%% md\n"
    }
   },
   "source": [
    "`Доверительные интервалы не включают 0.\n",
    "Этому выводу эквивалентно, что p-value для бутстрапа меньше ошибки 1 рода в 0.05 (5%).\n",
    "`"
   ]
  },
  {
   "cell_type": "code",
   "execution_count": 153,
   "metadata": {
    "pycharm": {
     "name": "#%%\n"
    }
   },
   "outputs": [
    {
     "data": {
      "image/png": "[encoded data removed]",
      "text/plain": [
       "<Figure size 1152x504 with 1 Axes>"
      ]
     },
     "metadata": {
      "needs_background": "light"
     },
     "output_type": "display_data"
    }
   ],
   "source": [
    "create_confidence_plot(result_df.T, 'ci_lower_ztest', 'ci_upper_ztest')\n",
    "plt.title(\"Z-test\");"
   ]
  },
  {
   "cell_type": "code",
   "execution_count": 108,
   "metadata": {
    "pycharm": {
     "name": "#%%\n"
    }
   },
   "outputs": [
    {
     "data": {
      "image/png": "[encoded data removed]",
      "text/plain": [
       "<Figure size 1152x504 with 1 Axes>"
      ]
     },
     "metadata": {
      "needs_background": "light"
     },
     "output_type": "display_data"
    }
   ],
   "source": [
    "create_confidence_plot(result_df.T, 'ci_lower_bs', 'ci_upper_bs')\n",
    "plt.title(\"Bootstrap\");"
   ]
  },
  {
   "cell_type": "markdown",
   "metadata": {
    "pycharm": {
     "name": "#%% md\n"
    }
   },
   "source": [
    "## ARPU\n",
    "\n",
    "$\\mu_1=0.2$, $\\mu_2=0.25$, $sd=0.6$\n",
    "\n",
    "### Определяем размер выборки\n",
    "$\n",
    "n = (\\sqrt{2} * sd * \\frac{z_{\\beta} + z_{\\alpha}} {\\mu_1 - \\mu_2}) ^ 2\n",
    "$\n",
    "\n",
    "где $\\mu_1$ - ARPU для контрольного варианта, $mu_2$ - ARPU при предполагаемом эффекте,\n",
    "$sd$ - стандартное отклонение для двух вариантов\n",
    "$z_{\\alpha}$ - $\\alpha$ квантиль нормального распределения\n",
    "$z_{\\beta}$ - $\\beta$ квантиль нормального распределения"
   ]
  },
  {
   "cell_type": "code",
   "execution_count": 110,
   "metadata": {
    "pycharm": {
     "name": "#%%\n"
    }
   },
   "outputs": [
    {
     "name": "stdout",
     "output_type": "stream",
     "text": [
      "При ошибке 1 рода в 5% и мощности теста в 80% \n",
      "для ARPU контрольного варианта 0.2$ и ожидаемом минимальном эффекте в 50% \n",
      "необходимое число наблюдений для каждого варианта: 565\n"
     ]
    }
   ],
   "source": [
    "mu1, mu2, sd = 0.2, 0.3, 0.6\n",
    "print(f\"При ошибке 1 рода в 5% и мощности теста в 80% \\nдля ARPU контрольного варианта {mu1}$ и ожидаемом минимальном эффекте \"\n",
    "      f\"в {round((mu2 / mu1 - 1) * 100)}% \\nнеобходимое число наблюдений для каждого варианта: \"\n",
    "      f\"{get_size_student(mu1, mu2, sd_coef=3)}\")\n",
    "size_arpu = get_size_student(mu1, mu2, sd_coef=3)"
   ]
  },
  {
   "cell_type": "code",
   "execution_count": 161,
   "metadata": {
    "pycharm": {
     "name": "#%%\n"
    }
   },
   "outputs": [
    {
     "name": "stdout",
     "output_type": "stream",
     "text": [
      "ARPU для контрольной и тестовой выборки: [0.208 0.294]\n",
      "Доверительный интервал t-теста Стьюдента: (-0.1556705352557367, -0.014961973617745497) \n",
      "\n",
      "Доверительный интервал при бутстрапе: (-0.15549165996324096, -0.015626368912549062) \n",
      "\n",
      "p-value z-теста: 0.01750946663216369 \n",
      "\n",
      "p-value бутстрап: 0.016599999999999948 \n",
      "\n"
     ]
    }
   ],
   "source": [
    "np.random.seed(1000)\n",
    "data = np.random.normal([0.2, 0.3],  [0.6, 0.6], size=(size_arpu, 2))\n",
    "ab_arpu = ABTest(data)\n",
    "result_df_arpu = ab_arpu.start_experiment()\n",
    "print(f\"ARPU для контрольной и тестовой выборки: {data.mean(axis=0)}\")\n",
    "print(f\"Доверительный интервал t-теста Стьюдента: {(result_df_arpu.T['ci_lower_Student'].values[0], result_df_arpu.T['ci_upper_Student'].values[0])} \\n\")\n",
    "print(f\"Доверительный интервал при бутстрапе: {(result_df_arpu.T['ci_lower_bootstrap'].values[0], result_df_arpu.T['ci_upper_bootstrap'].values[0])} \\n\")\n",
    "print(f\"p-value z-теста: {result_df_arpu.T['p_value_Student'].values[0]} \\n\")\n",
    "print(f\"p-value бутстрап: {result_df_arpu.T['p_value_bootstrap'].values[0]} \\n\")"
   ]
  },
  {
   "cell_type": "code",
   "execution_count": null,
   "metadata": {
    "pycharm": {
     "name": "#%%\n"
    }
   },
   "outputs": [],
   "source": [
    "create_confidence_plot(result_df_arpu.T, 'ci_lower_Student', 'ci_upper_Student');\n",
    "plt.title(\"Student\")"
   ]
  },
  {
   "cell_type": "code",
   "execution_count": 156,
   "metadata": {
    "pycharm": {
     "name": "#%%\n"
    }
   },
   "outputs": [
    {
     "data": {
      "image/png": "[encoded data removed]",
      "text/plain": [
       "<Figure size 1152x504 with 1 Axes>"
      ]
     },
     "metadata": {
      "needs_background": "light"
     },
     "output_type": "display_data"
    }
   ],
   "source": [
    "create_confidence_plot(result_df_arpu.T, 'ci_lower_bootstrap', 'ci_upper_bootstrap');\n",
    "plt.title(\"Bootstrap\");"
   ]
  },
  {
   "cell_type": "markdown",
   "metadata": {
    "pycharm": {
     "name": "#%% md\n"
    }
   },
   "source": [
    "# Проблемы в классических AB-тестах"
   ]
  },
  {
   "cell_type": "markdown",
   "metadata": {
    "pycharm": {
     "name": "#%% md\n"
    }
   },
   "source": [
    "## Подглядывание\n",
    "\n",
    "Давайте проведем А/А тест - будем показывать одним и тем же пользователям одинаковые дизайны приложений.\n",
    "Допустим наш эксперимент на конверсию длится 2 недели. В среднем число пользователей за день составляет около 700.\n",
    "Давайте посмотрим, как будут изменяться наши доверительные интервалы на конец каждого дня."
   ]
  },
  {
   "cell_type": "code",
   "execution_count": 26,
   "metadata": {
    "pycharm": {
     "name": "#%%\n"
    }
   },
   "outputs": [
    {
     "data": {
      "image/png": "[encoded data removed]",
      "text/plain": [
       "<Figure size 1152x504 with 1 Axes>"
      ]
     },
     "metadata": {
      "needs_background": "light"
     },
     "output_type": "display_data"
    }
   ],
   "source": [
    "np.random.seed(1000)\n",
    "left_ci, right_ci = [], []\n",
    "for day in range(1, 15):\n",
    "    data = np.random.binomial(n=[1] * 2, p=[0.02, 0.02],\n",
    "                              size=(700, 2))\n",
    "    cm = sms.CompareMeans(sms.DescrStatsW(data[:, 0]),\n",
    "                          sms.DescrStatsW(data[:, 1]))\n",
    "    conf = cm.tconfint_diff(usevar='unequal', alpha=0.05)\n",
    "    left_ci.append(conf[0])\n",
    "    right_ci.append(conf[1])\n",
    "df = pd.DataFrame(index=np.arange(1, 15), columns=['left_ci', 'right_ci'])\n",
    "df['left_ci'] = left_ci\n",
    "df['right_ci'] = right_ci\n",
    "df.plot();\n",
    "plt.axhline(0, color='black');\n",
    "plt.axvline(10, color = \"orange\");"
   ]
  },
  {
   "cell_type": "markdown",
   "metadata": {
    "pycharm": {
     "name": "#%% md\n"
    }
   },
   "source": [
    "Из графика видно,что на 10 день теста мы получили статистически значимые различия между вариантами теста - доверительные интервалы для разницы средних\n",
    "вышли за пределы нулевого значения.\n",
    "Таким образом, из-за ошибки подглядывания мы нашли победителя, когда на самом деле его быть не должно - мы совершили ошибку 1 рода."
   ]
  },
  {
   "cell_type": "markdown",
   "metadata": {
    "pycharm": {
     "name": "#%% md\n"
    }
   },
   "source": [
    "## Множественное тестирование"
   ]
  },
  {
   "cell_type": "code",
   "execution_count": null,
   "metadata": {
    "pycharm": {
     "name": "#%%\n"
    }
   },
   "outputs": [],
   "source": []
  },
  {
   "cell_type": "markdown",
   "metadata": {
    "pycharm": {
     "name": "#%% md\n"
    }
   },
   "source": [
    "Здесь мы нарисовать график для нескольких доверительных интервалов с поправкой и наложить на них доверительные интервалы\n",
    "(они будут более узкие, чем с поправкой)"
   ]
  },
  {
   "cell_type": "markdown",
   "metadata": {
    "pycharm": {
     "name": "#%% md\n"
    }
   },
   "source": [
    "## Нарушение независивимости выборок"
   ]
  }
 ],
 "metadata": {
  "kernelspec": {
   "display_name": "Python 3 (ipykernel)",
   "language": "python",
   "name": "python3"
  },
  "language_info": {
   "codemirror_mode": {
    "name": "ipython",
    "version": 3
   },
   "file_extension": ".py",
   "mimetype": "text/x-python",
   "name": "python",
   "nbconvert_exporter": "python",
   "pygments_lexer": "ipython3",
   "version": "3.9.7"
  }
 },
 "nbformat": 4,
 "nbformat_minor": 1
}