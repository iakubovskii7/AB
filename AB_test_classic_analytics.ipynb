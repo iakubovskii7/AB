{
 "cells": [
  {
   "cell_type": "code",
   "execution_count": null,
   "metadata": {},
   "outputs": [],
   "source": [
    "%run \"/Users/iakubovskii/AppBooster/AB_testing/AB_classic.py\"\n",
    "revenue_android = pd.read_pickle(\"/Users/iakubovskii/AppBooster/AB_testing/Data/Quantum_AB_historic/ARPU/Android/final_df\")\n",
    "revenue_ios = pd.read_pickle(\"/Users/iakubovskii/AppBooster/AB_testing/Data/Quantum_AB_historic/ARPU/IOS/final_df\")"
   ]
  },
  {
   "cell_type": "code",
   "execution_count": null,
   "metadata": {},
   "outputs": [],
   "source": [
    "LevelUpRew_ios =  revenue_ios.loc[:, :, 'LevelUpRew']\n",
    "means = LevelUpRew_ios.groupby(['group_test'])['total_id_revenue'].mean()\n",
    "duration = LevelUpRew_ios['time_to_group'].max() - LevelUpRew_ios['time_to_group'].min()\n",
    "all_users = Counter(LevelUpRew_ios.index.get_level_values('group_test'))\n",
    "dict_counter = dict(Counter(LevelUpRew_ios.index.get_level_values('appsflyer_id')))\n",
    "dict_counter_1more = {key: values for key,values in dict_counter.items() if values > 1}\n",
    "variants = LevelUpRew_ios.drop(\"time_to_group\", axis=1).unstack(level=1)\n",
    "variants.columns = variants.columns.droplevel(0)\n",
    "\n",
    "repeat_users = LevelUpRew_ios.loc[dict_counter_1more.keys()].pivot_table(index = 'appsflyer_id',\n",
    "                                                         columns = 'group_test',\n",
    "                                                         values = 'total_id_revenue').fillna(0)\n",
    "describe_stat = variants.describe(percentiles = [0.75, 0.9, 0.95, 0.99])\n",
    "zero_revenues = (LevelUpRew_ios.drop(\"time_to_group\", axis=1).unstack(level=1)==0).sum(axis=0)\n",
    "box_plot = px.box(LevelUpRew_ios.reset_index(), \n",
    "             x=\"group_test\", \n",
    "             y=\"total_id_revenue\",\n",
    "             color=\"group_test\")\n",
    "\n",
    "# Hist for non zero and removing 95% quantile\n",
    "hist = px.histogram(LevelUpRew_ios.query('total_id_revenue > 0 & total_id_revenue < ' + str(describe_stat.loc['95%'].mean())\n",
    "                    ).reset_index(), \n",
    "                    x=\"total_id_revenue\", color=\"group_test\")\n",
    "hist.update_layout(barmode='overlay')\n",
    "hist.update_traces(opacity=0.9)\n",
    "# box_plot.show()"
   ]
  },
  {
   "cell_type": "code",
   "execution_count": null,
   "metadata": {},
   "outputs": [],
   "source": [
    "def delete(df):\n",
    "    for col in df.columns:\n",
    "        locals()['data_' + col] = df[col].dropna().values\n",
    "    datas = \" , \".join('data_' + col for col in df.columns)\n",
    "    exec(f'''locals()['stat_kru'], locals()['p_val'] = kruskal({datas})''')\n",
    "    return stat_kru\n",
    "delete(variants)"
   ]
  }
 ],
 "metadata": {
  "kernelspec": {
   "display_name": "venv",
   "language": "python",
   "name": "venv"
  },
  "language_info": {
   "codemirror_mode": {
    "name": "ipython",
    "version": 3
   },
   "file_extension": ".py",
   "mimetype": "text/x-python",
   "name": "python",
   "nbconvert_exporter": "python",
   "pygments_lexer": "ipython3",
   "version": "3.8.3"
  },
  "toc": {
   "base_numbering": 1,
   "nav_menu": {},
   "number_sections": true,
   "sideBar": true,
   "skip_h1_title": false,
   "title_cell": "Table of Contents",
   "title_sidebar": "Contents",
   "toc_cell": false,
   "toc_position": {},
   "toc_section_display": true,
   "toc_window_display": false
  },
  "varInspector": {
   "cols": {
    "lenName": 16,
    "lenType": 16,
    "lenVar": 40
   },
   "kernels_config": {
    "python": {
     "delete_cmd_postfix": "",
     "delete_cmd_prefix": "del ",
     "library": "var_list.py",
     "varRefreshCmd": "print(var_dic_list())"
    },
    "r": {
     "delete_cmd_postfix": ") ",
     "delete_cmd_prefix": "rm(",
     "library": "var_list.r",
     "varRefreshCmd": "cat(var_dic_list()) "
    }
   },
   "types_to_exclude": [
    "module",
    "function",
    "builtin_function_or_method",
    "instance",
    "_Feature"
   ],
   "window_display": false
  }
 },
 "nbformat": 4,
 "nbformat_minor": 4
}
