{
 "cells": [
  {
   "cell_type": "markdown",
   "source": [
    "Анализ мощности различных тестов:\n",
    "https://vkteam.medium.com/practitioners-guide-to-statistical-tests-ed2d580ef04f\n"
   ],
   "metadata": {
    "collapsed": false,
    "pycharm": {
     "name": "#%% md\n"
    }
   }
  },
  {
   "cell_type": "markdown",
   "metadata": {
    "collapsed": true,
    "pycharm": {
     "name": "#%% md\n"
    }
   },
   "source": [
    "# Доверительные интервалы в параметрических тестах\n",
    "\n",
    "Для всех метрик в параметрических тестах схема построения доверительных интервалов одинакова:\n",
    "\n",
    "1. Вычисляем метрику (конверсия, ARPU, ARPPU, число целевых событий)\n",
    "2. В зависимости от метрики вычисляем стандартную ошибку (SE)\n",
    "3. В зависимости от числа потенциальных вариантов сравнения\n",
    "выбираем квантиль распределения статистики теста (поправка FDR)\n"
   ]
  },
  {
   "cell_type": "markdown",
   "source": [
    "## Конверсия\n",
    "\n",
    "p $\\pm$ $z_{\\alpha} * \\sqrt{\\frac {p * (1 - p)}{n} }$\n",
    "\n",
    "Здесь p - вероятность конверсии\n",
    "\n",
    "$\\sqrt{\\frac {p * (1 - p)}{n} }$ - SE - стандартная ошибка в тесте\n",
    "\n",
    "$z_{\\alpha}$ - квантиль стандартного нормального распределения. Например, для уровня доверия 95% мы ищем\n",
    "97.5% квантиль и он равен 1.96.\n",
    "\n",
    "## Разница конверсий\n",
    "\n",
    "diff_p $\\pm$ $z_{\\alpha} * \\sqrt{\\frac {p_1 * (1 - p_1)}{n_1} + \\frac{p_2 * (1-p_2)}{n_2} }$\n",
    "\n",
    "## Определение оптимального количества юзеров при заданном эффекте (в каждый вариант)\n",
    "$\n",
    "n = p_1 (1 - p_1) + p_2 (1 - p_2) * (\\frac {z_{1 - \\beta} + z_{1 - \\alpha/2}} {p_1 - p_2})^2\n",
    "$"
   ],
   "metadata": {
    "collapsed": false,
    "pycharm": {
     "name": "#%% md\n"
    }
   }
  },
  {
   "cell_type": "markdown",
   "source": [
    "## ARPU, ARPPU\n",
    "\n",
    "***Наблюдения независимы (юзеры из разных выборок не повторяются и не влияют на поведение друг друга)***\n",
    "\n",
    "***в предположении, что у нас много юзеров и мы пользуемся ЦПТ,\n",
    "которая нам говорит о нормальности средних***\n",
    "\n"
   ],
   "metadata": {
    "collapsed": false,
    "pycharm": {
     "name": "#%% md\n"
    }
   }
  },
  {
   "cell_type": "markdown",
   "source": [
    "### Предпосылки:\n",
    "\n",
    "#### ДИСПЕРСИИ ОДИНАКОВЫ\n",
    "\n",
    "Для **одного среднего**:\n",
    "\n",
    "arpu $\\pm t_{\\alpha} * SE$\n",
    "\n",
    "$SE = \\sqrt{\\sigma^2 / n}$\n",
    "\n",
    "Для **разницы средних**:\n",
    "SE= $\\sqrt{ \\frac{\\sigma_1^2} {n_1} + \\frac{\\sigma_2 ^ 2}{n_2} }$\n",
    "\n",
    "Оптимальное значение числа юзеров ищем по этой формуле:\n",
    "\n",
    "$\n",
    "n = (\\frac {\\sqrt{2\\sigma^2} * (z_\\beta + z_\\alpha)} {mde})^2\n",
    "$\n",
    "\n",
    "$mde$ - maximum detectable effect\n",
    "\n",
    "$z_{beta}$ - квантиль стандартного нормального распределения уровня beta (ошибка второго рода)\n",
    "\n",
    "$z_{alpha}$ - квантиль стандартного нормального распределения уровня alpha (ошибка первого рода)"
   ],
   "metadata": {
    "collapsed": false,
    "pycharm": {
     "name": "#%% md\n"
    }
   }
  },
  {
   "cell_type": "code",
   "execution_count": 1,
   "outputs": [],
   "source": [
    "import numpy as np\n",
    "import pandas as pd\n",
    "import scipy.stats\n",
    "import seaborn as sns\n",
    "from itertools import combinations\n",
    "import matplotlib.pyplot as plt\n",
    "from scipy import stats\n",
    "import statsmodels.stats.api as sms\n",
    "from math import comb\n",
    "from tqdm.notebook import tqdm\n",
    "from scipy.stats import ttest_ind\n",
    "from scipy.stats import mannwhitneyu\n",
    "from numba import jit, prange, set_num_threads\n",
    "from joblib import Parallel, delayed\n",
    "from src.bootstrap import bootstrap_jit_parallel\n",
    "from src.ab import get_bs_confidence_interval, create_confidence_plot\n",
    "from src.ab import ABTest\n",
    "from src.ab import plot_alpha_power\n",
    "plt.style.use('ggplot')\n",
    "plt.figure(figsize=(15,7))\n",
    "%matplotlib inline\n",
    "\n",
    "import warnings\n",
    "warnings.filterwarnings(\"ignore\")"
   ],
   "metadata": {
    "collapsed": false,
    "pycharm": {
     "name": "#%%\n"
    }
   }
  },
  {
   "cell_type": "code",
   "execution_count": 5,
   "outputs": [
    {
     "name": "stdout",
     "output_type": "stream",
     "text": [
      "Доверительный интервал для разницы: (-0.2459393279860724, -0.08823162080060534)\n",
      "Средние: 0.9879683045258909, 1.1550537789192301\n",
      "Доверительные интервалы для средних отдельно: \n",
      "\n",
      "(0.9320465449073086, 1.043890064144473)\n",
      "(1.0994825030589432, 1.210625054779517)\n"
     ]
    }
   ],
   "source": [
    "# Создадим выборки из теоретических распределений с разными мат ожиданиями\n",
    "means1 = np.random.normal(loc=1, scale=2, size=5000)\n",
    "means2 = np.random.normal(loc=1.15, scale=2, size=5000)\n",
    "cm = sms.CompareMeans(sms.DescrStatsW(means1), sms.DescrStatsW(means2))\n",
    "print(f\"Доверительный интервал для разницы: {cm.tconfint_diff(usevar='unequal')}\")\n",
    "\n",
    "ci1 = (means1.mean() - 1.96 * means1.std() / np.sqrt(means1.shape[0]),\n",
    "       means1.mean() + 1.96 * means1.std() / np.sqrt(means1.shape[0]))\n",
    "ci2 = (means2.mean() - 1.96 * means2.std() / np.sqrt(means2.shape[0]),\n",
    "       means2.mean() + 1.96 * means2.std() / np.sqrt(means2.shape[0]))\n",
    "print(f\"Средние: {means1.mean()}, {means2.mean()}\")\n",
    "print(\"Доверительные интервалы для средних отдельно: \\n\")\n",
    "print(ci1)\n",
    "print(ci2)"
   ],
   "metadata": {
    "collapsed": false,
    "pycharm": {
     "name": "#%%\n"
    }
   }
  },
  {
   "cell_type": "markdown",
   "source": [
    "***Метод построения доверительных интервалов для каждого варианта имеет более низкую мощность!***\n",
    "\n",
    "*Сейчас мы это попытаемся проиллюстрировать.*\n",
    "\n",
    "### Процедура 1:\n",
    "\n",
    "1. Собираем выборки $X_1, \\ldots, X_n$ и $Y_1, \\ldots, Y_n$;\n",
    "2. Находим значение статистики\n",
    "\n",
    "$\n",
    "z_{obs} = \\frac{\\bar x - \\bar y}{\\sqrt{\\frac{s_x^2}{n_x} + \\frac{s_y^2}{n_y}}};\n",
    "$\n",
    "\n",
    "3. Говорим, что по ЦПТ $z_{obs} \\overset{asy}{\\sim} N(0,1);$\n",
    "4. Находим критическое значение $z_{1 - \\frac{\\alpha}{2}}$ (для 95% уровня доверия - это 1.96);\n",
    "5. Если мы видим, что $|z_{obs}| <  z_{1 - \\frac{\\alpha}{2}}$, мы говорим, что гипотеза не отвергается.\n",
    "\n",
    "Ту же саму гипотезу можно попробовать проверить с помощью другого алгоритма, основанного на доверительных интервалах.\n",
    "\n",
    "### Процедура 2:\n",
    "\n",
    "1. Собираем выборки $X_1, \\ldots, X_n$ и $Y_1, \\ldots, Y_n$;\n",
    "2. Находим $\\bar x$ и $\\bar y$;\n",
    "3. Пользуясь ЦПТ и зная, что $\\bar x \\overset{asy}{\\sim} N \\left(\\mu_1,\\frac{s^2_x}{n_x} \\right)$ и $\\bar y \\overset{asy}{\\sim} N\\left(\\mu_2,\\frac{s^2_y}{n_y}\\right)$ строим для $\\mu_1$ и $\\mu_2$ доверительные интервалы;\n",
    "4. Если доверительные интервалы пересеклись, говорим, что гипотеза не отвергается.\n",
    "\n",
    "Вроде бы вторая процедура выглядит довольно естественно, однако ей никто не пользуется. Дело в том, что для одинаковых ошибок первого рода, $\\alpha$, ошибка второго рода, $\\beta$, для процедуры, основанной на доверительных интервалах, окажется выше. Задание состоит в том, чтобы это увидеть.\n",
    "\n",
    "> Для простоты будем дальше предполагать, что $\\bar x > \\bar y$. Также будем считать, что обе дисперсии известны и равны единице, $\\sigma^2_x = \\sigma^2_y = 1$. Объёмы выборок одинаковы, $n_x = n_y = n$.\n"
   ],
   "metadata": {
    "collapsed": false,
    "pycharm": {
     "name": "#%% md\n"
    }
   }
  },
  {
   "cell_type": "markdown",
   "source": [
    "# Гипотеза о равенстве средних не отвергается, если\n",
    "\n",
    "$ \\frac{\\bar{x} - \\bar{y}}{\\sqrt{\\frac{\\sigma^2_x}{n_x} + \\frac{\\sigma^2_y}{n_y}}} < z_{1-\\alpha}\n",
    "\\frac{\\bar{x} - \\bar{y}}{\\sqrt{\\frac{2}{n}}} < z_{1-\\alpha} $\n",
    "\n",
    "# Найдём ошибку второго рода:\n",
    "\n",
    "$\n",
    "\\mathbb{P} \\left( H_0 \\mid H_a \\right) = \\mathbb{P} \\left( \\frac{\\bar{x} - \\bar{y}}{\\sqrt{\\frac{2}{n}}} < z_{1-\\alpha} \\mid \\mu_1 \\ne \\mu_2 \\right)  =\n",
    "\\mathbb{P} \\left( \\frac{\\bar{x} - \\bar{y} - (\\mu_1 - \\mu_2)}{\\sqrt{\\frac{2}{n}}} < z_{1-\\alpha} - \\frac{\\mu_1 - \\mu_2}{\\sqrt{\\frac{2}{n}}} \\mid \\mu_1 \\ne \\mu_2 \\right) =\n",
    "\\Phi \\left( z_{1-\\alpha} - \\frac{\\mu_1 - \\mu_2}{\\sqrt{\\frac{2}{n}}} \\right)\n",
    "$\n",
    "\n",
    "Построим доверительные интервалы для средних:\n",
    "\n",
    "$\n",
    "\\bar{x} \\pm z_{1 - \\alpha} \\cdot \\sqrt{ \\frac{1}{n} }\n",
    "\\bar{y} \\pm z_{1 - \\alpha} \\cdot \\sqrt{ \\frac{1}{n} }\n",
    "$\n",
    "\n",
    "Если доверительные интервалы пересекаются, гипотеза не отвергается, то есть:\n",
    "$\n",
    "\\bar{x} - z_{1 - \\alpha} \\cdot \\sqrt{ \\frac{1}{n} } < \\bar{y} + z_{1 - \\alpha} \\cdot \\sqrt{ \\frac{1}{n} } \\\\\n",
    "\\bar{x} - \\bar{y} < 2 \\cdot z_{1 - \\alpha} \\cdot \\sqrt{ \\frac{1}{n} } \\\\\n",
    "\\frac{\\bar{x} - \\bar{y}}{  \\sqrt{ \\frac{1}{n} } }  < 2 \\cdot z_{1 - \\alpha} \\\\\n",
    "\\frac{\\bar{x} - \\bar{y}}{  \\sqrt{ \\frac{2}{n} } }  < \\sqrt{2} \\cdot 2 \\cdot z_{1 - \\alpha} \\\\\n",
    "$\n",
    "\n",
    "Напомню, что для простоты мы считаем, что $\\bar x > \\bar y$. Найдём ошибку второго рода:\n",
    "\n",
    "$\n",
    "\\mathbb{P} \\left( H_0 \\mid H_a \\right)  = \\mathbb{P} \\left( \\frac{\\bar{x} - \\bar{y} - (\\mu_1 - \\mu_2)}{\\sqrt{\\frac{2}{n}}} < \\sqrt{2} \\cdot 2 \\cdot z_{1-\\alpha} - \\frac{\\mu_1 - \\mu_2}{\\sqrt{\\frac{2}{n}}} \\mid \\mu_1 \\ne \\mu_2 \\right) = \\Phi \\left( \\sqrt{2} \\cdot 2 \\cdot z_{1-\\alpha} - \\frac{\\mu_1 - \\mu_2}{\\sqrt{\\frac{2}{n}}} \\right)\n",
    "$\n"
   ],
   "metadata": {
    "collapsed": false,
    "pycharm": {
     "name": "#%% md\n"
    }
   }
  },
  {
   "cell_type": "code",
   "execution_count": 6,
   "outputs": [
    {
     "data": {
      "text/plain": "<Figure size 432x288 with 1 Axes>",
      "image/png": "[encoded data removed]"
     },
     "metadata": {
      "needs_background": "light"
     },
     "output_type": "display_data"
    }
   ],
   "source": [
    "def power_1(n_obs, alpha=0.05, mu1=4, mu2=5, sigma=1):\n",
    "    z_crit = stats.norm().ppf(1 - alpha)\n",
    "    a = z_crit - (mu2 - mu1)/np.sqrt(2 * sigma/n_obs)\n",
    "    return 1 - stats.norm().cdf(a)\n",
    "\n",
    "def power_2(n_obs, alpha=0.05, mu1=4, mu2=5, sigma=1):\n",
    "    z_crit = stats.norm().ppf(1 - alpha)\n",
    "    a = 2*np.sqrt(2)*z_crit - (mu2 - mu1)/np.sqrt(2 * sigma/n_obs)\n",
    "    return 1 - stats.norm().cdf(a)\n",
    "\n",
    "obs = np.arange(1, 1000)\n",
    "\n",
    "plt.plot(obs, power_1(obs), label='процедура 1')\n",
    "plt.plot(obs, power_2(obs), label='процедура 2')\n",
    "plt.legend( );"
   ],
   "metadata": {
    "collapsed": false,
    "pycharm": {
     "name": "#%%\n"
    }
   }
  },
  {
   "cell_type": "markdown",
   "source": [
    "Теперь проведем много тестов (с поправкой Сидака) и посмотрим,\n",
    "в скольких случаях мы сможем обнаружить эффект при помощи двух процедур.\n",
    "Поправка Сидака: сравниваем p-value или строим доверительные интервалы для уровня значимости:\n",
    "$\n",
    "\\alpha_{correction} = 1 - (1 - \\alpha)^{1/m}\n",
    "$\n"
   ],
   "metadata": {
    "collapsed": false,
    "pycharm": {
     "name": "#%% md\n"
    }
   }
  },
  {
   "cell_type": "code",
   "execution_count": 7,
   "outputs": [
    {
     "name": "stdout",
     "output_type": "stream",
     "text": [
      "Нужно юзеров, чтобы уловить эффект изменения: 1569\n",
      "Доверительные интервалы для каждого среднего: Counter({'средние равны': 665, 'средние не равны': 335})\n",
      "Доверительные интервалы для разницы: Counter({'средние не равны': 836, 'средние равны': 164})\n",
      "Готовый стат тест: Counter({'средние не равны': 833, 'средние равны': 167})\n"
     ]
    }
   ],
   "source": [
    "def get_size(mean1, mean2, alpha, beta, sd):\n",
    "    z_alpha = stats.norm.ppf(1 - alpha/2)\n",
    "    z_beta =  stats.norm.ppf(1 - beta)\n",
    "    n = (np.sqrt(2) * sd * (z_beta + z_alpha) / (mean1 - mean2))**2\n",
    "    return np.int16(n)\n",
    "\n",
    "def conf_int_calc_type1(data, alpha, sd):\n",
    "    \"\"\"\n",
    "    Calculate confident intervals for two datasets for significance level in the first case\n",
    "    :param data: dataset (nrow - observation, ncol - number of variants)\n",
    "    :param sd: standard deviation of population\n",
    "    :param alpha: significance level\n",
    "    :return: confident interval (tuple)\n",
    "    \"\"\"\n",
    "    z_crit = stats.norm().ppf(1 - alpha)\n",
    "    n = data.shape[0]\n",
    "    mean1, mean2 = data['1'].mean(), data['2'].mean()\n",
    "    sd1, sd2 = sd, sd\n",
    "\n",
    "    ci1 =  (mean1 - z_crit * sd1 / np.sqrt(n),\n",
    "            mean1 + z_crit * sd1 / np.sqrt(n))\n",
    "    ci2 =  (mean2 - z_crit * sd2 / np.sqrt(n),\n",
    "            mean2 + z_crit * sd2 / np.sqrt(n))\n",
    "\n",
    "    if ci1[0] > ci2[1]:\n",
    "        return \"средние не равны\"\n",
    "    else:\n",
    "        return \"средние равны\"\n",
    "\n",
    "def conf_int_calc_type2(data, alpha, sd):\n",
    "    z_crit = stats.norm().ppf(1 - alpha/2)\n",
    "    n = data.shape[0]\n",
    "    mean1, mean2 = data['1'].mean(), data['2'].mean()\n",
    "\n",
    "    ci = (mean1 - mean2 - np.sqrt((2 * sd**2)/n) * z_crit,\n",
    "          mean1 - mean2 + np.sqrt((2 * sd**2)/n) * z_crit)\n",
    "    if (ci[0] < 0) & (ci[1] > 0):\n",
    "        return \"средние равны\"\n",
    "    else:\n",
    "        return \"средние не равны\"\n",
    "\n",
    "from collections import Counter\n",
    "results_dividing = []\n",
    "results_paired = []\n",
    "results_p_values_test = []\n",
    "p_values_list = []\n",
    "alpha = 0.05\n",
    "mean1, mean2, sd = 1.5, 1, 5\n",
    "print(f\"Нужно юзеров, чтобы уловить эффект изменения: {get_size(mean1, mean2, 0.05, 0.2, sd=sd)}\")\n",
    "for i in range(1, 1001):\n",
    "    np.random.seed(i)\n",
    "    data = pd.DataFrame(columns=list(\"12\"))\n",
    "    alpha_correction = 1 - (1 - alpha) ** (1/i)\n",
    "    size = get_size(mean1, mean2, alpha_correction, beta=0.2, sd=sd)\n",
    "    data['1'] = np.random.normal(loc=mean1, scale=sd, size=size)\n",
    "    data['2'] = np.random.normal(loc=mean2, scale=sd, size=size)\n",
    "\n",
    "    results_dividing.append(conf_int_calc_type1(data, alpha_correction, sd=sd))\n",
    "    results_paired.append(conf_int_calc_type2(data, alpha_correction, sd=sd))\n",
    "    stat, p = stats.ttest_ind(data['1'], data['2'], equal_var=True)\n",
    "    p_values_list.append(p)\n",
    "    if p < alpha_correction:\n",
    "        results_p_values_test.append(\"средние не равны\")\n",
    "    else:\n",
    "        results_p_values_test.append(\"средние равны\")\n",
    "print(f\"Доверительные интервалы для каждого среднего: {Counter(results_dividing)}\")\n",
    "print(f\"Доверительные интервалы для разницы: {Counter(results_paired)}\")\n",
    "print(f\"Готовый стат тест: {Counter(results_p_values_test)}\")\n"
   ],
   "metadata": {
    "collapsed": false,
    "pycharm": {
     "name": "#%%\n"
    }
   }
  },
  {
   "cell_type": "code",
   "execution_count": 8,
   "outputs": [
    {
     "name": "stdout",
     "output_type": "stream",
     "text": [
      "Доверительный интервал для разницы: (0.2551996317759111, 0.6589323497410244)\n",
      "(0.25669377178583397, 0.657438209731102)\n"
     ]
    },
    {
     "data": {
      "text/plain": "'средние не равны'"
     },
     "execution_count": 8,
     "metadata": {},
     "output_type": "execute_result"
    }
   ],
   "source": [
    "cm = sms.CompareMeans(sms.DescrStatsW(data['1']), sms.DescrStatsW(data['2']))\n",
    "print(f\"Доверительный интервал для разницы: {cm.tconfint_diff(usevar='pooled')}\")\n",
    "\n",
    "def conf_int_calc_type2(data, alpha, sd):\n",
    "    z_crit = stats.norm().ppf(1 - alpha/2)\n",
    "    n = data.shape[0]\n",
    "    mean1, mean2 = data['1'].mean(), data['2'].mean()\n",
    "\n",
    "    ci = (mean1 - mean2 - np.sqrt((2 * sd ** 2)/n) * z_crit,\n",
    "          mean1 - mean2 + np.sqrt((2 * sd ** 2)/n) * z_crit)\n",
    "    print(ci)\n",
    "    if (ci[0] < 0) & (ci[1] > 0):\n",
    "        return \"средние равны\"\n",
    "    else:\n",
    "        return \"средние не равны\"\n",
    "conf_int_calc_type2(data, 0.05, sd=5)"
   ],
   "metadata": {
    "collapsed": false,
    "pycharm": {
     "name": "#%%\n"
    }
   }
  },
  {
   "cell_type": "markdown",
   "source": [
    "# Проверка множественных гипотез - случай выбора лучшего варианта более чем из двух\n",
    "\n",
    "Про рост ошибки 1 рода во множественном тестировании написано в лекции по АБ-тестам. Здесь попробуем реализовать\n",
    "две процедуры, которые активно используются для решения этой проблемы."
   ],
   "metadata": {
    "collapsed": false,
    "pycharm": {
     "name": "#%% md\n"
    }
   }
  },
  {
   "cell_type": "markdown",
   "source": [
    "## Процедура FDR Бенджамини-Хохберга\n",
    "\n",
    "Пусть у нас есть $n$ альтернативных вариантов дизайна приложения.\n",
    "Число сравнений $k = C_n^k$ - число сочетаний из $n$ по $k$, где\n",
    "$C_n^k = \\frac {n!} {n! (n-k)!}$. Например, для 3 вариантов нужно\n",
    "провести 3 сравнительных теста (3! / (1! * 2!)), для 4 вариантов 6\n",
    "сравнительных тестов (4! / (2! * 2!) и т. д.\n",
    "\n",
    "Тогда:\n",
    "\n",
    "1. Проводим тест Стьюдента / Манна-Уитни / Бутстрап для каждой пары вариантов\n",
    "2. Вычисляем тестовые статистики (в случае бутстрапа получаем просто распределение разницы средних)\n",
    "3. Вычисляем $p-value$\n",
    "4. Сортируем по возрастанию $p-value$ наши сравнительные тесты:\n",
    "\n",
    "$p_1 \\leq p_2 \\leq ... p_k $\n",
    "5. Фиксируем уровень значимости $\\alpha$. Это будет уровень значимости для последнего теста с $p_{value} = p_k$\n",
    "6. Далее корректируем уровни значимости по следующему правилу:\n",
    "$\\alpha_1 = \\frac {\\alpha} {k}, \\alpha_2 = \\frac {2\\alpha} {k},\n",
    "\\alpha_i = \\frac {\\alpha i} {k} ... \\alpha_k = \\alpha \\\n",
    "$\n",
    "7. Принимаем решение, исходя из следующего:\n",
    " - Если $p_k < \\alpha_k$ - отвергаем ВСЕ гипотезы (разница в средних везде есть)\n",
    " - Если $p_{k-1} < \\alpha_{k-1} $ - отвергаем оставшиеся гипотезы, а эту не отвергнуть\n",
    "(разница есть везде, кроме этих двух вариантов)\n",
    " - ...\n",
    " - Продолжаем, пока не закончатся гипотезы\n",
    "\n",
    "Ниже реализуем данный алгоритм на примере. Возьмем 4 альтернативных варианта.\n",
    "Будем использовать тест Стьюдента с разными дисперсиями (Welsh's test)."
   ],
   "metadata": {
    "collapsed": false,
    "pycharm": {
     "name": "#%% md\n"
    }
   }
  },
  {
   "cell_type": "code",
   "execution_count": 73,
   "outputs": [
    {
     "name": "stdout",
     "output_type": "stream",
     "text": [
      "Выборочные средние: [0.2904073  0.28510968 0.32543149 0.33386481]\n"
     ]
    },
    {
     "data": {
      "text/plain": "<Figure size 432x288 with 1 Axes>",
      "image/png": "[encoded data removed]"
     },
     "metadata": {
      "needs_background": "light"
     },
     "output_type": "display_data"
    }
   ],
   "source": [
    "def create_confidence_plot(df_results):\n",
    "\n",
    "    for lower,upper,y in zip(df_results['lower'],df_results['upper'],range(len(df_results))):\n",
    "        plt.plot((lower,upper),(y,y),'ro-',color='orange');\n",
    "    plt.yticks(range(len(df_results)),list(df_results.index));\n",
    "    plt.axvline(x=0, color='b', ls='--');\n",
    "\n",
    "\n",
    "def student_multiple_test(data, alpha=0.05, beta=0.8, equal_var=False):\n",
    "    \"\"\"\n",
    "    Student test for independent two samples\n",
    "    :param equal_var: assumption about variance\n",
    "    :param data: np.array where shape[1] == number of potential variants\n",
    "    :param alpha: significance level\n",
    "    :param beta: type II error (1 - power of test)\n",
    "    :return: tuple(test statistic, p value of test)\n",
    "    \"\"\"\n",
    "\n",
    "    k = comb(data.shape[1], 2)  # number of multiple comparisons\n",
    "    all_comparisons_list = list(combinations(np.arange(data.shape[1]), 2))\n",
    "    all_comparisons_df = pd.DataFrame(index=pd.MultiIndex.from_tuples(list(combinations(np.arange(data.shape[1]), 2)),\n",
    "                                                                  names=['var1', 'var2']),\n",
    "                                  columns=['statistic', 'p_value'])\n",
    "    for index, row in all_comparisons_df.iterrows():\n",
    "        all_comparisons_df.loc[index, \"diff_mean\"] = data[:, index[0]].mean() - data[:, index[1]].mean()\n",
    "        stat_test, p_value = ttest_ind(data[:, index[0]], data[:, index[1]], equal_var=equal_var)\n",
    "        all_comparisons_df.loc[index, \"statistic\"] = stat_test\n",
    "        all_comparisons_df.loc[index, \"p_value\"] = p_value\n",
    "\n",
    "    all_comparisons_df.sort_values(['p_value'], inplace=True)\n",
    "    all_comparisons_df['i'] = np.arange(all_comparisons_df.shape[0]) + 1\n",
    "    all_comparisons_df['alpha_correction'] = (all_comparisons_df['i'] * alpha ) / k\n",
    "    all_comparisons_df['stat_significance'] = np.where(all_comparisons_df['p_value'] >\n",
    "                                                       all_comparisons_df['alpha_correction'], False, True)\n",
    "    # Create confident intervals for difference with correction significance level\n",
    "    for index, row in all_comparisons_df.iterrows():\n",
    "        cm = sms.CompareMeans(sms.DescrStatsW(data[:, index[0]]), sms.DescrStatsW(data[:, index[1]]))\n",
    "        all_comparisons_df.loc[index, \"lower\"] = cm.tconfint_diff(usevar='unequal',\n",
    "                                                                                alpha=row['alpha_correction'])[0]\n",
    "        all_comparisons_df.loc[index, \"upper\"] = cm.tconfint_diff(usevar='unequal',\n",
    "                                                                                alpha=row['alpha_correction'])[1]\n",
    "\n",
    "    # Determine winners\n",
    "    for index, row in all_comparisons_df.iterrows():\n",
    "        all_comparisons_df.loc[index, \"winner\"] = np.where((row['stat_significance'] == True) &\n",
    "                                                           (row['statistic'] < 0),\n",
    "                                                           str(index[1]), np.where(row['stat_significance'] == True,\n",
    "                                                                              str(index[0]), \"not_winner\")).item()\n",
    "    winner_count = all_comparisons_df['winner'].value_counts()\n",
    "\n",
    "    winner = None\n",
    "    if np.all(np.array(winner_count.index)) == \"not_winner\":\n",
    "        winner = \"not_winner\"\n",
    "\n",
    "\n",
    "\n",
    "    return all_comparisons_df, winner_count\n",
    "data_testing = np.random.lognormal(mean=[-1.75, -1.75, -1.71, -1.7], sigma=[1, 1.01, 1.05, 1.1],\n",
    "                                   size=(1000, 4))\n",
    "print(f\"Выборочные средние: {data_testing.mean(axis=0)}\")\n",
    "df, counts = student_multiple_test(data_testing)\n",
    "create_confidence_plot(df[['lower', 'upper']])"
   ],
   "metadata": {
    "collapsed": false,
    "pycharm": {
     "name": "#%%\n"
    }
   }
  },
  {
   "cell_type": "markdown",
   "source": [
    "Проблема может быть в том, что не всегда мы можем выявить четкого победителя.\n",
    "Зачастую у нас будет на выбор несколько вариантов-победителей (один не лучше другого, но они лучше остальных).\n"
   ],
   "metadata": {
    "collapsed": false,
    "pycharm": {
     "name": "#%% md\n"
    }
   }
  },
  {
   "cell_type": "markdown",
   "source": [
    "# Непараметрические критерии (если юзеров мало и ЦПТ вряд ли выполнится)\n",
    "\n",
    "## Тест Манна-Уитни (используется для двух ненормальных выборок)\n",
    "\n",
    "***В случае нормальности выборок тест Стьюдента будет мощнее теста Манна-Уитни***.\n",
    "\n",
    "$H_0$: вероятность того, что случайно взятый из выборки $x_i$ будет равен случайно\n",
    "взятому $y_i$\n",
    "\n",
    "$H_1$: $H_0$ не выполняется\n",
    "\n",
    "Основная предпосылка теста: наблюдения должны быть хорошо различимы друг от друга.\n",
    "Например, не должно быть такого, чтобы какое-то значение слишком часто преобладало\n",
    "в выборках. Соответственно, такой тест не подойдет для проверки на *Revenue*,\n",
    "где преобладает много нулевых значений.\n",
    "\n",
    "Смысл теста сводится к тому, что мы должны проранжировать наблюдения из двух выборок.\n",
    "Затем мы находим ранги наблюдений из двух выборок в одном вариационном ряду. Если\n",
    "встречаются одинаковые значения, то им присваивают средний ранг\n",
    "\n",
    "Пример работы алгоритм для двух выборок с такими значениями $x_i = {1,2,3,4,5}; y_y = {5,6,7,8,9}$.\n",
    "\n",
    "\n",
    "1. Посчитаем ранги в общем вариационном ряду: ${1,2,3,4,5,6,7,8,9}$.\n",
    "2. Ранги $x_i$: 1,2,3,4, 4.5\n",
    "3. Ранги $y_i$: 4.5, 6,7,8,9\n",
    "4. Ранговая сумма $R_x$: 1 + 2 + 3 + 4 + 5.5 = 15.5\n",
    "5. Ранговая сумма $R_x$: 5.5 + 7 + 8 + 9 + 10 = 39.5\n",
    "6. $U_{x} = n_x * n_y + 0.5 * n_x (n_x + 1) - R_x$\n",
    "7. $U_{y} = n_x * n_y + 0.5 * n_y (n_y + 1) - R_y$\n",
    "8. $U_min = min\\{ U_x, U_y \\}$\n",
    "9. Сравниваем с критическим значением статистики https://statpsy.ru/mana-uitni/tablica-manna-uitni/\n",
    "10. 90.5 > 5, а следовательно, отвергает нулевую гипотезу о равенстве вероятностей"
   ],
   "metadata": {
    "collapsed": false,
    "pycharm": {
     "name": "#%% md\n"
    }
   }
  },
  {
   "cell_type": "code",
   "execution_count": 17,
   "outputs": [
    {
     "name": "stdout",
     "output_type": "stream",
     "text": [
      "Статистика и p-value из пакета: (0.5, 0.007985348176890053)\n",
      "Статистика ручным способом: 0.5\n",
      "Асимптотическая статистика, имеющая стандартное нормальное распределение: -0.045454545454545525\n"
     ]
    }
   ],
   "source": [
    "data1 = np.array([1,2,3,4,5])\n",
    "data2 = np.array([5,6,7,8,9])\n",
    "stat_mu, p_mu = mannwhitneyu(data1, data2)\n",
    "print(f\"Статистика и p-value из пакета: {stat_mu, p_mu}\")\n",
    "\n",
    "n1, n2 = data1.shape[0], data2.shape[0]\n",
    "U1 = n1 * n2 + 0.5 * n1 * (n1 + 1) - 15.5\n",
    "U2 = n1 * n2 + 0.5 * n2 * (n2 + 1) - 39.5\n",
    "U = min(U1, U2)\n",
    "print(f\"Статистика ручным способом: {U}\")\n",
    "\n",
    "# Можно еще вычислить асимпотическую статистику (при n_x, n_y > 8)\n",
    "U_asym = U - (0.5 * n1 * n2) / ( (1/12) * n1 * n2 * (n1 + n2 +1))\n",
    "print(f\"Асимптотическая статистика, имеющая стандартное нормальное распределение: \"\n",
    "      f\"{U_asym}\")"
   ],
   "metadata": {
    "collapsed": false,
    "pycharm": {
     "name": "#%%\n"
    }
   }
  },
  {
   "cell_type": "markdown",
   "source": [
    "## Бутстрап для сравнения двух средних\n",
    "\n",
    "1. Генерируем $N$ (для лучшей работы $N = 10000$) случайных псевдовыборок с повторением.\n",
    "для первой и второй опции\n",
    "2. Считаем разницу средних\n",
    "3. Выдаем доверительный интервал для разницы (95%)\n",
    "4. Если доверительный интервал накрывает 0, то говорим, что на уровне значимости 5%\n",
    "разницы между вариантами нет\n",
    "\n"
   ],
   "metadata": {
    "collapsed": false,
    "pycharm": {
     "name": "#%% md\n"
    }
   }
  },
  {
   "cell_type": "code",
   "execution_count": 71,
   "outputs": [
    {
     "name": "stdout",
     "output_type": "stream",
     "text": [
      "График для разницы средних: \n",
      "\n",
      "Разница есть\n"
     ]
    },
    {
     "data": {
      "text/plain": "<Figure size 430.5x360 with 1 Axes>",
      "image/png": "[encoded data removed]"
     },
     "metadata": {
      "needs_background": "light"
     },
     "output_type": "display_data"
    },
    {
     "data": {
      "text/plain": "<Figure size 360x360 with 1 Axes>",
      "image/png": "[encoded data removed]"
     },
     "metadata": {
      "needs_background": "light"
     },
     "output_type": "display_data"
    }
   ],
   "source": [
    "# Генерируем данные из логнормального распределения c примерно одинаковыми средними\n",
    "df_example = pd.DataFrame(np.random.lognormal([-2.5, -3],\n",
    "                                              [1, 1], (500,2)),\n",
    "                          columns=['control', 'test'])\n",
    "sns.displot(data=df_example.melt(),\n",
    "            x=\"value\", hue=\"variable\", kind=\"kde\");\n",
    "\n",
    "# Создаем функции при помощи C++\n",
    "\n",
    "@jit(nopython=True, parallel=True)\n",
    "def bootstrap_jit_parallel(data, boots=10000):\n",
    "    \"\"\"\n",
    "    Create bootstrap datasets that represent the distribution of the mean.\n",
    "    Returns a numpy array containing the bootstrap datasets\n",
    "\n",
    "    Keyword arguments:\n",
    "    data -- numpy array of systems to boostrap\n",
    "    boots -- number of bootstrap (default = 10000)\n",
    "    \"\"\"\n",
    "\n",
    "    to_return = np.empty(boots)\n",
    "\n",
    "    for b in prange(boots):\n",
    "\n",
    "        total=0.0\n",
    "\n",
    "        for s in range(data.shape[0]):\n",
    "\n",
    "            total += data[np.random.randint(0, data.shape[0])]\n",
    "\n",
    "        to_return[b] = total / data.shape[0]\n",
    "\n",
    "    return to_return\n",
    "\n",
    "def get_bs_confidence_interval(data, alpha=0.05):\n",
    "    quantile_array = np.quantile(data, [alpha/2, 1 - alpha/2])\n",
    "    return quantile_array\n",
    "\n",
    "countrol_bs_means = bootstrap_jit_parallel(df_example['control'].values)\n",
    "test_bs_means = bootstrap_jit_parallel(df_example['test'].values)\n",
    "difference_means = countrol_bs_means - test_bs_means\n",
    "difference_quantiles = get_bs_confidence_interval(difference_means)\n",
    "print(\"График для разницы средних: \\n\")\n",
    "sns.displot(difference_means);\n",
    "plt.axvline(x=0, color='b', ls='--');\n",
    "plt.axvline(x=difference_quantiles[0], color='r', ls = \"-.\")\n",
    "plt.axvline(x=difference_quantiles[1], color='r', ls = \"-.\")\n",
    "\n",
    "if (difference_quantiles[0] > 0) | (difference_quantiles[1] < 0):\n",
    "    print(\"Разница есть\")\n",
    "else:\n",
    "    print(\"Разницы нет\")"
   ],
   "metadata": {
    "collapsed": false,
    "pycharm": {
     "name": "#%%\n"
    }
   }
  },
  {
   "cell_type": "markdown",
   "source": [
    "## Бутстрап для проверки нескольких вариантов\n",
    "\n",
    "По аналогии с тестом Стьюдента мы будем изменять уровень значимости, а значит -\n",
    "***ширину доверительных интервалов***."
   ],
   "metadata": {
    "collapsed": false,
    "pycharm": {
     "name": "#%% md\n"
    }
   }
  },
  {
   "cell_type": "code",
   "execution_count": 101,
   "outputs": [
    {
     "name": "stdout",
     "output_type": "stream",
     "text": [
      "Выборочные средние: [-1.76262277 -1.72075309 -1.72748393 -1.77868136]\n",
      "not_winner    5\n",
      "1             1\n",
      "Name: winner, dtype: int64\n"
     ]
    },
    {
     "data": {
      "text/plain": "                                         bs_difference_means  \\\nvar1 var2                                                      \n1    3     [0.06511880351787092, 0.02237065707169994, -0....   \n2    3     [0.02153324231815512, 0.04058300013629301, 0.1...   \n0    1     [-0.01858065715031021, -0.08940359311408552, -...   \n     2     [0.04207906169290965, -2.6227600891770564e-05,...   \n     3     [0.06149522265496543, 0.00588574761115801, 0.0...   \n1    2     [0.025108232327649027, 0.07404879324568814, 0....   \n\n          median_of_difference                        bs_confident_interval  \\\nvar1 var2                                                                     \n1    3                0.057516  [-0.07375202502138117, 0.18509384687481434]   \n2    3                0.050152  [-0.06481084268206187, 0.16641649310885998]   \n0    1               -0.041961   [-0.1400422205878315, 0.05947648095280571]   \n     2               -0.035485  [-0.13295431274895958, 0.05982381073152225]   \n     3                0.015475  [-0.07738091529879376, 0.10806074824144803]   \n1    2                0.006632  [-0.08451220665119899, 0.09717371018278381]   \n\n           abs_median_of_difference  i  alpha_correction     lower     upper  \\\nvar1 var2                                                                      \n1    3                     0.057516  1          0.008333 -0.049107  0.022311   \n2    3                     0.050152  2          0.016667 -0.012650  0.081997   \n0    1                     0.041961  3          0.025000 -0.006184  0.068763   \n     2                     0.035485  4          0.033333 -0.055045  0.019588   \n     3                     0.015475  5          0.041667 -0.022829  0.058049   \n1    2                     0.006632  6          0.050000 -0.097050 -0.001411   \n\n           stat_significance      winner  \nvar1 var2                                 \n1    3                 False  not_winner  \n2    3                 False  not_winner  \n0    1                 False  not_winner  \n     2                 False  not_winner  \n     3                 False  not_winner  \n1    2                  True           1  ",
      "text/html": "<div>\n<style scoped>\n    .dataframe tbody tr th:only-of-type {\n        vertical-align: middle;\n    }\n\n    .dataframe tbody tr th {\n        vertical-align: top;\n    }\n\n    .dataframe thead th {\n        text-align: right;\n    }\n</style>\n<table border=\"1\" class=\"dataframe\">\n  <thead>\n    <tr style=\"text-align: right;\">\n      <th></th>\n      <th></th>\n      <th>bs_difference_means</th>\n      <th>median_of_difference</th>\n      <th>bs_confident_interval</th>\n      <th>abs_median_of_difference</th>\n      <th>i</th>\n      <th>alpha_correction</th>\n      <th>lower</th>\n      <th>upper</th>\n      <th>stat_significance</th>\n      <th>winner</th>\n    </tr>\n    <tr>\n      <th>var1</th>\n      <th>var2</th>\n      <th></th>\n      <th></th>\n      <th></th>\n      <th></th>\n      <th></th>\n      <th></th>\n      <th></th>\n      <th></th>\n      <th></th>\n      <th></th>\n    </tr>\n  </thead>\n  <tbody>\n    <tr>\n      <th>1</th>\n      <th>3</th>\n      <td>[0.06511880351787092, 0.02237065707169994, -0....</td>\n      <td>0.057516</td>\n      <td>[-0.07375202502138117, 0.18509384687481434]</td>\n      <td>0.057516</td>\n      <td>1</td>\n      <td>0.008333</td>\n      <td>-0.049107</td>\n      <td>0.022311</td>\n      <td>False</td>\n      <td>not_winner</td>\n    </tr>\n    <tr>\n      <th>2</th>\n      <th>3</th>\n      <td>[0.02153324231815512, 0.04058300013629301, 0.1...</td>\n      <td>0.050152</td>\n      <td>[-0.06481084268206187, 0.16641649310885998]</td>\n      <td>0.050152</td>\n      <td>2</td>\n      <td>0.016667</td>\n      <td>-0.012650</td>\n      <td>0.081997</td>\n      <td>False</td>\n      <td>not_winner</td>\n    </tr>\n    <tr>\n      <th rowspan=\"3\" valign=\"top\">0</th>\n      <th>1</th>\n      <td>[-0.01858065715031021, -0.08940359311408552, -...</td>\n      <td>-0.041961</td>\n      <td>[-0.1400422205878315, 0.05947648095280571]</td>\n      <td>0.041961</td>\n      <td>3</td>\n      <td>0.025000</td>\n      <td>-0.006184</td>\n      <td>0.068763</td>\n      <td>False</td>\n      <td>not_winner</td>\n    </tr>\n    <tr>\n      <th>2</th>\n      <td>[0.04207906169290965, -2.6227600891770564e-05,...</td>\n      <td>-0.035485</td>\n      <td>[-0.13295431274895958, 0.05982381073152225]</td>\n      <td>0.035485</td>\n      <td>4</td>\n      <td>0.033333</td>\n      <td>-0.055045</td>\n      <td>0.019588</td>\n      <td>False</td>\n      <td>not_winner</td>\n    </tr>\n    <tr>\n      <th>3</th>\n      <td>[0.06149522265496543, 0.00588574761115801, 0.0...</td>\n      <td>0.015475</td>\n      <td>[-0.07738091529879376, 0.10806074824144803]</td>\n      <td>0.015475</td>\n      <td>5</td>\n      <td>0.041667</td>\n      <td>-0.022829</td>\n      <td>0.058049</td>\n      <td>False</td>\n      <td>not_winner</td>\n    </tr>\n    <tr>\n      <th>1</th>\n      <th>2</th>\n      <td>[0.025108232327649027, 0.07404879324568814, 0....</td>\n      <td>0.006632</td>\n      <td>[-0.08451220665119899, 0.09717371018278381]</td>\n      <td>0.006632</td>\n      <td>6</td>\n      <td>0.050000</td>\n      <td>-0.097050</td>\n      <td>-0.001411</td>\n      <td>True</td>\n      <td>1</td>\n    </tr>\n  </tbody>\n</table>\n</div>"
     },
     "execution_count": 101,
     "metadata": {},
     "output_type": "execute_result"
    },
    {
     "data": {
      "text/plain": "<Figure size 432x288 with 1 Axes>",
      "image/png": "[encoded data removed]"
     },
     "metadata": {
      "needs_background": "light"
     },
     "output_type": "display_data"
    }
   ],
   "source": [
    "def bootstrap_multiple_test(data, alpha=0.05, beta=0.8, equal_var=False):\n",
    "    \"\"\"\n",
    "    Bootstrap test for independent two samples\n",
    "    :param equal_var: assumption about variance\n",
    "    :param data: np.array where shape[1] == number of potential variants\n",
    "    :param alpha: significance level\n",
    "    :param beta: type II error (1 - power of test)\n",
    "    :return: tuple(test statistic, p value of test)\n",
    "    \"\"\"\n",
    "\n",
    "    k = comb(data.shape[1], 2)  # number of multiple comparisons\n",
    "    all_comparisons_list = list(combinations(np.arange(data.shape[1]), 2))\n",
    "    all_comparisons_df = pd.DataFrame(index=pd.MultiIndex.from_tuples(list(combinations(np.arange(data.shape[1]), 2)),\n",
    "                                                                  names=['var1', 'var2']),\n",
    "                                  columns=['bs_difference_means', 'median_of_difference',\n",
    "                                           'bs_confident_interval'])\n",
    "\n",
    "    # Calculate bs samples\n",
    "    for index, row in all_comparisons_df.iterrows():\n",
    "        data1_bs_samples = bootstrap_jit_parallel(data[:, index[0]])\n",
    "        data2_bs_samples = bootstrap_jit_parallel(data[:, index[1]])\n",
    "        difference_bs_means = data1_bs_samples - data2_bs_samples\n",
    "        all_comparisons_df.at[index, \"bs_difference_means\"] = difference_bs_means\n",
    "        all_comparisons_df.loc[index, \"median_of_difference\"] = np.median(difference_bs_means)\n",
    "        all_comparisons_df.loc[index, \"abs_median_of_difference\"] = np.abs(np.median(difference_bs_means))\n",
    "\n",
    "    all_comparisons_df.sort_values(['abs_median_of_difference'], inplace=True, ascending=False)\n",
    "    all_comparisons_df.loc[:, 'i'] = np.arange(all_comparisons_df.shape[0]) + 1\n",
    "    all_comparisons_df.loc[:, 'alpha_correction'] = (all_comparisons_df['i'] * alpha ) / k\n",
    "\n",
    "    # Create confident intervals for difference with correction significance level\n",
    "    for index, row in all_comparisons_df.iterrows():\n",
    "        all_comparisons_df.at[index, 'bs_confident_interval'] = get_bs_confidence_interval(\n",
    "            all_comparisons_df.loc[index, \"bs_difference_means\"],\n",
    "            alpha=all_comparisons_df.loc[index, 'alpha_correction'])\n",
    "    all_comparisons_df[\"lower\"] = df_bs.loc[:, \"bs_confident_interval\"].apply(lambda x: x[0])\n",
    "    all_comparisons_df[\"upper\"] = df_bs.loc[:, \"bs_confident_interval\"].apply(lambda x: x[1])\n",
    "\n",
    "    all_comparisons_df['stat_significance'] = np.where(\n",
    "        (all_comparisons_df['lower'] > 0) |\n",
    "        (all_comparisons_df['upper'] < 0), True, False)\n",
    "\n",
    "\n",
    "    # Determine winners\n",
    "    for index, row in all_comparisons_df.iterrows():\n",
    "        all_comparisons_df.loc[index, \"winner\"] = np.where(\n",
    "            (row['stat_significance'] == True) &\n",
    "            (row['median_of_difference'] < 0), str(index[1]), np.where(\n",
    "            row['stat_significance'] == True, str(index[0]), \"not_winner\")).item()\n",
    "    winner_count = all_comparisons_df['winner'].value_counts()\n",
    "\n",
    "    winner = None\n",
    "    if np.all(np.array(winner_count.index)) == \"not_winner\":\n",
    "        winner = \"not_winner\"\n",
    "    return all_comparisons_df, winner_count\n",
    "# data_testing = np.random.lognormal(mean=[-1.75, -1.75, -1.71, -1.8], sigma=[1, 1.01, 1.05, 1.1],\n",
    "#                                    size=(1000, 4))\n",
    "data_testing = np.random.normal(loc=[-1.75, -1.75, -1.71, -1.8], scale=[1, 1.01, 1.05, 1.1],\n",
    "                                   size=(1000, 4))\n",
    "print(f\"Выборочные средние: {data_testing.mean(axis=0)}\")\n",
    "df_bs, counts = bootstrap_multiple_test(data_testing)\n",
    "create_confidence_plot(df[['lower', 'upper']])\n",
    "print(counts)"
   ],
   "metadata": {
    "collapsed": false,
    "pycharm": {
     "name": "#%%\n"
    }
   }
  },
  {
   "cell_type": "markdown",
   "source": [
    "# Сравнение работоспособности трех критериев в случае классических тестов"
   ],
   "metadata": {
    "collapsed": false,
    "pycharm": {
     "name": "#%% md\n"
    }
   }
  },
  {
   "cell_type": "markdown",
   "source": [
    "## Тестирование на генеральной совокупности данных\n",
    "Здесь мы будем генерировать различные распределения и исходя от скошенности от нормального\n",
    "смотреть на графики ошибки 1 и 2 рода. График слева: по оси x - ошибка 1 рода,\n",
    "по оси y - мощность (1 - ошибка 2 рода)"
   ],
   "metadata": {
    "collapsed": false,
    "pycharm": {
     "name": "#%% md\n"
    }
   }
  },
  {
   "cell_type": "code",
   "execution_count": 2,
   "outputs": [
    {
     "data": {
      "text/plain": "  0%|          | 0/3 [00:00<?, ?it/s]",
      "application/vnd.jupyter.widget-view+json": {
       "version_major": 2,
       "version_minor": 0,
       "model_id": "f83bae554780421bba00f433fa1c5fed"
      }
     },
     "metadata": {},
     "output_type": "display_data"
    },
    {
     "data": {
      "text/plain": "  0%|          | 0/3 [00:00<?, ?it/s]",
      "application/vnd.jupyter.widget-view+json": {
       "version_major": 2,
       "version_minor": 0,
       "model_id": "3512d5c11f364261b33da09680277fe5"
      }
     },
     "metadata": {},
     "output_type": "display_data"
    },
    {
     "data": {
      "text/plain": "  0%|          | 0/4 [00:00<?, ?it/s]",
      "application/vnd.jupyter.widget-view+json": {
       "version_major": 2,
       "version_minor": 0,
       "model_id": "2bcd8dcb1c024e0fbce6e6cc6be19010"
      }
     },
     "metadata": {},
     "output_type": "display_data"
    },
    {
     "data": {
      "text/plain": "  0%|          | 0/3 [00:00<?, ?it/s]",
      "application/vnd.jupyter.widget-view+json": {
       "version_major": 2,
       "version_minor": 0,
       "model_id": "078e38e0752e4f82aef25465677cf45d"
      }
     },
     "metadata": {},
     "output_type": "display_data"
    },
    {
     "data": {
      "text/plain": "  0%|          | 0/5 [00:00<?, ?it/s]",
      "application/vnd.jupyter.widget-view+json": {
       "version_major": 2,
       "version_minor": 0,
       "model_id": "05159feffe8946c8b3bdde4f4776ea57"
      }
     },
     "metadata": {},
     "output_type": "display_data"
    },
    {
     "data": {
      "text/plain": "  0%|          | 0/200 [00:00<?, ?it/s]",
      "application/vnd.jupyter.widget-view+json": {
       "version_major": 2,
       "version_minor": 0,
       "model_id": "118185e4c1ec440cb0979696da8ff2de"
      }
     },
     "metadata": {},
     "output_type": "display_data"
    },
    {
     "name": "stderr",
     "output_type": "stream",
     "text": [
      "Process LokyProcess-7:\n",
      "Traceback (most recent call last):\n",
      "  File \"/usr/lib/python3.9/multiprocessing/process.py\", line 315, in _bootstrap\n",
      "    self.run()\n",
      "  File \"/usr/lib/python3.9/multiprocessing/process.py\", line 108, in run\n",
      "    self._target(*self._args, **self._kwargs)\n",
      "  File \"/home/igor/Appbooster/proba.ai/venv/lib/python3.9/site-packages/joblib/externals/loky/process_executor.py\", line 477, in _process_worker\n",
      "    gc.collect()\n",
      "KeyboardInterrupt\n",
      "Process LokyProcess-12:\n",
      "Traceback (most recent call last):\n",
      "  File \"/usr/lib/python3.9/multiprocessing/process.py\", line 315, in _bootstrap\n",
      "    self.run()\n",
      "  File \"/usr/lib/python3.9/multiprocessing/process.py\", line 108, in run\n",
      "    self._target(*self._args, **self._kwargs)\n",
      "  File \"/home/igor/Appbooster/proba.ai/venv/lib/python3.9/site-packages/joblib/externals/loky/process_executor.py\", line 477, in _process_worker\n",
      "    gc.collect()\n",
      "KeyboardInterrupt\n",
      "Process LokyProcess-6:\n",
      "Traceback (most recent call last):\n",
      "  File \"/usr/lib/python3.9/multiprocessing/process.py\", line 315, in _bootstrap\n",
      "    self.run()\n",
      "  File \"/usr/lib/python3.9/multiprocessing/process.py\", line 108, in run\n",
      "    self._target(*self._args, **self._kwargs)\n",
      "  File \"/home/igor/Appbooster/proba.ai/venv/lib/python3.9/site-packages/joblib/externals/loky/process_executor.py\", line 477, in _process_worker\n",
      "    gc.collect()\n",
      "KeyboardInterrupt\n",
      "Process LokyProcess-11:\n",
      "Traceback (most recent call last):\n",
      "  File \"/usr/lib/python3.9/multiprocessing/process.py\", line 315, in _bootstrap\n",
      "    self.run()\n",
      "  File \"/usr/lib/python3.9/multiprocessing/process.py\", line 108, in run\n",
      "    self._target(*self._args, **self._kwargs)\n",
      "  File \"/home/igor/Appbooster/proba.ai/venv/lib/python3.9/site-packages/joblib/externals/loky/process_executor.py\", line 477, in _process_worker\n",
      "    gc.collect()\n",
      "KeyboardInterrupt\n"
     ]
    },
    {
     "ename": "KeyboardInterrupt",
     "evalue": "",
     "output_type": "error",
     "traceback": [
      "\u001B[0;31m---------------------------------------------------------------------------\u001B[0m",
      "\u001B[0;31mKeyboardInterrupt\u001B[0m                         Traceback (most recent call last)",
      "\u001B[0;32m/tmp/ipykernel_35501/672571254.py\u001B[0m in \u001B[0;36m<module>\u001B[0;34m\u001B[0m\n\u001B[1;32m     74\u001B[0m                         \u001B[0mmeans\u001B[0m \u001B[0;34m=\u001B[0m \u001B[0;34m[\u001B[0m\u001B[0mmean1\u001B[0m\u001B[0;34m,\u001B[0m \u001B[0mmean1\u001B[0m \u001B[0;34m*\u001B[0m \u001B[0mmean_diff\u001B[0m\u001B[0;34m]\u001B[0m\u001B[0;34m\u001B[0m\u001B[0;34m\u001B[0m\u001B[0m\n\u001B[1;32m     75\u001B[0m                         \u001B[0mstds\u001B[0m \u001B[0;34m=\u001B[0m \u001B[0;34m[\u001B[0m\u001B[0msigma1\u001B[0m\u001B[0;34m,\u001B[0m \u001B[0msigma1\u001B[0m \u001B[0;34m*\u001B[0m \u001B[0msigma_diff\u001B[0m\u001B[0;34m]\u001B[0m\u001B[0;34m\u001B[0m\u001B[0;34m\u001B[0m\u001B[0m\n\u001B[0;32m---> 76\u001B[0;31m                         res_all = Parallel(n_jobs=-1)(\n\u001B[0m\u001B[1;32m     77\u001B[0m                             \u001B[0mdelayed\u001B[0m\u001B[0;34m(\u001B[0m\u001B[0mget_p_values\u001B[0m\u001B[0;34m)\u001B[0m\u001B[0;34m(\u001B[0m\u001B[0mdistr_type\u001B[0m\u001B[0;34m,\u001B[0m \u001B[0mmeans\u001B[0m\u001B[0;34m,\u001B[0m \u001B[0mstds\u001B[0m\u001B[0;34m,\u001B[0m \u001B[0msize\u001B[0m\u001B[0;34m,\u001B[0m \u001B[0mi\u001B[0m\u001B[0;34m)\u001B[0m\u001B[0;34m\u001B[0m\u001B[0;34m\u001B[0m\u001B[0m\n\u001B[1;32m     78\u001B[0m                             \u001B[0;32mfor\u001B[0m \u001B[0mi\u001B[0m \u001B[0;32min\u001B[0m \u001B[0mrange\u001B[0m\u001B[0;34m(\u001B[0m\u001B[0;36m1000\u001B[0m\u001B[0;34m)\u001B[0m\u001B[0;34m\u001B[0m\u001B[0;34m\u001B[0m\u001B[0m\n",
      "\u001B[0;32m~/Appbooster/proba.ai/venv/lib/python3.9/site-packages/joblib/parallel.py\u001B[0m in \u001B[0;36m__call__\u001B[0;34m(self, iterable)\u001B[0m\n\u001B[1;32m   1052\u001B[0m \u001B[0;34m\u001B[0m\u001B[0m\n\u001B[1;32m   1053\u001B[0m             \u001B[0;32mwith\u001B[0m \u001B[0mself\u001B[0m\u001B[0;34m.\u001B[0m\u001B[0m_backend\u001B[0m\u001B[0;34m.\u001B[0m\u001B[0mretrieval_context\u001B[0m\u001B[0;34m(\u001B[0m\u001B[0;34m)\u001B[0m\u001B[0;34m:\u001B[0m\u001B[0;34m\u001B[0m\u001B[0;34m\u001B[0m\u001B[0m\n\u001B[0;32m-> 1054\u001B[0;31m                 \u001B[0mself\u001B[0m\u001B[0;34m.\u001B[0m\u001B[0mretrieve\u001B[0m\u001B[0;34m(\u001B[0m\u001B[0;34m)\u001B[0m\u001B[0;34m\u001B[0m\u001B[0;34m\u001B[0m\u001B[0m\n\u001B[0m\u001B[1;32m   1055\u001B[0m             \u001B[0;31m# Make sure that we get a last message telling us we are done\u001B[0m\u001B[0;34m\u001B[0m\u001B[0;34m\u001B[0m\u001B[0m\n\u001B[1;32m   1056\u001B[0m             \u001B[0melapsed_time\u001B[0m \u001B[0;34m=\u001B[0m \u001B[0mtime\u001B[0m\u001B[0;34m.\u001B[0m\u001B[0mtime\u001B[0m\u001B[0;34m(\u001B[0m\u001B[0;34m)\u001B[0m \u001B[0;34m-\u001B[0m \u001B[0mself\u001B[0m\u001B[0;34m.\u001B[0m\u001B[0m_start_time\u001B[0m\u001B[0;34m\u001B[0m\u001B[0;34m\u001B[0m\u001B[0m\n",
      "\u001B[0;32m~/Appbooster/proba.ai/venv/lib/python3.9/site-packages/joblib/parallel.py\u001B[0m in \u001B[0;36mretrieve\u001B[0;34m(self)\u001B[0m\n\u001B[1;32m    931\u001B[0m             \u001B[0;32mtry\u001B[0m\u001B[0;34m:\u001B[0m\u001B[0;34m\u001B[0m\u001B[0;34m\u001B[0m\u001B[0m\n\u001B[1;32m    932\u001B[0m                 \u001B[0;32mif\u001B[0m \u001B[0mgetattr\u001B[0m\u001B[0;34m(\u001B[0m\u001B[0mself\u001B[0m\u001B[0;34m.\u001B[0m\u001B[0m_backend\u001B[0m\u001B[0;34m,\u001B[0m \u001B[0;34m'supports_timeout'\u001B[0m\u001B[0;34m,\u001B[0m \u001B[0;32mFalse\u001B[0m\u001B[0;34m)\u001B[0m\u001B[0;34m:\u001B[0m\u001B[0;34m\u001B[0m\u001B[0;34m\u001B[0m\u001B[0m\n\u001B[0;32m--> 933\u001B[0;31m                     \u001B[0mself\u001B[0m\u001B[0;34m.\u001B[0m\u001B[0m_output\u001B[0m\u001B[0;34m.\u001B[0m\u001B[0mextend\u001B[0m\u001B[0;34m(\u001B[0m\u001B[0mjob\u001B[0m\u001B[0;34m.\u001B[0m\u001B[0mget\u001B[0m\u001B[0;34m(\u001B[0m\u001B[0mtimeout\u001B[0m\u001B[0;34m=\u001B[0m\u001B[0mself\u001B[0m\u001B[0;34m.\u001B[0m\u001B[0mtimeout\u001B[0m\u001B[0;34m)\u001B[0m\u001B[0;34m)\u001B[0m\u001B[0;34m\u001B[0m\u001B[0;34m\u001B[0m\u001B[0m\n\u001B[0m\u001B[1;32m    934\u001B[0m                 \u001B[0;32melse\u001B[0m\u001B[0;34m:\u001B[0m\u001B[0;34m\u001B[0m\u001B[0;34m\u001B[0m\u001B[0m\n\u001B[1;32m    935\u001B[0m                     \u001B[0mself\u001B[0m\u001B[0;34m.\u001B[0m\u001B[0m_output\u001B[0m\u001B[0;34m.\u001B[0m\u001B[0mextend\u001B[0m\u001B[0;34m(\u001B[0m\u001B[0mjob\u001B[0m\u001B[0;34m.\u001B[0m\u001B[0mget\u001B[0m\u001B[0;34m(\u001B[0m\u001B[0;34m)\u001B[0m\u001B[0;34m)\u001B[0m\u001B[0;34m\u001B[0m\u001B[0;34m\u001B[0m\u001B[0m\n",
      "\u001B[0;32m~/Appbooster/proba.ai/venv/lib/python3.9/site-packages/joblib/_parallel_backends.py\u001B[0m in \u001B[0;36mwrap_future_result\u001B[0;34m(future, timeout)\u001B[0m\n\u001B[1;32m    540\u001B[0m         AsyncResults.get from multiprocessing.\"\"\"\n\u001B[1;32m    541\u001B[0m         \u001B[0;32mtry\u001B[0m\u001B[0;34m:\u001B[0m\u001B[0;34m\u001B[0m\u001B[0;34m\u001B[0m\u001B[0m\n\u001B[0;32m--> 542\u001B[0;31m             \u001B[0;32mreturn\u001B[0m \u001B[0mfuture\u001B[0m\u001B[0;34m.\u001B[0m\u001B[0mresult\u001B[0m\u001B[0;34m(\u001B[0m\u001B[0mtimeout\u001B[0m\u001B[0;34m=\u001B[0m\u001B[0mtimeout\u001B[0m\u001B[0;34m)\u001B[0m\u001B[0;34m\u001B[0m\u001B[0;34m\u001B[0m\u001B[0m\n\u001B[0m\u001B[1;32m    543\u001B[0m         \u001B[0;32mexcept\u001B[0m \u001B[0mCfTimeoutError\u001B[0m \u001B[0;32mas\u001B[0m \u001B[0me\u001B[0m\u001B[0;34m:\u001B[0m\u001B[0;34m\u001B[0m\u001B[0;34m\u001B[0m\u001B[0m\n\u001B[1;32m    544\u001B[0m             \u001B[0;32mraise\u001B[0m \u001B[0mTimeoutError\u001B[0m \u001B[0;32mfrom\u001B[0m \u001B[0me\u001B[0m\u001B[0;34m\u001B[0m\u001B[0;34m\u001B[0m\u001B[0m\n",
      "\u001B[0;32m/usr/lib/python3.9/concurrent/futures/_base.py\u001B[0m in \u001B[0;36mresult\u001B[0;34m(self, timeout)\u001B[0m\n\u001B[1;32m    438\u001B[0m                     \u001B[0;32mreturn\u001B[0m \u001B[0mself\u001B[0m\u001B[0;34m.\u001B[0m\u001B[0m__get_result\u001B[0m\u001B[0;34m(\u001B[0m\u001B[0;34m)\u001B[0m\u001B[0;34m\u001B[0m\u001B[0;34m\u001B[0m\u001B[0m\n\u001B[1;32m    439\u001B[0m \u001B[0;34m\u001B[0m\u001B[0m\n\u001B[0;32m--> 440\u001B[0;31m                 \u001B[0mself\u001B[0m\u001B[0;34m.\u001B[0m\u001B[0m_condition\u001B[0m\u001B[0;34m.\u001B[0m\u001B[0mwait\u001B[0m\u001B[0;34m(\u001B[0m\u001B[0mtimeout\u001B[0m\u001B[0;34m)\u001B[0m\u001B[0;34m\u001B[0m\u001B[0;34m\u001B[0m\u001B[0m\n\u001B[0m\u001B[1;32m    441\u001B[0m \u001B[0;34m\u001B[0m\u001B[0m\n\u001B[1;32m    442\u001B[0m                 \u001B[0;32mif\u001B[0m \u001B[0mself\u001B[0m\u001B[0;34m.\u001B[0m\u001B[0m_state\u001B[0m \u001B[0;32min\u001B[0m \u001B[0;34m[\u001B[0m\u001B[0mCANCELLED\u001B[0m\u001B[0;34m,\u001B[0m \u001B[0mCANCELLED_AND_NOTIFIED\u001B[0m\u001B[0;34m]\u001B[0m\u001B[0;34m:\u001B[0m\u001B[0;34m\u001B[0m\u001B[0;34m\u001B[0m\u001B[0m\n",
      "\u001B[0;32m/usr/lib/python3.9/threading.py\u001B[0m in \u001B[0;36mwait\u001B[0;34m(self, timeout)\u001B[0m\n\u001B[1;32m    310\u001B[0m         \u001B[0;32mtry\u001B[0m\u001B[0;34m:\u001B[0m    \u001B[0;31m# restore state no matter what (e.g., KeyboardInterrupt)\u001B[0m\u001B[0;34m\u001B[0m\u001B[0;34m\u001B[0m\u001B[0m\n\u001B[1;32m    311\u001B[0m             \u001B[0;32mif\u001B[0m \u001B[0mtimeout\u001B[0m \u001B[0;32mis\u001B[0m \u001B[0;32mNone\u001B[0m\u001B[0;34m:\u001B[0m\u001B[0;34m\u001B[0m\u001B[0;34m\u001B[0m\u001B[0m\n\u001B[0;32m--> 312\u001B[0;31m                 \u001B[0mwaiter\u001B[0m\u001B[0;34m.\u001B[0m\u001B[0macquire\u001B[0m\u001B[0;34m(\u001B[0m\u001B[0;34m)\u001B[0m\u001B[0;34m\u001B[0m\u001B[0;34m\u001B[0m\u001B[0m\n\u001B[0m\u001B[1;32m    313\u001B[0m                 \u001B[0mgotit\u001B[0m \u001B[0;34m=\u001B[0m \u001B[0;32mTrue\u001B[0m\u001B[0;34m\u001B[0m\u001B[0;34m\u001B[0m\u001B[0m\n\u001B[1;32m    314\u001B[0m             \u001B[0;32melse\u001B[0m\u001B[0;34m:\u001B[0m\u001B[0;34m\u001B[0m\u001B[0;34m\u001B[0m\u001B[0m\n",
      "\u001B[0;31mKeyboardInterrupt\u001B[0m: "
     ]
    }
   ],
   "source": [
    "def get_p_values(distr_type, means, stds, size, seed):\n",
    "    np.random.seed(seed)\n",
    "    if distr_type == \"normal\":\n",
    "        data = np.random.normal(means, stds, size=(size, len(means)))\n",
    "    if distr_type == \"lognormal\":\n",
    "        data = np.random.normal(means, stds, size=(size, len(means)))\n",
    "    if distr_type == \"binomial\":\n",
    "        data = np.random.binomial(n=[1, 1], p=np.abs(1/means),\n",
    "                                  size=(size, means.shape[0]))\n",
    "\n",
    "    ab = ABTest(data=data)\n",
    "    res_st, _ = ab.student_multiple_test()\n",
    "    res_mu, _ = ab.mann_whitney_multiple_test()\n",
    "    res_bs, _ = ab.bootstrap_multiple_test(n_boots=10000)\n",
    "    data1_means = bootstrap_jit_parallel(data[:, 0])\n",
    "    data2_means = bootstrap_jit_parallel(data[:, 1])\n",
    "    return (res_st.loc[:, \"p_value\"].values[0],\n",
    "            res_mu.loc[:, \"p_value\"].values[0],\n",
    "            res_bs.loc[:, \"p_value\"].values[0],\n",
    "            (data1_means, data2_means)\n",
    "            )\n",
    "\n",
    "    # return res_st, res_mu, res_bs\n",
    "\n",
    "\n",
    "def plot_test_results(distr_type, means, sigmas, size, res_all):\n",
    "    \"\"\"\n",
    "    Create three plot: alpha vs power; bootstrapped means; theory distribution\n",
    "    :param result_all:\n",
    "    :return:\n",
    "    \"\"\"\n",
    "    fig, ax = plt.subplots(figsize=(15, 7), dpi = 1000, ncols=3, nrows=1)\n",
    "    # Create plot 1\n",
    "    ax[0].grid(True)\n",
    "    ax[0].set_xlim(-0.05,1.02)\n",
    "    ax[0].set_ylim(-0.02,1.02)\n",
    "    ax[0].axvline(0.05, color='k', alpha=0.5)\n",
    "    cdf1 = plot_alpha_power(np.array(np.array(res_all, dtype=\"object\")[:, 0]),'t-test', ax=ax[0], color='r')\n",
    "    cdf2 = plot_alpha_power(np.array(np.array(res_all, dtype=\"object\")[:, 1]),'mann-whitney', ax=ax[0], color='y')\n",
    "    cdf3 = plot_alpha_power(np.array(np.array(res_all, dtype=\"object\")[:, 2]),'bootstrap', ax=ax[0], color='g')\n",
    "    ax[0].set_xlabel(r'$\\alpha$')\n",
    "    ax[0].set_ylabel('Sensitivity')\n",
    "    ax[0].legend();\n",
    "\n",
    "    # Create plot 2 - bootstrapped means\n",
    "    ax[1].hist(np.array(np.array(res_all, dtype=\"object\")[:, 3][0][0]),\n",
    "               label=\"data1\", color='b')\n",
    "    ax[1].hist(np.array(np.array(res_all, dtype=\"object\")[:, 3][0][1]),\n",
    "               label='data2', color='m')\n",
    "    ax[1].legend();\n",
    "\n",
    "    # Create plot 3 - theoretical variant distributions\n",
    "    x = np.linspace((means[0] + means[1])/2 - 4 * (sigmas[0] + sigmas[1])/2,\n",
    "                    (means[0] + means[1])/2 + 4 * (sigmas[0] + sigmas[1])/2,\n",
    "                    len(np.array(np.array(res_all, dtype=\"object\")[:, 0])))\n",
    "    if distr_type == \"normal\":\n",
    "        y1_pdf = stats.norm.pdf(x, means[0], sigmas[0])\n",
    "        y2_pdf = stats.norm.pdf(x, means[1], sigmas[1])\n",
    "\n",
    "    ax[2].plot(x, y1_pdf, label='data1', color='b')\n",
    "    ax[2].plot(x, y2_pdf, label='data2', color='m')\n",
    "    ax[2].legend();\n",
    "\n",
    "    plt.savefig(f\"Plot/AB_classic/{distr_type}_{len(x)}_{str(means)}\"\n",
    "                f\"_{str(sigmas)}_{size}.pdf\")\n",
    "    plt.close()\n",
    "\n",
    "for distr_type in tqdm(['normal', 'lognormal', \"binomial\"]):\n",
    "    for mean1 in tqdm([-1, -2, -3]):\n",
    "        for mean_diff in tqdm([1.01, 1.02, 1.05, 1.1]):\n",
    "            for sigma1 in tqdm([1, 1.5, 2]):\n",
    "                for sigma_diff in tqdm([1.0, 1.01, 1.02, 1.05, 1.1]):\n",
    "                    for size in tqdm(np.uint8(np.linspace(100, 5000, 200))):\n",
    "                        means = [mean1, mean1 * mean_diff]\n",
    "                        stds = [sigma1, sigma1 * sigma_diff]\n",
    "                        res_all = Parallel(n_jobs=-1)(\n",
    "                            delayed(get_p_values)(distr_type, means, stds, size, i)\n",
    "                            for i in range(1000)\n",
    "                             )\n",
    "                        plot_test_results(distr_type, means, stds, size, res_all)"
   ],
   "metadata": {
    "collapsed": false,
    "pycharm": {
     "name": "#%%\n"
    }
   }
  },
  {
   "cell_type": "code",
   "execution_count": 31,
   "outputs": [
    {
     "data": {
      "text/plain": "100.0"
     },
     "execution_count": 31,
     "metadata": {},
     "output_type": "execute_result"
    }
   ],
   "source": [
    "size"
   ],
   "metadata": {
    "collapsed": false,
    "pycharm": {
     "name": "#%%\n"
    }
   }
  },
  {
   "cell_type": "code",
   "execution_count": 13,
   "outputs": [
    {
     "data": {
      "text/plain": "array([2.41970725e-01, 5.39909665e-02, 4.43184841e-03, 1.33830226e-04])"
     },
     "execution_count": 13,
     "metadata": {},
     "output_type": "execute_result"
    }
   ],
   "source": [],
   "metadata": {
    "collapsed": false,
    "pycharm": {
     "name": "#%%"
    }
   }
  }
 ],
 "metadata": {
  "kernelspec": {
   "display_name": "Python 3",
   "language": "python",
   "name": "python3"
  },
  "language_info": {
   "codemirror_mode": {
    "name": "ipython",
    "version": 2
   },
   "file_extension": ".py",
   "mimetype": "text/x-python",
   "name": "python",
   "nbconvert_exporter": "python",
   "pygments_lexer": "ipython2",
   "version": "2.7.6"
  }
 },
 "nbformat": 4,
 "nbformat_minor": 0
}