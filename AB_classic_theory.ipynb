{
 "cells": [
  {
   "cell_type": "markdown",
   "source": [
    "Полный гайд по классическим АБ-тестам:\n",
    "\n",
    "https://vkteam.medium.com/practitioners-guide-to-statistical-tests-ed2d580ef04f\n"
   ],
   "metadata": {
    "collapsed": false,
    "pycharm": {
     "name": "#%% md\n"
    }
   }
  },
  {
   "cell_type": "markdown",
   "metadata": {
    "collapsed": true,
    "pycharm": {
     "name": "#%% md\n"
    }
   },
   "source": [
    "# Доверительные интервалы\n",
    "\n",
    "Для всех метрик схема построения доверительных интервалов одинакова:\n",
    "\n",
    "1. Вычисляем метрику (например, конверсия, ARPU, число целевых событий)\n",
    "2. В зависимости от метрики вычисляем стандартную ошибку (SE)\n",
    "3. В зависимости от числа потенциальных вариантов сравнения выбираем квантиль распределения статистики теста\n"
   ]
  },
  {
   "cell_type": "markdown",
   "source": [
    "## Конверсия\n",
    "\n",
    "p $\\pm$ $z_{\\alpha} * \\sqrt{\\frac {p * (1 - p)}{n} }$\n",
    "\n",
    "Здесь p - вероятность конверсии\n",
    "\n",
    "$\\sqrt{\\frac {p * (1 - p)}{n} }$ - SE - стандартная ошибка в тесте\n",
    "\n",
    "$z_{\\alpha}$ - квантиль стандартного нормального распределения. Например, для уровня доверия 95% мы ищем\n",
    "97.5% квантиль и он равен 1.96.\n",
    "\n",
    "Однако, в случае множественного тестирования (несколько вариантов сразу) мы должны изменять квантиль\n",
    "(как именно - в конце, так как для всех тестов одинаково).\n",
    "\n",
    "## Разница конверсий\n",
    "\n",
    "diff_p $\\pm$ $z_{\\alpha} * \\sqrt{\\frac {p_1 * (1 - p_1)}{n_1} + \\frac{p_2 * (1-p_2)}{n_2} }$\n"
   ],
   "metadata": {
    "collapsed": false,
    "pycharm": {
     "name": "#%% md\n"
    }
   }
  },
  {
   "cell_type": "markdown",
   "source": [
    "## ARPU, ARPPU\n",
    "\n",
    "***Наблюдения независимы (юзеры из разных выборок не повторяются и не влияют на поведение друг друга)***\n",
    "\n",
    "***в предположении, что у нас много юзеров и мы пользуемся ЦПТ,\n",
    "которая нам говорит о нормальности средних***\n",
    "\n"
   ],
   "metadata": {
    "collapsed": false,
    "pycharm": {
     "name": "#%% md\n"
    }
   }
  },
  {
   "cell_type": "markdown",
   "source": [
    "### Предпосылки:\n",
    "\n",
    "#### ДИСПЕРСИИ ОДИНАКОВЫ\n",
    "\n",
    "Для **одного среднего**:\n",
    "\n",
    "arpu $\\pm t_{\\alpha} * SE$\n",
    "\n",
    "$SE = \\sqrt{\\sigma^2 / n}$\n",
    "\n",
    "Для **разницы средних**:\n",
    "SE= $\\sqrt{ \\frac{\\sigma_1^2} {n_1} + \\frac{\\sigma_2 ^ 2}{n_2} }$"
   ],
   "metadata": {
    "collapsed": false,
    "pycharm": {
     "name": "#%% md\n"
    }
   }
  },
  {
   "cell_type": "code",
   "execution_count": 1,
   "outputs": [],
   "source": [],
   "metadata": {
    "collapsed": false,
    "pycharm": {
     "name": "#%%\n"
    }
   }
  },
  {
   "cell_type": "code",
   "execution_count": 25,
   "outputs": [
    {
     "name": "stdout",
     "output_type": "stream",
     "text": [
      "Доверительный интервал для разницы: (-0.06804949366844634, -0.01850319716212525)\n",
      "Средние: 1.0031390806327471, 1.0464154260480334\n",
      "Доверительные интервалы для средних отдельно: \n",
      "\n",
      "(0.9855693267016744, 1.0207088345638198)\n",
      "(1.028950946552896, 1.0638799055431707)\n"
     ]
    }
   ],
   "source": [
    "import statsmodels.stats.api as sms\n",
    "import numpy as np\n",
    "means1 = np.random.normal(loc=1, scale=2, size=50000)\n",
    "means2 = np.random.normal(loc=1.05, scale=2, size=50000)\n",
    "cm = sms.CompareMeans(sms.DescrStatsW(means1), sms.DescrStatsW(means2))\n",
    "print(f\"Доверительный интервал для разницы: {cm.tconfint_diff(usevar='unequal')}\")\n",
    "\n",
    "ci1 = (means1.mean() - 1.96 * means1.std() / np.sqrt(means1.shape[0]),\n",
    "       means1.mean() + 1.96 * means1.std() / np.sqrt(means1.shape[0]))\n",
    "ci2 = (means2.mean() - 1.96 * means2.std() / np.sqrt(means2.shape[0]),\n",
    "       means2.mean() + 1.96 * means2.std() / np.sqrt(means2.shape[0]))\n",
    "print(f\"Средние: {means1.mean()}, {means2.mean()}\")\n",
    "print(\"Доверительные интервалы для средних отдельно: \\n\")\n",
    "print(ci1)\n",
    "print(ci2)"
   ],
   "metadata": {
    "collapsed": false,
    "pycharm": {
     "name": "#%%\n"
    }
   }
  },
  {
   "cell_type": "markdown",
   "source": [
    "Метод построения доверительных интервалов для каждого варианта имеет более низкую мощность!\n",
    "Сейчас мы это попытаемся проиллюстрировать.\n",
    "\n",
    "### Процедура 1:\n",
    "\n",
    "1. Собираем выборки $X_1, \\ldots, X_n$ и $Y_1, \\ldots, Y_n$;\n",
    "2. Находим значение статистики\n",
    "\n",
    "$\n",
    "z_{obs} = \\frac{\\bar x - \\bar y}{\\sqrt{\\frac{s_x^2}{n_x} + \\frac{s_y^2}{n_y}}};\n",
    "$\n",
    "\n",
    "3. Говорим, что по ЦПТ $z_{obs} \\overset{asy}{\\sim} N(0,1);$\n",
    "4. Находим критическое значение $z_{1 - \\frac{\\alpha}{2}}$;\n",
    "5. Если мы видим, что $|z_{obs}| <  z_{1 - \\frac{\\alpha}{2}}$, мы говорим, что гипотеза не отвергается.\n",
    "\n",
    "Ту же саму гипотезу можно попробовать проверить с помощью другого алгоритма, основанного на доверительных интервалах.\n",
    "\n",
    "### Процедура 2:\n",
    "\n",
    "1. Собираем выборки $X_1, \\ldots, X_n$ и $Y_1, \\ldots, Y_n$;\n",
    "2. Находим $\\bar x$ и $\\bar y$;\n",
    "3. Пользуясь ЦПТ и зная, что $\\bar x \\overset{asy}{\\sim} N \\left(\\mu_1,\\frac{s^2_x}{n_x} \\right)$ и $\\bar y \\overset{asy}{\\sim} N\\left(\\mu_2,\\frac{s^2_y}{n_y}\\right)$ строим для $\\mu_1$ и $\\mu_2$ доверительные интервалы;\n",
    "4. Если доверительные интервалы пересеклись, говорим, что гипотеза не отвергается.\n",
    "\n",
    "Вроде бы вторая процедура выглядит довольно естественно, однако ей никто не пользуется. Дело в том, что для одинаковых ошибок первого рода, $\\alpha$, ошибка второго рода, $\\beta$, для процедуры, основанной на доверительных интервалах, окажется выше. Задание состоит в том, чтобы это увидеть.\n",
    "\n",
    "> Для простоты будем дальше предполагать, что $\\bar x > \\bar y$. Также будем считать, что обе дисперсии известны и равны единице, $\\sigma^2_x = \\sigma^2_y = 1$. Объёмы выборок одинаковы, $n_x = n_y = n$.\n"
   ],
   "metadata": {
    "collapsed": false,
    "pycharm": {
     "name": "#%% md\n"
    }
   }
  },
  {
   "cell_type": "markdown",
   "source": [
    "# Гипотеза о равенстве средних не отвергается, если\n",
    "\n",
    "$ \\frac{\\bar{x} - \\bar{y}}{\\sqrt{\\frac{\\sigma^2_x}{n_x} + \\frac{\\sigma^2_y}{n_y}}} < z_{1-\\alpha}\n",
    "\\frac{\\bar{x} - \\bar{y}}{\\sqrt{\\frac{2}{n}}} < z_{1-\\alpha} $\n",
    "\n",
    "# Найдём ошибку второго рода:\n",
    "\n",
    "$\n",
    "\\mathbb{P} \\left( H_0 \\mid H_a \\right) = \\mathbb{P} \\left( \\frac{\\bar{x} - \\bar{y}}{\\sqrt{\\frac{2}{n}}} < z_{1-\\alpha} \\mid \\mu_1 \\ne \\mu_2 \\right)  =\n",
    "\\mathbb{P} \\left( \\frac{\\bar{x} - \\bar{y} - (\\mu_1 - \\mu_2)}{\\sqrt{\\frac{2}{n}}} < z_{1-\\alpha} - \\frac{\\mu_1 - \\mu_2}{\\sqrt{\\frac{2}{n}}} \\mid \\mu_1 \\ne \\mu_2 \\right) =\n",
    "\\Phi \\left( z_{1-\\alpha} - \\frac{\\mu_1 - \\mu_2}{\\sqrt{\\frac{2}{n}}} \\right)\n",
    "$\n",
    "\n",
    "Построим доверительные интервалы для средних:\n",
    "\n",
    "$\n",
    "\\bar{x} \\pm z_{1 - \\alpha} \\cdot \\sqrt{ \\frac{1}{n} }\n",
    "\\bar{y} \\pm z_{1 - \\alpha} \\cdot \\sqrt{ \\frac{1}{n} }\n",
    "$\n",
    "\n",
    "Если доверительные интервалы пересекаются, гипотеза не отвергается, то есть:\n",
    "$\n",
    "\\bar{x} - z_{1 - \\alpha} \\cdot \\sqrt{ \\frac{1}{n} } < \\bar{y} + z_{1 - \\alpha} \\cdot \\sqrt{ \\frac{1}{n} } \\\\\n",
    "\\bar{x} - \\bar{y} < 2 \\cdot z_{1 - \\alpha} \\cdot \\sqrt{ \\frac{1}{n} } \\\\\n",
    "\\frac{\\bar{x} - \\bar{y}}{  \\sqrt{ \\frac{1}{n} } }  < 2 \\cdot z_{1 - \\alpha} \\\\\n",
    "\\frac{\\bar{x} - \\bar{y}}{  \\sqrt{ \\frac{2}{n} } }  < \\sqrt{2} \\cdot 2 \\cdot z_{1 - \\alpha} \\\\\n",
    "$\n",
    "\n",
    "Напомню, что для простоты мы считаем, что $\\bar x > \\bar y$. Найдём ошибку второго рода:\n",
    "\n",
    "$\n",
    "\\mathbb{P} \\left( H_0 \\mid H_a \\right)  = \\mathbb{P} \\left( \\frac{\\bar{x} - \\bar{y} - (\\mu_1 - \\mu_2)}{\\sqrt{\\frac{2}{n}}} < \\sqrt{2} \\cdot 2 \\cdot z_{1-\\alpha} - \\frac{\\mu_1 - \\mu_2}{\\sqrt{\\frac{2}{n}}} \\mid \\mu_1 \\ne \\mu_2 \\right) = \\Phi \\left( \\sqrt{2} \\cdot 2 \\cdot z_{1-\\alpha} - \\frac{\\mu_1 - \\mu_2}{\\sqrt{\\frac{2}{n}}} \\right)\n",
    "$\n"
   ],
   "metadata": {
    "collapsed": false,
    "pycharm": {
     "name": "#%% md\n"
    }
   }
  },
  {
   "cell_type": "code",
   "execution_count": 1,
   "outputs": [
    {
     "data": {
      "text/plain": "<Figure size 432x288 with 1 Axes>",
      "image/png": "[encoded data removed]"
     },
     "metadata": {
      "needs_background": "light"
     },
     "output_type": "display_data"
    }
   ],
   "source": [
    "import numpy as np\n",
    "import pandas as pd\n",
    "import seaborn as sns\n",
    "import matplotlib.pyplot as plt\n",
    "from scipy import stats\n",
    "\n",
    "plt.style.use('ggplot')\n",
    "%matplotlib inline\n",
    "\n",
    "\n",
    "def power_1(n_obs, alpha=0.05, mu1=4, mu2=5, sigma=1):\n",
    "    z_crit = stats.norm().ppf(1 - alpha)\n",
    "    a = z_crit - (mu2 - mu1)/np.sqrt(2 * sigma/n_obs)\n",
    "    return 1 - stats.norm().cdf(a)\n",
    "\n",
    "def power_2(n_obs, alpha=0.05, mu1=4, mu2=5, sigma=1):\n",
    "    z_crit = stats.norm().ppf(1 - alpha)\n",
    "    a = 2*np.sqrt(2)*z_crit - (mu2 - mu1)/np.sqrt(2 * sigma/n_obs)\n",
    "    return 1 - stats.norm().cdf(a)\n",
    "\n",
    "obs = np.arange(1, 100)\n",
    "\n",
    "plt.plot(obs, power_1(obs), label='процедура 1')\n",
    "plt.plot(obs, power_2(obs), label='процедура 2')\n",
    "plt.legend( );"
   ],
   "metadata": {
    "collapsed": false,
    "pycharm": {
     "name": "#%%\n"
    }
   }
  },
  {
   "cell_type": "code",
   "execution_count": 4,
   "outputs": [
    {
     "name": "stdout",
     "output_type": "stream",
     "text": [
      "(-0.7795142883045612, -0.28043587826772204)\n"
     ]
    }
   ],
   "source": [
    "\n"
   ],
   "metadata": {
    "collapsed": false,
    "pycharm": {
     "name": "#%%\n"
    }
   }
  }
 ],
 "metadata": {
  "kernelspec": {
   "display_name": "Python 3",
   "language": "python",
   "name": "python3"
  },
  "language_info": {
   "codemirror_mode": {
    "name": "ipython",
    "version": 2
   },
   "file_extension": ".py",
   "mimetype": "text/x-python",
   "name": "python",
   "nbconvert_exporter": "python",
   "pygments_lexer": "ipython2",
   "version": "2.7.6"
  }
 },
 "nbformat": 4,
 "nbformat_minor": 0
}