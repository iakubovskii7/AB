{
 "cells": [
  {
   "cell_type": "markdown",
   "source": [
    "Полный гайд по классическим АБ-тестам:\n",
    "\n",
    "https://vkteam.medium.com/practitioners-guide-to-statistical-tests-ed2d580ef04f\n"
   ],
   "metadata": {
    "collapsed": false,
    "pycharm": {
     "name": "#%% md\n"
    }
   }
  },
  {
   "cell_type": "markdown",
   "metadata": {
    "collapsed": true,
    "pycharm": {
     "name": "#%% md\n"
    }
   },
   "source": [
    "# Доверительные интервалы\n",
    "\n",
    "Для всех метрик схема построения доверительных интервалов одинакова:\n",
    "\n",
    "1. Вычисляем метрику (например, конверсия, ARPU, число целевых событий)\n",
    "2. В зависимости от метрики вычисляем стандартную ошибку (SE)\n",
    "3. В зависимости от числа потенциальных вариантов сравнения выбираем квантиль распределения статистики теста\n"
   ]
  },
  {
   "cell_type": "markdown",
   "source": [
    "## Конверсия\n",
    "\n",
    "p $\\pm$ $z_{\\alpha} * \\sqrt{\\frac {p * (1 - p)}{n} }$\n",
    "\n",
    "Здесь p - вероятность конверсии\n",
    "\n",
    "$\\sqrt{\\frac {p * (1 - p)}{n} }$ - SE - стандартная ошибка в тесте\n",
    "\n",
    "$z_{\\alpha}$ - квантиль стандартного нормального распределения. Например, для уровня доверия 95% мы ищем\n",
    "97.5% квантиль и он равен 1.96.\n",
    "\n",
    "Однако, в случае множественного тестирования (несколько вариантов сразу) мы должны изменять квантиль\n",
    "(как именно - в конце, так как для всех тестов одинаково).\n",
    "\n",
    "## Разница конверсий\n",
    "\n",
    "diff_p $\\pm$ $z_{\\alpha} * \\sqrt{\\frac {p_1 * (1 - p_1)}{n_1} + \\frac{p_2 * (1-p_2)}{n_2} }$\n"
   ],
   "metadata": {
    "collapsed": false,
    "pycharm": {
     "name": "#%% md\n"
    }
   }
  },
  {
   "cell_type": "markdown",
   "source": [
    "## ARPU, ARPPU\n",
    "\n",
    "***Наблюдения независимы (юзеры из разных выборок не повторяются и не влияют на поведение друг друга)***\n",
    "\n",
    "***в предположении, что у нас много юзеров и мы пользуемся ЦПТ,\n",
    "которая нам говорит о нормальности средних***\n",
    "\n"
   ],
   "metadata": {
    "collapsed": false,
    "pycharm": {
     "name": "#%% md\n"
    }
   }
  },
  {
   "cell_type": "markdown",
   "source": [
    "### Предпосылки:\n",
    "\n",
    "#### ДИСПЕРСИИ ОДИНАКОВЫ\n",
    "\n",
    "Для **одного среднего**:\n",
    "\n",
    "arpu $\\pm t_{\\alpha} * SE$\n",
    "\n",
    "$SE = \\sqrt{\\sigma^2 / n}$\n",
    "\n",
    "Для **разницы средних**:\n",
    "SE= $\\sqrt{ \\frac{\\sigma_1^2} {n_1} + \\frac{\\sigma_2 ^ 2}{n_2} }$"
   ],
   "metadata": {
    "collapsed": false,
    "pycharm": {
     "name": "#%% md\n"
    }
   }
  },
  {
   "cell_type": "code",
   "execution_count": 1,
   "outputs": [],
   "source": [],
   "metadata": {
    "collapsed": false,
    "pycharm": {
     "name": "#%%\n"
    }
   }
  },
  {
   "cell_type": "code",
   "execution_count": 25,
   "outputs": [
    {
     "name": "stdout",
     "output_type": "stream",
     "text": [
      "Доверительный интервал для разницы: (-0.06804949366844634, -0.01850319716212525)\n",
      "Средние: 1.0031390806327471, 1.0464154260480334\n",
      "Доверительные интервалы для средних отдельно: \n",
      "\n",
      "(0.9855693267016744, 1.0207088345638198)\n",
      "(1.028950946552896, 1.0638799055431707)\n"
     ]
    }
   ],
   "source": [
    "import statsmodels.stats.api as sms\n",
    "import numpy as np\n",
    "means1 = np.random.normal(loc=1, scale=2, size=50000)\n",
    "means2 = np.random.normal(loc=1.05, scale=2, size=50000)\n",
    "cm = sms.CompareMeans(sms.DescrStatsW(means1), sms.DescrStatsW(means2))\n",
    "print(f\"Доверительный интервал для разницы: {cm.tconfint_diff(usevar='unequal')}\")\n",
    "\n",
    "ci1 = (means1.mean() - 1.96 * means1.std() / np.sqrt(means1.shape[0]),\n",
    "       means1.mean() + 1.96 * means1.std() / np.sqrt(means1.shape[0]))\n",
    "ci2 = (means2.mean() - 1.96 * means2.std() / np.sqrt(means2.shape[0]),\n",
    "       means2.mean() + 1.96 * means2.std() / np.sqrt(means2.shape[0]))\n",
    "print(f\"Средние: {means1.mean()}, {means2.mean()}\")\n",
    "print(\"Доверительные интервалы для средних отдельно: \\n\")\n",
    "print(ci1)\n",
    "print(ci2)"
   ],
   "metadata": {
    "collapsed": false,
    "pycharm": {
     "name": "#%%\n"
    }
   }
  },
  {
   "cell_type": "code",
   "execution_count": null,
   "outputs": [],
   "source": [
    "for lower,upper,y in zip(dataset['lower'],dataset['upper'],range(len(dataset))):\n",
    "    plt.plot((lower,upper),(y,y),'ro-',color='orange')\n",
    "plt.yticks(range(len(dataset)),list(dataset['category']))"
   ],
   "metadata": {
    "collapsed": false,
    "pycharm": {
     "name": "#%%\n"
    }
   }
  },
  {
   "cell_type": "code",
   "execution_count": 4,
   "outputs": [
    {
     "name": "stdout",
     "output_type": "stream",
     "text": [
      "(-0.7795142883045612, -0.28043587826772204)\n"
     ]
    }
   ],
   "source": [],
   "metadata": {
    "collapsed": false,
    "pycharm": {
     "name": "#%%\n"
    }
   }
  }
 ],
 "metadata": {
  "kernelspec": {
   "display_name": "Python 3",
   "language": "python",
   "name": "python3"
  },
  "language_info": {
   "codemirror_mode": {
    "name": "ipython",
    "version": 2
   },
   "file_extension": ".py",
   "mimetype": "text/x-python",
   "name": "python",
   "nbconvert_exporter": "python",
   "pygments_lexer": "ipython2",
   "version": "2.7.6"
  }
 },
 "nbformat": 4,
 "nbformat_minor": 0
}