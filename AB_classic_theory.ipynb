{
 "cells": [
  {
   "cell_type": "markdown",
   "source": [
    "Анализ мощности различных тестов:\n",
    "https://vkteam.medium.com/practitioners-guide-to-statistical-tests-ed2d580ef04f\n"
   ],
   "metadata": {
    "collapsed": false,
    "pycharm": {
     "name": "#%% md\n"
    }
   }
  },
  {
   "cell_type": "markdown",
   "metadata": {
    "collapsed": true,
    "pycharm": {
     "name": "#%% md\n"
    }
   },
   "source": [
    "# Доверительные интервалы в параметрических тестах\n",
    "\n",
    "Для всех метрик в параметрических тестах схема построения доверительных интервалов одинакова:\n",
    "\n",
    "1. Вычисляем метрику (конверсия, ARPU, ARPPU, число целевых событий)\n",
    "2. В зависимости от метрики вычисляем стандартную ошибку (SE)\n",
    "3. В зависимости от числа потенциальных вариантов сравнения\n",
    "выбираем квантиль распределения статистики теста\n"
   ]
  },
  {
   "cell_type": "markdown",
   "source": [
    "## Конверсия\n",
    "\n",
    "p $\\pm$ $z_{\\alpha} * \\sqrt{\\frac {p * (1 - p)}{n} }$\n",
    "\n",
    "Здесь p - вероятность конверсии\n",
    "\n",
    "$\\sqrt{\\frac {p * (1 - p)}{n} }$ - SE - стандартная ошибка в тесте\n",
    "\n",
    "$z_{\\alpha}$ - квантиль стандартного нормального распределения. Например, для уровня доверия 95% мы ищем\n",
    "97.5% квантиль и он равен 1.96.\n",
    "\n",
    "## Разница конверсий\n",
    "\n",
    "diff_p $\\pm$ $z_{\\alpha} * \\sqrt{\\frac {p_1 * (1 - p_1)}{n_1} + \\frac{p_2 * (1-p_2)}{n_2} }$"
   ],
   "metadata": {
    "collapsed": false,
    "pycharm": {
     "name": "#%% md\n"
    }
   }
  },
  {
   "cell_type": "markdown",
   "source": [
    "## ARPU, ARPPU\n",
    "\n",
    "***Наблюдения независимы (юзеры из разных выборок не повторяются и не влияют на поведение друг друга)***\n",
    "\n",
    "***в предположении, что у нас много юзеров и мы пользуемся ЦПТ,\n",
    "которая нам говорит о нормальности средних***\n",
    "\n"
   ],
   "metadata": {
    "collapsed": false,
    "pycharm": {
     "name": "#%% md\n"
    }
   }
  },
  {
   "cell_type": "markdown",
   "source": [
    "### Предпосылки:\n",
    "\n",
    "#### ДИСПЕРСИИ ОДИНАКОВЫ\n",
    "\n",
    "Для **одного среднего**:\n",
    "\n",
    "arpu $\\pm t_{\\alpha} * SE$\n",
    "\n",
    "$SE = \\sqrt{\\sigma^2 / n}$\n",
    "\n",
    "Для **разницы средних**:\n",
    "SE= $\\sqrt{ \\frac{\\sigma_1^2} {n_1} + \\frac{\\sigma_2 ^ 2}{n_2} }$\n",
    "\n",
    "Оптимальное значение числа юзеров ищем по этой формуле:\n",
    "\n",
    "$\n",
    "n = (\\frac {np.sqrt(2\\sigma^2) * (z_\\beta + z_\\alpha)} {mde})^2\n",
    "$\n",
    "\n",
    "$mde$ - maximum detectable effect\n",
    "\n",
    "$z_{beta}$ - квантиль стандартного нормального распределения уровня beta (ошибка второго рода)\n",
    "\n",
    "$z_{alpha}$ - квантиль стандартного нормального распределения уровня alpha (ошибка первого рода)"
   ],
   "metadata": {
    "collapsed": false,
    "pycharm": {
     "name": "#%% md\n"
    }
   }
  },
  {
   "cell_type": "code",
   "execution_count": 1,
   "outputs": [
    {
     "name": "stdout",
     "output_type": "stream",
     "text": [
      "Доверительный интервал для разницы: (-0.23179967496231826, -0.07499615986769367)\n",
      "Средние: 1.0224951257628936, 1.1758930431778993\n",
      "Доверительные интервалы для средних отдельно: \n",
      "\n",
      "(0.9676491485765392, 1.077341102949248)\n",
      "(1.1198907014914796, 1.231895384864319)\n"
     ]
    }
   ],
   "source": [
    "import statsmodels.stats.api as sms\n",
    "import numpy as np\n",
    "# Создадим выборки из теоретических распределений с разными мат ожиданиями\n",
    "means1 = np.random.normal(loc=1, scale=2, size=5000)\n",
    "means2 = np.random.normal(loc=1.15, scale=2, size=5000)\n",
    "cm = sms.CompareMeans(sms.DescrStatsW(means1), sms.DescrStatsW(means2))\n",
    "print(f\"Доверительный интервал для разницы: {cm.tconfint_diff(usevar='unequal')}\")\n",
    "\n",
    "ci1 = (means1.mean() - 1.96 * means1.std() / np.sqrt(means1.shape[0]),\n",
    "       means1.mean() + 1.96 * means1.std() / np.sqrt(means1.shape[0]))\n",
    "ci2 = (means2.mean() - 1.96 * means2.std() / np.sqrt(means2.shape[0]),\n",
    "       means2.mean() + 1.96 * means2.std() / np.sqrt(means2.shape[0]))\n",
    "print(f\"Средние: {means1.mean()}, {means2.mean()}\")\n",
    "print(\"Доверительные интервалы для средних отдельно: \\n\")\n",
    "print(ci1)\n",
    "print(ci2)"
   ],
   "metadata": {
    "collapsed": false,
    "pycharm": {
     "name": "#%%\n"
    }
   }
  },
  {
   "cell_type": "markdown",
   "source": [
    "***Метод построения доверительных интервалов для каждого варианта имеет более низкую мощность!***\n",
    "\n",
    "*Сейчас мы это попытаемся проиллюстрировать.*\n",
    "\n",
    "### Процедура 1:\n",
    "\n",
    "1. Собираем выборки $X_1, \\ldots, X_n$ и $Y_1, \\ldots, Y_n$;\n",
    "2. Находим значение статистики\n",
    "\n",
    "$\n",
    "z_{obs} = \\frac{\\bar x - \\bar y}{\\sqrt{\\frac{s_x^2}{n_x} + \\frac{s_y^2}{n_y}}};\n",
    "$\n",
    "\n",
    "3. Говорим, что по ЦПТ $z_{obs} \\overset{asy}{\\sim} N(0,1);$\n",
    "4. Находим критическое значение $z_{1 - \\frac{\\alpha}{2}}$ (для 95% уровня доверия - это 1.96);\n",
    "5. Если мы видим, что $|z_{obs}| <  z_{1 - \\frac{\\alpha}{2}}$, мы говорим, что гипотеза не отвергается.\n",
    "\n",
    "Ту же саму гипотезу можно попробовать проверить с помощью другого алгоритма, основанного на доверительных интервалах.\n",
    "\n",
    "### Процедура 2:\n",
    "\n",
    "1. Собираем выборки $X_1, \\ldots, X_n$ и $Y_1, \\ldots, Y_n$;\n",
    "2. Находим $\\bar x$ и $\\bar y$;\n",
    "3. Пользуясь ЦПТ и зная, что $\\bar x \\overset{asy}{\\sim} N \\left(\\mu_1,\\frac{s^2_x}{n_x} \\right)$ и $\\bar y \\overset{asy}{\\sim} N\\left(\\mu_2,\\frac{s^2_y}{n_y}\\right)$ строим для $\\mu_1$ и $\\mu_2$ доверительные интервалы;\n",
    "4. Если доверительные интервалы пересеклись, говорим, что гипотеза не отвергается.\n",
    "\n",
    "Вроде бы вторая процедура выглядит довольно естественно, однако ей никто не пользуется. Дело в том, что для одинаковых ошибок первого рода, $\\alpha$, ошибка второго рода, $\\beta$, для процедуры, основанной на доверительных интервалах, окажется выше. Задание состоит в том, чтобы это увидеть.\n",
    "\n",
    "> Для простоты будем дальше предполагать, что $\\bar x > \\bar y$. Также будем считать, что обе дисперсии известны и равны единице, $\\sigma^2_x = \\sigma^2_y = 1$. Объёмы выборок одинаковы, $n_x = n_y = n$.\n"
   ],
   "metadata": {
    "collapsed": false,
    "pycharm": {
     "name": "#%% md\n"
    }
   }
  },
  {
   "cell_type": "markdown",
   "source": [
    "# Гипотеза о равенстве средних не отвергается, если\n",
    "\n",
    "$ \\frac{\\bar{x} - \\bar{y}}{\\sqrt{\\frac{\\sigma^2_x}{n_x} + \\frac{\\sigma^2_y}{n_y}}} < z_{1-\\alpha}\n",
    "\\frac{\\bar{x} - \\bar{y}}{\\sqrt{\\frac{2}{n}}} < z_{1-\\alpha} $\n",
    "\n",
    "# Найдём ошибку второго рода:\n",
    "\n",
    "$\n",
    "\\mathbb{P} \\left( H_0 \\mid H_a \\right) = \\mathbb{P} \\left( \\frac{\\bar{x} - \\bar{y}}{\\sqrt{\\frac{2}{n}}} < z_{1-\\alpha} \\mid \\mu_1 \\ne \\mu_2 \\right)  =\n",
    "\\mathbb{P} \\left( \\frac{\\bar{x} - \\bar{y} - (\\mu_1 - \\mu_2)}{\\sqrt{\\frac{2}{n}}} < z_{1-\\alpha} - \\frac{\\mu_1 - \\mu_2}{\\sqrt{\\frac{2}{n}}} \\mid \\mu_1 \\ne \\mu_2 \\right) =\n",
    "\\Phi \\left( z_{1-\\alpha} - \\frac{\\mu_1 - \\mu_2}{\\sqrt{\\frac{2}{n}}} \\right)\n",
    "$\n",
    "\n",
    "Построим доверительные интервалы для средних:\n",
    "\n",
    "$\n",
    "\\bar{x} \\pm z_{1 - \\alpha} \\cdot \\sqrt{ \\frac{1}{n} }\n",
    "\\bar{y} \\pm z_{1 - \\alpha} \\cdot \\sqrt{ \\frac{1}{n} }\n",
    "$\n",
    "\n",
    "Если доверительные интервалы пересекаются, гипотеза не отвергается, то есть:\n",
    "$\n",
    "\\bar{x} - z_{1 - \\alpha} \\cdot \\sqrt{ \\frac{1}{n} } < \\bar{y} + z_{1 - \\alpha} \\cdot \\sqrt{ \\frac{1}{n} } \\\\\n",
    "\\bar{x} - \\bar{y} < 2 \\cdot z_{1 - \\alpha} \\cdot \\sqrt{ \\frac{1}{n} } \\\\\n",
    "\\frac{\\bar{x} - \\bar{y}}{  \\sqrt{ \\frac{1}{n} } }  < 2 \\cdot z_{1 - \\alpha} \\\\\n",
    "\\frac{\\bar{x} - \\bar{y}}{  \\sqrt{ \\frac{2}{n} } }  < \\sqrt{2} \\cdot 2 \\cdot z_{1 - \\alpha} \\\\\n",
    "$\n",
    "\n",
    "Напомню, что для простоты мы считаем, что $\\bar x > \\bar y$. Найдём ошибку второго рода:\n",
    "\n",
    "$\n",
    "\\mathbb{P} \\left( H_0 \\mid H_a \\right)  = \\mathbb{P} \\left( \\frac{\\bar{x} - \\bar{y} - (\\mu_1 - \\mu_2)}{\\sqrt{\\frac{2}{n}}} < \\sqrt{2} \\cdot 2 \\cdot z_{1-\\alpha} - \\frac{\\mu_1 - \\mu_2}{\\sqrt{\\frac{2}{n}}} \\mid \\mu_1 \\ne \\mu_2 \\right) = \\Phi \\left( \\sqrt{2} \\cdot 2 \\cdot z_{1-\\alpha} - \\frac{\\mu_1 - \\mu_2}{\\sqrt{\\frac{2}{n}}} \\right)\n",
    "$\n"
   ],
   "metadata": {
    "collapsed": false,
    "pycharm": {
     "name": "#%% md\n"
    }
   }
  },
  {
   "cell_type": "code",
   "execution_count": 5,
   "outputs": [
    {
     "data": {
      "text/plain": "<Figure size 432x288 with 1 Axes>",
      "image/png": "[encoded data removed]"
     },
     "metadata": {
      "needs_background": "light"
     },
     "output_type": "display_data"
    }
   ],
   "source": [
    "import numpy as np\n",
    "import pandas as pd\n",
    "import seaborn as sns\n",
    "import matplotlib.pyplot as plt\n",
    "from scipy import stats\n",
    "\n",
    "plt.style.use('ggplot')\n",
    "%matplotlib inline\n",
    "\n",
    "\n",
    "def power_1(n_obs, alpha=0.05, mu1=4, mu2=5, sigma=1):\n",
    "    z_crit = stats.norm().ppf(1 - alpha)\n",
    "    a = z_crit - (mu2 - mu1)/np.sqrt(2 * sigma/n_obs)\n",
    "    return 1 - stats.norm().cdf(a)\n",
    "\n",
    "def power_2(n_obs, alpha=0.05, mu1=4, mu2=5, sigma=1):\n",
    "    z_crit = stats.norm().ppf(1 - alpha)\n",
    "    a = 2*np.sqrt(2)*z_crit - (mu2 - mu1)/np.sqrt(2 * sigma/n_obs)\n",
    "    return 1 - stats.norm().cdf(a)\n",
    "\n",
    "obs = np.arange(1, 1000)\n",
    "\n",
    "plt.plot(obs, power_1(obs), label='процедура 1')\n",
    "plt.plot(obs, power_2(obs), label='процедура 2')\n",
    "plt.legend( );"
   ],
   "metadata": {
    "collapsed": false,
    "pycharm": {
     "name": "#%%\n"
    }
   }
  },
  {
   "cell_type": "markdown",
   "source": [
    "Теперь проведем много тестов (с поправкой Сидака) и посмотрим,\n",
    "в скольких случаях мы сможем обнаружить эффект при помощи двух процедур.\n",
    "Поправка Сидака: сравниваем p-value или строим доверительные интервалы для уровня значимости:\n",
    "$\n",
    "\\alpha_{correction} = 1 - (1 - \\alpha)^{1/m}\n",
    "$\n"
   ],
   "metadata": {
    "collapsed": false,
    "pycharm": {
     "name": "#%% md\n"
    }
   }
  },
  {
   "cell_type": "code",
   "execution_count": 96,
   "outputs": [
    {
     "name": "stdout",
     "output_type": "stream",
     "text": [
      "Нужно юзеров, чтобы уловить эффект изменения: 1569\n",
      "Доверительные интервалы для каждого среднего: Counter({'средние равны': 665, 'средние не равны': 335})\n",
      "Доверительные интервалы для разницы: Counter({'средние не равны': 836, 'средние равны': 164})\n",
      "Готовый стат тест: Counter({'средние не равны': 833, 'средние равны': 167})\n"
     ]
    }
   ],
   "source": [
    "def get_size(mean1, mean2, alpha, beta, sd):\n",
    "    z_alpha = stats.norm.ppf(1 - alpha/2)\n",
    "    z_beta =  stats.norm.ppf(1 - beta)\n",
    "    n = (np.sqrt(2) * sd * (z_beta + z_alpha) / (mean1 - mean2))**2\n",
    "    return np.int16(n)\n",
    "\n",
    "def conf_int_calc_type1(data, alpha, sd):\n",
    "    \"\"\"\n",
    "    Calculate confident intervals for two datasets for significance level in the first case\n",
    "    :param data: dataset (nrow - observation, ncol - number of variants)\n",
    "    :param sd: standard deviation of population\n",
    "    :param alpha: significance level\n",
    "    :return: confident interval (tuple)\n",
    "    \"\"\"\n",
    "    z_crit = stats.norm().ppf(1 - alpha)\n",
    "    n = data.shape[0]\n",
    "    mean1, mean2 = data['1'].mean(), data['2'].mean()\n",
    "    sd1, sd2 = sd, sd\n",
    "\n",
    "    ci1 =  (mean1 - z_crit * sd1 / np.sqrt(n),\n",
    "            mean1 + z_crit * sd1 / np.sqrt(n))\n",
    "    ci2 =  (mean2 - z_crit * sd2 / np.sqrt(n),\n",
    "            mean2 + z_crit * sd2 / np.sqrt(n))\n",
    "\n",
    "    if ci1[0] > ci2[1]:\n",
    "        return \"средние не равны\"\n",
    "    else:\n",
    "        return \"средние равны\"\n",
    "\n",
    "def conf_int_calc_type2(data, alpha, sd):\n",
    "    z_crit = stats.norm().ppf(1 - alpha/2)\n",
    "    n = data.shape[0]\n",
    "    mean1, mean2 = data['1'].mean(), data['2'].mean()\n",
    "\n",
    "    ci = (mean1 - mean2 - np.sqrt((2 * sd**2)/n) * z_crit,\n",
    "          mean1 - mean2 + np.sqrt((2 * sd**2)/n) * z_crit)\n",
    "    if (ci[0] < 0) & (ci[1] > 0):\n",
    "        return \"средние равны\"\n",
    "    else:\n",
    "        return \"средние не равны\"\n",
    "\n",
    "from collections import Counter\n",
    "results_dividing = []\n",
    "results_paired = []\n",
    "results_p_values_test = []\n",
    "p_values_list = []\n",
    "alpha = 0.05\n",
    "mean1, mean2, sd = 1.5, 1, 5\n",
    "print(f\"Нужно юзеров, чтобы уловить эффект изменения: {get_size(mean1, mean2, 0.05, 0.2, sd=sd)}\")\n",
    "for i in range(1, 1001):\n",
    "    np.random.seed(i)\n",
    "    data = pd.DataFrame(columns=list(\"12\"))\n",
    "    alpha_correction = 1 - (1 - alpha) ** (1/i)\n",
    "    size = get_size(mean1, mean2, alpha_correction, beta=0.2, sd=sd)\n",
    "    data['1'] = np.random.normal(loc=mean1, scale=sd, size=size)\n",
    "    data['2'] = np.random.normal(loc=mean2, scale=sd, size=size)\n",
    "\n",
    "    results_dividing.append(conf_int_calc_type1(data, alpha_correction, sd=sd))\n",
    "    results_paired.append(conf_int_calc_type2(data, alpha_correction, sd=sd))\n",
    "    stat, p = stats.ttest_ind(data['1'], data['2'], equal_var=True)\n",
    "    p_values_list.append(p)\n",
    "    if p < alpha_correction:\n",
    "        results_p_values_test.append(\"средние не равны\")\n",
    "    else:\n",
    "        results_p_values_test.append(\"средние равны\")\n",
    "print(f\"Доверительные интервалы для каждого среднего: {Counter(results_dividing)}\")\n",
    "print(f\"Доверительные интервалы для разницы: {Counter(results_paired)}\")\n",
    "print(f\"Готовый стат тест: {Counter(results_p_values_test)}\")\n"
   ],
   "metadata": {
    "collapsed": false,
    "pycharm": {
     "name": "#%%\n"
    }
   }
  },
  {
   "cell_type": "code",
   "execution_count": 97,
   "outputs": [
    {
     "name": "stdout",
     "output_type": "stream",
     "text": [
      "Доверительный интервал для разницы: (0.2551996317759111, 0.6589323497410244)\n",
      "(0.25669377178583397, 0.657438209731102)\n"
     ]
    },
    {
     "data": {
      "text/plain": "'средние не равны'"
     },
     "execution_count": 97,
     "metadata": {},
     "output_type": "execute_result"
    }
   ],
   "source": [
    "cm = sms.CompareMeans(sms.DescrStatsW(data['1']), sms.DescrStatsW(data['2']))\n",
    "print(f\"Доверительный интервал для разницы: {cm.tconfint_diff(usevar='pooled')}\")\n",
    "\n",
    "def conf_int_calc_type2(data, alpha, sd):\n",
    "    z_crit = stats.norm().ppf(1 - alpha/2)\n",
    "    n = data.shape[0]\n",
    "    mean1, mean2 = data['1'].mean(), data['2'].mean()\n",
    "\n",
    "    ci = (mean1 - mean2 - np.sqrt((2 * sd ** 2)/n) * z_crit,\n",
    "          mean1 - mean2 + np.sqrt((2 * sd ** 2)/n) * z_crit)\n",
    "    print(ci)\n",
    "    if (ci[0] < 0) & (ci[1] > 0):\n",
    "        return \"средние равны\"\n",
    "    else:\n",
    "        return \"средние не равны\"\n",
    "conf_int_calc_type2(data, 0.05, sd=5)"
   ],
   "metadata": {
    "collapsed": false,
    "pycharm": {
     "name": "#%%\n"
    }
   }
  }
 ],
 "metadata": {
  "kernelspec": {
   "display_name": "Python 3",
   "language": "python",
   "name": "python3"
  },
  "language_info": {
   "codemirror_mode": {
    "name": "ipython",
    "version": 2
   },
   "file_extension": ".py",
   "mimetype": "text/x-python",
   "name": "python",
   "nbconvert_exporter": "python",
   "pygments_lexer": "ipython2",
   "version": "2.7.6"
  }
 },
 "nbformat": 4,
 "nbformat_minor": 0
}